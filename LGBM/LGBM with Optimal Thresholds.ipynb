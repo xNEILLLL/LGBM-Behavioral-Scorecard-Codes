{
 "cells": [
  {
   "cell_type": "code",
   "execution_count": 1,
   "id": "6d2aa686-ad72-4f32-98d0-f3962b389453",
   "metadata": {},
   "outputs": [
    {
     "name": "stderr",
     "output_type": "stream",
     "text": [
      "/usr/local/Cellar/jupyterlab/4.2.5_1/libexec/lib/python3.12/site-packages/tqdm/auto.py:21: TqdmWarning: IProgress not found. Please update jupyter and ipywidgets. See https://ipywidgets.readthedocs.io/en/stable/user_install.html\n",
      "  from .autonotebook import tqdm as notebook_tqdm\n"
     ]
    }
   ],
   "source": [
    "import lightgbm as lgb\n",
    "import numpy as np\n",
    "import pandas as pd\n",
    "import shap\n",
    "import os\n",
    "import glob\n",
    "import matplotlib.pyplot as plt\n",
    "import seaborn as sns\n",
    "import imblearn\n",
    "from sklearn.model_selection import train_test_split\n",
    "from scipy.stats import ks_2samp\n",
    "from sklearn.metrics import accuracy_score, precision_score, recall_score, f1_score, roc_auc_score, brier_score_loss, precision_recall_curve\n",
    "from sklearn.metrics import confusion_matrix\n",
    "from sklearn.metrics import roc_curve\n",
    "from imblearn.over_sampling import SMOTE"
   ]
  },
  {
   "cell_type": "markdown",
   "id": "b8f048eb-b70b-497d-bdfa-41e45771d19a",
   "metadata": {},
   "source": [
    "## Read Files"
   ]
  },
  {
   "cell_type": "code",
   "execution_count": 85,
   "id": "f034c428-2f43-45fe-ac70-7d27ad1e2df4",
   "metadata": {},
   "outputs": [],
   "source": [
    "csv_folder = '/Users/queencyangela/Desktop/M AMF/Second Sem/MATH 298.1/HOME FEATURES' ### make sure na lahat ng csv ay nasa isang folder tapos dapat yung features lang yung nandun\n",
    "csv_files = sorted(glob.glob(os.path.join(csv_folder, \"*.csv\")))  # Get all CSV files"
   ]
  },
  {
   "cell_type": "code",
   "execution_count": 86,
   "id": "0e54caac-4a05-45f2-9718-1f4703ef2595",
   "metadata": {
    "tags": []
   },
   "outputs": [
    {
     "data": {
      "text/plain": [
       "['/Users/queencyangela/Desktop/M AMF/Second Sem/MATH 298.1/HOME FEATURES/Home Features M1-M24.csv',\n",
       " '/Users/queencyangela/Desktop/M AMF/Second Sem/MATH 298.1/HOME FEATURES/Home Features M13-M36.csv',\n",
       " '/Users/queencyangela/Desktop/M AMF/Second Sem/MATH 298.1/HOME FEATURES/Home Features M25-M48.csv',\n",
       " '/Users/queencyangela/Desktop/M AMF/Second Sem/MATH 298.1/HOME FEATURES/Home Features M37-M60.csv',\n",
       " '/Users/queencyangela/Desktop/M AMF/Second Sem/MATH 298.1/HOME FEATURES/Home Features M49-M96.csv',\n",
       " '/Users/queencyangela/Desktop/M AMF/Second Sem/MATH 298.1/HOME FEATURES/Home Features M85-M108.csv',\n",
       " '/Users/queencyangela/Desktop/M AMF/Second Sem/MATH 298.1/HOME FEATURES/Home Features M97-M120.csv']"
      ]
     },
     "execution_count": 86,
     "metadata": {},
     "output_type": "execute_result"
    }
   ],
   "source": [
    "csv_files"
   ]
  },
  {
   "cell_type": "code",
   "execution_count": 87,
   "id": "a8789f40-ca6f-4aae-a23b-a827a6c69e1c",
   "metadata": {},
   "outputs": [
    {
     "name": "stdout",
     "output_type": "stream",
     "text": [
      "Results for Home Features M1-M24.csv:\n",
      "Good count: 22449\n",
      "Bad count: 18\n",
      "Good rate: 0.9992\n",
      "Bad rate: 0.0008\n",
      "\n",
      "Results for Home Features M13-M36.csv:\n",
      "Good count: 16552\n",
      "Bad count: 18\n",
      "Good rate: 0.9989\n",
      "Bad rate: 0.0011\n",
      "\n",
      "Results for Home Features M25-M48.csv:\n",
      "Good count: 11578\n",
      "Bad count: 15\n",
      "Good rate: 0.9987\n",
      "Bad rate: 0.0013\n",
      "\n",
      "Results for Home Features M37-M60.csv:\n",
      "Good count: 8254\n",
      "Bad count: 15\n",
      "Good rate: 0.9982\n",
      "Bad rate: 0.0018\n",
      "\n",
      "Results for Home Features M49-M96.csv:\n",
      "Good count: 3969\n",
      "Bad count: 3\n",
      "Good rate: 0.9992\n",
      "Bad rate: 0.0008\n",
      "\n",
      "Results for Home Features M85-M108.csv:\n",
      "Good count: 3414\n",
      "Bad count: 2\n",
      "Good rate: 0.9994\n",
      "Bad rate: 0.0006\n",
      "\n",
      "Results for Home Features M97-M120.csv:\n",
      "Good count: 1767\n",
      "Bad count: 3\n",
      "Good rate: 0.9983\n",
      "Bad rate: 0.0017\n",
      "\n",
      "Overall results across all CSV files:\n",
      "Total good count: 67983\n",
      "Total bad count: 74\n",
      "Overall good rate: 0.9989\n",
      "Overall bad rate: 0.0011\n"
     ]
    }
   ],
   "source": [
    "target_column = 'DEFAULT_TAGGING'\n",
    "\n",
    "# Initialize cumulative counters for good and bad counts across all files\n",
    "total_good_count = 0\n",
    "total_bad_count = 0\n",
    "\n",
    "# Loop over all CSV files and calculate counts and rates\n",
    "for file in csv_files:\n",
    "    # Read each CSV file\n",
    "    df = pd.read_csv(file)\n",
    "    \n",
    "    # Initialize counters for good and bad cases in the current file\n",
    "    good_count = 0\n",
    "    bad_count = 0\n",
    "\n",
    "    # Loop through the DataFrame and count good and bad cases\n",
    "    for label in df[target_column]:\n",
    "        if label == 0:  # Adjust based on your labeling (e.g., 1 for good)\n",
    "            good_count += 1\n",
    "        elif label == 1:  # Adjust based on your labeling (e.g., 0 for bad)\n",
    "            bad_count += 1\n",
    "\n",
    "    # Add the counts to the total counters\n",
    "    total_good_count += good_count\n",
    "    total_bad_count += bad_count\n",
    "\n",
    "    # Calculate the rates for the current file\n",
    "    total_count = good_count + bad_count\n",
    "    good_rate = good_count / total_count if total_count > 0 else 0\n",
    "    bad_rate = bad_count / total_count if total_count > 0 else 0\n",
    "\n",
    "    # Print results for each CSV file\n",
    "    print(f\"Results for {os.path.basename(file)}:\")\n",
    "    print(f\"Good count: {good_count}\")\n",
    "    print(f\"Bad count: {bad_count}\")\n",
    "    print(f\"Good rate: {good_rate:.4f}\")\n",
    "    print(f\"Bad rate: {bad_rate:.4f}\\n\")\n",
    "\n",
    "# Calculate and print the overall totals and rates\n",
    "total_count_all = total_good_count + total_bad_count\n",
    "overall_good_rate = total_good_count / total_count_all if total_count_all > 0 else 0\n",
    "overall_bad_rate = total_bad_count / total_count_all if total_count_all > 0 else 0\n",
    "\n",
    "# Print the overall results\n",
    "print(f\"Overall results across all CSV files:\")\n",
    "print(f\"Total good count: {total_good_count}\")\n",
    "print(f\"Total bad count: {total_bad_count}\")\n",
    "print(f\"Overall good rate: {overall_good_rate:.4f}\")\n",
    "print(f\"Overall bad rate: {overall_bad_rate:.4f}\")"
   ]
  },
  {
   "cell_type": "markdown",
   "id": "f56b9d58-1e67-4e35-8f21-b374f0e1f4af",
   "metadata": {},
   "source": [
    "## Splitting"
   ]
  },
  {
   "cell_type": "code",
   "execution_count": 108,
   "id": "33e517e4-6e46-4631-bb93-67aa91b6c390",
   "metadata": {},
   "outputs": [
    {
     "name": "stdout",
     "output_type": "stream",
     "text": [
      "\n",
      "Processing file: /Users/queencyangela/Desktop/M AMF/Second Sem/MATH 298.1/HOME FEATURES/Home Features M1-M24.csv\n",
      "Train class balance:\n",
      "DEFAULT_TAGGING\n",
      "0    15713\n",
      "1       13\n",
      "Name: count, dtype: int64\n",
      "Test class balance:\n",
      "DEFAULT_TAGGING\n",
      "0    6736\n",
      "1       5\n",
      "Name: count, dtype: int64\n",
      "\n",
      "Processing file: /Users/queencyangela/Desktop/M AMF/Second Sem/MATH 298.1/HOME FEATURES/Home Features M13-M36.csv\n",
      "Train class balance:\n",
      "DEFAULT_TAGGING\n",
      "0    11586\n",
      "1       13\n",
      "Name: count, dtype: int64\n",
      "Test class balance:\n",
      "DEFAULT_TAGGING\n",
      "0    4966\n",
      "1       5\n",
      "Name: count, dtype: int64\n",
      "\n",
      "Processing file: /Users/queencyangela/Desktop/M AMF/Second Sem/MATH 298.1/HOME FEATURES/Home Features M25-M48.csv\n",
      "Train class balance:\n",
      "DEFAULT_TAGGING\n",
      "0    8105\n",
      "1      10\n",
      "Name: count, dtype: int64\n",
      "Test class balance:\n",
      "DEFAULT_TAGGING\n",
      "0    3473\n",
      "1       5\n",
      "Name: count, dtype: int64\n",
      "\n",
      "Processing file: /Users/queencyangela/Desktop/M AMF/Second Sem/MATH 298.1/HOME FEATURES/Home Features M37-M60.csv\n",
      "Train class balance:\n",
      "DEFAULT_TAGGING\n",
      "0    5778\n",
      "1      10\n",
      "Name: count, dtype: int64\n",
      "Test class balance:\n",
      "DEFAULT_TAGGING\n",
      "0    2476\n",
      "1       5\n",
      "Name: count, dtype: int64\n",
      "\n",
      "Processing file: /Users/queencyangela/Desktop/M AMF/Second Sem/MATH 298.1/HOME FEATURES/Home Features M49-M96.csv\n",
      "Train class balance:\n",
      "DEFAULT_TAGGING\n",
      "0    2778\n",
      "1       2\n",
      "Name: count, dtype: int64\n",
      "Test class balance:\n",
      "DEFAULT_TAGGING\n",
      "0    1191\n",
      "1       1\n",
      "Name: count, dtype: int64\n",
      "\n",
      "Processing file: /Users/queencyangela/Desktop/M AMF/Second Sem/MATH 298.1/HOME FEATURES/Home Features M85-M108.csv\n",
      "Train class balance:\n",
      "DEFAULT_TAGGING\n",
      "0    2390\n",
      "1       1\n",
      "Name: count, dtype: int64\n",
      "Test class balance:\n",
      "DEFAULT_TAGGING\n",
      "0    1024\n",
      "1       1\n",
      "Name: count, dtype: int64\n",
      "\n",
      "Processing file: /Users/queencyangela/Desktop/M AMF/Second Sem/MATH 298.1/HOME FEATURES/Home Features M97-M120.csv\n",
      "Train class balance:\n",
      "DEFAULT_TAGGING\n",
      "0    1237\n",
      "1       2\n",
      "Name: count, dtype: int64\n",
      "Test class balance:\n",
      "DEFAULT_TAGGING\n",
      "0    530\n",
      "1      1\n",
      "Name: count, dtype: int64\n",
      "\n",
      "Final Merged Data Shapes:\n",
      "X_train_all: (47638, 8)\n",
      "X_test_all: (20419, 8)\n",
      "y_train_all: (47638,)\n",
      "y_test_all: (20419,)\n"
     ]
    }
   ],
   "source": [
    "selected_features = [\n",
    "    # 'EverAtLeast1DPD_3mos', \n",
    "    # 'EverAtLeast15DPD_3mos', \n",
    "    # 'EverAtLeast31DPD_3mos', \n",
    "    # 'EverAtLeast61DPD_3mos', \n",
    "    # 'EverAtLeast1DPD_6mos', \n",
    "    # 'EverAtLeast15DPD_6mos', \n",
    "    # 'EverAtLeast31DPD_6mos', \n",
    "    # 'EverAtLeast61DPD_6mos', \n",
    "    # 'EverAtLeast1DPD_9mos', \n",
    "    # 'EverAtLeast15DPD_9mos', \n",
    "    # 'EverAtLeast31DPD_9mos', \n",
    "    # 'EverAtLeast61DPD_9mos', \n",
    "    # 'EverAtLeast1DPD_12mos', \n",
    "    # 'EverAtLeast15DPD_12mos', \n",
    "    # 'EverAtLeast31DPD_12mos', \n",
    "    # 'EverAtLeast61DPD_12mos', \n",
    "    # 'WorstDel_3mos', \n",
    "    # 'WorstDel_6mos', \n",
    "    # 'WorstDel_9mos', \n",
    "    # 'WorstDel_12mos', \n",
    "    # 'RemainingLoanRatio_12mos', \n",
    "    # 'Missed_past3mos', \n",
    "    # 'Partial_past3mos', \n",
    "    # 'Full_past3mos', \n",
    "    # 'Missed_past6mos', \n",
    "    # 'Partial_past6mos', \n",
    "    # 'Full_past6mos', \n",
    "    # 'Missed_past9mos', \n",
    "    # 'Partial_past9mos', \n",
    "    # 'Full_past9mos', \n",
    "    # 'Missed_past12mos', \n",
    "    # 'Partial_past12mos', \n",
    "    # 'Full_past12mos'\n",
    "    'EverAtLeast31DPD_3mos', 'EverAtLeast61DPD_3mos', 'WorstDel_3mos', 'RemainingLoanRatio_12mos', 'Missed_past3mos', 'Full_past6mos', 'Partial_past6mos', 'Full_past9mos'\n",
    "\n",
    "    \n",
    "]\n",
    "\n",
    "\n",
    "# Lists to store all training and testing data\n",
    "X_train_list, X_test_list, y_train_list, y_test_list = [], [], [], []\n",
    "\n",
    "# Process each CSV file\n",
    "for file in csv_files:\n",
    "    print(f\"\\nProcessing file: {file}\")\n",
    "    \n",
    "    # Read the CSV file\n",
    "    data = pd.read_csv(file)\n",
    "\n",
    "    X = data[selected_features]\n",
    "    y = data['DEFAULT_TAGGING']\n",
    "\n",
    "    # Train-test split\n",
    "    X_train, X_test, y_train, y_test = train_test_split(\n",
    "        X, y, test_size=0.3, random_state=42, stratify=y\n",
    "    )\n",
    "\n",
    "    # Append to lists\n",
    "    X_train_list.append(X_train)\n",
    "    X_test_list.append(X_test)\n",
    "    y_train_list.append(y_train)\n",
    "    y_test_list.append(y_test)\n",
    "\n",
    "    # Print class balance for each file before merging\n",
    "    print(\"Train class balance:\")\n",
    "    print(y_train.value_counts())\n",
    "    print(\"Test class balance:\")\n",
    "    print(y_test.value_counts())\n",
    "\n",
    "# Merge all train and test data\n",
    "X_train_all = pd.concat(X_train_list, axis=0)\n",
    "X_test_all = pd.concat(X_test_list, axis=0)\n",
    "y_train_all = pd.concat(y_train_list, axis=0)\n",
    "y_test_all = pd.concat(y_test_list, axis=0)\n",
    "\n",
    "print(\"\\nFinal Merged Data Shapes:\")\n",
    "print(\"X_train_all:\", X_train_all.shape)\n",
    "print(\"X_test_all:\", X_test_all.shape)\n",
    "print(\"y_train_all:\", y_train_all.shape)\n",
    "print(\"y_test_all:\", y_test_all.shape)"
   ]
  },
  {
   "cell_type": "code",
   "execution_count": 109,
   "id": "225edce1-38f7-4229-9615-36b29384974a",
   "metadata": {
    "tags": []
   },
   "outputs": [
    {
     "name": "stdout",
     "output_type": "stream",
     "text": [
      "\n",
      "Final Split Data Shapes:\n",
      "X_train_split: (33346, 8)\n",
      "X_val: (14292, 8)\n",
      "y_train_split: (33346,)\n",
      "y_val: (14292,)\n",
      "\n",
      "Train Good (1) and Bad (0) counts:\n",
      "Bad (1): 36\n",
      "Good (0): 33310\n",
      "\n",
      "Validation Good (1) and Bad (0) counts:\n",
      "Bad (1): 15\n",
      "Good (0): 14277\n"
     ]
    }
   ],
   "source": [
    "X_train_split, X_val, y_train_split, y_val = train_test_split(\n",
    "    X_train_all, y_train_all, test_size=0.3, random_state=42, stratify=y_train_all\n",
    ")\n",
    "\n",
    "print(\"\\nFinal Split Data Shapes:\")\n",
    "print(\"X_train_split:\", X_train_split.shape)\n",
    "print(\"X_val:\", X_val.shape)\n",
    "print(\"y_train_split:\", y_train_split.shape)\n",
    "print(\"y_val:\", y_val.shape)\n",
    "\n",
    "# Count good and bad labels in the training and validation sets\n",
    "print(\"\\nTrain Good (1) and Bad (0) counts:\")\n",
    "print(\"Bad (1):\", y_train_split.sum())\n",
    "print(\"Good (0):\", len(y_train_split) - y_train_split.sum())\n",
    "\n",
    "print(\"\\nValidation Good (1) and Bad (0) counts:\")\n",
    "print(\"Bad (1):\", y_val.sum())\n",
    "print(\"Good (0):\", len(y_val) - y_val.sum())"
   ]
  },
  {
   "cell_type": "markdown",
   "id": "f49a9dcd-f81b-4fca-8fd5-9fbf0f3aec4a",
   "metadata": {},
   "source": [
    "## LGBM MODEL"
   ]
  },
  {
   "cell_type": "code",
   "execution_count": 114,
   "id": "03209fe5-adaa-428b-ba7b-26f735dc8920",
   "metadata": {
    "scrolled": true
   },
   "outputs": [
    {
     "name": "stdout",
     "output_type": "stream",
     "text": [
      "[LightGBM] [Info] Number of positive: 36, number of negative: 33310\n",
      "[LightGBM] [Info] Auto-choosing row-wise multi-threading, the overhead of testing was 0.002623 seconds.\n",
      "You can set `force_row_wise=true` to remove the overhead.\n",
      "And if memory is not enough, you can set `force_col_wise=true`.\n",
      "[LightGBM] [Info] Total Bins 295\n",
      "[LightGBM] [Info] Number of data points in the train set: 33346, number of used features: 8\n",
      "[LightGBM] [Info] [binary:BoostFromScore]: pavg=0.001080 -> initscore=-6.830094\n",
      "[LightGBM] [Info] Start training from score -6.830094\n",
      "[LightGBM] [Warning] No further splits with positive gain, best gain: -inf\n",
      "[LightGBM] [Warning] No further splits with positive gain, best gain: -inf\n",
      "[LightGBM] [Warning] No further splits with positive gain, best gain: -inf\n",
      "[LightGBM] [Warning] No further splits with positive gain, best gain: -inf\n",
      "[LightGBM] [Warning] No further splits with positive gain, best gain: -inf\n",
      "[LightGBM] [Warning] No further splits with positive gain, best gain: -inf\n",
      "[LightGBM] [Warning] No further splits with positive gain, best gain: -inf\n",
      "[LightGBM] [Warning] No further splits with positive gain, best gain: -inf\n",
      "[LightGBM] [Warning] No further splits with positive gain, best gain: -inf\n",
      "[LightGBM] [Warning] No further splits with positive gain, best gain: -inf\n",
      "[LightGBM] [Warning] No further splits with positive gain, best gain: -inf\n",
      "[LightGBM] [Warning] No further splits with positive gain, best gain: -inf\n",
      "[LightGBM] [Warning] No further splits with positive gain, best gain: -inf\n",
      "[LightGBM] [Warning] No further splits with positive gain, best gain: -inf\n",
      "[LightGBM] [Warning] No further splits with positive gain, best gain: -inf\n",
      "[LightGBM] [Warning] No further splits with positive gain, best gain: -inf\n",
      "[LightGBM] [Warning] No further splits with positive gain, best gain: -inf\n",
      "[LightGBM] [Warning] No further splits with positive gain, best gain: -inf\n",
      "[LightGBM] [Warning] No further splits with positive gain, best gain: -inf\n",
      "[LightGBM] [Warning] No further splits with positive gain, best gain: -inf\n",
      "[LightGBM] [Warning] No further splits with positive gain, best gain: -inf\n",
      "[LightGBM] [Warning] No further splits with positive gain, best gain: -inf\n",
      "[LightGBM] [Warning] No further splits with positive gain, best gain: -inf\n",
      "[LightGBM] [Warning] No further splits with positive gain, best gain: -inf\n",
      "[LightGBM] [Warning] No further splits with positive gain, best gain: -inf\n",
      "[LightGBM] [Warning] No further splits with positive gain, best gain: -inf\n",
      "[LightGBM] [Warning] No further splits with positive gain, best gain: -inf\n",
      "[LightGBM] [Warning] No further splits with positive gain, best gain: -inf\n",
      "[LightGBM] [Warning] No further splits with positive gain, best gain: -inf\n",
      "[LightGBM] [Warning] No further splits with positive gain, best gain: -inf\n",
      "[LightGBM] [Warning] No further splits with positive gain, best gain: -inf\n",
      "[LightGBM] [Warning] No further splits with positive gain, best gain: -inf\n",
      "[LightGBM] [Warning] No further splits with positive gain, best gain: -inf\n",
      "[LightGBM] [Warning] No further splits with positive gain, best gain: -inf\n",
      "[LightGBM] [Warning] No further splits with positive gain, best gain: -inf\n",
      "[LightGBM] [Warning] No further splits with positive gain, best gain: -inf\n",
      "[LightGBM] [Warning] No further splits with positive gain, best gain: -inf\n",
      "[LightGBM] [Warning] No further splits with positive gain, best gain: -inf\n",
      "[LightGBM] [Warning] No further splits with positive gain, best gain: -inf\n",
      "[LightGBM] [Warning] No further splits with positive gain, best gain: -inf\n",
      "[LightGBM] [Warning] No further splits with positive gain, best gain: -inf\n",
      "[LightGBM] [Warning] No further splits with positive gain, best gain: -inf\n",
      "[LightGBM] [Warning] No further splits with positive gain, best gain: -inf\n",
      "[LightGBM] [Warning] No further splits with positive gain, best gain: -inf\n",
      "[LightGBM] [Warning] No further splits with positive gain, best gain: -inf\n",
      "[LightGBM] [Warning] No further splits with positive gain, best gain: -inf\n",
      "[LightGBM] [Warning] No further splits with positive gain, best gain: -inf\n",
      "[LightGBM] [Warning] No further splits with positive gain, best gain: -inf\n",
      "[LightGBM] [Warning] No further splits with positive gain, best gain: -inf\n",
      "[LightGBM] [Warning] No further splits with positive gain, best gain: -inf\n",
      "[LightGBM] [Warning] No further splits with positive gain, best gain: -inf\n",
      "[LightGBM] [Warning] No further splits with positive gain, best gain: -inf\n",
      "[LightGBM] [Warning] No further splits with positive gain, best gain: -inf\n",
      "[LightGBM] [Warning] No further splits with positive gain, best gain: -inf\n",
      "[LightGBM] [Warning] No further splits with positive gain, best gain: -inf\n",
      "[LightGBM] [Warning] No further splits with positive gain, best gain: -inf\n",
      "[LightGBM] [Warning] No further splits with positive gain, best gain: -inf\n",
      "[LightGBM] [Warning] No further splits with positive gain, best gain: -inf\n",
      "[LightGBM] [Warning] No further splits with positive gain, best gain: -inf\n",
      "[LightGBM] [Warning] No further splits with positive gain, best gain: -inf\n",
      "[LightGBM] [Warning] No further splits with positive gain, best gain: -inf\n",
      "[LightGBM] [Warning] No further splits with positive gain, best gain: -inf\n",
      "[LightGBM] [Warning] No further splits with positive gain, best gain: -inf\n",
      "[LightGBM] [Warning] No further splits with positive gain, best gain: -inf\n",
      "[LightGBM] [Warning] No further splits with positive gain, best gain: -inf\n",
      "[LightGBM] [Warning] No further splits with positive gain, best gain: -inf\n",
      "[LightGBM] [Warning] No further splits with positive gain, best gain: -inf\n",
      "[LightGBM] [Warning] No further splits with positive gain, best gain: -inf\n",
      "[LightGBM] [Warning] No further splits with positive gain, best gain: -inf\n",
      "[LightGBM] [Warning] No further splits with positive gain, best gain: -inf\n",
      "[LightGBM] [Warning] No further splits with positive gain, best gain: -inf\n",
      "[LightGBM] [Warning] No further splits with positive gain, best gain: -inf\n",
      "[LightGBM] [Warning] No further splits with positive gain, best gain: -inf\n",
      "[LightGBM] [Warning] No further splits with positive gain, best gain: -inf\n",
      "[LightGBM] [Warning] No further splits with positive gain, best gain: -inf\n",
      "[LightGBM] [Warning] No further splits with positive gain, best gain: -inf\n",
      "[LightGBM] [Warning] No further splits with positive gain, best gain: -inf\n",
      "[LightGBM] [Warning] No further splits with positive gain, best gain: -inf\n",
      "[LightGBM] [Warning] No further splits with positive gain, best gain: -inf\n",
      "[LightGBM] [Warning] No further splits with positive gain, best gain: -inf\n",
      "[LightGBM] [Warning] No further splits with positive gain, best gain: -inf\n",
      "[LightGBM] [Warning] No further splits with positive gain, best gain: -inf\n",
      "[LightGBM] [Warning] No further splits with positive gain, best gain: -inf\n",
      "[LightGBM] [Warning] No further splits with positive gain, best gain: -inf\n",
      "[LightGBM] [Warning] No further splits with positive gain, best gain: -inf\n",
      "[LightGBM] [Warning] No further splits with positive gain, best gain: -inf\n",
      "[LightGBM] [Warning] No further splits with positive gain, best gain: -inf\n",
      "[LightGBM] [Warning] No further splits with positive gain, best gain: -inf\n",
      "[LightGBM] [Warning] No further splits with positive gain, best gain: -inf\n",
      "[LightGBM] [Warning] No further splits with positive gain, best gain: -inf\n",
      "[LightGBM] [Warning] No further splits with positive gain, best gain: -inf\n",
      "[LightGBM] [Warning] No further splits with positive gain, best gain: -inf\n",
      "[LightGBM] [Warning] No further splits with positive gain, best gain: -inf\n",
      "[LightGBM] [Warning] No further splits with positive gain, best gain: -inf\n",
      "[LightGBM] [Warning] No further splits with positive gain, best gain: -inf\n",
      "[LightGBM] [Warning] No further splits with positive gain, best gain: -inf\n",
      "Model Training Complete\n"
     ]
    }
   ],
   "source": [
    "#Initialize the LGBMClassifier\n",
    "model = lgb.LGBMClassifier(\n",
    "    boosting_type='gbdt',   # Gradient Boosting Decision Tree\n",
    "    objective='binary',     # Binary classification\n",
    "    metric='binary_logloss', # Log loss metric for binary classification\n",
    "    learning_rate=0.04,\n",
    "    n_estimators=100,\n",
    "    num_leaves=100\n",
    ")\n",
    "\n",
    "\n",
    "\n",
    "\n",
    "#Train the model\n",
    "model.fit(X_train_split, y_train_split)\n",
    "y_proba = model.predict_proba(X_val)  # Returns probability for each class\n",
    "\n",
    "print(\"Model Training Complete\")"
   ]
  },
  {
   "cell_type": "markdown",
   "id": "347396e8-69e7-4b88-aa3f-92f1dcb9290a",
   "metadata": {},
   "source": [
    "## Option 1: Optimal Threshold using Precision-Recall Curve"
   ]
  },
  {
   "cell_type": "code",
   "execution_count": 92,
   "id": "b6ac49a8-d33e-4552-8822-d3570e9a1c01",
   "metadata": {},
   "outputs": [
    {
     "name": "stdout",
     "output_type": "stream",
     "text": [
      "0.2119877837688041\n"
     ]
    }
   ],
   "source": [
    "# Assume y_test is your true labels and y_proba[:, 1] are predicted probabilities for the positive class\n",
    "precision, recall, thresholds = precision_recall_curve(y_val, y_proba[:, 1])\n",
    "\n",
    "# Compute F1 score for each threshold\n",
    "f1_scores = 2 * (precision * recall) / (precision + recall)\n",
    "\n",
    "# Find the threshold that maximizes F1 score\n",
    "optimal_threshold = thresholds[np.argmax(f1_scores)]\n",
    "\n",
    "print(optimal_threshold)"
   ]
  },
  {
   "cell_type": "markdown",
   "id": "d6cc54e2-a104-4e12-b251-04c03d5abf05",
   "metadata": {},
   "source": [
    "## Option 2: Optimal Threshold using ROC Curve"
   ]
  },
  {
   "cell_type": "code",
   "execution_count": 118,
   "id": "306ff455-d004-4c13-9f78-1f16b3cfd34e",
   "metadata": {},
   "outputs": [
    {
     "name": "stdout",
     "output_type": "stream",
     "text": [
      "[np.float64(1.9772959688926356e-05)]\n"
     ]
    }
   ],
   "source": [
    "def Find_Optimal_Cutoff(target, predicted):\n",
    "    \"\"\"\n",
    "    Find the optimal probability cutoff point for a classification model using Youden’s J statistic.\n",
    "\n",
    "    Parameters\n",
    "    ----------\n",
    "    target : true class labels\n",
    "    predicted : predicted probabilities for the positive class\n",
    "\n",
    "    Returns\n",
    "    -------\n",
    "    list : optimal threshold value(s)\n",
    "    \"\"\"\n",
    "    fpr, tpr, thresholds = roc_curve(target, predicted)\n",
    "    youden_j = tpr - fpr\n",
    "    optimal_idx = np.argmax(youden_j)\n",
    "    return [thresholds[optimal_idx]]\n",
    "\n",
    "\n",
    "# Find optimal probability threshold\n",
    "optimal_threshold = Find_Optimal_Cutoff(y_val, y_proba[:,1])\n",
    "print(optimal_threshold)"
   ]
  },
  {
   "cell_type": "markdown",
   "id": "96bd9706-deed-4546-95b2-460a0c145fff",
   "metadata": {},
   "source": [
    "## Apply Optimal Threshold"
   ]
  },
  {
   "cell_type": "code",
   "execution_count": 119,
   "id": "2caadd61-6a95-4f7e-8a5e-9c448d528428",
   "metadata": {},
   "outputs": [
    {
     "name": "stdout",
     "output_type": "stream",
     "text": [
      "[0 0 0 ... 0 0 0]\n"
     ]
    }
   ],
   "source": [
    "# Apply custom threshold\n",
    "threshold = optimal_threshold\n",
    "\n",
    "y_pred = (y_proba[:,1] >= threshold).astype(int)  # Convert probabilities to 0/1\n",
    "\n",
    "# Print results\n",
    "print(y_pred)"
   ]
  },
  {
   "cell_type": "markdown",
   "id": "a80e5478-fa73-4197-9ec1-8470a33964b9",
   "metadata": {},
   "source": [
    "## Metrics Evaluation"
   ]
  },
  {
   "cell_type": "code",
   "execution_count": 120,
   "id": "36ec2764-dd9b-41a1-a7d2-89d13e24ecaf",
   "metadata": {},
   "outputs": [
    {
     "name": "stdout",
     "output_type": "stream",
     "text": [
      "True Negatives (TN): 13821\n",
      "False Positives (FP): 456\n",
      "False Negatives (FN): 0\n",
      "True Positives (TP): 15\n",
      "[[13821   456]\n",
      " [    0    15]]\n",
      "Accuracy: 0.9681\n",
      "Precision: 0.0318\n",
      "Recall: 1.0000\n",
      "F1 Score: 0.0617\n",
      "AUC: 0.9978\n",
      "Specificity: 0.9681\n"
     ]
    }
   ],
   "source": [
    "# Get actual labels from y2\n",
    "y_true = y_val\n",
    "\n",
    "\n",
    "def calculate_specificity(y_true, y_pred):\n",
    "    \"\"\"\n",
    "    Calculate specificity from true\n",
    "    and predicted labels.\n",
    "    \n",
    "    Parameters:\n",
    "        y_true (list or array): True binary labels.\n",
    "        y_pred (list or array): Predicted binary labels.\n",
    "    \n",
    "    Returns:\n",
    "        float: Specificity score.\n",
    "    \"\"\"\n",
    "    tn, fp, fn, tp = confusion_matrix(y_true, y_pred).ravel()\n",
    "    print(f\"True Negatives (TN): {tn}\")\n",
    "    print(f\"False Positives (FP): {fp}\")\n",
    "    print(f\"False Negatives (FN): {fn}\")\n",
    "    print(f\"True Positives (TP): {tp}\")\n",
    "    specificity = tn / (tn + fp)\n",
    "    return specificity\n",
    "\n",
    "# Evaluate performance\n",
    "accuracy = accuracy_score(y_true, y_pred)\n",
    "precision = precision_score(y_true, y_pred)\n",
    "recall = recall_score(y_true, y_pred)\n",
    "f1 = f1_score(y_true, y_pred)\n",
    "auc = roc_auc_score(y_true, y_proba[:,1])  # Use probabilities for AUC\n",
    "spec = calculate_specificity(y_true, y_pred)\n",
    "\n",
    "# Print metrics\n",
    "print(confusion_matrix(y_true, y_pred))\n",
    "print(f\"Accuracy: {accuracy:.4f}\")\n",
    "print(f\"Precision: {precision:.4f}\")\n",
    "print(f\"Recall: {recall:.4f}\") #Same as sensitivity\n",
    "print(f\"F1 Score: {f1:.4f}\")\n",
    "print(f\"AUC: {auc:.4f}\")\n",
    "print(f\"Specificity: {spec:.4f}\")"
   ]
  },
  {
   "cell_type": "markdown",
   "id": "56486225-1944-4fd9-bc91-2119c16aab92",
   "metadata": {},
   "source": [
    "## SHAP Plots and Values"
   ]
  },
  {
   "cell_type": "code",
   "execution_count": 95,
   "id": "5c876eb4-5348-4513-b57d-117709ef3b61",
   "metadata": {},
   "outputs": [
    {
     "data": {
      "image/png": "[encoded data removed]",
      "text/plain": [
       "<Figure size 800x470 with 2 Axes>"
      ]
     },
     "metadata": {},
     "output_type": "display_data"
    }
   ],
   "source": [
    "explainer = shap.Explainer(model)\n",
    "shap_values = explainer(X_val)\n",
    "shap.summary_plot(shap_values, X_val)"
   ]
  },
  {
   "cell_type": "code",
   "execution_count": 96,
   "id": "f4c4baef-7a28-40e9-8795-17f1354713e0",
   "metadata": {},
   "outputs": [
    {
     "data": {
      "image/png": "[encoded data removed]",
      "text/plain": [
       "<Figure size 800x550 with 1 Axes>"
      ]
     },
     "metadata": {},
     "output_type": "display_data"
    }
   ],
   "source": [
    "shap.plots.bar(shap_values, max_display=50)"
   ]
  },
  {
   "cell_type": "code",
   "execution_count": 97,
   "id": "782423f9-5fa0-44fd-949a-703b059bdc42",
   "metadata": {},
   "outputs": [
    {
     "name": "stdout",
     "output_type": "stream",
     "text": [
      "                    Feature  Mean |SHAP value|\n",
      "0     EverAtLeast61DPD_3mos           0.058693\n",
      "7          Missed_past12mos           0.037906\n",
      "3           Missed_past3mos           0.036570\n",
      "2  RemainingLoanRatio_12mos           0.031345\n",
      "5             Full_past6mos           0.018172\n",
      "6           Missed_past9mos           0.010238\n",
      "1      EverAtLeast1DPD_6mos           0.008004\n",
      "4          Partial_past6mos           0.006439\n"
     ]
    }
   ],
   "source": [
    "# Step 1: Get mean absolute SHAP values per feature\n",
    "shap_summary = np.abs(shap_values.values).mean(axis=0)\n",
    "\n",
    "# Step 2: Create a DataFrame with feature names and their mean SHAP values\n",
    "shap_df = pd.DataFrame({\n",
    "    'Feature': shap_values.feature_names,\n",
    "    'Mean |SHAP value|': shap_summary\n",
    "})\n",
    "\n",
    "# Step 3: Sort descending to match what shap.plots.bar shows\n",
    "shap_df = shap_df.sort_values(by='Mean |SHAP value|', ascending=False)\n",
    "\n",
    "# Step 4 (Optional): Show top N\n",
    "top_n = 50\n",
    "print(shap_df.head(top_n))"
   ]
  }
 ],
 "metadata": {
  "kernelspec": {
   "display_name": "Python 3 (ipykernel)",
   "language": "python",
   "name": "python3"
  },
  "language_info": {
   "codemirror_mode": {
    "name": "ipython",
    "version": 3
   },
   "file_extension": ".py",
   "mimetype": "text/x-python",
   "name": "python",
   "nbconvert_exporter": "python",
   "pygments_lexer": "ipython3",
   "version": "3.12.6"
  }
 },
 "nbformat": 4,
 "nbformat_minor": 5
}
