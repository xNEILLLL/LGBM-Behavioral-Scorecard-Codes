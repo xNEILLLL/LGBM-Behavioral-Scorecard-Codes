{
 "cells": [
  {
   "cell_type": "code",
   "execution_count": 1,
   "id": "6d2aa686-ad72-4f32-98d0-f3962b389453",
   "metadata": {
    "tags": []
   },
   "outputs": [
    {
     "name": "stderr",
     "output_type": "stream",
     "text": [
      "C:\\Users\\Neil\\AppData\\Roaming\\Python\\Python311\\site-packages\\pandas\\core\\arrays\\masked.py:60: UserWarning: Pandas requires version '1.3.6' or newer of 'bottleneck' (version '1.3.5' currently installed).\n",
      "  from pandas.core import (\n"
     ]
    }
   ],
   "source": [
    "import lightgbm as lgb\n",
    "import numpy as np\n",
    "import pandas as pd\n",
    "import shap\n",
    "import os\n",
    "import glob\n",
    "import matplotlib.pyplot as plt\n",
    "import seaborn as sns\n",
    "import imblearn\n",
    "import sklearn\n",
    "from sklearn.model_selection import train_test_split\n",
    "from scipy.stats import ks_2samp\n",
    "from sklearn.metrics import accuracy_score, precision_score, recall_score, f1_score, roc_auc_score, brier_score_loss, precision_recall_curve\n",
    "from sklearn.metrics import confusion_matrix\n",
    "from sklearn.metrics import roc_curve\n",
    "from imblearn.over_sampling import SMOTE"
   ]
  },
  {
   "cell_type": "code",
   "execution_count": 2,
   "id": "dc856bd1-6e06-47a3-a84d-cca00363acb4",
   "metadata": {
    "tags": []
   },
   "outputs": [
    {
     "name": "stdout",
     "output_type": "stream",
     "text": [
      "1.3.0\n"
     ]
    }
   ],
   "source": [
    "print(sklearn.__version__)"
   ]
  },
  {
   "cell_type": "markdown",
   "id": "b8f048eb-b70b-497d-bdfa-41e45771d19a",
   "metadata": {},
   "source": [
    "## Read Files"
   ]
  },
  {
   "cell_type": "code",
   "execution_count": 3,
   "id": "f034c428-2f43-45fe-ac70-7d27ad1e2df4",
   "metadata": {
    "tags": []
   },
   "outputs": [],
   "source": [
    "csv_folder = 'C:/Users/Neil/OneDrive/Documents/Capstone Files/' ### make sure na lahat ng csv ay nasa isang folder tapos dapat yung features lang yung nandun\n",
    "csv_files = sorted(glob.glob(os.path.join(csv_folder, \"*.csv\")))  # Get all CSV files"
   ]
  },
  {
   "cell_type": "code",
   "execution_count": 4,
   "id": "0e54caac-4a05-45f2-9718-1f4703ef2595",
   "metadata": {
    "tags": []
   },
   "outputs": [
    {
     "data": {
      "text/plain": [
       "['C:/Users/Neil/OneDrive/Documents/Capstone Files\\\\Car Features M1-24.csv',\n",
       " 'C:/Users/Neil/OneDrive/Documents/Capstone Files\\\\Car Features M13-36.csv',\n",
       " 'C:/Users/Neil/OneDrive/Documents/Capstone Files\\\\Car Features M25-48.csv',\n",
       " 'C:/Users/Neil/OneDrive/Documents/Capstone Files\\\\Car Features M37-60.csv']"
      ]
     },
     "execution_count": 4,
     "metadata": {},
     "output_type": "execute_result"
    }
   ],
   "source": [
    "csv_files"
   ]
  },
  {
   "cell_type": "markdown",
   "id": "f56b9d58-1e67-4e35-8f21-b374f0e1f4af",
   "metadata": {},
   "source": [
    "## Splitting"
   ]
  },
  {
   "cell_type": "code",
   "execution_count": 5,
   "id": "33e517e4-6e46-4631-bb93-67aa91b6c390",
   "metadata": {
    "tags": []
   },
   "outputs": [
    {
     "name": "stdout",
     "output_type": "stream",
     "text": [
      "\n",
      "Processing file: C:/Users/Neil/OneDrive/Documents/Capstone Files\\Car Features M1-24.csv\n",
      "Train class balance:\n",
      " DEFAULT_TAGGING\n",
      "0    0.998525\n",
      "1    0.001475\n",
      "Name: proportion, dtype: float64\n",
      "Test class balance:\n",
      " DEFAULT_TAGGING\n",
      "0    0.998513\n",
      "1    0.001487\n",
      "Name: proportion, dtype: float64\n",
      "\n",
      "Processing file: C:/Users/Neil/OneDrive/Documents/Capstone Files\\Car Features M13-36.csv\n",
      "Train class balance:\n",
      " DEFAULT_TAGGING\n",
      "0    0.994214\n",
      "1    0.005786\n",
      "Name: proportion, dtype: float64\n",
      "Test class balance:\n",
      " DEFAULT_TAGGING\n",
      "0    0.994182\n",
      "1    0.005818\n",
      "Name: proportion, dtype: float64\n",
      "\n",
      "Processing file: C:/Users/Neil/OneDrive/Documents/Capstone Files\\Car Features M25-48.csv\n",
      "Train class balance:\n",
      " DEFAULT_TAGGING\n",
      "0    0.986499\n",
      "1    0.013501\n",
      "Name: proportion, dtype: float64\n",
      "Test class balance:\n",
      " DEFAULT_TAGGING\n",
      "0    0.98652\n",
      "1    0.01348\n",
      "Name: proportion, dtype: float64\n",
      "\n",
      "Processing file: C:/Users/Neil/OneDrive/Documents/Capstone Files\\Car Features M37-60.csv\n",
      "Train class balance:\n",
      " DEFAULT_TAGGING\n",
      "0    0.974224\n",
      "1    0.025776\n",
      "Name: proportion, dtype: float64\n",
      "Test class balance:\n",
      " DEFAULT_TAGGING\n",
      "0    0.974037\n",
      "1    0.025963\n",
      "Name: proportion, dtype: float64\n",
      "\n",
      "Final Merged Data Shapes:\n",
      "X_train_all: (111711, 33)\n",
      "X_test_all: (47879, 33)\n",
      "y_train_all: (111711,)\n",
      "y_test_all: (47879,)\n"
     ]
    }
   ],
   "source": [
    "selected_features = [\n",
    "    'EverAtLeast1DPD_3mos', \n",
    "    'EverAtLeast15DPD_3mos', 'EverAtLeast31DPD_3mos', \n",
    "    'EverAtLeast61DPD_3mos', \n",
    "    'EverAtLeast1DPD_6mos', \n",
    "    'EverAtLeast15DPD_6mos', 'EverAtLeast31DPD_6mos', \n",
    "    'EverAtLeast61DPD_6mos', \n",
    "    'EverAtLeast1DPD_9mos', \n",
    "    'EverAtLeast15DPD_9mos', 'EverAtLeast31DPD_9mos', 'EverAtLeast61DPD_9mos', \n",
    "    'EverAtLeast1DPD_12mos', 'EverAtLeast15DPD_12mos', \n",
    "    'EverAtLeast31DPD_12mos', 'EverAtLeast61DPD_12mos', \n",
    "    'WorstDel_3mos', 'WorstDel_6mos', \n",
    "    'WorstDel_9mos', 'WorstDel_12mos', \n",
    "    'RemainingLoanRatio_12mos', \n",
    "    'Missed_past3mos', \n",
    "    'Partial_past3mos', \n",
    "    'Full_past3mos', 'Missed_past6mos', \n",
    "    'Partial_past6mos', \n",
    "    'Full_past6mos', \n",
    "    'Missed_past9mos', \n",
    "    'Partial_past9mos', \n",
    "    'Full_past9mos', 'Missed_past12mos', \n",
    "    'Partial_past12mos', \n",
    "    'Full_past12mos'\n",
    "]\n",
    "\n",
    "\n",
    "# Lists to store all training and testing data\n",
    "X_train_list, X_test_list, y_train_list, y_test_list = [], [], [], []\n",
    "\n",
    "# Process each CSV file\n",
    "for file in csv_files:\n",
    "    print(f\"\\nProcessing file: {file}\")\n",
    "    \n",
    "    # Read the CSV file\n",
    "    data = pd.read_csv(file)\n",
    "\n",
    "    X = data[selected_features]\n",
    "    y = data['DEFAULT_TAGGING']\n",
    "\n",
    "    # Train-test split\n",
    "    X_train, X_test, y_train, y_test = train_test_split(\n",
    "        X, y, test_size=0.3, random_state=42, stratify=y\n",
    "    )\n",
    "\n",
    "    # Append to lists\n",
    "    X_train_list.append(X_train)\n",
    "    X_test_list.append(X_test)\n",
    "    y_train_list.append(y_train)\n",
    "    y_test_list.append(y_test)\n",
    "\n",
    "    # Print class balance\n",
    "    print(\"Train class balance:\\n\", y_train.value_counts(normalize=True))\n",
    "    print(\"Test class balance:\\n\", y_test.value_counts(normalize=True))\n",
    "\n",
    "# Merge all train and test data\n",
    "X_train_all = pd.concat(X_train_list, axis=0)\n",
    "X_test_all = pd.concat(X_test_list, axis=0)\n",
    "y_train_all = pd.concat(y_train_list, axis=0)\n",
    "y_test_all = pd.concat(y_test_list, axis=0)\n",
    "\n",
    "print(\"\\nFinal Merged Data Shapes:\")\n",
    "print(\"X_train_all:\", X_train_all.shape)\n",
    "print(\"X_test_all:\", X_test_all.shape)\n",
    "print(\"y_train_all:\", y_train_all.shape)\n",
    "print(\"y_test_all:\", y_test_all.shape)"
   ]
  },
  {
   "cell_type": "code",
   "execution_count": 6,
   "id": "225edce1-38f7-4229-9615-36b29384974a",
   "metadata": {
    "tags": []
   },
   "outputs": [
    {
     "name": "stdout",
     "output_type": "stream",
     "text": [
      "\n",
      "Final Split Data Shapes:\n",
      "X_train_split: (78197, 33)\n",
      "X_val: (33514, 33)\n",
      "y_train_split: (78197,)\n",
      "y_val: (33514,)\n"
     ]
    }
   ],
   "source": [
    "X_train_split, X_val, y_train_split, y_val = train_test_split(\n",
    "    X_train_all, y_train_all, test_size=0.3, random_state=42, stratify=y_train_all\n",
    ")\n",
    "\n",
    "print(\"\\nFinal Split Data Shapes:\")\n",
    "print(\"X_train_split:\", X_train_split.shape)\n",
    "print(\"X_val:\", X_val.shape)\n",
    "print(\"y_train_split:\", y_train_split.shape)\n",
    "print(\"y_val:\", y_val.shape)"
   ]
  },
  {
   "cell_type": "markdown",
   "id": "0959e968-ab56-44b7-9ea8-b1733d31dc9a",
   "metadata": {},
   "source": [
    "#### Option 1 Grid Search "
   ]
  },
  {
   "cell_type": "code",
   "execution_count": 7,
   "id": "ae2a8d73-d626-4244-9737-451b885f7c6b",
   "metadata": {
    "tags": []
   },
   "outputs": [],
   "source": [
    "from sklearn.metrics import recall_score, confusion_matrix, precision_recall_curve\n",
    "import lightgbm as lgb\n",
    "import numpy as np\n",
    "from itertools import product\n",
    "\n",
    "def calculate_specificity(y_true, y_pred):\n",
    "    tn, fp, fn, tp = confusion_matrix(y_true, y_pred).ravel()\n",
    "    print(f\"True Negatives (TN): {tn}\")\n",
    "    print(f\"False Positives (FP): {fp}\")\n",
    "    print(f\"False Negatives (FN): {fn}\")\n",
    "    print(f\"True Positives (TP): {tp}\")\n",
    "    specificity = tn / (tn + fp)\n",
    "    return specificity\n",
    "#change param_grid based on your chosen range of value\n",
    "def grid_search_lgbm(X_train_split, y_train_split, X_val, y_val):\n",
    "    param_grid = {\n",
    "        'num_leaves': np.linspace(20, 100, 5, dtype=int),\n",
    "        'learning_rate': np.linspace(0.03, 0.15, 5),\n",
    "        'num_iterations': np.linspace(50, 200, 4, dtype=int)\n",
    "    }\n",
    "\n",
    "    best_results = {\n",
    "        'recall': {'score': -np.inf, 'params': None},\n",
    "        'specificity': {'score': -np.inf, 'params': None}\n",
    "    }\n",
    "\n",
    "    print(\"Starting Grid Search for num_leaves, learning_rate, and num_iterations...\\n\")\n",
    "\n",
    "    for num_leaves, learning_rate, num_iterations in product(\n",
    "        param_grid['num_leaves'], param_grid['learning_rate'], param_grid['num_iterations']\n",
    "    ):\n",
    "        model = lgb.LGBMClassifier(\n",
    "            boosting_type='gbdt',\n",
    "            objective='binary',\n",
    "            metric='binary_logloss',\n",
    "            learning_rate=learning_rate,\n",
    "            num_iterations=num_iterations,\n",
    "            num_leaves=num_leaves,\n",
    "            is_unbalanced=True,\n",
    "            random_state=42,\n",
    "            bagging_seed=42,\n",
    "            feature_fraction_seed=42,\n",
    "            drop_seed=42,\n",
    "            data_random_seed=42,\n",
    "            deterministic=True,\n",
    "            n_jobs=1\n",
    "        )\n",
    "\n",
    "        model.fit(X_train_split, y_train_split)\n",
    "        y_proba = model.predict_proba(X_val)\n",
    "\n",
    "        # Threshold tuning based on maximum F1 score\n",
    "        precision, recall_arr, thresholds = precision_recall_curve(y_val, y_proba[:, 1])\n",
    "        f1_scores = 2 * (precision * recall_arr) / (precision + recall_arr)  # Avoid divide-by-zero\n",
    "        optimal_threshold = thresholds[np.argmax(f1_scores)]\n",
    "\n",
    "        # Apply optimal threshold\n",
    "        y_pred = (y_proba[:, 1] >= optimal_threshold).astype(int)\n",
    "\n",
    "        recall = recall_score(y_val, y_pred)\n",
    "        specificity = calculate_specificity(y_val, y_pred)\n",
    "\n",
    "        print(f\"Params: num_leaves={num_leaves}, learning_rate={learning_rate:.3f}, num_iterations={num_iterations}\")\n",
    "        print(f\" → Optimal Threshold: {optimal_threshold:.4f}\")\n",
    "        print(f\" → Recall: {recall:.4f}, Specificity: {specificity:.4f}\\n\")\n",
    "\n",
    "        if recall > best_results['recall']['score']:\n",
    "            best_results['recall'] = {\n",
    "                'score': recall,\n",
    "                'params': {\n",
    "                    'num_leaves': num_leaves,\n",
    "                    'learning_rate': learning_rate,\n",
    "                    'num_iterations': num_iterations,\n",
    "                    'threshold': optimal_threshold\n",
    "                }\n",
    "            }\n",
    "\n",
    "        if specificity > best_results['specificity']['score']:\n",
    "            best_results['specificity'] = {\n",
    "                'score': specificity,\n",
    "                'params': {\n",
    "                    'num_leaves': num_leaves,\n",
    "                    'learning_rate': learning_rate,\n",
    "                    'num_iterations': num_iterations,\n",
    "                    'threshold': optimal_threshold\n",
    "                }\n",
    "            }\n",
    "\n",
    "    # Print final best results\n",
    "    print(\"Grid Search Complete!\\n\")\n",
    "    print(\"Best Recall Score:\")\n",
    "    print(f\" → Score: {best_results['recall']['score']:.4f}\")\n",
    "    print(f\" → Params: {best_results['recall']['params']}\\n\")\n",
    "\n",
    "    print(\"Best Specificity Score:\")\n",
    "    print(f\" → Score: {best_results['specificity']['score']:.4f}\")\n",
    "    print(f\" → Params: {best_results['specificity']['params']}\\n\")\n",
    "\n",
    "    return best_results"
   ]
  },
  {
   "cell_type": "code",
   "execution_count": 8,
   "id": "3e34702e-117b-4be9-9951-2cb6a101a334",
   "metadata": {
    "tags": []
   },
   "outputs": [
    {
     "name": "stdout",
     "output_type": "stream",
     "text": [
      "Starting Grid Search for num_leaves, learning_rate, and num_iterations...\n",
      "\n",
      "[LightGBM] [Warning] Unknown parameter: is_unbalanced\n",
      "[LightGBM] [Warning] Unknown parameter: is_unbalanced\n",
      "[LightGBM] [Info] Number of positive: 498, number of negative: 77699\n"
     ]
    },
    {
     "name": "stderr",
     "output_type": "stream",
     "text": [
      "C:\\Users\\Neil\\AppData\\Roaming\\Python\\Python311\\site-packages\\lightgbm\\engine.py:204: UserWarning: Found `num_iterations` in params. Will use it instead of argument\n",
      "  _log_warning(f\"Found `{alias}` in params. Will use it instead of argument\")\n"
     ]
    },
    {
     "name": "stdout",
     "output_type": "stream",
     "text": [
      "[LightGBM] [Info] Auto-choosing row-wise multi-threading, the overhead of testing was 0.014844 seconds.\n",
      "You can set `force_row_wise=true` to remove the overhead.\n",
      "And if memory is not enough, you can set `force_col_wise=true`.\n",
      "[LightGBM] [Info] Total Bins 406\n",
      "[LightGBM] [Info] Number of data points in the train set: 78197, number of used features: 33\n",
      "[LightGBM] [Info] [binary:BoostFromScore]: pavg=0.006369 -> initscore=-5.049998\n",
      "[LightGBM] [Info] Start training from score -5.049998\n",
      "[LightGBM] [Warning] Unknown parameter: is_unbalanced\n",
      "True Negatives (TN): 33291\n",
      "False Positives (FP): 10\n",
      "False Negatives (FN): 50\n",
      "True Positives (TP): 163\n",
      "Params: num_leaves=20, learning_rate=0.030, num_iterations=50\n",
      " → Optimal Threshold: 0.3482\n",
      " → Recall: 0.7653, Specificity: 0.9997\n",
      "\n",
      "[LightGBM] [Warning] Unknown parameter: is_unbalanced\n"
     ]
    },
    {
     "name": "stderr",
     "output_type": "stream",
     "text": [
      "C:\\Users\\Neil\\AppData\\Roaming\\Python\\Python311\\site-packages\\lightgbm\\engine.py:204: UserWarning: Found `num_iterations` in params. Will use it instead of argument\n",
      "  _log_warning(f\"Found `{alias}` in params. Will use it instead of argument\")\n"
     ]
    },
    {
     "name": "stdout",
     "output_type": "stream",
     "text": [
      "[LightGBM] [Warning] Unknown parameter: is_unbalanced\n",
      "[LightGBM] [Info] Number of positive: 498, number of negative: 77699\n",
      "[LightGBM] [Info] Auto-choosing row-wise multi-threading, the overhead of testing was 0.015358 seconds.\n",
      "You can set `force_row_wise=true` to remove the overhead.\n",
      "And if memory is not enough, you can set `force_col_wise=true`.\n",
      "[LightGBM] [Info] Total Bins 406\n",
      "[LightGBM] [Info] Number of data points in the train set: 78197, number of used features: 33\n",
      "[LightGBM] [Info] [binary:BoostFromScore]: pavg=0.006369 -> initscore=-5.049998\n",
      "[LightGBM] [Info] Start training from score -5.049998\n",
      "[LightGBM] [Warning] Unknown parameter: is_unbalanced\n",
      "True Negatives (TN): 33289\n",
      "False Positives (FP): 12\n",
      "False Negatives (FN): 46\n",
      "True Positives (TP): 167\n",
      "Params: num_leaves=20, learning_rate=0.030, num_iterations=100\n",
      " → Optimal Threshold: 0.3476\n",
      " → Recall: 0.7840, Specificity: 0.9996\n",
      "\n",
      "[LightGBM] [Warning] Unknown parameter: is_unbalanced\n"
     ]
    },
    {
     "name": "stderr",
     "output_type": "stream",
     "text": [
      "C:\\Users\\Neil\\AppData\\Roaming\\Python\\Python311\\site-packages\\lightgbm\\engine.py:204: UserWarning: Found `num_iterations` in params. Will use it instead of argument\n",
      "  _log_warning(f\"Found `{alias}` in params. Will use it instead of argument\")\n"
     ]
    },
    {
     "name": "stdout",
     "output_type": "stream",
     "text": [
      "[LightGBM] [Warning] Unknown parameter: is_unbalanced\n",
      "[LightGBM] [Info] Number of positive: 498, number of negative: 77699\n",
      "[LightGBM] [Info] Auto-choosing row-wise multi-threading, the overhead of testing was 0.014183 seconds.\n",
      "You can set `force_row_wise=true` to remove the overhead.\n",
      "And if memory is not enough, you can set `force_col_wise=true`.\n",
      "[LightGBM] [Info] Total Bins 406\n",
      "[LightGBM] [Info] Number of data points in the train set: 78197, number of used features: 33\n",
      "[LightGBM] [Info] [binary:BoostFromScore]: pavg=0.006369 -> initscore=-5.049998\n",
      "[LightGBM] [Info] Start training from score -5.049998\n",
      "[LightGBM] [Warning] Unknown parameter: is_unbalanced\n",
      "True Negatives (TN): 33290\n",
      "False Positives (FP): 11\n",
      "False Negatives (FN): 47\n",
      "True Positives (TP): 166\n",
      "Params: num_leaves=20, learning_rate=0.030, num_iterations=150\n",
      " → Optimal Threshold: 0.3785\n",
      " → Recall: 0.7793, Specificity: 0.9997\n",
      "\n",
      "[LightGBM] [Warning] Unknown parameter: is_unbalanced\n"
     ]
    },
    {
     "name": "stderr",
     "output_type": "stream",
     "text": [
      "C:\\Users\\Neil\\AppData\\Roaming\\Python\\Python311\\site-packages\\lightgbm\\engine.py:204: UserWarning: Found `num_iterations` in params. Will use it instead of argument\n",
      "  _log_warning(f\"Found `{alias}` in params. Will use it instead of argument\")\n"
     ]
    },
    {
     "name": "stdout",
     "output_type": "stream",
     "text": [
      "[LightGBM] [Warning] Unknown parameter: is_unbalanced\n",
      "[LightGBM] [Info] Number of positive: 498, number of negative: 77699\n",
      "[LightGBM] [Info] Auto-choosing row-wise multi-threading, the overhead of testing was 0.016519 seconds.\n",
      "You can set `force_row_wise=true` to remove the overhead.\n",
      "And if memory is not enough, you can set `force_col_wise=true`.\n",
      "[LightGBM] [Info] Total Bins 406\n",
      "[LightGBM] [Info] Number of data points in the train set: 78197, number of used features: 33\n",
      "[LightGBM] [Info] [binary:BoostFromScore]: pavg=0.006369 -> initscore=-5.049998\n",
      "[LightGBM] [Info] Start training from score -5.049998\n",
      "[LightGBM] [Warning] Unknown parameter: is_unbalanced\n",
      "True Negatives (TN): 33285\n",
      "False Positives (FP): 16\n",
      "False Negatives (FN): 44\n",
      "True Positives (TP): 169\n",
      "Params: num_leaves=20, learning_rate=0.030, num_iterations=200\n",
      " → Optimal Threshold: 0.2755\n",
      " → Recall: 0.7934, Specificity: 0.9995\n",
      "\n",
      "[LightGBM] [Warning] Unknown parameter: is_unbalanced\n",
      "[LightGBM] [Warning] Unknown parameter: is_unbalanced\n",
      "[LightGBM] [Info] Number of positive: 498, number of negative: 77699\n",
      "[LightGBM] [Info] Auto-choosing row-wise multi-threading, the overhead of testing was 0.010551 seconds.\n",
      "You can set `force_row_wise=true` to remove the overhead.\n",
      "And if memory is not enough, you can set `force_col_wise=true`.\n",
      "[LightGBM] [Info] Total Bins 406\n",
      "[LightGBM] [Info] Number of data points in the train set: 78197, number of used features: 33\n",
      "[LightGBM] [Info] [binary:BoostFromScore]: pavg=0.006369 -> initscore=-5.049998\n",
      "[LightGBM] [Info] Start training from score -5.049998\n"
     ]
    },
    {
     "name": "stderr",
     "output_type": "stream",
     "text": [
      "C:\\Users\\Neil\\AppData\\Roaming\\Python\\Python311\\site-packages\\lightgbm\\engine.py:204: UserWarning: Found `num_iterations` in params. Will use it instead of argument\n",
      "  _log_warning(f\"Found `{alias}` in params. Will use it instead of argument\")\n"
     ]
    },
    {
     "name": "stdout",
     "output_type": "stream",
     "text": [
      "[LightGBM] [Warning] Unknown parameter: is_unbalanced\n",
      "True Negatives (TN): 33293\n",
      "False Positives (FP): 8\n",
      "False Negatives (FN): 52\n",
      "True Positives (TP): 161\n",
      "Params: num_leaves=20, learning_rate=0.060, num_iterations=50\n",
      " → Optimal Threshold: 0.5810\n",
      " → Recall: 0.7559, Specificity: 0.9998\n",
      "\n",
      "[LightGBM] [Warning] Unknown parameter: is_unbalanced\n"
     ]
    },
    {
     "name": "stderr",
     "output_type": "stream",
     "text": [
      "C:\\Users\\Neil\\AppData\\Roaming\\Python\\Python311\\site-packages\\lightgbm\\engine.py:204: UserWarning: Found `num_iterations` in params. Will use it instead of argument\n",
      "  _log_warning(f\"Found `{alias}` in params. Will use it instead of argument\")\n"
     ]
    },
    {
     "name": "stdout",
     "output_type": "stream",
     "text": [
      "[LightGBM] [Warning] Unknown parameter: is_unbalanced\n",
      "[LightGBM] [Info] Number of positive: 498, number of negative: 77699\n",
      "[LightGBM] [Info] Auto-choosing row-wise multi-threading, the overhead of testing was 0.016648 seconds.\n",
      "You can set `force_row_wise=true` to remove the overhead.\n",
      "And if memory is not enough, you can set `force_col_wise=true`.\n",
      "[LightGBM] [Info] Total Bins 406\n",
      "[LightGBM] [Info] Number of data points in the train set: 78197, number of used features: 33\n",
      "[LightGBM] [Info] [binary:BoostFromScore]: pavg=0.006369 -> initscore=-5.049998\n",
      "[LightGBM] [Info] Start training from score -5.049998\n",
      "[LightGBM] [Warning] Unknown parameter: is_unbalanced\n",
      "True Negatives (TN): 33292\n",
      "False Positives (FP): 9\n",
      "False Negatives (FN): 53\n",
      "True Positives (TP): 160\n",
      "Params: num_leaves=20, learning_rate=0.060, num_iterations=100\n",
      " → Optimal Threshold: 0.5345\n",
      " → Recall: 0.7512, Specificity: 0.9997\n",
      "\n",
      "[LightGBM] [Warning] Unknown parameter: is_unbalanced\n"
     ]
    },
    {
     "name": "stderr",
     "output_type": "stream",
     "text": [
      "C:\\Users\\Neil\\AppData\\Roaming\\Python\\Python311\\site-packages\\lightgbm\\engine.py:204: UserWarning: Found `num_iterations` in params. Will use it instead of argument\n",
      "  _log_warning(f\"Found `{alias}` in params. Will use it instead of argument\")\n"
     ]
    },
    {
     "name": "stdout",
     "output_type": "stream",
     "text": [
      "[LightGBM] [Warning] Unknown parameter: is_unbalanced\n",
      "[LightGBM] [Info] Number of positive: 498, number of negative: 77699\n",
      "[LightGBM] [Info] Auto-choosing row-wise multi-threading, the overhead of testing was 0.015998 seconds.\n",
      "You can set `force_row_wise=true` to remove the overhead.\n",
      "And if memory is not enough, you can set `force_col_wise=true`.\n",
      "[LightGBM] [Info] Total Bins 406\n",
      "[LightGBM] [Info] Number of data points in the train set: 78197, number of used features: 33\n",
      "[LightGBM] [Info] [binary:BoostFromScore]: pavg=0.006369 -> initscore=-5.049998\n",
      "[LightGBM] [Info] Start training from score -5.049998\n",
      "[LightGBM] [Warning] Unknown parameter: is_unbalanced\n",
      "True Negatives (TN): 33291\n",
      "False Positives (FP): 10\n",
      "False Negatives (FN): 52\n",
      "True Positives (TP): 161\n",
      "Params: num_leaves=20, learning_rate=0.060, num_iterations=150\n",
      " → Optimal Threshold: 0.4663\n",
      " → Recall: 0.7559, Specificity: 0.9997\n",
      "\n"
     ]
    },
    {
     "name": "stderr",
     "output_type": "stream",
     "text": [
      "C:\\Users\\Neil\\AppData\\Roaming\\Python\\Python311\\site-packages\\lightgbm\\engine.py:204: UserWarning: Found `num_iterations` in params. Will use it instead of argument\n",
      "  _log_warning(f\"Found `{alias}` in params. Will use it instead of argument\")\n"
     ]
    },
    {
     "name": "stdout",
     "output_type": "stream",
     "text": [
      "[LightGBM] [Warning] Unknown parameter: is_unbalanced\n",
      "[LightGBM] [Warning] Unknown parameter: is_unbalanced\n",
      "[LightGBM] [Info] Number of positive: 498, number of negative: 77699\n",
      "[LightGBM] [Info] Auto-choosing row-wise multi-threading, the overhead of testing was 0.016314 seconds.\n",
      "You can set `force_row_wise=true` to remove the overhead.\n",
      "And if memory is not enough, you can set `force_col_wise=true`.\n",
      "[LightGBM] [Info] Total Bins 406\n",
      "[LightGBM] [Info] Number of data points in the train set: 78197, number of used features: 33\n",
      "[LightGBM] [Info] [binary:BoostFromScore]: pavg=0.006369 -> initscore=-5.049998\n",
      "[LightGBM] [Info] Start training from score -5.049998\n",
      "[LightGBM] [Warning] Unknown parameter: is_unbalanced\n",
      "True Negatives (TN): 33285\n",
      "False Positives (FP): 16\n",
      "False Negatives (FN): 48\n",
      "True Positives (TP): 165\n",
      "Params: num_leaves=20, learning_rate=0.060, num_iterations=200\n",
      " → Optimal Threshold: 0.3401\n",
      " → Recall: 0.7746, Specificity: 0.9995\n",
      "\n",
      "[LightGBM] [Warning] Unknown parameter: is_unbalanced\n",
      "[LightGBM] [Warning] Unknown parameter: is_unbalanced\n",
      "[LightGBM] [Info] Number of positive: 498, number of negative: 77699\n"
     ]
    },
    {
     "name": "stderr",
     "output_type": "stream",
     "text": [
      "C:\\Users\\Neil\\AppData\\Roaming\\Python\\Python311\\site-packages\\lightgbm\\engine.py:204: UserWarning: Found `num_iterations` in params. Will use it instead of argument\n",
      "  _log_warning(f\"Found `{alias}` in params. Will use it instead of argument\")\n"
     ]
    },
    {
     "name": "stdout",
     "output_type": "stream",
     "text": [
      "[LightGBM] [Info] Auto-choosing row-wise multi-threading, the overhead of testing was 0.015793 seconds.\n",
      "You can set `force_row_wise=true` to remove the overhead.\n",
      "And if memory is not enough, you can set `force_col_wise=true`.\n",
      "[LightGBM] [Info] Total Bins 406\n",
      "[LightGBM] [Info] Number of data points in the train set: 78197, number of used features: 33\n",
      "[LightGBM] [Info] [binary:BoostFromScore]: pavg=0.006369 -> initscore=-5.049998\n",
      "[LightGBM] [Info] Start training from score -5.049998\n",
      "[LightGBM] [Warning] Unknown parameter: is_unbalanced\n",
      "True Negatives (TN): 33290\n",
      "False Positives (FP): 11\n",
      "False Negatives (FN): 58\n",
      "True Positives (TP): 155\n",
      "Params: num_leaves=20, learning_rate=0.090, num_iterations=50\n",
      " → Optimal Threshold: 0.5880\n",
      " → Recall: 0.7277, Specificity: 0.9997\n",
      "\n",
      "[LightGBM] [Warning] Unknown parameter: is_unbalanced\n"
     ]
    },
    {
     "name": "stderr",
     "output_type": "stream",
     "text": [
      "C:\\Users\\Neil\\AppData\\Roaming\\Python\\Python311\\site-packages\\lightgbm\\engine.py:204: UserWarning: Found `num_iterations` in params. Will use it instead of argument\n",
      "  _log_warning(f\"Found `{alias}` in params. Will use it instead of argument\")\n"
     ]
    },
    {
     "name": "stdout",
     "output_type": "stream",
     "text": [
      "[LightGBM] [Warning] Unknown parameter: is_unbalanced\n",
      "[LightGBM] [Info] Number of positive: 498, number of negative: 77699\n",
      "[LightGBM] [Info] Auto-choosing row-wise multi-threading, the overhead of testing was 0.013123 seconds.\n",
      "You can set `force_row_wise=true` to remove the overhead.\n",
      "And if memory is not enough, you can set `force_col_wise=true`.\n",
      "[LightGBM] [Info] Total Bins 406\n",
      "[LightGBM] [Info] Number of data points in the train set: 78197, number of used features: 33\n",
      "[LightGBM] [Info] [binary:BoostFromScore]: pavg=0.006369 -> initscore=-5.049998\n",
      "[LightGBM] [Info] Start training from score -5.049998\n",
      "[LightGBM] [Warning] Unknown parameter: is_unbalanced\n",
      "True Negatives (TN): 33290\n",
      "False Positives (FP): 11\n",
      "False Negatives (FN): 55\n",
      "True Positives (TP): 158\n",
      "Params: num_leaves=20, learning_rate=0.090, num_iterations=100\n",
      " → Optimal Threshold: 0.5289\n",
      " → Recall: 0.7418, Specificity: 0.9997\n",
      "\n",
      "[LightGBM] [Warning] Unknown parameter: is_unbalanced\n"
     ]
    },
    {
     "name": "stderr",
     "output_type": "stream",
     "text": [
      "C:\\Users\\Neil\\AppData\\Roaming\\Python\\Python311\\site-packages\\lightgbm\\engine.py:204: UserWarning: Found `num_iterations` in params. Will use it instead of argument\n",
      "  _log_warning(f\"Found `{alias}` in params. Will use it instead of argument\")\n"
     ]
    },
    {
     "name": "stdout",
     "output_type": "stream",
     "text": [
      "[LightGBM] [Warning] Unknown parameter: is_unbalanced\n",
      "[LightGBM] [Info] Number of positive: 498, number of negative: 77699\n",
      "[LightGBM] [Info] Auto-choosing row-wise multi-threading, the overhead of testing was 0.017050 seconds.\n",
      "You can set `force_row_wise=true` to remove the overhead.\n",
      "And if memory is not enough, you can set `force_col_wise=true`.\n",
      "[LightGBM] [Info] Total Bins 406\n",
      "[LightGBM] [Info] Number of data points in the train set: 78197, number of used features: 33\n",
      "[LightGBM] [Info] [binary:BoostFromScore]: pavg=0.006369 -> initscore=-5.049998\n",
      "[LightGBM] [Info] Start training from score -5.049998\n",
      "[LightGBM] [Warning] Unknown parameter: is_unbalanced\n",
      "True Negatives (TN): 33286\n",
      "False Positives (FP): 15\n",
      "False Negatives (FN): 52\n",
      "True Positives (TP): 161\n",
      "Params: num_leaves=20, learning_rate=0.090, num_iterations=150\n",
      " → Optimal Threshold: 0.4728\n",
      " → Recall: 0.7559, Specificity: 0.9995\n",
      "\n",
      "[LightGBM] [Warning] Unknown parameter: is_unbalanced\n",
      "[LightGBM] [Warning] Unknown parameter: is_unbalanced\n",
      "[LightGBM] [Info] Number of positive: 498, number of negative: 77699\n"
     ]
    },
    {
     "name": "stderr",
     "output_type": "stream",
     "text": [
      "C:\\Users\\Neil\\AppData\\Roaming\\Python\\Python311\\site-packages\\lightgbm\\engine.py:204: UserWarning: Found `num_iterations` in params. Will use it instead of argument\n",
      "  _log_warning(f\"Found `{alias}` in params. Will use it instead of argument\")\n"
     ]
    },
    {
     "name": "stdout",
     "output_type": "stream",
     "text": [
      "[LightGBM] [Info] Auto-choosing row-wise multi-threading, the overhead of testing was 0.013689 seconds.\n",
      "You can set `force_row_wise=true` to remove the overhead.\n",
      "And if memory is not enough, you can set `force_col_wise=true`.\n",
      "[LightGBM] [Info] Total Bins 406\n",
      "[LightGBM] [Info] Number of data points in the train set: 78197, number of used features: 33\n",
      "[LightGBM] [Info] [binary:BoostFromScore]: pavg=0.006369 -> initscore=-5.049998\n",
      "[LightGBM] [Info] Start training from score -5.049998\n",
      "[LightGBM] [Warning] Unknown parameter: is_unbalanced\n",
      "True Negatives (TN): 33294\n",
      "False Positives (FP): 7\n",
      "False Negatives (FN): 59\n",
      "True Positives (TP): 154\n",
      "Params: num_leaves=20, learning_rate=0.090, num_iterations=200\n",
      " → Optimal Threshold: 0.7737\n",
      " → Recall: 0.7230, Specificity: 0.9998\n",
      "\n",
      "[LightGBM] [Warning] Unknown parameter: is_unbalanced\n",
      "[LightGBM] [Warning] Unknown parameter: is_unbalanced\n",
      "[LightGBM] [Info] Number of positive: 498, number of negative: 77699\n",
      "[LightGBM] [Info] Auto-choosing row-wise multi-threading, the overhead of testing was 0.014990 seconds.\n",
      "You can set `force_row_wise=true` to remove the overhead.\n",
      "And if memory is not enough, you can set `force_col_wise=true`.\n",
      "[LightGBM] [Info] Total Bins 406\n",
      "[LightGBM] [Info] Number of data points in the train set: 78197, number of used features: 33\n",
      "[LightGBM] [Info] [binary:BoostFromScore]: pavg=0.006369 -> initscore=-5.049998\n",
      "[LightGBM] [Info] Start training from score -5.049998\n"
     ]
    },
    {
     "name": "stderr",
     "output_type": "stream",
     "text": [
      "C:\\Users\\Neil\\AppData\\Roaming\\Python\\Python311\\site-packages\\lightgbm\\engine.py:204: UserWarning: Found `num_iterations` in params. Will use it instead of argument\n",
      "  _log_warning(f\"Found `{alias}` in params. Will use it instead of argument\")\n"
     ]
    },
    {
     "name": "stdout",
     "output_type": "stream",
     "text": [
      "[LightGBM] [Warning] Unknown parameter: is_unbalanced\n",
      "True Negatives (TN): 33284\n",
      "False Positives (FP): 17\n",
      "False Negatives (FN): 64\n",
      "True Positives (TP): 149\n",
      "Params: num_leaves=20, learning_rate=0.120, num_iterations=50\n",
      " → Optimal Threshold: 0.5440\n",
      " → Recall: 0.6995, Specificity: 0.9995\n",
      "\n",
      "[LightGBM] [Warning] Unknown parameter: is_unbalanced\n"
     ]
    },
    {
     "name": "stderr",
     "output_type": "stream",
     "text": [
      "C:\\Users\\Neil\\AppData\\Roaming\\Python\\Python311\\site-packages\\lightgbm\\engine.py:204: UserWarning: Found `num_iterations` in params. Will use it instead of argument\n",
      "  _log_warning(f\"Found `{alias}` in params. Will use it instead of argument\")\n"
     ]
    },
    {
     "name": "stdout",
     "output_type": "stream",
     "text": [
      "[LightGBM] [Warning] Unknown parameter: is_unbalanced\n",
      "[LightGBM] [Info] Number of positive: 498, number of negative: 77699\n",
      "[LightGBM] [Info] Auto-choosing row-wise multi-threading, the overhead of testing was 0.015617 seconds.\n",
      "You can set `force_row_wise=true` to remove the overhead.\n",
      "And if memory is not enough, you can set `force_col_wise=true`.\n",
      "[LightGBM] [Info] Total Bins 406\n",
      "[LightGBM] [Info] Number of data points in the train set: 78197, number of used features: 33\n",
      "[LightGBM] [Info] [binary:BoostFromScore]: pavg=0.006369 -> initscore=-5.049998\n",
      "[LightGBM] [Info] Start training from score -5.049998\n",
      "[LightGBM] [Warning] Unknown parameter: is_unbalanced\n",
      "True Negatives (TN): 33282\n",
      "False Positives (FP): 19\n",
      "False Negatives (FN): 63\n",
      "True Positives (TP): 150\n",
      "Params: num_leaves=20, learning_rate=0.120, num_iterations=100\n",
      " → Optimal Threshold: 0.5190\n",
      " → Recall: 0.7042, Specificity: 0.9994\n",
      "\n",
      "[LightGBM] [Warning] Unknown parameter: is_unbalanced\n"
     ]
    },
    {
     "name": "stderr",
     "output_type": "stream",
     "text": [
      "C:\\Users\\Neil\\AppData\\Roaming\\Python\\Python311\\site-packages\\lightgbm\\engine.py:204: UserWarning: Found `num_iterations` in params. Will use it instead of argument\n",
      "  _log_warning(f\"Found `{alias}` in params. Will use it instead of argument\")\n"
     ]
    },
    {
     "name": "stdout",
     "output_type": "stream",
     "text": [
      "[LightGBM] [Warning] Unknown parameter: is_unbalanced\n",
      "[LightGBM] [Info] Number of positive: 498, number of negative: 77699\n",
      "[LightGBM] [Info] Auto-choosing row-wise multi-threading, the overhead of testing was 0.015299 seconds.\n",
      "You can set `force_row_wise=true` to remove the overhead.\n",
      "And if memory is not enough, you can set `force_col_wise=true`.\n",
      "[LightGBM] [Info] Total Bins 406\n",
      "[LightGBM] [Info] Number of data points in the train set: 78197, number of used features: 33\n",
      "[LightGBM] [Info] [binary:BoostFromScore]: pavg=0.006369 -> initscore=-5.049998\n",
      "[LightGBM] [Info] Start training from score -5.049998\n",
      "[LightGBM] [Warning] Unknown parameter: is_unbalanced\n",
      "True Negatives (TN): 33291\n",
      "False Positives (FP): 10\n",
      "False Negatives (FN): 67\n",
      "True Positives (TP): 146\n",
      "Params: num_leaves=20, learning_rate=0.120, num_iterations=150\n",
      " → Optimal Threshold: 0.8615\n",
      " → Recall: 0.6854, Specificity: 0.9997\n",
      "\n",
      "[LightGBM] [Warning] Unknown parameter: is_unbalanced\n",
      "[LightGBM] [Warning] Unknown parameter: is_unbalanced\n",
      "[LightGBM] [Info] Number of positive: 498, number of negative: 77699\n",
      "[LightGBM] [Info] Auto-choosing row-wise multi-threading, the overhead of testing was 0.014300 seconds.\n",
      "You can set `force_row_wise=true` to remove the overhead.\n",
      "And if memory is not enough, you can set `force_col_wise=true`.\n",
      "[LightGBM] [Info] Total Bins 406\n",
      "[LightGBM] [Info] Number of data points in the train set: 78197, number of used features: 33\n",
      "[LightGBM] [Info] [binary:BoostFromScore]: pavg=0.006369 -> initscore=-5.049998\n",
      "[LightGBM] [Info] Start training from score -5.049998\n"
     ]
    },
    {
     "name": "stderr",
     "output_type": "stream",
     "text": [
      "C:\\Users\\Neil\\AppData\\Roaming\\Python\\Python311\\site-packages\\lightgbm\\engine.py:204: UserWarning: Found `num_iterations` in params. Will use it instead of argument\n",
      "  _log_warning(f\"Found `{alias}` in params. Will use it instead of argument\")\n"
     ]
    },
    {
     "name": "stdout",
     "output_type": "stream",
     "text": [
      "[LightGBM] [Warning] Unknown parameter: is_unbalanced\n",
      "True Negatives (TN): 33288\n",
      "False Positives (FP): 13\n",
      "False Negatives (FN): 66\n",
      "True Positives (TP): 147\n",
      "Params: num_leaves=20, learning_rate=0.120, num_iterations=200\n",
      " → Optimal Threshold: 0.8224\n",
      " → Recall: 0.6901, Specificity: 0.9996\n",
      "\n",
      "[LightGBM] [Warning] Unknown parameter: is_unbalanced\n",
      "[LightGBM] [Warning] Unknown parameter: is_unbalanced\n",
      "[LightGBM] [Info] Number of positive: 498, number of negative: 77699\n",
      "[LightGBM] [Info] Auto-choosing row-wise multi-threading, the overhead of testing was 0.015519 seconds.\n",
      "You can set `force_row_wise=true` to remove the overhead.\n",
      "And if memory is not enough, you can set `force_col_wise=true`.\n",
      "[LightGBM] [Info] Total Bins 406\n",
      "[LightGBM] [Info] Number of data points in the train set: 78197, number of used features: 33\n",
      "[LightGBM] [Info] [binary:BoostFromScore]: pavg=0.006369 -> initscore=-5.049998\n",
      "[LightGBM] [Info] Start training from score -5.049998\n"
     ]
    },
    {
     "name": "stderr",
     "output_type": "stream",
     "text": [
      "C:\\Users\\Neil\\AppData\\Roaming\\Python\\Python311\\site-packages\\lightgbm\\engine.py:204: UserWarning: Found `num_iterations` in params. Will use it instead of argument\n",
      "  _log_warning(f\"Found `{alias}` in params. Will use it instead of argument\")\n"
     ]
    },
    {
     "name": "stdout",
     "output_type": "stream",
     "text": [
      "[LightGBM] [Warning] Unknown parameter: is_unbalanced\n",
      "True Negatives (TN): 33290\n",
      "False Positives (FP): 11\n",
      "False Negatives (FN): 67\n",
      "True Positives (TP): 146\n",
      "Params: num_leaves=20, learning_rate=0.150, num_iterations=50\n",
      " → Optimal Threshold: 0.9867\n",
      " → Recall: 0.6854, Specificity: 0.9997\n",
      "\n",
      "[LightGBM] [Warning] Unknown parameter: is_unbalanced\n"
     ]
    },
    {
     "name": "stderr",
     "output_type": "stream",
     "text": [
      "C:\\Users\\Neil\\AppData\\Roaming\\Python\\Python311\\site-packages\\lightgbm\\engine.py:204: UserWarning: Found `num_iterations` in params. Will use it instead of argument\n",
      "  _log_warning(f\"Found `{alias}` in params. Will use it instead of argument\")\n"
     ]
    },
    {
     "name": "stdout",
     "output_type": "stream",
     "text": [
      "[LightGBM] [Warning] Unknown parameter: is_unbalanced\n",
      "[LightGBM] [Info] Number of positive: 498, number of negative: 77699\n",
      "[LightGBM] [Info] Auto-choosing row-wise multi-threading, the overhead of testing was 0.015019 seconds.\n",
      "You can set `force_row_wise=true` to remove the overhead.\n",
      "And if memory is not enough, you can set `force_col_wise=true`.\n",
      "[LightGBM] [Info] Total Bins 406\n",
      "[LightGBM] [Info] Number of data points in the train set: 78197, number of used features: 33\n",
      "[LightGBM] [Info] [binary:BoostFromScore]: pavg=0.006369 -> initscore=-5.049998\n",
      "[LightGBM] [Info] Start training from score -5.049998\n",
      "[LightGBM] [Warning] Unknown parameter: is_unbalanced\n",
      "True Negatives (TN): 33278\n",
      "False Positives (FP): 23\n",
      "False Negatives (FN): 66\n",
      "True Positives (TP): 147\n",
      "Params: num_leaves=20, learning_rate=0.150, num_iterations=100\n",
      " → Optimal Threshold: 0.7512\n",
      " → Recall: 0.6901, Specificity: 0.9993\n",
      "\n",
      "[LightGBM] [Warning] Unknown parameter: is_unbalanced\n"
     ]
    },
    {
     "name": "stderr",
     "output_type": "stream",
     "text": [
      "C:\\Users\\Neil\\AppData\\Roaming\\Python\\Python311\\site-packages\\lightgbm\\engine.py:204: UserWarning: Found `num_iterations` in params. Will use it instead of argument\n",
      "  _log_warning(f\"Found `{alias}` in params. Will use it instead of argument\")\n"
     ]
    },
    {
     "name": "stdout",
     "output_type": "stream",
     "text": [
      "[LightGBM] [Warning] Unknown parameter: is_unbalanced\n",
      "[LightGBM] [Info] Number of positive: 498, number of negative: 77699\n",
      "[LightGBM] [Info] Auto-choosing row-wise multi-threading, the overhead of testing was 0.011955 seconds.\n",
      "You can set `force_row_wise=true` to remove the overhead.\n",
      "And if memory is not enough, you can set `force_col_wise=true`.\n",
      "[LightGBM] [Info] Total Bins 406\n",
      "[LightGBM] [Info] Number of data points in the train set: 78197, number of used features: 33\n",
      "[LightGBM] [Info] [binary:BoostFromScore]: pavg=0.006369 -> initscore=-5.049998\n",
      "[LightGBM] [Info] Start training from score -5.049998\n",
      "[LightGBM] [Warning] Unknown parameter: is_unbalanced\n",
      "True Negatives (TN): 33289\n",
      "False Positives (FP): 12\n",
      "False Negatives (FN): 68\n",
      "True Positives (TP): 145\n",
      "Params: num_leaves=20, learning_rate=0.150, num_iterations=150\n",
      " → Optimal Threshold: 1.0000\n",
      " → Recall: 0.6808, Specificity: 0.9996\n",
      "\n",
      "[LightGBM] [Warning] Unknown parameter: is_unbalanced\n"
     ]
    },
    {
     "name": "stderr",
     "output_type": "stream",
     "text": [
      "C:\\Users\\Neil\\AppData\\Roaming\\Python\\Python311\\site-packages\\lightgbm\\engine.py:204: UserWarning: Found `num_iterations` in params. Will use it instead of argument\n",
      "  _log_warning(f\"Found `{alias}` in params. Will use it instead of argument\")\n"
     ]
    },
    {
     "name": "stdout",
     "output_type": "stream",
     "text": [
      "[LightGBM] [Warning] Unknown parameter: is_unbalanced\n",
      "[LightGBM] [Info] Number of positive: 498, number of negative: 77699\n",
      "[LightGBM] [Info] Auto-choosing row-wise multi-threading, the overhead of testing was 0.012661 seconds.\n",
      "You can set `force_row_wise=true` to remove the overhead.\n",
      "And if memory is not enough, you can set `force_col_wise=true`.\n",
      "[LightGBM] [Info] Total Bins 406\n",
      "[LightGBM] [Info] Number of data points in the train set: 78197, number of used features: 33\n",
      "[LightGBM] [Info] [binary:BoostFromScore]: pavg=0.006369 -> initscore=-5.049998\n",
      "[LightGBM] [Info] Start training from score -5.049998\n",
      "[LightGBM] [Warning] Unknown parameter: is_unbalanced\n",
      "True Negatives (TN): 33281\n",
      "False Positives (FP): 20\n",
      "False Negatives (FN): 69\n",
      "True Positives (TP): 144\n",
      "Params: num_leaves=20, learning_rate=0.150, num_iterations=200\n",
      " → Optimal Threshold: 1.0000\n",
      " → Recall: 0.6761, Specificity: 0.9994\n",
      "\n",
      "[LightGBM] [Warning] Unknown parameter: is_unbalanced\n",
      "[LightGBM] [Warning] Unknown parameter: is_unbalanced\n",
      "[LightGBM] [Info] Number of positive: 498, number of negative: 77699\n"
     ]
    },
    {
     "name": "stderr",
     "output_type": "stream",
     "text": [
      "C:\\Users\\Neil\\AppData\\Roaming\\Python\\Python311\\site-packages\\lightgbm\\engine.py:204: UserWarning: Found `num_iterations` in params. Will use it instead of argument\n",
      "  _log_warning(f\"Found `{alias}` in params. Will use it instead of argument\")\n"
     ]
    },
    {
     "name": "stdout",
     "output_type": "stream",
     "text": [
      "[LightGBM] [Info] Auto-choosing row-wise multi-threading, the overhead of testing was 0.011368 seconds.\n",
      "You can set `force_row_wise=true` to remove the overhead.\n",
      "And if memory is not enough, you can set `force_col_wise=true`.\n",
      "[LightGBM] [Info] Total Bins 406\n",
      "[LightGBM] [Info] Number of data points in the train set: 78197, number of used features: 33\n",
      "[LightGBM] [Info] [binary:BoostFromScore]: pavg=0.006369 -> initscore=-5.049998\n",
      "[LightGBM] [Info] Start training from score -5.049998\n",
      "[LightGBM] [Warning] Unknown parameter: is_unbalanced\n",
      "True Negatives (TN): 33285\n",
      "False Positives (FP): 16\n",
      "False Negatives (FN): 46\n",
      "True Positives (TP): 167\n",
      "Params: num_leaves=40, learning_rate=0.030, num_iterations=50\n",
      " → Optimal Threshold: 0.2516\n",
      " → Recall: 0.7840, Specificity: 0.9995\n",
      "\n",
      "[LightGBM] [Warning] Unknown parameter: is_unbalanced\n"
     ]
    },
    {
     "name": "stderr",
     "output_type": "stream",
     "text": [
      "C:\\Users\\Neil\\AppData\\Roaming\\Python\\Python311\\site-packages\\lightgbm\\engine.py:204: UserWarning: Found `num_iterations` in params. Will use it instead of argument\n",
      "  _log_warning(f\"Found `{alias}` in params. Will use it instead of argument\")\n"
     ]
    },
    {
     "name": "stdout",
     "output_type": "stream",
     "text": [
      "[LightGBM] [Warning] Unknown parameter: is_unbalanced\n",
      "[LightGBM] [Info] Number of positive: 498, number of negative: 77699\n",
      "[LightGBM] [Info] Auto-choosing row-wise multi-threading, the overhead of testing was 0.016586 seconds.\n",
      "You can set `force_row_wise=true` to remove the overhead.\n",
      "And if memory is not enough, you can set `force_col_wise=true`.\n",
      "[LightGBM] [Info] Total Bins 406\n",
      "[LightGBM] [Info] Number of data points in the train set: 78197, number of used features: 33\n",
      "[LightGBM] [Info] [binary:BoostFromScore]: pavg=0.006369 -> initscore=-5.049998\n",
      "[LightGBM] [Info] Start training from score -5.049998\n",
      "[LightGBM] [Warning] Unknown parameter: is_unbalanced\n",
      "True Negatives (TN): 33285\n",
      "False Positives (FP): 16\n",
      "False Negatives (FN): 46\n",
      "True Positives (TP): 167\n",
      "Params: num_leaves=40, learning_rate=0.030, num_iterations=100\n",
      " → Optimal Threshold: 0.3209\n",
      " → Recall: 0.7840, Specificity: 0.9995\n",
      "\n",
      "[LightGBM] [Warning] Unknown parameter: is_unbalanced\n"
     ]
    },
    {
     "name": "stderr",
     "output_type": "stream",
     "text": [
      "C:\\Users\\Neil\\AppData\\Roaming\\Python\\Python311\\site-packages\\lightgbm\\engine.py:204: UserWarning: Found `num_iterations` in params. Will use it instead of argument\n",
      "  _log_warning(f\"Found `{alias}` in params. Will use it instead of argument\")\n"
     ]
    },
    {
     "name": "stdout",
     "output_type": "stream",
     "text": [
      "[LightGBM] [Warning] Unknown parameter: is_unbalanced\n",
      "[LightGBM] [Info] Number of positive: 498, number of negative: 77699\n",
      "[LightGBM] [Info] Auto-choosing row-wise multi-threading, the overhead of testing was 0.016906 seconds.\n",
      "You can set `force_row_wise=true` to remove the overhead.\n",
      "And if memory is not enough, you can set `force_col_wise=true`.\n",
      "[LightGBM] [Info] Total Bins 406\n",
      "[LightGBM] [Info] Number of data points in the train set: 78197, number of used features: 33\n",
      "[LightGBM] [Info] [binary:BoostFromScore]: pavg=0.006369 -> initscore=-5.049998\n",
      "[LightGBM] [Info] Start training from score -5.049998\n",
      "[LightGBM] [Warning] Unknown parameter: is_unbalanced\n",
      "True Negatives (TN): 33293\n",
      "False Positives (FP): 8\n",
      "False Negatives (FN): 54\n",
      "True Positives (TP): 159\n",
      "Params: num_leaves=40, learning_rate=0.030, num_iterations=150\n",
      " → Optimal Threshold: 0.4831\n",
      " → Recall: 0.7465, Specificity: 0.9998\n",
      "\n",
      "[LightGBM] [Warning] Unknown parameter: is_unbalanced\n",
      "[LightGBM] [Warning] Unknown parameter: is_unbalanced\n",
      "[LightGBM] [Info] Number of positive: 498, number of negative: 77699\n",
      "[LightGBM] [Info] Auto-choosing row-wise multi-threading, the overhead of testing was 0.014714 seconds.\n",
      "You can set `force_row_wise=true` to remove the overhead.\n",
      "And if memory is not enough, you can set `force_col_wise=true`.\n",
      "[LightGBM] [Info] Total Bins 406\n",
      "[LightGBM] [Info] Number of data points in the train set: 78197, number of used features: 33\n",
      "[LightGBM] [Info] [binary:BoostFromScore]: pavg=0.006369 -> initscore=-5.049998\n",
      "[LightGBM] [Info] Start training from score -5.049998\n"
     ]
    },
    {
     "name": "stderr",
     "output_type": "stream",
     "text": [
      "C:\\Users\\Neil\\AppData\\Roaming\\Python\\Python311\\site-packages\\lightgbm\\engine.py:204: UserWarning: Found `num_iterations` in params. Will use it instead of argument\n",
      "  _log_warning(f\"Found `{alias}` in params. Will use it instead of argument\")\n"
     ]
    },
    {
     "name": "stdout",
     "output_type": "stream",
     "text": [
      "[LightGBM] [Warning] Unknown parameter: is_unbalanced\n",
      "True Negatives (TN): 33289\n",
      "False Positives (FP): 12\n",
      "False Negatives (FN): 51\n",
      "True Positives (TP): 162\n",
      "Params: num_leaves=40, learning_rate=0.030, num_iterations=200\n",
      " → Optimal Threshold: 0.4468\n",
      " → Recall: 0.7606, Specificity: 0.9996\n",
      "\n",
      "[LightGBM] [Warning] Unknown parameter: is_unbalanced\n",
      "[LightGBM] [Warning] Unknown parameter: is_unbalanced\n",
      "[LightGBM] [Info] Number of positive: 498, number of negative: 77699\n",
      "[LightGBM] [Info] Auto-choosing row-wise multi-threading, the overhead of testing was 0.016438 seconds.\n",
      "You can set `force_row_wise=true` to remove the overhead.\n",
      "And if memory is not enough, you can set `force_col_wise=true`.\n",
      "[LightGBM] [Info] Total Bins 406\n",
      "[LightGBM] [Info] Number of data points in the train set: 78197, number of used features: 33\n",
      "[LightGBM] [Info] [binary:BoostFromScore]: pavg=0.006369 -> initscore=-5.049998\n",
      "[LightGBM] [Info] Start training from score -5.049998\n"
     ]
    },
    {
     "name": "stderr",
     "output_type": "stream",
     "text": [
      "C:\\Users\\Neil\\AppData\\Roaming\\Python\\Python311\\site-packages\\lightgbm\\engine.py:204: UserWarning: Found `num_iterations` in params. Will use it instead of argument\n",
      "  _log_warning(f\"Found `{alias}` in params. Will use it instead of argument\")\n"
     ]
    },
    {
     "name": "stdout",
     "output_type": "stream",
     "text": [
      "[LightGBM] [Warning] Unknown parameter: is_unbalanced\n",
      "True Negatives (TN): 33284\n",
      "False Positives (FP): 17\n",
      "False Negatives (FN): 47\n",
      "True Positives (TP): 166\n",
      "Params: num_leaves=40, learning_rate=0.060, num_iterations=50\n",
      " → Optimal Threshold: 0.3616\n",
      " → Recall: 0.7793, Specificity: 0.9995\n",
      "\n",
      "[LightGBM] [Warning] Unknown parameter: is_unbalanced\n"
     ]
    },
    {
     "name": "stderr",
     "output_type": "stream",
     "text": [
      "C:\\Users\\Neil\\AppData\\Roaming\\Python\\Python311\\site-packages\\lightgbm\\engine.py:204: UserWarning: Found `num_iterations` in params. Will use it instead of argument\n",
      "  _log_warning(f\"Found `{alias}` in params. Will use it instead of argument\")\n"
     ]
    },
    {
     "name": "stdout",
     "output_type": "stream",
     "text": [
      "[LightGBM] [Warning] Unknown parameter: is_unbalanced\n",
      "[LightGBM] [Info] Number of positive: 498, number of negative: 77699\n",
      "[LightGBM] [Info] Auto-choosing row-wise multi-threading, the overhead of testing was 0.017711 seconds.\n",
      "You can set `force_row_wise=true` to remove the overhead.\n",
      "And if memory is not enough, you can set `force_col_wise=true`.\n",
      "[LightGBM] [Info] Total Bins 406\n",
      "[LightGBM] [Info] Number of data points in the train set: 78197, number of used features: 33\n",
      "[LightGBM] [Info] [binary:BoostFromScore]: pavg=0.006369 -> initscore=-5.049998\n",
      "[LightGBM] [Info] Start training from score -5.049998\n",
      "[LightGBM] [Warning] Unknown parameter: is_unbalanced\n",
      "True Negatives (TN): 33282\n",
      "False Positives (FP): 19\n",
      "False Negatives (FN): 47\n",
      "True Positives (TP): 166\n",
      "Params: num_leaves=40, learning_rate=0.060, num_iterations=100\n",
      " → Optimal Threshold: 0.3441\n",
      " → Recall: 0.7793, Specificity: 0.9994\n",
      "\n",
      "[LightGBM] [Warning] Unknown parameter: is_unbalanced\n"
     ]
    },
    {
     "name": "stderr",
     "output_type": "stream",
     "text": [
      "C:\\Users\\Neil\\AppData\\Roaming\\Python\\Python311\\site-packages\\lightgbm\\engine.py:204: UserWarning: Found `num_iterations` in params. Will use it instead of argument\n",
      "  _log_warning(f\"Found `{alias}` in params. Will use it instead of argument\")\n"
     ]
    },
    {
     "name": "stdout",
     "output_type": "stream",
     "text": [
      "[LightGBM] [Warning] Unknown parameter: is_unbalanced\n",
      "[LightGBM] [Info] Number of positive: 498, number of negative: 77699\n",
      "[LightGBM] [Info] Auto-choosing row-wise multi-threading, the overhead of testing was 0.013964 seconds.\n",
      "You can set `force_row_wise=true` to remove the overhead.\n",
      "And if memory is not enough, you can set `force_col_wise=true`.\n",
      "[LightGBM] [Info] Total Bins 406\n",
      "[LightGBM] [Info] Number of data points in the train set: 78197, number of used features: 33\n",
      "[LightGBM] [Info] [binary:BoostFromScore]: pavg=0.006369 -> initscore=-5.049998\n",
      "[LightGBM] [Info] Start training from score -5.049998\n",
      "[LightGBM] [Warning] Unknown parameter: is_unbalanced\n",
      "True Negatives (TN): 33284\n",
      "False Positives (FP): 17\n",
      "False Negatives (FN): 48\n",
      "True Positives (TP): 165\n",
      "Params: num_leaves=40, learning_rate=0.060, num_iterations=150\n",
      " → Optimal Threshold: 0.3260\n",
      " → Recall: 0.7746, Specificity: 0.9995\n",
      "\n",
      "[LightGBM] [Warning] Unknown parameter: is_unbalanced\n",
      "[LightGBM] [Warning] Unknown parameter: is_unbalanced\n",
      "[LightGBM] [Info] Number of positive: 498, number of negative: 77699\n",
      "[LightGBM] [Info] Auto-choosing row-wise multi-threading, the overhead of testing was 0.013540 seconds.\n",
      "You can set `force_row_wise=true` to remove the overhead.\n",
      "And if memory is not enough, you can set `force_col_wise=true`.\n",
      "[LightGBM] [Info] Total Bins 406\n",
      "[LightGBM] [Info] Number of data points in the train set: 78197, number of used features: 33\n",
      "[LightGBM] [Info] [binary:BoostFromScore]: pavg=0.006369 -> initscore=-5.049998\n",
      "[LightGBM] [Info] Start training from score -5.049998\n"
     ]
    },
    {
     "name": "stderr",
     "output_type": "stream",
     "text": [
      "C:\\Users\\Neil\\AppData\\Roaming\\Python\\Python311\\site-packages\\lightgbm\\engine.py:204: UserWarning: Found `num_iterations` in params. Will use it instead of argument\n",
      "  _log_warning(f\"Found `{alias}` in params. Will use it instead of argument\")\n"
     ]
    },
    {
     "name": "stdout",
     "output_type": "stream",
     "text": [
      "[LightGBM] [Warning] Unknown parameter: is_unbalanced\n",
      "True Negatives (TN): 33288\n",
      "False Positives (FP): 13\n",
      "False Negatives (FN): 49\n",
      "True Positives (TP): 164\n",
      "Params: num_leaves=40, learning_rate=0.060, num_iterations=200\n",
      " → Optimal Threshold: 0.4337\n",
      " → Recall: 0.7700, Specificity: 0.9996\n",
      "\n",
      "[LightGBM] [Warning] Unknown parameter: is_unbalanced\n",
      "[LightGBM] [Warning] Unknown parameter: is_unbalanced\n",
      "[LightGBM] [Info] Number of positive: 498, number of negative: 77699\n",
      "[LightGBM] [Info] Auto-choosing row-wise multi-threading, the overhead of testing was 0.016347 seconds.\n",
      "You can set `force_row_wise=true` to remove the overhead.\n",
      "And if memory is not enough, you can set `force_col_wise=true`.\n",
      "[LightGBM] [Info] Total Bins 406\n",
      "[LightGBM] [Info] Number of data points in the train set: 78197, number of used features: 33\n",
      "[LightGBM] [Info] [binary:BoostFromScore]: pavg=0.006369 -> initscore=-5.049998\n",
      "[LightGBM] [Info] Start training from score -5.049998\n"
     ]
    },
    {
     "name": "stderr",
     "output_type": "stream",
     "text": [
      "C:\\Users\\Neil\\AppData\\Roaming\\Python\\Python311\\site-packages\\lightgbm\\engine.py:204: UserWarning: Found `num_iterations` in params. Will use it instead of argument\n",
      "  _log_warning(f\"Found `{alias}` in params. Will use it instead of argument\")\n"
     ]
    },
    {
     "name": "stdout",
     "output_type": "stream",
     "text": [
      "[LightGBM] [Warning] Unknown parameter: is_unbalanced\n",
      "True Negatives (TN): 33286\n",
      "False Positives (FP): 15\n",
      "False Negatives (FN): 48\n",
      "True Positives (TP): 165\n",
      "Params: num_leaves=40, learning_rate=0.090, num_iterations=50\n",
      " → Optimal Threshold: 0.4721\n",
      " → Recall: 0.7746, Specificity: 0.9995\n",
      "\n",
      "[LightGBM] [Warning] Unknown parameter: is_unbalanced\n"
     ]
    },
    {
     "name": "stderr",
     "output_type": "stream",
     "text": [
      "C:\\Users\\Neil\\AppData\\Roaming\\Python\\Python311\\site-packages\\lightgbm\\engine.py:204: UserWarning: Found `num_iterations` in params. Will use it instead of argument\n",
      "  _log_warning(f\"Found `{alias}` in params. Will use it instead of argument\")\n"
     ]
    },
    {
     "name": "stdout",
     "output_type": "stream",
     "text": [
      "[LightGBM] [Warning] Unknown parameter: is_unbalanced\n",
      "[LightGBM] [Info] Number of positive: 498, number of negative: 77699\n",
      "[LightGBM] [Info] Auto-choosing row-wise multi-threading, the overhead of testing was 0.016682 seconds.\n",
      "You can set `force_row_wise=true` to remove the overhead.\n",
      "And if memory is not enough, you can set `force_col_wise=true`.\n",
      "[LightGBM] [Info] Total Bins 406\n",
      "[LightGBM] [Info] Number of data points in the train set: 78197, number of used features: 33\n",
      "[LightGBM] [Info] [binary:BoostFromScore]: pavg=0.006369 -> initscore=-5.049998\n",
      "[LightGBM] [Info] Start training from score -5.049998\n",
      "[LightGBM] [Warning] Unknown parameter: is_unbalanced\n",
      "True Negatives (TN): 33280\n",
      "False Positives (FP): 21\n",
      "False Negatives (FN): 51\n",
      "True Positives (TP): 162\n",
      "Params: num_leaves=40, learning_rate=0.090, num_iterations=100\n",
      " → Optimal Threshold: 0.3402\n",
      " → Recall: 0.7606, Specificity: 0.9994\n",
      "\n",
      "[LightGBM] [Warning] Unknown parameter: is_unbalanced\n"
     ]
    },
    {
     "name": "stderr",
     "output_type": "stream",
     "text": [
      "C:\\Users\\Neil\\AppData\\Roaming\\Python\\Python311\\site-packages\\lightgbm\\engine.py:204: UserWarning: Found `num_iterations` in params. Will use it instead of argument\n",
      "  _log_warning(f\"Found `{alias}` in params. Will use it instead of argument\")\n"
     ]
    },
    {
     "name": "stdout",
     "output_type": "stream",
     "text": [
      "[LightGBM] [Warning] Unknown parameter: is_unbalanced\n",
      "[LightGBM] [Info] Number of positive: 498, number of negative: 77699\n",
      "[LightGBM] [Info] Auto-choosing row-wise multi-threading, the overhead of testing was 0.013005 seconds.\n",
      "You can set `force_row_wise=true` to remove the overhead.\n",
      "And if memory is not enough, you can set `force_col_wise=true`.\n",
      "[LightGBM] [Info] Total Bins 406\n",
      "[LightGBM] [Info] Number of data points in the train set: 78197, number of used features: 33\n",
      "[LightGBM] [Info] [binary:BoostFromScore]: pavg=0.006369 -> initscore=-5.049998\n",
      "[LightGBM] [Info] Start training from score -5.049998\n",
      "[LightGBM] [Warning] Unknown parameter: is_unbalanced\n",
      "True Negatives (TN): 33290\n",
      "False Positives (FP): 11\n",
      "False Negatives (FN): 53\n",
      "True Positives (TP): 160\n",
      "Params: num_leaves=40, learning_rate=0.090, num_iterations=150\n",
      " → Optimal Threshold: 0.6350\n",
      " → Recall: 0.7512, Specificity: 0.9997\n",
      "\n",
      "[LightGBM] [Warning] Unknown parameter: is_unbalanced\n",
      "[LightGBM] [Warning] Unknown parameter: is_unbalanced\n",
      "[LightGBM] [Info] Number of positive: 498, number of negative: 77699\n",
      "[LightGBM] [Info] Auto-choosing row-wise multi-threading, the overhead of testing was 0.011044 seconds.\n",
      "You can set `force_row_wise=true` to remove the overhead.\n",
      "And if memory is not enough, you can set `force_col_wise=true`.\n",
      "[LightGBM] [Info] Total Bins 406\n",
      "[LightGBM] [Info] Number of data points in the train set: 78197, number of used features: 33\n",
      "[LightGBM] [Info] [binary:BoostFromScore]: pavg=0.006369 -> initscore=-5.049998\n",
      "[LightGBM] [Info] Start training from score -5.049998\n"
     ]
    },
    {
     "name": "stderr",
     "output_type": "stream",
     "text": [
      "C:\\Users\\Neil\\AppData\\Roaming\\Python\\Python311\\site-packages\\lightgbm\\engine.py:204: UserWarning: Found `num_iterations` in params. Will use it instead of argument\n",
      "  _log_warning(f\"Found `{alias}` in params. Will use it instead of argument\")\n"
     ]
    },
    {
     "name": "stdout",
     "output_type": "stream",
     "text": [
      "[LightGBM] [Warning] Unknown parameter: is_unbalanced\n",
      "True Negatives (TN): 33286\n",
      "False Positives (FP): 15\n",
      "False Negatives (FN): 51\n",
      "True Positives (TP): 162\n",
      "Params: num_leaves=40, learning_rate=0.090, num_iterations=200\n",
      " → Optimal Threshold: 0.4632\n",
      " → Recall: 0.7606, Specificity: 0.9995\n",
      "\n",
      "[LightGBM] [Warning] Unknown parameter: is_unbalanced\n",
      "[LightGBM] [Warning] Unknown parameter: is_unbalanced\n",
      "[LightGBM] [Info] Number of positive: 498, number of negative: 77699\n",
      "[LightGBM] [Info] Auto-choosing row-wise multi-threading, the overhead of testing was 0.013134 seconds.\n",
      "You can set `force_row_wise=true` to remove the overhead.\n",
      "And if memory is not enough, you can set `force_col_wise=true`.\n",
      "[LightGBM] [Info] Total Bins 406\n",
      "[LightGBM] [Info] Number of data points in the train set: 78197, number of used features: 33\n",
      "[LightGBM] [Info] [binary:BoostFromScore]: pavg=0.006369 -> initscore=-5.049998\n",
      "[LightGBM] [Info] Start training from score -5.049998\n"
     ]
    },
    {
     "name": "stderr",
     "output_type": "stream",
     "text": [
      "C:\\Users\\Neil\\AppData\\Roaming\\Python\\Python311\\site-packages\\lightgbm\\engine.py:204: UserWarning: Found `num_iterations` in params. Will use it instead of argument\n",
      "  _log_warning(f\"Found `{alias}` in params. Will use it instead of argument\")\n"
     ]
    },
    {
     "name": "stdout",
     "output_type": "stream",
     "text": [
      "[LightGBM] [Warning] Unknown parameter: is_unbalanced\n",
      "True Negatives (TN): 33290\n",
      "False Positives (FP): 11\n",
      "False Negatives (FN): 64\n",
      "True Positives (TP): 149\n",
      "Params: num_leaves=40, learning_rate=0.120, num_iterations=50\n",
      " → Optimal Threshold: 0.9644\n",
      " → Recall: 0.6995, Specificity: 0.9997\n",
      "\n",
      "[LightGBM] [Warning] Unknown parameter: is_unbalanced\n"
     ]
    },
    {
     "name": "stderr",
     "output_type": "stream",
     "text": [
      "C:\\Users\\Neil\\AppData\\Roaming\\Python\\Python311\\site-packages\\lightgbm\\engine.py:204: UserWarning: Found `num_iterations` in params. Will use it instead of argument\n",
      "  _log_warning(f\"Found `{alias}` in params. Will use it instead of argument\")\n"
     ]
    },
    {
     "name": "stdout",
     "output_type": "stream",
     "text": [
      "[LightGBM] [Warning] Unknown parameter: is_unbalanced\n",
      "[LightGBM] [Info] Number of positive: 498, number of negative: 77699\n",
      "[LightGBM] [Info] Auto-choosing row-wise multi-threading, the overhead of testing was 0.010312 seconds.\n",
      "You can set `force_row_wise=true` to remove the overhead.\n",
      "And if memory is not enough, you can set `force_col_wise=true`.\n",
      "[LightGBM] [Info] Total Bins 406\n",
      "[LightGBM] [Info] Number of data points in the train set: 78197, number of used features: 33\n",
      "[LightGBM] [Info] [binary:BoostFromScore]: pavg=0.006369 -> initscore=-5.049998\n",
      "[LightGBM] [Info] Start training from score -5.049998\n",
      "[LightGBM] [Warning] Unknown parameter: is_unbalanced\n",
      "True Negatives (TN): 33286\n",
      "False Positives (FP): 15\n",
      "False Negatives (FN): 60\n",
      "True Positives (TP): 153\n",
      "Params: num_leaves=40, learning_rate=0.120, num_iterations=100\n",
      " → Optimal Threshold: 0.9997\n",
      " → Recall: 0.7183, Specificity: 0.9995\n",
      "\n",
      "[LightGBM] [Warning] Unknown parameter: is_unbalanced\n",
      "[LightGBM] [Warning] Unknown parameter: is_unbalanced\n",
      "[LightGBM] [Info] Number of positive: 498, number of negative: 77699\n"
     ]
    },
    {
     "name": "stderr",
     "output_type": "stream",
     "text": [
      "C:\\Users\\Neil\\AppData\\Roaming\\Python\\Python311\\site-packages\\lightgbm\\engine.py:204: UserWarning: Found `num_iterations` in params. Will use it instead of argument\n",
      "  _log_warning(f\"Found `{alias}` in params. Will use it instead of argument\")\n"
     ]
    },
    {
     "name": "stdout",
     "output_type": "stream",
     "text": [
      "[LightGBM] [Info] Auto-choosing row-wise multi-threading, the overhead of testing was 0.015693 seconds.\n",
      "You can set `force_row_wise=true` to remove the overhead.\n",
      "And if memory is not enough, you can set `force_col_wise=true`.\n",
      "[LightGBM] [Info] Total Bins 406\n",
      "[LightGBM] [Info] Number of data points in the train set: 78197, number of used features: 33\n",
      "[LightGBM] [Info] [binary:BoostFromScore]: pavg=0.006369 -> initscore=-5.049998\n",
      "[LightGBM] [Info] Start training from score -5.049998\n",
      "[LightGBM] [Warning] Unknown parameter: is_unbalanced\n",
      "True Negatives (TN): 33258\n",
      "False Positives (FP): 43\n",
      "False Negatives (FN): 76\n",
      "True Positives (TP): 137\n",
      "Params: num_leaves=40, learning_rate=0.120, num_iterations=150\n",
      " → Optimal Threshold: 1.0000\n",
      " → Recall: 0.6432, Specificity: 0.9987\n",
      "\n",
      "[LightGBM] [Warning] Unknown parameter: is_unbalanced\n",
      "[LightGBM] [Warning] Unknown parameter: is_unbalanced\n",
      "[LightGBM] [Info] Number of positive: 498, number of negative: 77699\n",
      "[LightGBM] [Info] Auto-choosing row-wise multi-threading, the overhead of testing was 0.015558 seconds.\n",
      "You can set `force_row_wise=true` to remove the overhead.\n",
      "And if memory is not enough, you can set `force_col_wise=true`.\n",
      "[LightGBM] [Info] Total Bins 406\n",
      "[LightGBM] [Info] Number of data points in the train set: 78197, number of used features: 33\n",
      "[LightGBM] [Info] [binary:BoostFromScore]: pavg=0.006369 -> initscore=-5.049998\n",
      "[LightGBM] [Info] Start training from score -5.049998\n"
     ]
    },
    {
     "name": "stderr",
     "output_type": "stream",
     "text": [
      "C:\\Users\\Neil\\AppData\\Roaming\\Python\\Python311\\site-packages\\lightgbm\\engine.py:204: UserWarning: Found `num_iterations` in params. Will use it instead of argument\n",
      "  _log_warning(f\"Found `{alias}` in params. Will use it instead of argument\")\n"
     ]
    },
    {
     "name": "stdout",
     "output_type": "stream",
     "text": [
      "[LightGBM] [Warning] Unknown parameter: is_unbalanced\n",
      "True Negatives (TN): 33274\n",
      "False Positives (FP): 27\n",
      "False Negatives (FN): 67\n",
      "True Positives (TP): 146\n",
      "Params: num_leaves=40, learning_rate=0.120, num_iterations=200\n",
      " → Optimal Threshold: 1.0000\n",
      " → Recall: 0.6854, Specificity: 0.9992\n",
      "\n",
      "[LightGBM] [Warning] Unknown parameter: is_unbalanced\n",
      "[LightGBM] [Warning] Unknown parameter: is_unbalanced\n",
      "[LightGBM] [Info] Number of positive: 498, number of negative: 77699\n",
      "[LightGBM] [Info] Auto-choosing row-wise multi-threading, the overhead of testing was 0.012137 seconds.\n",
      "You can set `force_row_wise=true` to remove the overhead.\n",
      "And if memory is not enough, you can set `force_col_wise=true`.\n",
      "[LightGBM] [Info] Total Bins 406\n",
      "[LightGBM] [Info] Number of data points in the train set: 78197, number of used features: 33\n",
      "[LightGBM] [Info] [binary:BoostFromScore]: pavg=0.006369 -> initscore=-5.049998\n",
      "[LightGBM] [Info] Start training from score -5.049998\n"
     ]
    },
    {
     "name": "stderr",
     "output_type": "stream",
     "text": [
      "C:\\Users\\Neil\\AppData\\Roaming\\Python\\Python311\\site-packages\\lightgbm\\engine.py:204: UserWarning: Found `num_iterations` in params. Will use it instead of argument\n",
      "  _log_warning(f\"Found `{alias}` in params. Will use it instead of argument\")\n"
     ]
    },
    {
     "name": "stdout",
     "output_type": "stream",
     "text": [
      "[LightGBM] [Warning] Unknown parameter: is_unbalanced\n",
      "True Negatives (TN): 33293\n",
      "False Positives (FP): 8\n",
      "False Negatives (FN): 59\n",
      "True Positives (TP): 154\n",
      "Params: num_leaves=40, learning_rate=0.150, num_iterations=50\n",
      " → Optimal Threshold: 0.9864\n",
      " → Recall: 0.7230, Specificity: 0.9998\n",
      "\n",
      "[LightGBM] [Warning] Unknown parameter: is_unbalanced\n"
     ]
    },
    {
     "name": "stderr",
     "output_type": "stream",
     "text": [
      "C:\\Users\\Neil\\AppData\\Roaming\\Python\\Python311\\site-packages\\lightgbm\\engine.py:204: UserWarning: Found `num_iterations` in params. Will use it instead of argument\n",
      "  _log_warning(f\"Found `{alias}` in params. Will use it instead of argument\")\n"
     ]
    },
    {
     "name": "stdout",
     "output_type": "stream",
     "text": [
      "[LightGBM] [Warning] Unknown parameter: is_unbalanced\n",
      "[LightGBM] [Info] Number of positive: 498, number of negative: 77699\n",
      "[LightGBM] [Info] Auto-choosing row-wise multi-threading, the overhead of testing was 0.014712 seconds.\n",
      "You can set `force_row_wise=true` to remove the overhead.\n",
      "And if memory is not enough, you can set `force_col_wise=true`.\n",
      "[LightGBM] [Info] Total Bins 406\n",
      "[LightGBM] [Info] Number of data points in the train set: 78197, number of used features: 33\n",
      "[LightGBM] [Info] [binary:BoostFromScore]: pavg=0.006369 -> initscore=-5.049998\n",
      "[LightGBM] [Info] Start training from score -5.049998\n",
      "[LightGBM] [Warning] Unknown parameter: is_unbalanced\n",
      "True Negatives (TN): 33282\n",
      "False Positives (FP): 19\n",
      "False Negatives (FN): 71\n",
      "True Positives (TP): 142\n",
      "Params: num_leaves=40, learning_rate=0.150, num_iterations=100\n",
      " → Optimal Threshold: 0.9864\n",
      " → Recall: 0.6667, Specificity: 0.9994\n",
      "\n",
      "[LightGBM] [Warning] Unknown parameter: is_unbalanced\n",
      "[LightGBM] [Warning] Unknown parameter: is_unbalanced\n",
      "[LightGBM] [Info] Number of positive: 498, number of negative: 77699\n"
     ]
    },
    {
     "name": "stderr",
     "output_type": "stream",
     "text": [
      "C:\\Users\\Neil\\AppData\\Roaming\\Python\\Python311\\site-packages\\lightgbm\\engine.py:204: UserWarning: Found `num_iterations` in params. Will use it instead of argument\n",
      "  _log_warning(f\"Found `{alias}` in params. Will use it instead of argument\")\n"
     ]
    },
    {
     "name": "stdout",
     "output_type": "stream",
     "text": [
      "[LightGBM] [Info] Auto-choosing row-wise multi-threading, the overhead of testing was 0.018265 seconds.\n",
      "You can set `force_row_wise=true` to remove the overhead.\n",
      "And if memory is not enough, you can set `force_col_wise=true`.\n",
      "[LightGBM] [Info] Total Bins 406\n",
      "[LightGBM] [Info] Number of data points in the train set: 78197, number of used features: 33\n",
      "[LightGBM] [Info] [binary:BoostFromScore]: pavg=0.006369 -> initscore=-5.049998\n",
      "[LightGBM] [Info] Start training from score -5.049998\n",
      "[LightGBM] [Warning] Unknown parameter: is_unbalanced\n",
      "True Negatives (TN): 33287\n",
      "False Positives (FP): 14\n",
      "False Negatives (FN): 64\n",
      "True Positives (TP): 149\n",
      "Params: num_leaves=40, learning_rate=0.150, num_iterations=150\n",
      " → Optimal Threshold: 0.9876\n",
      " → Recall: 0.6995, Specificity: 0.9996\n",
      "\n",
      "[LightGBM] [Warning] Unknown parameter: is_unbalanced\n",
      "[LightGBM] [Warning] Unknown parameter: is_unbalanced\n",
      "[LightGBM] [Info] Number of positive: 498, number of negative: 77699\n",
      "[LightGBM] [Info] Auto-choosing row-wise multi-threading, the overhead of testing was 0.016187 seconds.\n",
      "You can set `force_row_wise=true` to remove the overhead.\n",
      "And if memory is not enough, you can set `force_col_wise=true`.\n",
      "[LightGBM] [Info] Total Bins 406\n",
      "[LightGBM] [Info] Number of data points in the train set: 78197, number of used features: 33\n",
      "[LightGBM] [Info] [binary:BoostFromScore]: pavg=0.006369 -> initscore=-5.049998\n",
      "[LightGBM] [Info] Start training from score -5.049998\n"
     ]
    },
    {
     "name": "stderr",
     "output_type": "stream",
     "text": [
      "C:\\Users\\Neil\\AppData\\Roaming\\Python\\Python311\\site-packages\\lightgbm\\engine.py:204: UserWarning: Found `num_iterations` in params. Will use it instead of argument\n",
      "  _log_warning(f\"Found `{alias}` in params. Will use it instead of argument\")\n"
     ]
    },
    {
     "name": "stdout",
     "output_type": "stream",
     "text": [
      "[LightGBM] [Warning] Unknown parameter: is_unbalanced\n",
      "True Negatives (TN): 33244\n",
      "False Positives (FP): 57\n",
      "False Negatives (FN): 68\n",
      "True Positives (TP): 145\n",
      "Params: num_leaves=40, learning_rate=0.150, num_iterations=200\n",
      " → Optimal Threshold: 1.0000\n",
      " → Recall: 0.6808, Specificity: 0.9983\n",
      "\n",
      "[LightGBM] [Warning] Unknown parameter: is_unbalanced\n",
      "[LightGBM] [Warning] Unknown parameter: is_unbalanced\n",
      "[LightGBM] [Info] Number of positive: 498, number of negative: 77699\n"
     ]
    },
    {
     "name": "stderr",
     "output_type": "stream",
     "text": [
      "C:\\Users\\Neil\\AppData\\Roaming\\Python\\Python311\\site-packages\\lightgbm\\engine.py:204: UserWarning: Found `num_iterations` in params. Will use it instead of argument\n",
      "  _log_warning(f\"Found `{alias}` in params. Will use it instead of argument\")\n"
     ]
    },
    {
     "name": "stdout",
     "output_type": "stream",
     "text": [
      "[LightGBM] [Info] Auto-choosing row-wise multi-threading, the overhead of testing was 0.019295 seconds.\n",
      "You can set `force_row_wise=true` to remove the overhead.\n",
      "And if memory is not enough, you can set `force_col_wise=true`.\n",
      "[LightGBM] [Info] Total Bins 406\n",
      "[LightGBM] [Info] Number of data points in the train set: 78197, number of used features: 33\n",
      "[LightGBM] [Info] [binary:BoostFromScore]: pavg=0.006369 -> initscore=-5.049998\n",
      "[LightGBM] [Info] Start training from score -5.049998\n",
      "[LightGBM] [Warning] Unknown parameter: is_unbalanced\n",
      "True Negatives (TN): 33285\n",
      "False Positives (FP): 16\n",
      "False Negatives (FN): 48\n",
      "True Positives (TP): 165\n",
      "Params: num_leaves=60, learning_rate=0.030, num_iterations=50\n",
      " → Optimal Threshold: 0.3164\n",
      " → Recall: 0.7746, Specificity: 0.9995\n",
      "\n",
      "[LightGBM] [Warning] Unknown parameter: is_unbalanced\n"
     ]
    },
    {
     "name": "stderr",
     "output_type": "stream",
     "text": [
      "C:\\Users\\Neil\\AppData\\Roaming\\Python\\Python311\\site-packages\\lightgbm\\engine.py:204: UserWarning: Found `num_iterations` in params. Will use it instead of argument\n",
      "  _log_warning(f\"Found `{alias}` in params. Will use it instead of argument\")\n"
     ]
    },
    {
     "name": "stdout",
     "output_type": "stream",
     "text": [
      "[LightGBM] [Warning] Unknown parameter: is_unbalanced\n",
      "[LightGBM] [Info] Number of positive: 498, number of negative: 77699\n",
      "[LightGBM] [Info] Auto-choosing row-wise multi-threading, the overhead of testing was 0.012326 seconds.\n",
      "You can set `force_row_wise=true` to remove the overhead.\n",
      "And if memory is not enough, you can set `force_col_wise=true`.\n",
      "[LightGBM] [Info] Total Bins 406\n",
      "[LightGBM] [Info] Number of data points in the train set: 78197, number of used features: 33\n",
      "[LightGBM] [Info] [binary:BoostFromScore]: pavg=0.006369 -> initscore=-5.049998\n",
      "[LightGBM] [Info] Start training from score -5.049998\n",
      "[LightGBM] [Warning] Unknown parameter: is_unbalanced\n",
      "True Negatives (TN): 33290\n",
      "False Positives (FP): 11\n",
      "False Negatives (FN): 53\n",
      "True Positives (TP): 160\n",
      "Params: num_leaves=60, learning_rate=0.030, num_iterations=100\n",
      " → Optimal Threshold: 0.4553\n",
      " → Recall: 0.7512, Specificity: 0.9997\n",
      "\n",
      "[LightGBM] [Warning] Unknown parameter: is_unbalanced\n"
     ]
    },
    {
     "name": "stderr",
     "output_type": "stream",
     "text": [
      "C:\\Users\\Neil\\AppData\\Roaming\\Python\\Python311\\site-packages\\lightgbm\\engine.py:204: UserWarning: Found `num_iterations` in params. Will use it instead of argument\n",
      "  _log_warning(f\"Found `{alias}` in params. Will use it instead of argument\")\n"
     ]
    },
    {
     "name": "stdout",
     "output_type": "stream",
     "text": [
      "[LightGBM] [Warning] Unknown parameter: is_unbalanced\n",
      "[LightGBM] [Info] Number of positive: 498, number of negative: 77699\n",
      "[LightGBM] [Info] Auto-choosing row-wise multi-threading, the overhead of testing was 0.023983 seconds.\n",
      "You can set `force_row_wise=true` to remove the overhead.\n",
      "And if memory is not enough, you can set `force_col_wise=true`.\n",
      "[LightGBM] [Info] Total Bins 406\n",
      "[LightGBM] [Info] Number of data points in the train set: 78197, number of used features: 33\n",
      "[LightGBM] [Info] [binary:BoostFromScore]: pavg=0.006369 -> initscore=-5.049998\n",
      "[LightGBM] [Info] Start training from score -5.049998\n",
      "[LightGBM] [Warning] Unknown parameter: is_unbalanced\n",
      "True Negatives (TN): 33293\n",
      "False Positives (FP): 8\n",
      "False Negatives (FN): 54\n",
      "True Positives (TP): 159\n",
      "Params: num_leaves=60, learning_rate=0.030, num_iterations=150\n",
      " → Optimal Threshold: 0.4869\n",
      " → Recall: 0.7465, Specificity: 0.9998\n",
      "\n"
     ]
    },
    {
     "name": "stderr",
     "output_type": "stream",
     "text": [
      "C:\\Users\\Neil\\AppData\\Roaming\\Python\\Python311\\site-packages\\lightgbm\\engine.py:204: UserWarning: Found `num_iterations` in params. Will use it instead of argument\n",
      "  _log_warning(f\"Found `{alias}` in params. Will use it instead of argument\")\n"
     ]
    },
    {
     "name": "stdout",
     "output_type": "stream",
     "text": [
      "[LightGBM] [Warning] Unknown parameter: is_unbalanced\n",
      "[LightGBM] [Warning] Unknown parameter: is_unbalanced\n",
      "[LightGBM] [Info] Number of positive: 498, number of negative: 77699\n",
      "[LightGBM] [Info] Auto-choosing row-wise multi-threading, the overhead of testing was 0.012319 seconds.\n",
      "You can set `force_row_wise=true` to remove the overhead.\n",
      "And if memory is not enough, you can set `force_col_wise=true`.\n",
      "[LightGBM] [Info] Total Bins 406\n",
      "[LightGBM] [Info] Number of data points in the train set: 78197, number of used features: 33\n",
      "[LightGBM] [Info] [binary:BoostFromScore]: pavg=0.006369 -> initscore=-5.049998\n",
      "[LightGBM] [Info] Start training from score -5.049998\n",
      "[LightGBM] [Warning] Unknown parameter: is_unbalanced\n",
      "True Negatives (TN): 33290\n",
      "False Positives (FP): 11\n",
      "False Negatives (FN): 51\n",
      "True Positives (TP): 162\n",
      "Params: num_leaves=60, learning_rate=0.030, num_iterations=200\n",
      " → Optimal Threshold: 0.4557\n",
      " → Recall: 0.7606, Specificity: 0.9997\n",
      "\n",
      "[LightGBM] [Warning] Unknown parameter: is_unbalanced\n",
      "[LightGBM] [Warning] Unknown parameter: is_unbalanced\n",
      "[LightGBM] [Info] Number of positive: 498, number of negative: 77699\n",
      "[LightGBM] [Info] Auto-choosing row-wise multi-threading, the overhead of testing was 0.013088 seconds.\n",
      "You can set `force_row_wise=true` to remove the overhead.\n",
      "And if memory is not enough, you can set `force_col_wise=true`.\n",
      "[LightGBM] [Info] Total Bins 406\n",
      "[LightGBM] [Info] Number of data points in the train set: 78197, number of used features: 33\n"
     ]
    },
    {
     "name": "stderr",
     "output_type": "stream",
     "text": [
      "C:\\Users\\Neil\\AppData\\Roaming\\Python\\Python311\\site-packages\\lightgbm\\engine.py:204: UserWarning: Found `num_iterations` in params. Will use it instead of argument\n",
      "  _log_warning(f\"Found `{alias}` in params. Will use it instead of argument\")\n"
     ]
    },
    {
     "name": "stdout",
     "output_type": "stream",
     "text": [
      "[LightGBM] [Info] [binary:BoostFromScore]: pavg=0.006369 -> initscore=-5.049998\n",
      "[LightGBM] [Info] Start training from score -5.049998\n",
      "[LightGBM] [Warning] Unknown parameter: is_unbalanced\n",
      "True Negatives (TN): 33278\n",
      "False Positives (FP): 23\n",
      "False Negatives (FN): 43\n",
      "True Positives (TP): 170\n",
      "Params: num_leaves=60, learning_rate=0.060, num_iterations=50\n",
      " → Optimal Threshold: 0.3155\n",
      " → Recall: 0.7981, Specificity: 0.9993\n",
      "\n",
      "[LightGBM] [Warning] Unknown parameter: is_unbalanced\n"
     ]
    },
    {
     "name": "stderr",
     "output_type": "stream",
     "text": [
      "C:\\Users\\Neil\\AppData\\Roaming\\Python\\Python311\\site-packages\\lightgbm\\engine.py:204: UserWarning: Found `num_iterations` in params. Will use it instead of argument\n",
      "  _log_warning(f\"Found `{alias}` in params. Will use it instead of argument\")\n"
     ]
    },
    {
     "name": "stdout",
     "output_type": "stream",
     "text": [
      "[LightGBM] [Warning] Unknown parameter: is_unbalanced\n",
      "[LightGBM] [Info] Number of positive: 498, number of negative: 77699\n",
      "[LightGBM] [Info] Auto-choosing row-wise multi-threading, the overhead of testing was 0.014144 seconds.\n",
      "You can set `force_row_wise=true` to remove the overhead.\n",
      "And if memory is not enough, you can set `force_col_wise=true`.\n",
      "[LightGBM] [Info] Total Bins 406\n",
      "[LightGBM] [Info] Number of data points in the train set: 78197, number of used features: 33\n",
      "[LightGBM] [Info] [binary:BoostFromScore]: pavg=0.006369 -> initscore=-5.049998\n",
      "[LightGBM] [Info] Start training from score -5.049998\n",
      "[LightGBM] [Warning] Unknown parameter: is_unbalanced\n",
      "True Negatives (TN): 33284\n",
      "False Positives (FP): 17\n",
      "False Negatives (FN): 51\n",
      "True Positives (TP): 162\n",
      "Params: num_leaves=60, learning_rate=0.060, num_iterations=100\n",
      " → Optimal Threshold: 0.4339\n",
      " → Recall: 0.7606, Specificity: 0.9995\n",
      "\n",
      "[LightGBM] [Warning] Unknown parameter: is_unbalanced\n"
     ]
    },
    {
     "name": "stderr",
     "output_type": "stream",
     "text": [
      "C:\\Users\\Neil\\AppData\\Roaming\\Python\\Python311\\site-packages\\lightgbm\\engine.py:204: UserWarning: Found `num_iterations` in params. Will use it instead of argument\n",
      "  _log_warning(f\"Found `{alias}` in params. Will use it instead of argument\")\n"
     ]
    },
    {
     "name": "stdout",
     "output_type": "stream",
     "text": [
      "[LightGBM] [Warning] Unknown parameter: is_unbalanced\n",
      "[LightGBM] [Info] Number of positive: 498, number of negative: 77699\n",
      "[LightGBM] [Info] Auto-choosing row-wise multi-threading, the overhead of testing was 0.015883 seconds.\n",
      "You can set `force_row_wise=true` to remove the overhead.\n",
      "And if memory is not enough, you can set `force_col_wise=true`.\n",
      "[LightGBM] [Info] Total Bins 406\n",
      "[LightGBM] [Info] Number of data points in the train set: 78197, number of used features: 33\n",
      "[LightGBM] [Info] [binary:BoostFromScore]: pavg=0.006369 -> initscore=-5.049998\n",
      "[LightGBM] [Info] Start training from score -5.049998\n",
      "[LightGBM] [Warning] Unknown parameter: is_unbalanced\n",
      "True Negatives (TN): 33287\n",
      "False Positives (FP): 14\n",
      "False Negatives (FN): 53\n",
      "True Positives (TP): 160\n",
      "Params: num_leaves=60, learning_rate=0.060, num_iterations=150\n",
      " → Optimal Threshold: 0.4639\n",
      " → Recall: 0.7512, Specificity: 0.9996\n",
      "\n",
      "[LightGBM] [Warning] Unknown parameter: is_unbalanced\n",
      "[LightGBM] [Warning] Unknown parameter: is_unbalanced\n",
      "[LightGBM] [Info] Number of positive: 498, number of negative: 77699\n",
      "[LightGBM] [Info] Auto-choosing row-wise multi-threading, the overhead of testing was 0.013457 seconds.\n",
      "You can set `force_row_wise=true` to remove the overhead.\n",
      "And if memory is not enough, you can set `force_col_wise=true`.\n",
      "[LightGBM] [Info] Total Bins 406\n",
      "[LightGBM] [Info] Number of data points in the train set: 78197, number of used features: 33\n",
      "[LightGBM] [Info] [binary:BoostFromScore]: pavg=0.006369 -> initscore=-5.049998\n",
      "[LightGBM] [Info] Start training from score -5.049998\n"
     ]
    },
    {
     "name": "stderr",
     "output_type": "stream",
     "text": [
      "C:\\Users\\Neil\\AppData\\Roaming\\Python\\Python311\\site-packages\\lightgbm\\engine.py:204: UserWarning: Found `num_iterations` in params. Will use it instead of argument\n",
      "  _log_warning(f\"Found `{alias}` in params. Will use it instead of argument\")\n"
     ]
    },
    {
     "name": "stdout",
     "output_type": "stream",
     "text": [
      "[LightGBM] [Warning] Unknown parameter: is_unbalanced\n",
      "True Negatives (TN): 33287\n",
      "False Positives (FP): 14\n",
      "False Negatives (FN): 51\n",
      "True Positives (TP): 162\n",
      "Params: num_leaves=60, learning_rate=0.060, num_iterations=200\n",
      " → Optimal Threshold: 0.4113\n",
      " → Recall: 0.7606, Specificity: 0.9996\n",
      "\n",
      "[LightGBM] [Warning] Unknown parameter: is_unbalanced\n",
      "[LightGBM] [Warning] Unknown parameter: is_unbalanced\n",
      "[LightGBM] [Info] Number of positive: 498, number of negative: 77699\n",
      "[LightGBM] [Info] Auto-choosing row-wise multi-threading, the overhead of testing was 0.013195 seconds.\n",
      "You can set `force_row_wise=true` to remove the overhead.\n",
      "And if memory is not enough, you can set `force_col_wise=true`.\n",
      "[LightGBM] [Info] Total Bins 406\n",
      "[LightGBM] [Info] Number of data points in the train set: 78197, number of used features: 33\n",
      "[LightGBM] [Info] [binary:BoostFromScore]: pavg=0.006369 -> initscore=-5.049998\n",
      "[LightGBM] [Info] Start training from score -5.049998\n"
     ]
    },
    {
     "name": "stderr",
     "output_type": "stream",
     "text": [
      "C:\\Users\\Neil\\AppData\\Roaming\\Python\\Python311\\site-packages\\lightgbm\\engine.py:204: UserWarning: Found `num_iterations` in params. Will use it instead of argument\n",
      "  _log_warning(f\"Found `{alias}` in params. Will use it instead of argument\")\n"
     ]
    },
    {
     "name": "stdout",
     "output_type": "stream",
     "text": [
      "[LightGBM] [Warning] Unknown parameter: is_unbalanced\n",
      "True Negatives (TN): 33275\n",
      "False Positives (FP): 26\n",
      "False Negatives (FN): 46\n",
      "True Positives (TP): 167\n",
      "Params: num_leaves=60, learning_rate=0.090, num_iterations=50\n",
      " → Optimal Threshold: 0.3374\n",
      " → Recall: 0.7840, Specificity: 0.9992\n",
      "\n",
      "[LightGBM] [Warning] Unknown parameter: is_unbalanced\n"
     ]
    },
    {
     "name": "stderr",
     "output_type": "stream",
     "text": [
      "C:\\Users\\Neil\\AppData\\Roaming\\Python\\Python311\\site-packages\\lightgbm\\engine.py:204: UserWarning: Found `num_iterations` in params. Will use it instead of argument\n",
      "  _log_warning(f\"Found `{alias}` in params. Will use it instead of argument\")\n"
     ]
    },
    {
     "name": "stdout",
     "output_type": "stream",
     "text": [
      "[LightGBM] [Warning] Unknown parameter: is_unbalanced\n",
      "[LightGBM] [Info] Number of positive: 498, number of negative: 77699\n",
      "[LightGBM] [Info] Auto-choosing row-wise multi-threading, the overhead of testing was 0.015303 seconds.\n",
      "You can set `force_row_wise=true` to remove the overhead.\n",
      "And if memory is not enough, you can set `force_col_wise=true`.\n",
      "[LightGBM] [Info] Total Bins 406\n",
      "[LightGBM] [Info] Number of data points in the train set: 78197, number of used features: 33\n",
      "[LightGBM] [Info] [binary:BoostFromScore]: pavg=0.006369 -> initscore=-5.049998\n",
      "[LightGBM] [Info] Start training from score -5.049998\n",
      "[LightGBM] [Warning] Unknown parameter: is_unbalanced\n",
      "True Negatives (TN): 33284\n",
      "False Positives (FP): 17\n",
      "False Negatives (FN): 59\n",
      "True Positives (TP): 154\n",
      "Params: num_leaves=60, learning_rate=0.090, num_iterations=100\n",
      " → Optimal Threshold: 0.4578\n",
      " → Recall: 0.7230, Specificity: 0.9995\n",
      "\n",
      "[LightGBM] [Warning] Unknown parameter: is_unbalanced\n",
      "[LightGBM] [Warning] Unknown parameter: is_unbalanced\n",
      "[LightGBM] [Info] Number of positive: 498, number of negative: 77699\n"
     ]
    },
    {
     "name": "stderr",
     "output_type": "stream",
     "text": [
      "C:\\Users\\Neil\\AppData\\Roaming\\Python\\Python311\\site-packages\\lightgbm\\engine.py:204: UserWarning: Found `num_iterations` in params. Will use it instead of argument\n",
      "  _log_warning(f\"Found `{alias}` in params. Will use it instead of argument\")\n"
     ]
    },
    {
     "name": "stdout",
     "output_type": "stream",
     "text": [
      "[LightGBM] [Info] Auto-choosing row-wise multi-threading, the overhead of testing was 0.015231 seconds.\n",
      "You can set `force_row_wise=true` to remove the overhead.\n",
      "And if memory is not enough, you can set `force_col_wise=true`.\n",
      "[LightGBM] [Info] Total Bins 406\n",
      "[LightGBM] [Info] Number of data points in the train set: 78197, number of used features: 33\n",
      "[LightGBM] [Info] [binary:BoostFromScore]: pavg=0.006369 -> initscore=-5.049998\n",
      "[LightGBM] [Info] Start training from score -5.049998\n",
      "[LightGBM] [Warning] Unknown parameter: is_unbalanced\n",
      "True Negatives (TN): 33290\n",
      "False Positives (FP): 11\n",
      "False Negatives (FN): 65\n",
      "True Positives (TP): 148\n",
      "Params: num_leaves=60, learning_rate=0.090, num_iterations=150\n",
      " → Optimal Threshold: 0.7578\n",
      " → Recall: 0.6948, Specificity: 0.9997\n",
      "\n",
      "[LightGBM] [Warning] Unknown parameter: is_unbalanced\n",
      "[LightGBM] [Warning] Unknown parameter: is_unbalanced\n",
      "[LightGBM] [Info] Number of positive: 498, number of negative: 77699\n",
      "[LightGBM] [Info] Auto-choosing row-wise multi-threading, the overhead of testing was 0.012894 seconds.\n",
      "You can set `force_row_wise=true` to remove the overhead.\n",
      "And if memory is not enough, you can set `force_col_wise=true`.\n",
      "[LightGBM] [Info] Total Bins 406\n",
      "[LightGBM] [Info] Number of data points in the train set: 78197, number of used features: 33\n",
      "[LightGBM] [Info] [binary:BoostFromScore]: pavg=0.006369 -> initscore=-5.049998\n",
      "[LightGBM] [Info] Start training from score -5.049998\n"
     ]
    },
    {
     "name": "stderr",
     "output_type": "stream",
     "text": [
      "C:\\Users\\Neil\\AppData\\Roaming\\Python\\Python311\\site-packages\\lightgbm\\engine.py:204: UserWarning: Found `num_iterations` in params. Will use it instead of argument\n",
      "  _log_warning(f\"Found `{alias}` in params. Will use it instead of argument\")\n"
     ]
    },
    {
     "name": "stdout",
     "output_type": "stream",
     "text": [
      "[LightGBM] [Warning] Unknown parameter: is_unbalanced\n",
      "True Negatives (TN): 33285\n",
      "False Positives (FP): 16\n",
      "False Negatives (FN): 63\n",
      "True Positives (TP): 150\n",
      "Params: num_leaves=60, learning_rate=0.090, num_iterations=200\n",
      " → Optimal Threshold: 0.5867\n",
      " → Recall: 0.7042, Specificity: 0.9995\n",
      "\n",
      "[LightGBM] [Warning] Unknown parameter: is_unbalanced\n",
      "[LightGBM] [Warning] Unknown parameter: is_unbalanced\n",
      "[LightGBM] [Info] Number of positive: 498, number of negative: 77699\n",
      "[LightGBM] [Info] Auto-choosing row-wise multi-threading, the overhead of testing was 0.012142 seconds.\n",
      "You can set `force_row_wise=true` to remove the overhead.\n",
      "And if memory is not enough, you can set `force_col_wise=true`.\n",
      "[LightGBM] [Info] Total Bins 406\n",
      "[LightGBM] [Info] Number of data points in the train set: 78197, number of used features: 33\n",
      "[LightGBM] [Info] [binary:BoostFromScore]: pavg=0.006369 -> initscore=-5.049998\n",
      "[LightGBM] [Info] Start training from score -5.049998\n"
     ]
    },
    {
     "name": "stderr",
     "output_type": "stream",
     "text": [
      "C:\\Users\\Neil\\AppData\\Roaming\\Python\\Python311\\site-packages\\lightgbm\\engine.py:204: UserWarning: Found `num_iterations` in params. Will use it instead of argument\n",
      "  _log_warning(f\"Found `{alias}` in params. Will use it instead of argument\")\n"
     ]
    },
    {
     "name": "stdout",
     "output_type": "stream",
     "text": [
      "[LightGBM] [Warning] Unknown parameter: is_unbalanced\n",
      "True Negatives (TN): 33294\n",
      "False Positives (FP): 7\n",
      "False Negatives (FN): 63\n",
      "True Positives (TP): 150\n",
      "Params: num_leaves=60, learning_rate=0.120, num_iterations=50\n",
      " → Optimal Threshold: 0.8722\n",
      " → Recall: 0.7042, Specificity: 0.9998\n",
      "\n",
      "[LightGBM] [Warning] Unknown parameter: is_unbalanced\n",
      "[LightGBM] [Warning] Unknown parameter: is_unbalanced\n",
      "[LightGBM] [Info] Number of positive: 498, number of negative: 77699\n"
     ]
    },
    {
     "name": "stderr",
     "output_type": "stream",
     "text": [
      "C:\\Users\\Neil\\AppData\\Roaming\\Python\\Python311\\site-packages\\lightgbm\\engine.py:204: UserWarning: Found `num_iterations` in params. Will use it instead of argument\n",
      "  _log_warning(f\"Found `{alias}` in params. Will use it instead of argument\")\n"
     ]
    },
    {
     "name": "stdout",
     "output_type": "stream",
     "text": [
      "[LightGBM] [Info] Auto-choosing row-wise multi-threading, the overhead of testing was 0.011471 seconds.\n",
      "You can set `force_row_wise=true` to remove the overhead.\n",
      "And if memory is not enough, you can set `force_col_wise=true`.\n",
      "[LightGBM] [Info] Total Bins 406\n",
      "[LightGBM] [Info] Number of data points in the train set: 78197, number of used features: 33\n",
      "[LightGBM] [Info] [binary:BoostFromScore]: pavg=0.006369 -> initscore=-5.049998\n",
      "[LightGBM] [Info] Start training from score -5.049998\n",
      "[LightGBM] [Warning] Unknown parameter: is_unbalanced\n",
      "True Negatives (TN): 33291\n",
      "False Positives (FP): 10\n",
      "False Negatives (FN): 62\n",
      "True Positives (TP): 151\n",
      "Params: num_leaves=60, learning_rate=0.120, num_iterations=100\n",
      " → Optimal Threshold: 0.9524\n",
      " → Recall: 0.7089, Specificity: 0.9997\n",
      "\n",
      "[LightGBM] [Warning] Unknown parameter: is_unbalanced\n",
      "[LightGBM] [Warning] Unknown parameter: is_unbalanced\n",
      "[LightGBM] [Info] Number of positive: 498, number of negative: 77699\n",
      "[LightGBM] [Info] Auto-choosing row-wise multi-threading, the overhead of testing was 0.015534 seconds.\n",
      "You can set `force_row_wise=true` to remove the overhead.\n",
      "And if memory is not enough, you can set `force_col_wise=true`.\n",
      "[LightGBM] [Info] Total Bins 406\n",
      "[LightGBM] [Info] Number of data points in the train set: 78197, number of used features: 33\n",
      "[LightGBM] [Info] [binary:BoostFromScore]: pavg=0.006369 -> initscore=-5.049998\n",
      "[LightGBM] [Info] Start training from score -5.049998\n"
     ]
    },
    {
     "name": "stderr",
     "output_type": "stream",
     "text": [
      "C:\\Users\\Neil\\AppData\\Roaming\\Python\\Python311\\site-packages\\lightgbm\\engine.py:204: UserWarning: Found `num_iterations` in params. Will use it instead of argument\n",
      "  _log_warning(f\"Found `{alias}` in params. Will use it instead of argument\")\n"
     ]
    },
    {
     "name": "stdout",
     "output_type": "stream",
     "text": [
      "[LightGBM] [Warning] Unknown parameter: is_unbalanced\n",
      "True Negatives (TN): 33288\n",
      "False Positives (FP): 13\n",
      "False Negatives (FN): 60\n",
      "True Positives (TP): 153\n",
      "Params: num_leaves=60, learning_rate=0.120, num_iterations=150\n",
      " → Optimal Threshold: 0.9924\n",
      " → Recall: 0.7183, Specificity: 0.9996\n",
      "\n",
      "[LightGBM] [Warning] Unknown parameter: is_unbalanced\n",
      "[LightGBM] [Warning] Unknown parameter: is_unbalanced\n",
      "[LightGBM] [Info] Number of positive: 498, number of negative: 77699\n",
      "[LightGBM] [Info] Auto-choosing row-wise multi-threading, the overhead of testing was 0.017245 seconds.\n",
      "You can set `force_row_wise=true` to remove the overhead.\n",
      "And if memory is not enough, you can set `force_col_wise=true`.\n",
      "[LightGBM] [Info] Total Bins 406\n",
      "[LightGBM] [Info] Number of data points in the train set: 78197, number of used features: 33\n",
      "[LightGBM] [Info] [binary:BoostFromScore]: pavg=0.006369 -> initscore=-5.049998\n",
      "[LightGBM] [Info] Start training from score -5.049998\n"
     ]
    },
    {
     "name": "stderr",
     "output_type": "stream",
     "text": [
      "C:\\Users\\Neil\\AppData\\Roaming\\Python\\Python311\\site-packages\\lightgbm\\engine.py:204: UserWarning: Found `num_iterations` in params. Will use it instead of argument\n",
      "  _log_warning(f\"Found `{alias}` in params. Will use it instead of argument\")\n"
     ]
    },
    {
     "name": "stdout",
     "output_type": "stream",
     "text": [
      "[LightGBM] [Warning] Unknown parameter: is_unbalanced\n",
      "True Negatives (TN): 33281\n",
      "False Positives (FP): 20\n",
      "False Negatives (FN): 57\n",
      "True Positives (TP): 156\n",
      "Params: num_leaves=60, learning_rate=0.120, num_iterations=200\n",
      " → Optimal Threshold: 0.9500\n",
      " → Recall: 0.7324, Specificity: 0.9994\n",
      "\n",
      "[LightGBM] [Warning] Unknown parameter: is_unbalanced\n",
      "[LightGBM] [Warning] Unknown parameter: is_unbalanced\n",
      "[LightGBM] [Info] Number of positive: 498, number of negative: 77699\n",
      "[LightGBM] [Info] Auto-choosing row-wise multi-threading, the overhead of testing was 0.016006 seconds.\n",
      "You can set `force_row_wise=true` to remove the overhead.\n",
      "And if memory is not enough, you can set `force_col_wise=true`.\n",
      "[LightGBM] [Info] Total Bins 406\n",
      "[LightGBM] [Info] Number of data points in the train set: 78197, number of used features: 33\n",
      "[LightGBM] [Info] [binary:BoostFromScore]: pavg=0.006369 -> initscore=-5.049998\n",
      "[LightGBM] [Info] Start training from score -5.049998\n"
     ]
    },
    {
     "name": "stderr",
     "output_type": "stream",
     "text": [
      "C:\\Users\\Neil\\AppData\\Roaming\\Python\\Python311\\site-packages\\lightgbm\\engine.py:204: UserWarning: Found `num_iterations` in params. Will use it instead of argument\n",
      "  _log_warning(f\"Found `{alias}` in params. Will use it instead of argument\")\n"
     ]
    },
    {
     "name": "stdout",
     "output_type": "stream",
     "text": [
      "[LightGBM] [Warning] Unknown parameter: is_unbalanced\n",
      "True Negatives (TN): 33287\n",
      "False Positives (FP): 14\n",
      "False Negatives (FN): 61\n",
      "True Positives (TP): 152\n",
      "Params: num_leaves=60, learning_rate=0.150, num_iterations=50\n",
      " → Optimal Threshold: 0.8103\n",
      " → Recall: 0.7136, Specificity: 0.9996\n",
      "\n",
      "[LightGBM] [Warning] Unknown parameter: is_unbalanced\n"
     ]
    },
    {
     "name": "stderr",
     "output_type": "stream",
     "text": [
      "C:\\Users\\Neil\\AppData\\Roaming\\Python\\Python311\\site-packages\\lightgbm\\engine.py:204: UserWarning: Found `num_iterations` in params. Will use it instead of argument\n",
      "  _log_warning(f\"Found `{alias}` in params. Will use it instead of argument\")\n"
     ]
    },
    {
     "name": "stdout",
     "output_type": "stream",
     "text": [
      "[LightGBM] [Warning] Unknown parameter: is_unbalanced\n",
      "[LightGBM] [Info] Number of positive: 498, number of negative: 77699\n",
      "[LightGBM] [Info] Auto-choosing row-wise multi-threading, the overhead of testing was 0.020244 seconds.\n",
      "You can set `force_row_wise=true` to remove the overhead.\n",
      "And if memory is not enough, you can set `force_col_wise=true`.\n",
      "[LightGBM] [Info] Total Bins 406\n",
      "[LightGBM] [Info] Number of data points in the train set: 78197, number of used features: 33\n",
      "[LightGBM] [Info] [binary:BoostFromScore]: pavg=0.006369 -> initscore=-5.049998\n",
      "[LightGBM] [Info] Start training from score -5.049998\n",
      "[LightGBM] [Warning] Unknown parameter: is_unbalanced\n",
      "True Negatives (TN): 33286\n",
      "False Positives (FP): 15\n",
      "False Negatives (FN): 62\n",
      "True Positives (TP): 151\n",
      "Params: num_leaves=60, learning_rate=0.150, num_iterations=100\n",
      " → Optimal Threshold: 0.8783\n",
      " → Recall: 0.7089, Specificity: 0.9995\n",
      "\n",
      "[LightGBM] [Warning] Unknown parameter: is_unbalanced\n",
      "[LightGBM] [Warning] Unknown parameter: is_unbalanced\n",
      "[LightGBM] [Info] Number of positive: 498, number of negative: 77699\n",
      "[LightGBM] [Info] Auto-choosing row-wise multi-threading, the overhead of testing was 0.013587 seconds.\n",
      "You can set `force_row_wise=true` to remove the overhead.\n",
      "And if memory is not enough, you can set `force_col_wise=true`.\n",
      "[LightGBM] [Info] Total Bins 406\n",
      "[LightGBM] [Info] Number of data points in the train set: 78197, number of used features: 33\n",
      "[LightGBM] [Info] [binary:BoostFromScore]: pavg=0.006369 -> initscore=-5.049998\n",
      "[LightGBM] [Info] Start training from score -5.049998\n"
     ]
    },
    {
     "name": "stderr",
     "output_type": "stream",
     "text": [
      "C:\\Users\\Neil\\AppData\\Roaming\\Python\\Python311\\site-packages\\lightgbm\\engine.py:204: UserWarning: Found `num_iterations` in params. Will use it instead of argument\n",
      "  _log_warning(f\"Found `{alias}` in params. Will use it instead of argument\")\n"
     ]
    },
    {
     "name": "stdout",
     "output_type": "stream",
     "text": [
      "[LightGBM] [Warning] Unknown parameter: is_unbalanced\n",
      "True Negatives (TN): 33193\n",
      "False Positives (FP): 108\n",
      "False Negatives (FN): 61\n",
      "True Positives (TP): 152\n",
      "Params: num_leaves=60, learning_rate=0.150, num_iterations=150\n",
      " → Optimal Threshold: 0.9922\n",
      " → Recall: 0.7136, Specificity: 0.9968\n",
      "\n",
      "[LightGBM] [Warning] Unknown parameter: is_unbalanced\n",
      "[LightGBM] [Warning] Unknown parameter: is_unbalanced\n",
      "[LightGBM] [Info] Number of positive: 498, number of negative: 77699\n",
      "[LightGBM] [Info] Auto-choosing row-wise multi-threading, the overhead of testing was 0.017050 seconds.\n",
      "You can set `force_row_wise=true` to remove the overhead.\n",
      "And if memory is not enough, you can set `force_col_wise=true`.\n",
      "[LightGBM] [Info] Total Bins 406\n",
      "[LightGBM] [Info] Number of data points in the train set: 78197, number of used features: 33\n",
      "[LightGBM] [Info] [binary:BoostFromScore]: pavg=0.006369 -> initscore=-5.049998\n",
      "[LightGBM] [Info] Start training from score -5.049998\n"
     ]
    },
    {
     "name": "stderr",
     "output_type": "stream",
     "text": [
      "C:\\Users\\Neil\\AppData\\Roaming\\Python\\Python311\\site-packages\\lightgbm\\engine.py:204: UserWarning: Found `num_iterations` in params. Will use it instead of argument\n",
      "  _log_warning(f\"Found `{alias}` in params. Will use it instead of argument\")\n"
     ]
    },
    {
     "name": "stdout",
     "output_type": "stream",
     "text": [
      "[LightGBM] [Warning] Unknown parameter: is_unbalanced\n",
      "True Negatives (TN): 33227\n",
      "False Positives (FP): 74\n",
      "False Negatives (FN): 73\n",
      "True Positives (TP): 140\n",
      "Params: num_leaves=60, learning_rate=0.150, num_iterations=200\n",
      " → Optimal Threshold: 1.0000\n",
      " → Recall: 0.6573, Specificity: 0.9978\n",
      "\n",
      "[LightGBM] [Warning] Unknown parameter: is_unbalanced\n",
      "[LightGBM] [Warning] Unknown parameter: is_unbalanced\n",
      "[LightGBM] [Info] Number of positive: 498, number of negative: 77699\n",
      "[LightGBM] [Info] Auto-choosing row-wise multi-threading, the overhead of testing was 0.014116 seconds.\n",
      "You can set `force_row_wise=true` to remove the overhead.\n",
      "And if memory is not enough, you can set `force_col_wise=true`.\n",
      "[LightGBM] [Info] Total Bins 406\n",
      "[LightGBM] [Info] Number of data points in the train set: 78197, number of used features: 33\n",
      "[LightGBM] [Info] [binary:BoostFromScore]: pavg=0.006369 -> initscore=-5.049998\n",
      "[LightGBM] [Info] Start training from score -5.049998\n"
     ]
    },
    {
     "name": "stderr",
     "output_type": "stream",
     "text": [
      "C:\\Users\\Neil\\AppData\\Roaming\\Python\\Python311\\site-packages\\lightgbm\\engine.py:204: UserWarning: Found `num_iterations` in params. Will use it instead of argument\n",
      "  _log_warning(f\"Found `{alias}` in params. Will use it instead of argument\")\n"
     ]
    },
    {
     "name": "stdout",
     "output_type": "stream",
     "text": [
      "[LightGBM] [Warning] Unknown parameter: is_unbalanced\n",
      "True Negatives (TN): 33286\n",
      "False Positives (FP): 15\n",
      "False Negatives (FN): 48\n",
      "True Positives (TP): 165\n",
      "Params: num_leaves=80, learning_rate=0.030, num_iterations=50\n",
      " → Optimal Threshold: 0.3428\n",
      " → Recall: 0.7746, Specificity: 0.9995\n",
      "\n",
      "[LightGBM] [Warning] Unknown parameter: is_unbalanced\n"
     ]
    },
    {
     "name": "stderr",
     "output_type": "stream",
     "text": [
      "C:\\Users\\Neil\\AppData\\Roaming\\Python\\Python311\\site-packages\\lightgbm\\engine.py:204: UserWarning: Found `num_iterations` in params. Will use it instead of argument\n",
      "  _log_warning(f\"Found `{alias}` in params. Will use it instead of argument\")\n"
     ]
    },
    {
     "name": "stdout",
     "output_type": "stream",
     "text": [
      "[LightGBM] [Warning] Unknown parameter: is_unbalanced\n",
      "[LightGBM] [Info] Number of positive: 498, number of negative: 77699\n",
      "[LightGBM] [Info] Auto-choosing row-wise multi-threading, the overhead of testing was 0.016112 seconds.\n",
      "You can set `force_row_wise=true` to remove the overhead.\n",
      "And if memory is not enough, you can set `force_col_wise=true`.\n",
      "[LightGBM] [Info] Total Bins 406\n",
      "[LightGBM] [Info] Number of data points in the train set: 78197, number of used features: 33\n",
      "[LightGBM] [Info] [binary:BoostFromScore]: pavg=0.006369 -> initscore=-5.049998\n",
      "[LightGBM] [Info] Start training from score -5.049998\n",
      "[LightGBM] [Warning] Unknown parameter: is_unbalanced\n",
      "True Negatives (TN): 33290\n",
      "False Positives (FP): 11\n",
      "False Negatives (FN): 52\n",
      "True Positives (TP): 161\n",
      "Params: num_leaves=80, learning_rate=0.030, num_iterations=100\n",
      " → Optimal Threshold: 0.4761\n",
      " → Recall: 0.7559, Specificity: 0.9997\n",
      "\n"
     ]
    },
    {
     "name": "stderr",
     "output_type": "stream",
     "text": [
      "C:\\Users\\Neil\\AppData\\Roaming\\Python\\Python311\\site-packages\\lightgbm\\engine.py:204: UserWarning: Found `num_iterations` in params. Will use it instead of argument\n",
      "  _log_warning(f\"Found `{alias}` in params. Will use it instead of argument\")\n"
     ]
    },
    {
     "name": "stdout",
     "output_type": "stream",
     "text": [
      "[LightGBM] [Warning] Unknown parameter: is_unbalanced\n",
      "[LightGBM] [Warning] Unknown parameter: is_unbalanced\n",
      "[LightGBM] [Info] Number of positive: 498, number of negative: 77699\n",
      "[LightGBM] [Info] Auto-choosing row-wise multi-threading, the overhead of testing was 0.017194 seconds.\n",
      "You can set `force_row_wise=true` to remove the overhead.\n",
      "And if memory is not enough, you can set `force_col_wise=true`.\n",
      "[LightGBM] [Info] Total Bins 406\n",
      "[LightGBM] [Info] Number of data points in the train set: 78197, number of used features: 33\n",
      "[LightGBM] [Info] [binary:BoostFromScore]: pavg=0.006369 -> initscore=-5.049998\n",
      "[LightGBM] [Info] Start training from score -5.049998\n",
      "[LightGBM] [Warning] Unknown parameter: is_unbalanced\n",
      "True Negatives (TN): 33291\n",
      "False Positives (FP): 10\n",
      "False Negatives (FN): 49\n",
      "True Positives (TP): 164\n",
      "Params: num_leaves=80, learning_rate=0.030, num_iterations=150\n",
      " → Optimal Threshold: 0.4755\n",
      " → Recall: 0.7700, Specificity: 0.9997\n",
      "\n",
      "[LightGBM] [Warning] Unknown parameter: is_unbalanced\n",
      "[LightGBM] [Warning] Unknown parameter: is_unbalanced\n",
      "[LightGBM] [Info] Number of positive: 498, number of negative: 77699\n",
      "[LightGBM] [Info] Auto-choosing row-wise multi-threading, the overhead of testing was 0.016018 seconds.\n",
      "You can set `force_row_wise=true` to remove the overhead.\n",
      "And if memory is not enough, you can set `force_col_wise=true`.\n",
      "[LightGBM] [Info] Total Bins 406\n",
      "[LightGBM] [Info] Number of data points in the train set: 78197, number of used features: 33\n",
      "[LightGBM] [Info] [binary:BoostFromScore]: pavg=0.006369 -> initscore=-5.049998\n",
      "[LightGBM] [Info] Start training from score -5.049998\n"
     ]
    },
    {
     "name": "stderr",
     "output_type": "stream",
     "text": [
      "C:\\Users\\Neil\\AppData\\Roaming\\Python\\Python311\\site-packages\\lightgbm\\engine.py:204: UserWarning: Found `num_iterations` in params. Will use it instead of argument\n",
      "  _log_warning(f\"Found `{alias}` in params. Will use it instead of argument\")\n"
     ]
    },
    {
     "name": "stdout",
     "output_type": "stream",
     "text": [
      "[LightGBM] [Warning] Unknown parameter: is_unbalanced\n",
      "True Negatives (TN): 33291\n",
      "False Positives (FP): 10\n",
      "False Negatives (FN): 49\n",
      "True Positives (TP): 164\n",
      "Params: num_leaves=80, learning_rate=0.030, num_iterations=200\n",
      " → Optimal Threshold: 0.4768\n",
      " → Recall: 0.7700, Specificity: 0.9997\n",
      "\n",
      "[LightGBM] [Warning] Unknown parameter: is_unbalanced\n",
      "[LightGBM] [Warning] Unknown parameter: is_unbalanced\n",
      "[LightGBM] [Info] Number of positive: 498, number of negative: 77699\n",
      "[LightGBM] [Info] Auto-choosing row-wise multi-threading, the overhead of testing was 0.010503 seconds.\n",
      "You can set `force_row_wise=true` to remove the overhead.\n",
      "And if memory is not enough, you can set `force_col_wise=true`.\n",
      "[LightGBM] [Info] Total Bins 406\n",
      "[LightGBM] [Info] Number of data points in the train set: 78197, number of used features: 33\n",
      "[LightGBM] [Info] [binary:BoostFromScore]: pavg=0.006369 -> initscore=-5.049998\n",
      "[LightGBM] [Info] Start training from score -5.049998\n"
     ]
    },
    {
     "name": "stderr",
     "output_type": "stream",
     "text": [
      "C:\\Users\\Neil\\AppData\\Roaming\\Python\\Python311\\site-packages\\lightgbm\\engine.py:204: UserWarning: Found `num_iterations` in params. Will use it instead of argument\n",
      "  _log_warning(f\"Found `{alias}` in params. Will use it instead of argument\")\n"
     ]
    },
    {
     "name": "stdout",
     "output_type": "stream",
     "text": [
      "[LightGBM] [Warning] Unknown parameter: is_unbalanced\n",
      "True Negatives (TN): 33279\n",
      "False Positives (FP): 22\n",
      "False Negatives (FN): 45\n",
      "True Positives (TP): 168\n",
      "Params: num_leaves=80, learning_rate=0.060, num_iterations=50\n",
      " → Optimal Threshold: 0.2927\n",
      " → Recall: 0.7887, Specificity: 0.9993\n",
      "\n",
      "[LightGBM] [Warning] Unknown parameter: is_unbalanced\n"
     ]
    },
    {
     "name": "stderr",
     "output_type": "stream",
     "text": [
      "C:\\Users\\Neil\\AppData\\Roaming\\Python\\Python311\\site-packages\\lightgbm\\engine.py:204: UserWarning: Found `num_iterations` in params. Will use it instead of argument\n",
      "  _log_warning(f\"Found `{alias}` in params. Will use it instead of argument\")\n"
     ]
    },
    {
     "name": "stdout",
     "output_type": "stream",
     "text": [
      "[LightGBM] [Warning] Unknown parameter: is_unbalanced\n",
      "[LightGBM] [Info] Number of positive: 498, number of negative: 77699\n",
      "[LightGBM] [Info] Auto-choosing row-wise multi-threading, the overhead of testing was 0.013981 seconds.\n",
      "You can set `force_row_wise=true` to remove the overhead.\n",
      "And if memory is not enough, you can set `force_col_wise=true`.\n",
      "[LightGBM] [Info] Total Bins 406\n",
      "[LightGBM] [Info] Number of data points in the train set: 78197, number of used features: 33\n",
      "[LightGBM] [Info] [binary:BoostFromScore]: pavg=0.006369 -> initscore=-5.049998\n",
      "[LightGBM] [Info] Start training from score -5.049998\n",
      "[LightGBM] [Warning] Unknown parameter: is_unbalanced\n",
      "True Negatives (TN): 33278\n",
      "False Positives (FP): 23\n",
      "False Negatives (FN): 46\n",
      "True Positives (TP): 167\n",
      "Params: num_leaves=80, learning_rate=0.060, num_iterations=100\n",
      " → Optimal Threshold: 0.2989\n",
      " → Recall: 0.7840, Specificity: 0.9993\n",
      "\n"
     ]
    },
    {
     "name": "stderr",
     "output_type": "stream",
     "text": [
      "C:\\Users\\Neil\\AppData\\Roaming\\Python\\Python311\\site-packages\\lightgbm\\engine.py:204: UserWarning: Found `num_iterations` in params. Will use it instead of argument\n",
      "  _log_warning(f\"Found `{alias}` in params. Will use it instead of argument\")\n"
     ]
    },
    {
     "name": "stdout",
     "output_type": "stream",
     "text": [
      "[LightGBM] [Warning] Unknown parameter: is_unbalanced\n",
      "[LightGBM] [Warning] Unknown parameter: is_unbalanced\n",
      "[LightGBM] [Info] Number of positive: 498, number of negative: 77699\n",
      "[LightGBM] [Info] Auto-choosing row-wise multi-threading, the overhead of testing was 0.012885 seconds.\n",
      "You can set `force_row_wise=true` to remove the overhead.\n",
      "And if memory is not enough, you can set `force_col_wise=true`.\n",
      "[LightGBM] [Info] Total Bins 406\n",
      "[LightGBM] [Info] Number of data points in the train set: 78197, number of used features: 33\n",
      "[LightGBM] [Info] [binary:BoostFromScore]: pavg=0.006369 -> initscore=-5.049998\n",
      "[LightGBM] [Info] Start training from score -5.049998\n",
      "[LightGBM] [Warning] Unknown parameter: is_unbalanced\n",
      "True Negatives (TN): 33285\n",
      "False Positives (FP): 16\n",
      "False Negatives (FN): 51\n",
      "True Positives (TP): 162\n",
      "Params: num_leaves=80, learning_rate=0.060, num_iterations=150\n",
      " → Optimal Threshold: 0.4672\n",
      " → Recall: 0.7606, Specificity: 0.9995\n",
      "\n",
      "[LightGBM] [Warning] Unknown parameter: is_unbalanced\n",
      "[LightGBM] [Warning] Unknown parameter: is_unbalanced\n",
      "[LightGBM] [Info] Number of positive: 498, number of negative: 77699\n",
      "[LightGBM] [Info] Auto-choosing row-wise multi-threading, the overhead of testing was 0.015536 seconds.\n",
      "You can set `force_row_wise=true` to remove the overhead.\n",
      "And if memory is not enough, you can set `force_col_wise=true`.\n",
      "[LightGBM] [Info] Total Bins 406\n",
      "[LightGBM] [Info] Number of data points in the train set: 78197, number of used features: 33\n",
      "[LightGBM] [Info] [binary:BoostFromScore]: pavg=0.006369 -> initscore=-5.049998\n",
      "[LightGBM] [Info] Start training from score -5.049998\n"
     ]
    },
    {
     "name": "stderr",
     "output_type": "stream",
     "text": [
      "C:\\Users\\Neil\\AppData\\Roaming\\Python\\Python311\\site-packages\\lightgbm\\engine.py:204: UserWarning: Found `num_iterations` in params. Will use it instead of argument\n",
      "  _log_warning(f\"Found `{alias}` in params. Will use it instead of argument\")\n"
     ]
    },
    {
     "name": "stdout",
     "output_type": "stream",
     "text": [
      "[LightGBM] [Warning] Unknown parameter: is_unbalanced\n",
      "True Negatives (TN): 33288\n",
      "False Positives (FP): 13\n",
      "False Negatives (FN): 53\n",
      "True Positives (TP): 160\n",
      "Params: num_leaves=80, learning_rate=0.060, num_iterations=200\n",
      " → Optimal Threshold: 0.5239\n",
      " → Recall: 0.7512, Specificity: 0.9996\n",
      "\n",
      "[LightGBM] [Warning] Unknown parameter: is_unbalanced\n",
      "[LightGBM] [Warning] Unknown parameter: is_unbalanced\n",
      "[LightGBM] [Info] Number of positive: 498, number of negative: 77699\n",
      "[LightGBM] [Info] Auto-choosing row-wise multi-threading, the overhead of testing was 0.013744 seconds.\n",
      "You can set `force_row_wise=true` to remove the overhead.\n",
      "And if memory is not enough, you can set `force_col_wise=true`.\n",
      "[LightGBM] [Info] Total Bins 406\n",
      "[LightGBM] [Info] Number of data points in the train set: 78197, number of used features: 33\n",
      "[LightGBM] [Info] [binary:BoostFromScore]: pavg=0.006369 -> initscore=-5.049998\n",
      "[LightGBM] [Info] Start training from score -5.049998\n"
     ]
    },
    {
     "name": "stderr",
     "output_type": "stream",
     "text": [
      "C:\\Users\\Neil\\AppData\\Roaming\\Python\\Python311\\site-packages\\lightgbm\\engine.py:204: UserWarning: Found `num_iterations` in params. Will use it instead of argument\n",
      "  _log_warning(f\"Found `{alias}` in params. Will use it instead of argument\")\n"
     ]
    },
    {
     "name": "stdout",
     "output_type": "stream",
     "text": [
      "[LightGBM] [Warning] Unknown parameter: is_unbalanced\n",
      "True Negatives (TN): 33283\n",
      "False Positives (FP): 18\n",
      "False Negatives (FN): 54\n",
      "True Positives (TP): 159\n",
      "Params: num_leaves=80, learning_rate=0.090, num_iterations=50\n",
      " → Optimal Threshold: 0.4104\n",
      " → Recall: 0.7465, Specificity: 0.9995\n",
      "\n",
      "[LightGBM] [Warning] Unknown parameter: is_unbalanced\n"
     ]
    },
    {
     "name": "stderr",
     "output_type": "stream",
     "text": [
      "C:\\Users\\Neil\\AppData\\Roaming\\Python\\Python311\\site-packages\\lightgbm\\engine.py:204: UserWarning: Found `num_iterations` in params. Will use it instead of argument\n",
      "  _log_warning(f\"Found `{alias}` in params. Will use it instead of argument\")\n"
     ]
    },
    {
     "name": "stdout",
     "output_type": "stream",
     "text": [
      "[LightGBM] [Warning] Unknown parameter: is_unbalanced\n",
      "[LightGBM] [Info] Number of positive: 498, number of negative: 77699\n",
      "[LightGBM] [Info] Auto-choosing row-wise multi-threading, the overhead of testing was 0.014825 seconds.\n",
      "You can set `force_row_wise=true` to remove the overhead.\n",
      "And if memory is not enough, you can set `force_col_wise=true`.\n",
      "[LightGBM] [Info] Total Bins 406\n",
      "[LightGBM] [Info] Number of data points in the train set: 78197, number of used features: 33\n",
      "[LightGBM] [Info] [binary:BoostFromScore]: pavg=0.006369 -> initscore=-5.049998\n",
      "[LightGBM] [Info] Start training from score -5.049998\n",
      "[LightGBM] [Warning] Unknown parameter: is_unbalanced\n",
      "True Negatives (TN): 33281\n",
      "False Positives (FP): 20\n",
      "False Negatives (FN): 57\n",
      "True Positives (TP): 156\n",
      "Params: num_leaves=80, learning_rate=0.090, num_iterations=100\n",
      " → Optimal Threshold: 0.3801\n",
      " → Recall: 0.7324, Specificity: 0.9994\n",
      "\n",
      "[LightGBM] [Warning] Unknown parameter: is_unbalanced\n",
      "[LightGBM] [Warning] Unknown parameter: is_unbalanced\n",
      "[LightGBM] [Info] Number of positive: 498, number of negative: 77699\n",
      "[LightGBM] [Info] Auto-choosing row-wise multi-threading, the overhead of testing was 0.015062 seconds.\n",
      "You can set `force_row_wise=true` to remove the overhead.\n",
      "And if memory is not enough, you can set `force_col_wise=true`.\n",
      "[LightGBM] [Info] Total Bins 406\n",
      "[LightGBM] [Info] Number of data points in the train set: 78197, number of used features: 33\n",
      "[LightGBM] [Info] [binary:BoostFromScore]: pavg=0.006369 -> initscore=-5.049998\n",
      "[LightGBM] [Info] Start training from score -5.049998\n"
     ]
    },
    {
     "name": "stderr",
     "output_type": "stream",
     "text": [
      "C:\\Users\\Neil\\AppData\\Roaming\\Python\\Python311\\site-packages\\lightgbm\\engine.py:204: UserWarning: Found `num_iterations` in params. Will use it instead of argument\n",
      "  _log_warning(f\"Found `{alias}` in params. Will use it instead of argument\")\n"
     ]
    },
    {
     "name": "stdout",
     "output_type": "stream",
     "text": [
      "[LightGBM] [Warning] Unknown parameter: is_unbalanced\n",
      "True Negatives (TN): 33280\n",
      "False Positives (FP): 21\n",
      "False Negatives (FN): 54\n",
      "True Positives (TP): 159\n",
      "Params: num_leaves=80, learning_rate=0.090, num_iterations=150\n",
      " → Optimal Threshold: 0.3338\n",
      " → Recall: 0.7465, Specificity: 0.9994\n",
      "\n",
      "[LightGBM] [Warning] Unknown parameter: is_unbalanced\n",
      "[LightGBM] [Warning] Unknown parameter: is_unbalanced\n",
      "[LightGBM] [Info] Number of positive: 498, number of negative: 77699\n",
      "[LightGBM] [Info] Auto-choosing row-wise multi-threading, the overhead of testing was 0.015357 seconds.\n",
      "You can set `force_row_wise=true` to remove the overhead.\n",
      "And if memory is not enough, you can set `force_col_wise=true`.\n",
      "[LightGBM] [Info] Total Bins 406\n",
      "[LightGBM] [Info] Number of data points in the train set: 78197, number of used features: 33\n",
      "[LightGBM] [Info] [binary:BoostFromScore]: pavg=0.006369 -> initscore=-5.049998\n",
      "[LightGBM] [Info] Start training from score -5.049998\n"
     ]
    },
    {
     "name": "stderr",
     "output_type": "stream",
     "text": [
      "C:\\Users\\Neil\\AppData\\Roaming\\Python\\Python311\\site-packages\\lightgbm\\engine.py:204: UserWarning: Found `num_iterations` in params. Will use it instead of argument\n",
      "  _log_warning(f\"Found `{alias}` in params. Will use it instead of argument\")\n"
     ]
    },
    {
     "name": "stdout",
     "output_type": "stream",
     "text": [
      "[LightGBM] [Warning] Unknown parameter: is_unbalanced\n",
      "True Negatives (TN): 33283\n",
      "False Positives (FP): 18\n",
      "False Negatives (FN): 61\n",
      "True Positives (TP): 152\n",
      "Params: num_leaves=80, learning_rate=0.090, num_iterations=200\n",
      " → Optimal Threshold: 0.5116\n",
      " → Recall: 0.7136, Specificity: 0.9995\n",
      "\n",
      "[LightGBM] [Warning] Unknown parameter: is_unbalanced\n",
      "[LightGBM] [Warning] Unknown parameter: is_unbalanced\n",
      "[LightGBM] [Info] Number of positive: 498, number of negative: 77699\n",
      "[LightGBM] [Info] Auto-choosing row-wise multi-threading, the overhead of testing was 0.015418 seconds.\n",
      "You can set `force_row_wise=true` to remove the overhead.\n",
      "And if memory is not enough, you can set `force_col_wise=true`.\n",
      "[LightGBM] [Info] Total Bins 406\n",
      "[LightGBM] [Info] Number of data points in the train set: 78197, number of used features: 33\n",
      "[LightGBM] [Info] [binary:BoostFromScore]: pavg=0.006369 -> initscore=-5.049998\n",
      "[LightGBM] [Info] Start training from score -5.049998\n"
     ]
    },
    {
     "name": "stderr",
     "output_type": "stream",
     "text": [
      "C:\\Users\\Neil\\AppData\\Roaming\\Python\\Python311\\site-packages\\lightgbm\\engine.py:204: UserWarning: Found `num_iterations` in params. Will use it instead of argument\n",
      "  _log_warning(f\"Found `{alias}` in params. Will use it instead of argument\")\n"
     ]
    },
    {
     "name": "stdout",
     "output_type": "stream",
     "text": [
      "[LightGBM] [Warning] Unknown parameter: is_unbalanced\n",
      "True Negatives (TN): 33290\n",
      "False Positives (FP): 11\n",
      "False Negatives (FN): 59\n",
      "True Positives (TP): 154\n",
      "Params: num_leaves=80, learning_rate=0.120, num_iterations=50\n",
      " → Optimal Threshold: 0.7538\n",
      " → Recall: 0.7230, Specificity: 0.9997\n",
      "\n",
      "[LightGBM] [Warning] Unknown parameter: is_unbalanced\n"
     ]
    },
    {
     "name": "stderr",
     "output_type": "stream",
     "text": [
      "C:\\Users\\Neil\\AppData\\Roaming\\Python\\Python311\\site-packages\\lightgbm\\engine.py:204: UserWarning: Found `num_iterations` in params. Will use it instead of argument\n",
      "  _log_warning(f\"Found `{alias}` in params. Will use it instead of argument\")\n"
     ]
    },
    {
     "name": "stdout",
     "output_type": "stream",
     "text": [
      "[LightGBM] [Warning] Unknown parameter: is_unbalanced\n",
      "[LightGBM] [Info] Number of positive: 498, number of negative: 77699\n",
      "[LightGBM] [Info] Auto-choosing row-wise multi-threading, the overhead of testing was 0.016143 seconds.\n",
      "You can set `force_row_wise=true` to remove the overhead.\n",
      "And if memory is not enough, you can set `force_col_wise=true`.\n",
      "[LightGBM] [Info] Total Bins 406\n",
      "[LightGBM] [Info] Number of data points in the train set: 78197, number of used features: 33\n",
      "[LightGBM] [Info] [binary:BoostFromScore]: pavg=0.006369 -> initscore=-5.049998\n",
      "[LightGBM] [Info] Start training from score -5.049998\n",
      "[LightGBM] [Warning] Unknown parameter: is_unbalanced\n",
      "True Negatives (TN): 33283\n",
      "False Positives (FP): 18\n",
      "False Negatives (FN): 60\n",
      "True Positives (TP): 153\n",
      "Params: num_leaves=80, learning_rate=0.120, num_iterations=100\n",
      " → Optimal Threshold: 0.9729\n",
      " → Recall: 0.7183, Specificity: 0.9995\n",
      "\n",
      "[LightGBM] [Warning] Unknown parameter: is_unbalanced\n",
      "[LightGBM] [Warning] Unknown parameter: is_unbalanced\n",
      "[LightGBM] [Info] Number of positive: 498, number of negative: 77699\n",
      "[LightGBM] [Info] Auto-choosing row-wise multi-threading, the overhead of testing was 0.010364 seconds.\n",
      "You can set `force_row_wise=true` to remove the overhead.\n",
      "And if memory is not enough, you can set `force_col_wise=true`.\n",
      "[LightGBM] [Info] Total Bins 406\n",
      "[LightGBM] [Info] Number of data points in the train set: 78197, number of used features: 33\n",
      "[LightGBM] [Info] [binary:BoostFromScore]: pavg=0.006369 -> initscore=-5.049998\n",
      "[LightGBM] [Info] Start training from score -5.049998\n"
     ]
    },
    {
     "name": "stderr",
     "output_type": "stream",
     "text": [
      "C:\\Users\\Neil\\AppData\\Roaming\\Python\\Python311\\site-packages\\lightgbm\\engine.py:204: UserWarning: Found `num_iterations` in params. Will use it instead of argument\n",
      "  _log_warning(f\"Found `{alias}` in params. Will use it instead of argument\")\n"
     ]
    },
    {
     "name": "stdout",
     "output_type": "stream",
     "text": [
      "[LightGBM] [Warning] Unknown parameter: is_unbalanced\n",
      "True Negatives (TN): 33273\n",
      "False Positives (FP): 28\n",
      "False Negatives (FN): 70\n",
      "True Positives (TP): 143\n",
      "Params: num_leaves=80, learning_rate=0.120, num_iterations=150\n",
      " → Optimal Threshold: 1.0000\n",
      " → Recall: 0.6714, Specificity: 0.9992\n",
      "\n",
      "[LightGBM] [Warning] Unknown parameter: is_unbalanced\n",
      "[LightGBM] [Warning] Unknown parameter: is_unbalanced\n",
      "[LightGBM] [Info] Number of positive: 498, number of negative: 77699\n",
      "[LightGBM] [Info] Auto-choosing row-wise multi-threading, the overhead of testing was 0.012586 seconds.\n",
      "You can set `force_row_wise=true` to remove the overhead.\n",
      "And if memory is not enough, you can set `force_col_wise=true`.\n",
      "[LightGBM] [Info] Total Bins 406\n",
      "[LightGBM] [Info] Number of data points in the train set: 78197, number of used features: 33\n",
      "[LightGBM] [Info] [binary:BoostFromScore]: pavg=0.006369 -> initscore=-5.049998\n",
      "[LightGBM] [Info] Start training from score -5.049998\n"
     ]
    },
    {
     "name": "stderr",
     "output_type": "stream",
     "text": [
      "C:\\Users\\Neil\\AppData\\Roaming\\Python\\Python311\\site-packages\\lightgbm\\engine.py:204: UserWarning: Found `num_iterations` in params. Will use it instead of argument\n",
      "  _log_warning(f\"Found `{alias}` in params. Will use it instead of argument\")\n"
     ]
    },
    {
     "name": "stdout",
     "output_type": "stream",
     "text": [
      "[LightGBM] [Warning] Unknown parameter: is_unbalanced\n",
      "True Negatives (TN): 33269\n",
      "False Positives (FP): 32\n",
      "False Negatives (FN): 75\n",
      "True Positives (TP): 138\n",
      "Params: num_leaves=80, learning_rate=0.120, num_iterations=200\n",
      " → Optimal Threshold: 1.0000\n",
      " → Recall: 0.6479, Specificity: 0.9990\n",
      "\n",
      "[LightGBM] [Warning] Unknown parameter: is_unbalanced\n",
      "[LightGBM] [Warning] Unknown parameter: is_unbalanced\n",
      "[LightGBM] [Info] Number of positive: 498, number of negative: 77699\n",
      "[LightGBM] [Info] Auto-choosing row-wise multi-threading, the overhead of testing was 0.015802 seconds.\n",
      "You can set `force_row_wise=true` to remove the overhead.\n",
      "And if memory is not enough, you can set `force_col_wise=true`.\n",
      "[LightGBM] [Info] Total Bins 406\n",
      "[LightGBM] [Info] Number of data points in the train set: 78197, number of used features: 33\n",
      "[LightGBM] [Info] [binary:BoostFromScore]: pavg=0.006369 -> initscore=-5.049998\n",
      "[LightGBM] [Info] Start training from score -5.049998\n"
     ]
    },
    {
     "name": "stderr",
     "output_type": "stream",
     "text": [
      "C:\\Users\\Neil\\AppData\\Roaming\\Python\\Python311\\site-packages\\lightgbm\\engine.py:204: UserWarning: Found `num_iterations` in params. Will use it instead of argument\n",
      "  _log_warning(f\"Found `{alias}` in params. Will use it instead of argument\")\n"
     ]
    },
    {
     "name": "stdout",
     "output_type": "stream",
     "text": [
      "[LightGBM] [Warning] Unknown parameter: is_unbalanced\n",
      "True Negatives (TN): 33290\n",
      "False Positives (FP): 11\n",
      "False Negatives (FN): 64\n",
      "True Positives (TP): 149\n",
      "Params: num_leaves=80, learning_rate=0.150, num_iterations=50\n",
      " → Optimal Threshold: 0.8089\n",
      " → Recall: 0.6995, Specificity: 0.9997\n",
      "\n",
      "[LightGBM] [Warning] Unknown parameter: is_unbalanced\n"
     ]
    },
    {
     "name": "stderr",
     "output_type": "stream",
     "text": [
      "C:\\Users\\Neil\\AppData\\Roaming\\Python\\Python311\\site-packages\\lightgbm\\engine.py:204: UserWarning: Found `num_iterations` in params. Will use it instead of argument\n",
      "  _log_warning(f\"Found `{alias}` in params. Will use it instead of argument\")\n"
     ]
    },
    {
     "name": "stdout",
     "output_type": "stream",
     "text": [
      "[LightGBM] [Warning] Unknown parameter: is_unbalanced\n",
      "[LightGBM] [Info] Number of positive: 498, number of negative: 77699\n",
      "[LightGBM] [Info] Auto-choosing row-wise multi-threading, the overhead of testing was 0.015894 seconds.\n",
      "You can set `force_row_wise=true` to remove the overhead.\n",
      "And if memory is not enough, you can set `force_col_wise=true`.\n",
      "[LightGBM] [Info] Total Bins 406\n",
      "[LightGBM] [Info] Number of data points in the train set: 78197, number of used features: 33\n",
      "[LightGBM] [Info] [binary:BoostFromScore]: pavg=0.006369 -> initscore=-5.049998\n",
      "[LightGBM] [Info] Start training from score -5.049998\n",
      "[LightGBM] [Warning] Unknown parameter: is_unbalanced\n",
      "True Negatives (TN): 33283\n",
      "False Positives (FP): 18\n",
      "False Negatives (FN): 62\n",
      "True Positives (TP): 151\n",
      "Params: num_leaves=80, learning_rate=0.150, num_iterations=100\n",
      " → Optimal Threshold: 0.6126\n",
      " → Recall: 0.7089, Specificity: 0.9995\n",
      "\n",
      "[LightGBM] [Warning] Unknown parameter: is_unbalanced\n",
      "[LightGBM] [Warning] Unknown parameter: is_unbalanced\n",
      "[LightGBM] [Info] Number of positive: 498, number of negative: 77699\n",
      "[LightGBM] [Info] Auto-choosing row-wise multi-threading, the overhead of testing was 0.015656 seconds.\n",
      "You can set `force_row_wise=true` to remove the overhead.\n",
      "And if memory is not enough, you can set `force_col_wise=true`.\n",
      "[LightGBM] [Info] Total Bins 406\n",
      "[LightGBM] [Info] Number of data points in the train set: 78197, number of used features: 33\n",
      "[LightGBM] [Info] [binary:BoostFromScore]: pavg=0.006369 -> initscore=-5.049998\n",
      "[LightGBM] [Info] Start training from score -5.049998\n"
     ]
    },
    {
     "name": "stderr",
     "output_type": "stream",
     "text": [
      "C:\\Users\\Neil\\AppData\\Roaming\\Python\\Python311\\site-packages\\lightgbm\\engine.py:204: UserWarning: Found `num_iterations` in params. Will use it instead of argument\n",
      "  _log_warning(f\"Found `{alias}` in params. Will use it instead of argument\")\n"
     ]
    },
    {
     "name": "stdout",
     "output_type": "stream",
     "text": [
      "[LightGBM] [Warning] Unknown parameter: is_unbalanced\n",
      "True Negatives (TN): 33283\n",
      "False Positives (FP): 18\n",
      "False Negatives (FN): 64\n",
      "True Positives (TP): 149\n",
      "Params: num_leaves=80, learning_rate=0.150, num_iterations=150\n",
      " → Optimal Threshold: 0.9706\n",
      " → Recall: 0.6995, Specificity: 0.9995\n",
      "\n",
      "[LightGBM] [Warning] Unknown parameter: is_unbalanced\n",
      "[LightGBM] [Warning] Unknown parameter: is_unbalanced\n",
      "[LightGBM] [Info] Number of positive: 498, number of negative: 77699\n",
      "[LightGBM] [Info] Auto-choosing row-wise multi-threading, the overhead of testing was 0.013770 seconds.\n",
      "You can set `force_row_wise=true` to remove the overhead.\n",
      "And if memory is not enough, you can set `force_col_wise=true`.\n",
      "[LightGBM] [Info] Total Bins 406\n",
      "[LightGBM] [Info] Number of data points in the train set: 78197, number of used features: 33\n",
      "[LightGBM] [Info] [binary:BoostFromScore]: pavg=0.006369 -> initscore=-5.049998\n",
      "[LightGBM] [Info] Start training from score -5.049998\n"
     ]
    },
    {
     "name": "stderr",
     "output_type": "stream",
     "text": [
      "C:\\Users\\Neil\\AppData\\Roaming\\Python\\Python311\\site-packages\\lightgbm\\engine.py:204: UserWarning: Found `num_iterations` in params. Will use it instead of argument\n",
      "  _log_warning(f\"Found `{alias}` in params. Will use it instead of argument\")\n"
     ]
    },
    {
     "name": "stdout",
     "output_type": "stream",
     "text": [
      "[LightGBM] [Warning] Unknown parameter: is_unbalanced\n",
      "True Negatives (TN): 33150\n",
      "False Positives (FP): 151\n",
      "False Negatives (FN): 72\n",
      "True Positives (TP): 141\n",
      "Params: num_leaves=80, learning_rate=0.150, num_iterations=200\n",
      " → Optimal Threshold: 0.9968\n",
      " → Recall: 0.6620, Specificity: 0.9955\n",
      "\n",
      "[LightGBM] [Warning] Unknown parameter: is_unbalanced\n",
      "[LightGBM] [Warning] Unknown parameter: is_unbalanced\n",
      "[LightGBM] [Info] Number of positive: 498, number of negative: 77699\n",
      "[LightGBM] [Info] Auto-choosing row-wise multi-threading, the overhead of testing was 0.015076 seconds.\n",
      "You can set `force_row_wise=true` to remove the overhead.\n",
      "And if memory is not enough, you can set `force_col_wise=true`.\n",
      "[LightGBM] [Info] Total Bins 406\n",
      "[LightGBM] [Info] Number of data points in the train set: 78197, number of used features: 33\n",
      "[LightGBM] [Info] [binary:BoostFromScore]: pavg=0.006369 -> initscore=-5.049998\n",
      "[LightGBM] [Info] Start training from score -5.049998\n"
     ]
    },
    {
     "name": "stderr",
     "output_type": "stream",
     "text": [
      "C:\\Users\\Neil\\AppData\\Roaming\\Python\\Python311\\site-packages\\lightgbm\\engine.py:204: UserWarning: Found `num_iterations` in params. Will use it instead of argument\n",
      "  _log_warning(f\"Found `{alias}` in params. Will use it instead of argument\")\n"
     ]
    },
    {
     "name": "stdout",
     "output_type": "stream",
     "text": [
      "[LightGBM] [Warning] Unknown parameter: is_unbalanced\n",
      "True Negatives (TN): 33290\n",
      "False Positives (FP): 11\n",
      "False Negatives (FN): 51\n",
      "True Positives (TP): 162\n",
      "Params: num_leaves=100, learning_rate=0.030, num_iterations=50\n",
      " → Optimal Threshold: 0.4303\n",
      " → Recall: 0.7606, Specificity: 0.9997\n",
      "\n",
      "[LightGBM] [Warning] Unknown parameter: is_unbalanced\n"
     ]
    },
    {
     "name": "stderr",
     "output_type": "stream",
     "text": [
      "C:\\Users\\Neil\\AppData\\Roaming\\Python\\Python311\\site-packages\\lightgbm\\engine.py:204: UserWarning: Found `num_iterations` in params. Will use it instead of argument\n",
      "  _log_warning(f\"Found `{alias}` in params. Will use it instead of argument\")\n"
     ]
    },
    {
     "name": "stdout",
     "output_type": "stream",
     "text": [
      "[LightGBM] [Warning] Unknown parameter: is_unbalanced\n",
      "[LightGBM] [Info] Number of positive: 498, number of negative: 77699\n",
      "[LightGBM] [Info] Auto-choosing row-wise multi-threading, the overhead of testing was 0.011884 seconds.\n",
      "You can set `force_row_wise=true` to remove the overhead.\n",
      "And if memory is not enough, you can set `force_col_wise=true`.\n",
      "[LightGBM] [Info] Total Bins 406\n",
      "[LightGBM] [Info] Number of data points in the train set: 78197, number of used features: 33\n",
      "[LightGBM] [Info] [binary:BoostFromScore]: pavg=0.006369 -> initscore=-5.049998\n",
      "[LightGBM] [Info] Start training from score -5.049998\n",
      "[LightGBM] [Warning] Unknown parameter: is_unbalanced\n",
      "True Negatives (TN): 33286\n",
      "False Positives (FP): 15\n",
      "False Negatives (FN): 49\n",
      "True Positives (TP): 164\n",
      "Params: num_leaves=100, learning_rate=0.030, num_iterations=100\n",
      " → Optimal Threshold: 0.4547\n",
      " → Recall: 0.7700, Specificity: 0.9995\n",
      "\n"
     ]
    },
    {
     "name": "stderr",
     "output_type": "stream",
     "text": [
      "C:\\Users\\Neil\\AppData\\Roaming\\Python\\Python311\\site-packages\\lightgbm\\engine.py:204: UserWarning: Found `num_iterations` in params. Will use it instead of argument\n",
      "  _log_warning(f\"Found `{alias}` in params. Will use it instead of argument\")\n"
     ]
    },
    {
     "name": "stdout",
     "output_type": "stream",
     "text": [
      "[LightGBM] [Warning] Unknown parameter: is_unbalanced\n",
      "[LightGBM] [Warning] Unknown parameter: is_unbalanced\n",
      "[LightGBM] [Info] Number of positive: 498, number of negative: 77699\n",
      "[LightGBM] [Info] Auto-choosing row-wise multi-threading, the overhead of testing was 0.015162 seconds.\n",
      "You can set `force_row_wise=true` to remove the overhead.\n",
      "And if memory is not enough, you can set `force_col_wise=true`.\n",
      "[LightGBM] [Info] Total Bins 406\n",
      "[LightGBM] [Info] Number of data points in the train set: 78197, number of used features: 33\n",
      "[LightGBM] [Info] [binary:BoostFromScore]: pavg=0.006369 -> initscore=-5.049998\n",
      "[LightGBM] [Info] Start training from score -5.049998\n",
      "[LightGBM] [Warning] Unknown parameter: is_unbalanced\n",
      "True Negatives (TN): 33286\n",
      "False Positives (FP): 15\n",
      "False Negatives (FN): 49\n",
      "True Positives (TP): 164\n",
      "Params: num_leaves=100, learning_rate=0.030, num_iterations=150\n",
      " → Optimal Threshold: 0.4628\n",
      " → Recall: 0.7700, Specificity: 0.9995\n",
      "\n",
      "[LightGBM] [Warning] Unknown parameter: is_unbalanced\n",
      "[LightGBM] [Warning] Unknown parameter: is_unbalanced\n",
      "[LightGBM] [Info] Number of positive: 498, number of negative: 77699\n"
     ]
    },
    {
     "name": "stderr",
     "output_type": "stream",
     "text": [
      "C:\\Users\\Neil\\AppData\\Roaming\\Python\\Python311\\site-packages\\lightgbm\\engine.py:204: UserWarning: Found `num_iterations` in params. Will use it instead of argument\n",
      "  _log_warning(f\"Found `{alias}` in params. Will use it instead of argument\")\n"
     ]
    },
    {
     "name": "stdout",
     "output_type": "stream",
     "text": [
      "[LightGBM] [Info] Auto-choosing row-wise multi-threading, the overhead of testing was 0.015622 seconds.\n",
      "You can set `force_row_wise=true` to remove the overhead.\n",
      "And if memory is not enough, you can set `force_col_wise=true`.\n",
      "[LightGBM] [Info] Total Bins 406\n",
      "[LightGBM] [Info] Number of data points in the train set: 78197, number of used features: 33\n",
      "[LightGBM] [Info] [binary:BoostFromScore]: pavg=0.006369 -> initscore=-5.049998\n",
      "[LightGBM] [Info] Start training from score -5.049998\n",
      "[LightGBM] [Warning] Unknown parameter: is_unbalanced\n",
      "True Negatives (TN): 33290\n",
      "False Positives (FP): 11\n",
      "False Negatives (FN): 54\n",
      "True Positives (TP): 159\n",
      "Params: num_leaves=100, learning_rate=0.030, num_iterations=200\n",
      " → Optimal Threshold: 0.5271\n",
      " → Recall: 0.7465, Specificity: 0.9997\n",
      "\n",
      "[LightGBM] [Warning] Unknown parameter: is_unbalanced\n",
      "[LightGBM] [Warning] Unknown parameter: is_unbalanced\n",
      "[LightGBM] [Info] Number of positive: 498, number of negative: 77699\n",
      "[LightGBM] [Info] Auto-choosing row-wise multi-threading, the overhead of testing was 0.015277 seconds.\n",
      "You can set `force_row_wise=true` to remove the overhead.\n",
      "And if memory is not enough, you can set `force_col_wise=true`.\n",
      "[LightGBM] [Info] Total Bins 406\n",
      "[LightGBM] [Info] Number of data points in the train set: 78197, number of used features: 33\n",
      "[LightGBM] [Info] [binary:BoostFromScore]: pavg=0.006369 -> initscore=-5.049998\n",
      "[LightGBM] [Info] Start training from score -5.049998\n"
     ]
    },
    {
     "name": "stderr",
     "output_type": "stream",
     "text": [
      "C:\\Users\\Neil\\AppData\\Roaming\\Python\\Python311\\site-packages\\lightgbm\\engine.py:204: UserWarning: Found `num_iterations` in params. Will use it instead of argument\n",
      "  _log_warning(f\"Found `{alias}` in params. Will use it instead of argument\")\n"
     ]
    },
    {
     "name": "stdout",
     "output_type": "stream",
     "text": [
      "[LightGBM] [Warning] Unknown parameter: is_unbalanced\n",
      "True Negatives (TN): 33285\n",
      "False Positives (FP): 16\n",
      "False Negatives (FN): 51\n",
      "True Positives (TP): 162\n",
      "Params: num_leaves=100, learning_rate=0.060, num_iterations=50\n",
      " → Optimal Threshold: 0.4313\n",
      " → Recall: 0.7606, Specificity: 0.9995\n",
      "\n",
      "[LightGBM] [Warning] Unknown parameter: is_unbalanced\n"
     ]
    },
    {
     "name": "stderr",
     "output_type": "stream",
     "text": [
      "C:\\Users\\Neil\\AppData\\Roaming\\Python\\Python311\\site-packages\\lightgbm\\engine.py:204: UserWarning: Found `num_iterations` in params. Will use it instead of argument\n",
      "  _log_warning(f\"Found `{alias}` in params. Will use it instead of argument\")\n"
     ]
    },
    {
     "name": "stdout",
     "output_type": "stream",
     "text": [
      "[LightGBM] [Warning] Unknown parameter: is_unbalanced\n",
      "[LightGBM] [Info] Number of positive: 498, number of negative: 77699\n",
      "[LightGBM] [Info] Auto-choosing row-wise multi-threading, the overhead of testing was 0.013636 seconds.\n",
      "You can set `force_row_wise=true` to remove the overhead.\n",
      "And if memory is not enough, you can set `force_col_wise=true`.\n",
      "[LightGBM] [Info] Total Bins 406\n",
      "[LightGBM] [Info] Number of data points in the train set: 78197, number of used features: 33\n",
      "[LightGBM] [Info] [binary:BoostFromScore]: pavg=0.006369 -> initscore=-5.049998\n",
      "[LightGBM] [Info] Start training from score -5.049998\n",
      "[LightGBM] [Warning] Unknown parameter: is_unbalanced\n",
      "True Negatives (TN): 33283\n",
      "False Positives (FP): 18\n",
      "False Negatives (FN): 53\n",
      "True Positives (TP): 160\n",
      "Params: num_leaves=100, learning_rate=0.060, num_iterations=100\n",
      " → Optimal Threshold: 0.4812\n",
      " → Recall: 0.7512, Specificity: 0.9995\n",
      "\n",
      "[LightGBM] [Warning] Unknown parameter: is_unbalanced\n",
      "[LightGBM] [Warning] Unknown parameter: is_unbalanced\n",
      "[LightGBM] [Info] Number of positive: 498, number of negative: 77699\n"
     ]
    },
    {
     "name": "stderr",
     "output_type": "stream",
     "text": [
      "C:\\Users\\Neil\\AppData\\Roaming\\Python\\Python311\\site-packages\\lightgbm\\engine.py:204: UserWarning: Found `num_iterations` in params. Will use it instead of argument\n",
      "  _log_warning(f\"Found `{alias}` in params. Will use it instead of argument\")\n"
     ]
    },
    {
     "name": "stdout",
     "output_type": "stream",
     "text": [
      "[LightGBM] [Info] Auto-choosing row-wise multi-threading, the overhead of testing was 0.017005 seconds.\n",
      "You can set `force_row_wise=true` to remove the overhead.\n",
      "And if memory is not enough, you can set `force_col_wise=true`.\n",
      "[LightGBM] [Info] Total Bins 406\n",
      "[LightGBM] [Info] Number of data points in the train set: 78197, number of used features: 33\n",
      "[LightGBM] [Info] [binary:BoostFromScore]: pavg=0.006369 -> initscore=-5.049998\n",
      "[LightGBM] [Info] Start training from score -5.049998\n",
      "[LightGBM] [Warning] Unknown parameter: is_unbalanced\n",
      "True Negatives (TN): 33285\n",
      "False Positives (FP): 16\n",
      "False Negatives (FN): 54\n",
      "True Positives (TP): 159\n",
      "Params: num_leaves=100, learning_rate=0.060, num_iterations=150\n",
      " → Optimal Threshold: 0.5214\n",
      " → Recall: 0.7465, Specificity: 0.9995\n",
      "\n",
      "[LightGBM] [Warning] Unknown parameter: is_unbalanced\n",
      "[LightGBM] [Warning] Unknown parameter: is_unbalanced\n",
      "[LightGBM] [Info] Number of positive: 498, number of negative: 77699\n",
      "[LightGBM] [Info] Auto-choosing row-wise multi-threading, the overhead of testing was 0.013674 seconds.\n",
      "You can set `force_row_wise=true` to remove the overhead.\n",
      "And if memory is not enough, you can set `force_col_wise=true`.\n",
      "[LightGBM] [Info] Total Bins 406\n",
      "[LightGBM] [Info] Number of data points in the train set: 78197, number of used features: 33\n",
      "[LightGBM] [Info] [binary:BoostFromScore]: pavg=0.006369 -> initscore=-5.049998\n",
      "[LightGBM] [Info] Start training from score -5.049998\n"
     ]
    },
    {
     "name": "stderr",
     "output_type": "stream",
     "text": [
      "C:\\Users\\Neil\\AppData\\Roaming\\Python\\Python311\\site-packages\\lightgbm\\engine.py:204: UserWarning: Found `num_iterations` in params. Will use it instead of argument\n",
      "  _log_warning(f\"Found `{alias}` in params. Will use it instead of argument\")\n"
     ]
    },
    {
     "name": "stdout",
     "output_type": "stream",
     "text": [
      "[LightGBM] [Warning] Unknown parameter: is_unbalanced\n",
      "True Negatives (TN): 33287\n",
      "False Positives (FP): 14\n",
      "False Negatives (FN): 55\n",
      "True Positives (TP): 158\n",
      "Params: num_leaves=100, learning_rate=0.060, num_iterations=200\n",
      " → Optimal Threshold: 0.5211\n",
      " → Recall: 0.7418, Specificity: 0.9996\n",
      "\n",
      "[LightGBM] [Warning] Unknown parameter: is_unbalanced\n",
      "[LightGBM] [Warning] Unknown parameter: is_unbalanced\n",
      "[LightGBM] [Info] Number of positive: 498, number of negative: 77699\n",
      "[LightGBM] [Info] Auto-choosing row-wise multi-threading, the overhead of testing was 0.013051 seconds.\n",
      "You can set `force_row_wise=true` to remove the overhead.\n",
      "And if memory is not enough, you can set `force_col_wise=true`.\n",
      "[LightGBM] [Info] Total Bins 406\n",
      "[LightGBM] [Info] Number of data points in the train set: 78197, number of used features: 33\n",
      "[LightGBM] [Info] [binary:BoostFromScore]: pavg=0.006369 -> initscore=-5.049998\n",
      "[LightGBM] [Info] Start training from score -5.049998\n"
     ]
    },
    {
     "name": "stderr",
     "output_type": "stream",
     "text": [
      "C:\\Users\\Neil\\AppData\\Roaming\\Python\\Python311\\site-packages\\lightgbm\\engine.py:204: UserWarning: Found `num_iterations` in params. Will use it instead of argument\n",
      "  _log_warning(f\"Found `{alias}` in params. Will use it instead of argument\")\n"
     ]
    },
    {
     "name": "stdout",
     "output_type": "stream",
     "text": [
      "[LightGBM] [Warning] Unknown parameter: is_unbalanced\n",
      "True Negatives (TN): 33290\n",
      "False Positives (FP): 11\n",
      "False Negatives (FN): 60\n",
      "True Positives (TP): 153\n",
      "Params: num_leaves=100, learning_rate=0.090, num_iterations=50\n",
      " → Optimal Threshold: 0.7372\n",
      " → Recall: 0.7183, Specificity: 0.9997\n",
      "\n",
      "[LightGBM] [Warning] Unknown parameter: is_unbalanced\n"
     ]
    },
    {
     "name": "stderr",
     "output_type": "stream",
     "text": [
      "C:\\Users\\Neil\\AppData\\Roaming\\Python\\Python311\\site-packages\\lightgbm\\engine.py:204: UserWarning: Found `num_iterations` in params. Will use it instead of argument\n",
      "  _log_warning(f\"Found `{alias}` in params. Will use it instead of argument\")\n"
     ]
    },
    {
     "name": "stdout",
     "output_type": "stream",
     "text": [
      "[LightGBM] [Warning] Unknown parameter: is_unbalanced\n",
      "[LightGBM] [Info] Number of positive: 498, number of negative: 77699\n",
      "[LightGBM] [Info] Auto-choosing row-wise multi-threading, the overhead of testing was 0.027619 seconds.\n",
      "You can set `force_row_wise=true` to remove the overhead.\n",
      "And if memory is not enough, you can set `force_col_wise=true`.\n",
      "[LightGBM] [Info] Total Bins 406\n",
      "[LightGBM] [Info] Number of data points in the train set: 78197, number of used features: 33\n",
      "[LightGBM] [Info] [binary:BoostFromScore]: pavg=0.006369 -> initscore=-5.049998\n",
      "[LightGBM] [Info] Start training from score -5.049998\n",
      "[LightGBM] [Warning] Unknown parameter: is_unbalanced\n",
      "True Negatives (TN): 33286\n",
      "False Positives (FP): 15\n",
      "False Negatives (FN): 58\n",
      "True Positives (TP): 155\n",
      "Params: num_leaves=100, learning_rate=0.090, num_iterations=100\n",
      " → Optimal Threshold: 0.5411\n",
      " → Recall: 0.7277, Specificity: 0.9995\n",
      "\n",
      "[LightGBM] [Warning] Unknown parameter: is_unbalanced\n",
      "[LightGBM] [Warning] Unknown parameter: is_unbalanced\n",
      "[LightGBM] [Info] Number of positive: 498, number of negative: 77699\n",
      "[LightGBM] [Info] Auto-choosing row-wise multi-threading, the overhead of testing was 0.013594 seconds.\n",
      "You can set `force_row_wise=true` to remove the overhead.\n",
      "And if memory is not enough, you can set `force_col_wise=true`.\n",
      "[LightGBM] [Info] Total Bins 406\n",
      "[LightGBM] [Info] Number of data points in the train set: 78197, number of used features: 33\n",
      "[LightGBM] [Info] [binary:BoostFromScore]: pavg=0.006369 -> initscore=-5.049998\n",
      "[LightGBM] [Info] Start training from score -5.049998\n"
     ]
    },
    {
     "name": "stderr",
     "output_type": "stream",
     "text": [
      "C:\\Users\\Neil\\AppData\\Roaming\\Python\\Python311\\site-packages\\lightgbm\\engine.py:204: UserWarning: Found `num_iterations` in params. Will use it instead of argument\n",
      "  _log_warning(f\"Found `{alias}` in params. Will use it instead of argument\")\n"
     ]
    },
    {
     "name": "stdout",
     "output_type": "stream",
     "text": [
      "[LightGBM] [Warning] Unknown parameter: is_unbalanced\n",
      "True Negatives (TN): 33293\n",
      "False Positives (FP): 8\n",
      "False Negatives (FN): 63\n",
      "True Positives (TP): 150\n",
      "Params: num_leaves=100, learning_rate=0.090, num_iterations=150\n",
      " → Optimal Threshold: 0.8969\n",
      " → Recall: 0.7042, Specificity: 0.9998\n",
      "\n",
      "[LightGBM] [Warning] Unknown parameter: is_unbalanced\n",
      "[LightGBM] [Warning] Unknown parameter: is_unbalanced\n",
      "[LightGBM] [Info] Number of positive: 498, number of negative: 77699\n",
      "[LightGBM] [Info] Auto-choosing row-wise multi-threading, the overhead of testing was 0.016261 seconds.\n",
      "You can set `force_row_wise=true` to remove the overhead.\n",
      "And if memory is not enough, you can set `force_col_wise=true`.\n",
      "[LightGBM] [Info] Total Bins 406\n",
      "[LightGBM] [Info] Number of data points in the train set: 78197, number of used features: 33\n"
     ]
    },
    {
     "name": "stderr",
     "output_type": "stream",
     "text": [
      "C:\\Users\\Neil\\AppData\\Roaming\\Python\\Python311\\site-packages\\lightgbm\\engine.py:204: UserWarning: Found `num_iterations` in params. Will use it instead of argument\n",
      "  _log_warning(f\"Found `{alias}` in params. Will use it instead of argument\")\n"
     ]
    },
    {
     "name": "stdout",
     "output_type": "stream",
     "text": [
      "[LightGBM] [Info] [binary:BoostFromScore]: pavg=0.006369 -> initscore=-5.049998\n",
      "[LightGBM] [Info] Start training from score -5.049998\n",
      "[LightGBM] [Warning] Unknown parameter: is_unbalanced\n",
      "True Negatives (TN): 33282\n",
      "False Positives (FP): 19\n",
      "False Negatives (FN): 58\n",
      "True Positives (TP): 155\n",
      "Params: num_leaves=100, learning_rate=0.090, num_iterations=200\n",
      " → Optimal Threshold: 0.5111\n",
      " → Recall: 0.7277, Specificity: 0.9994\n",
      "\n",
      "[LightGBM] [Warning] Unknown parameter: is_unbalanced\n",
      "[LightGBM] [Warning] Unknown parameter: is_unbalanced\n",
      "[LightGBM] [Info] Number of positive: 498, number of negative: 77699\n",
      "[LightGBM] [Info] Auto-choosing row-wise multi-threading, the overhead of testing was 0.012878 seconds.\n",
      "You can set `force_row_wise=true` to remove the overhead.\n",
      "And if memory is not enough, you can set `force_col_wise=true`.\n",
      "[LightGBM] [Info] Total Bins 406\n",
      "[LightGBM] [Info] Number of data points in the train set: 78197, number of used features: 33\n",
      "[LightGBM] [Info] [binary:BoostFromScore]: pavg=0.006369 -> initscore=-5.049998\n",
      "[LightGBM] [Info] Start training from score -5.049998\n"
     ]
    },
    {
     "name": "stderr",
     "output_type": "stream",
     "text": [
      "C:\\Users\\Neil\\AppData\\Roaming\\Python\\Python311\\site-packages\\lightgbm\\engine.py:204: UserWarning: Found `num_iterations` in params. Will use it instead of argument\n",
      "  _log_warning(f\"Found `{alias}` in params. Will use it instead of argument\")\n"
     ]
    },
    {
     "name": "stdout",
     "output_type": "stream",
     "text": [
      "[LightGBM] [Warning] Unknown parameter: is_unbalanced\n",
      "True Negatives (TN): 33292\n",
      "False Positives (FP): 9\n",
      "False Negatives (FN): 62\n",
      "True Positives (TP): 151\n",
      "Params: num_leaves=100, learning_rate=0.120, num_iterations=50\n",
      " → Optimal Threshold: 0.8741\n",
      " → Recall: 0.7089, Specificity: 0.9997\n",
      "\n",
      "[LightGBM] [Warning] Unknown parameter: is_unbalanced\n"
     ]
    },
    {
     "name": "stderr",
     "output_type": "stream",
     "text": [
      "C:\\Users\\Neil\\AppData\\Roaming\\Python\\Python311\\site-packages\\lightgbm\\engine.py:204: UserWarning: Found `num_iterations` in params. Will use it instead of argument\n",
      "  _log_warning(f\"Found `{alias}` in params. Will use it instead of argument\")\n"
     ]
    },
    {
     "name": "stdout",
     "output_type": "stream",
     "text": [
      "[LightGBM] [Warning] Unknown parameter: is_unbalanced\n",
      "[LightGBM] [Info] Number of positive: 498, number of negative: 77699\n",
      "[LightGBM] [Info] Auto-choosing row-wise multi-threading, the overhead of testing was 0.014551 seconds.\n",
      "You can set `force_row_wise=true` to remove the overhead.\n",
      "And if memory is not enough, you can set `force_col_wise=true`.\n",
      "[LightGBM] [Info] Total Bins 406\n",
      "[LightGBM] [Info] Number of data points in the train set: 78197, number of used features: 33\n",
      "[LightGBM] [Info] [binary:BoostFromScore]: pavg=0.006369 -> initscore=-5.049998\n",
      "[LightGBM] [Info] Start training from score -5.049998\n",
      "[LightGBM] [Warning] Unknown parameter: is_unbalanced\n",
      "True Negatives (TN): 33293\n",
      "False Positives (FP): 8\n",
      "False Negatives (FN): 60\n",
      "True Positives (TP): 153\n",
      "Params: num_leaves=100, learning_rate=0.120, num_iterations=100\n",
      " → Optimal Threshold: 0.9894\n",
      " → Recall: 0.7183, Specificity: 0.9998\n",
      "\n",
      "[LightGBM] [Warning] Unknown parameter: is_unbalanced\n",
      "[LightGBM] [Warning] Unknown parameter: is_unbalanced\n",
      "[LightGBM] [Info] Number of positive: 498, number of negative: 77699\n",
      "[LightGBM] [Info] Auto-choosing row-wise multi-threading, the overhead of testing was 0.016233 seconds.\n",
      "You can set `force_row_wise=true` to remove the overhead.\n",
      "And if memory is not enough, you can set `force_col_wise=true`.\n",
      "[LightGBM] [Info] Total Bins 406\n",
      "[LightGBM] [Info] Number of data points in the train set: 78197, number of used features: 33\n",
      "[LightGBM] [Info] [binary:BoostFromScore]: pavg=0.006369 -> initscore=-5.049998\n",
      "[LightGBM] [Info] Start training from score -5.049998\n"
     ]
    },
    {
     "name": "stderr",
     "output_type": "stream",
     "text": [
      "C:\\Users\\Neil\\AppData\\Roaming\\Python\\Python311\\site-packages\\lightgbm\\engine.py:204: UserWarning: Found `num_iterations` in params. Will use it instead of argument\n",
      "  _log_warning(f\"Found `{alias}` in params. Will use it instead of argument\")\n"
     ]
    },
    {
     "name": "stdout",
     "output_type": "stream",
     "text": [
      "[LightGBM] [Warning] Unknown parameter: is_unbalanced\n",
      "True Negatives (TN): 33291\n",
      "False Positives (FP): 10\n",
      "False Negatives (FN): 60\n",
      "True Positives (TP): 153\n",
      "Params: num_leaves=100, learning_rate=0.120, num_iterations=150\n",
      " → Optimal Threshold: 0.9095\n",
      " → Recall: 0.7183, Specificity: 0.9997\n",
      "\n",
      "[LightGBM] [Warning] Unknown parameter: is_unbalanced\n",
      "[LightGBM] [Warning] Unknown parameter: is_unbalanced\n",
      "[LightGBM] [Info] Number of positive: 498, number of negative: 77699\n",
      "[LightGBM] [Info] Auto-choosing row-wise multi-threading, the overhead of testing was 0.014123 seconds.\n",
      "You can set `force_row_wise=true` to remove the overhead.\n",
      "And if memory is not enough, you can set `force_col_wise=true`.\n",
      "[LightGBM] [Info] Total Bins 406\n",
      "[LightGBM] [Info] Number of data points in the train set: 78197, number of used features: 33\n",
      "[LightGBM] [Info] [binary:BoostFromScore]: pavg=0.006369 -> initscore=-5.049998\n",
      "[LightGBM] [Info] Start training from score -5.049998\n"
     ]
    },
    {
     "name": "stderr",
     "output_type": "stream",
     "text": [
      "C:\\Users\\Neil\\AppData\\Roaming\\Python\\Python311\\site-packages\\lightgbm\\engine.py:204: UserWarning: Found `num_iterations` in params. Will use it instead of argument\n",
      "  _log_warning(f\"Found `{alias}` in params. Will use it instead of argument\")\n"
     ]
    },
    {
     "name": "stdout",
     "output_type": "stream",
     "text": [
      "[LightGBM] [Warning] Unknown parameter: is_unbalanced\n",
      "True Negatives (TN): 33243\n",
      "False Positives (FP): 58\n",
      "False Negatives (FN): 67\n",
      "True Positives (TP): 146\n",
      "Params: num_leaves=100, learning_rate=0.120, num_iterations=200\n",
      " → Optimal Threshold: 1.0000\n",
      " → Recall: 0.6854, Specificity: 0.9983\n",
      "\n",
      "[LightGBM] [Warning] Unknown parameter: is_unbalanced\n",
      "[LightGBM] [Warning] Unknown parameter: is_unbalanced\n",
      "[LightGBM] [Info] Number of positive: 498, number of negative: 77699\n",
      "[LightGBM] [Info] Auto-choosing row-wise multi-threading, the overhead of testing was 0.015946 seconds.\n",
      "You can set `force_row_wise=true` to remove the overhead.\n",
      "And if memory is not enough, you can set `force_col_wise=true`.\n",
      "[LightGBM] [Info] Total Bins 406\n",
      "[LightGBM] [Info] Number of data points in the train set: 78197, number of used features: 33\n",
      "[LightGBM] [Info] [binary:BoostFromScore]: pavg=0.006369 -> initscore=-5.049998\n",
      "[LightGBM] [Info] Start training from score -5.049998\n"
     ]
    },
    {
     "name": "stderr",
     "output_type": "stream",
     "text": [
      "C:\\Users\\Neil\\AppData\\Roaming\\Python\\Python311\\site-packages\\lightgbm\\engine.py:204: UserWarning: Found `num_iterations` in params. Will use it instead of argument\n",
      "  _log_warning(f\"Found `{alias}` in params. Will use it instead of argument\")\n"
     ]
    },
    {
     "name": "stdout",
     "output_type": "stream",
     "text": [
      "[LightGBM] [Warning] Unknown parameter: is_unbalanced\n",
      "True Negatives (TN): 33291\n",
      "False Positives (FP): 10\n",
      "False Negatives (FN): 63\n",
      "True Positives (TP): 150\n",
      "Params: num_leaves=100, learning_rate=0.150, num_iterations=50\n",
      " → Optimal Threshold: 0.9527\n",
      " → Recall: 0.7042, Specificity: 0.9997\n",
      "\n",
      "[LightGBM] [Warning] Unknown parameter: is_unbalanced\n"
     ]
    },
    {
     "name": "stderr",
     "output_type": "stream",
     "text": [
      "C:\\Users\\Neil\\AppData\\Roaming\\Python\\Python311\\site-packages\\lightgbm\\engine.py:204: UserWarning: Found `num_iterations` in params. Will use it instead of argument\n",
      "  _log_warning(f\"Found `{alias}` in params. Will use it instead of argument\")\n"
     ]
    },
    {
     "name": "stdout",
     "output_type": "stream",
     "text": [
      "[LightGBM] [Warning] Unknown parameter: is_unbalanced\n",
      "[LightGBM] [Info] Number of positive: 498, number of negative: 77699\n",
      "[LightGBM] [Info] Auto-choosing row-wise multi-threading, the overhead of testing was 0.013627 seconds.\n",
      "You can set `force_row_wise=true` to remove the overhead.\n",
      "And if memory is not enough, you can set `force_col_wise=true`.\n",
      "[LightGBM] [Info] Total Bins 406\n",
      "[LightGBM] [Info] Number of data points in the train set: 78197, number of used features: 33\n",
      "[LightGBM] [Info] [binary:BoostFromScore]: pavg=0.006369 -> initscore=-5.049998\n",
      "[LightGBM] [Info] Start training from score -5.049998\n",
      "[LightGBM] [Warning] Unknown parameter: is_unbalanced\n",
      "True Negatives (TN): 33237\n",
      "False Positives (FP): 64\n",
      "False Negatives (FN): 62\n",
      "True Positives (TP): 151\n",
      "Params: num_leaves=100, learning_rate=0.150, num_iterations=100\n",
      " → Optimal Threshold: 1.0000\n",
      " → Recall: 0.7089, Specificity: 0.9981\n",
      "\n",
      "[LightGBM] [Warning] Unknown parameter: is_unbalanced\n",
      "[LightGBM] [Warning] Unknown parameter: is_unbalanced\n",
      "[LightGBM] [Info] Number of positive: 498, number of negative: 77699\n"
     ]
    },
    {
     "name": "stderr",
     "output_type": "stream",
     "text": [
      "C:\\Users\\Neil\\AppData\\Roaming\\Python\\Python311\\site-packages\\lightgbm\\engine.py:204: UserWarning: Found `num_iterations` in params. Will use it instead of argument\n",
      "  _log_warning(f\"Found `{alias}` in params. Will use it instead of argument\")\n"
     ]
    },
    {
     "name": "stdout",
     "output_type": "stream",
     "text": [
      "[LightGBM] [Info] Auto-choosing row-wise multi-threading, the overhead of testing was 0.014867 seconds.\n",
      "You can set `force_row_wise=true` to remove the overhead.\n",
      "And if memory is not enough, you can set `force_col_wise=true`.\n",
      "[LightGBM] [Info] Total Bins 406\n",
      "[LightGBM] [Info] Number of data points in the train set: 78197, number of used features: 33\n",
      "[LightGBM] [Info] [binary:BoostFromScore]: pavg=0.006369 -> initscore=-5.049998\n",
      "[LightGBM] [Info] Start training from score -5.049998\n",
      "[LightGBM] [Warning] Unknown parameter: is_unbalanced\n",
      "True Negatives (TN): 33269\n",
      "False Positives (FP): 32\n",
      "False Negatives (FN): 80\n",
      "True Positives (TP): 133\n",
      "Params: num_leaves=100, learning_rate=0.150, num_iterations=150\n",
      " → Optimal Threshold: 1.0000\n",
      " → Recall: 0.6244, Specificity: 0.9990\n",
      "\n",
      "[LightGBM] [Warning] Unknown parameter: is_unbalanced\n",
      "[LightGBM] [Warning] Unknown parameter: is_unbalanced\n",
      "[LightGBM] [Info] Number of positive: 498, number of negative: 77699\n",
      "[LightGBM] [Info] Auto-choosing row-wise multi-threading, the overhead of testing was 0.013060 seconds.\n",
      "You can set `force_row_wise=true` to remove the overhead.\n",
      "And if memory is not enough, you can set `force_col_wise=true`.\n",
      "[LightGBM] [Info] Total Bins 406\n",
      "[LightGBM] [Info] Number of data points in the train set: 78197, number of used features: 33\n",
      "[LightGBM] [Info] [binary:BoostFromScore]: pavg=0.006369 -> initscore=-5.049998\n",
      "[LightGBM] [Info] Start training from score -5.049998\n"
     ]
    },
    {
     "name": "stderr",
     "output_type": "stream",
     "text": [
      "C:\\Users\\Neil\\AppData\\Roaming\\Python\\Python311\\site-packages\\lightgbm\\engine.py:204: UserWarning: Found `num_iterations` in params. Will use it instead of argument\n",
      "  _log_warning(f\"Found `{alias}` in params. Will use it instead of argument\")\n"
     ]
    },
    {
     "name": "stdout",
     "output_type": "stream",
     "text": [
      "[LightGBM] [Warning] Unknown parameter: is_unbalanced\n",
      "True Negatives (TN): 33264\n",
      "False Positives (FP): 37\n",
      "False Negatives (FN): 82\n",
      "True Positives (TP): 131\n",
      "Params: num_leaves=100, learning_rate=0.150, num_iterations=200\n",
      " → Optimal Threshold: 1.0000\n",
      " → Recall: 0.6150, Specificity: 0.9989\n",
      "\n",
      "Grid Search Complete!\n",
      "\n",
      "Best Recall Score:\n",
      " → Score: 0.7981\n",
      " → Params: {'num_leaves': 60, 'learning_rate': 0.06, 'num_iterations': 50, 'threshold': 0.3155245601603807}\n",
      "\n",
      "Best Specificity Score:\n",
      " → Score: 0.9998\n",
      " → Params: {'num_leaves': 20, 'learning_rate': 0.09, 'num_iterations': 200, 'threshold': 0.773732438736192}\n",
      "\n",
      "{'recall': {'score': 0.7981220657276995, 'params': {'num_leaves': 60, 'learning_rate': 0.06, 'num_iterations': 50, 'threshold': 0.3155245601603807}}, 'specificity': {'score': 0.9997897961022192, 'params': {'num_leaves': 20, 'learning_rate': 0.09, 'num_iterations': 200, 'threshold': 0.773732438736192}}}\n"
     ]
    }
   ],
   "source": [
    "results = grid_search_lgbm(X_train_split, y_train_split, X_val, y_val)\n",
    "print(results)"
   ]
  },
  {
   "cell_type": "markdown",
   "id": "f49a9dcd-f81b-4fca-8fd5-9fbf0f3aec4a",
   "metadata": {},
   "source": [
    "## LGBM MODEL"
   ]
  },
  {
   "cell_type": "code",
   "execution_count": 17,
   "id": "03209fe5-adaa-428b-ba7b-26f735dc8920",
   "metadata": {
    "scrolled": true,
    "tags": []
   },
   "outputs": [
    {
     "name": "stderr",
     "output_type": "stream",
     "text": [
      "C:\\Users\\Neil\\AppData\\Roaming\\Python\\Python311\\site-packages\\lightgbm\\engine.py:204: UserWarning: Found `num_iterations` in params. Will use it instead of argument\n",
      "  _log_warning(f\"Found `{alias}` in params. Will use it instead of argument\")\n"
     ]
    },
    {
     "name": "stdout",
     "output_type": "stream",
     "text": [
      "[LightGBM] [Warning] Unknown parameter: is_unbalanced\n",
      "[LightGBM] [Warning] Unknown parameter: is_unbalanced\n",
      "[LightGBM] [Info] Number of positive: 498, number of negative: 77699\n",
      "[LightGBM] [Info] Auto-choosing row-wise multi-threading, the overhead of testing was 0.010266 seconds.\n",
      "You can set `force_row_wise=true` to remove the overhead.\n",
      "And if memory is not enough, you can set `force_col_wise=true`.\n",
      "[LightGBM] [Info] Total Bins 406\n",
      "[LightGBM] [Info] Number of data points in the train set: 78197, number of used features: 33\n",
      "[LightGBM] [Info] [binary:BoostFromScore]: pavg=0.006369 -> initscore=-5.049998\n",
      "[LightGBM] [Info] Start training from score -5.049998\n",
      "[LightGBM] [Warning] Unknown parameter: is_unbalanced\n",
      "Model Training Complete\n"
     ]
    }
   ],
   "source": [
    "#Initialize the LGBMClassifier\n",
    " \n",
    "model = lgb.LGBMClassifier(\n",
    "    boosting_type='gbdt',   # Gradient Boosting Decision Tree\n",
    "    objective='binary',     # Binary classification\n",
    "    metric='binary_logloss', # Log loss metric for binary classification\n",
    "    learning_rate=0.06,\n",
    "    num_iterations=50,\n",
    "    num_leaves=60,\n",
    "    is_unbalanced=True,\n",
    "    random_state=42,\n",
    "    bagging_seed=42,\n",
    "    feature_fraction_seed=42,\n",
    "    drop_seed=42,\n",
    "    data_random_seed=42,\n",
    "    deterministic=True,\n",
    "    n_jobs=1\n",
    ")\n",
    "\n",
    "\n",
    "#Train the model\n",
    "model.fit(X_train_split, y_train_split)\n",
    "y_proba = model.predict_proba(X_val)  # Returns probability for each class\n",
    "\n",
    "print(\"Model Training Complete\")"
   ]
  },
  {
   "cell_type": "markdown",
   "id": "347396e8-69e7-4b88-aa3f-92f1dcb9290a",
   "metadata": {},
   "source": [
    "## Option 1: Optimal Threshold using Precision-Recall Curve"
   ]
  },
  {
   "cell_type": "code",
   "execution_count": 18,
   "id": "b6ac49a8-d33e-4552-8822-d3570e9a1c01",
   "metadata": {
    "tags": []
   },
   "outputs": [
    {
     "name": "stdout",
     "output_type": "stream",
     "text": [
      "Optimal threshold for maximum F1 score: 0.3155245601603807\n"
     ]
    }
   ],
   "source": [
    "# Assume y_test is your true labels and y_proba[:, 1] are predicted probabilities for the positive class\n",
    "precision, recall, thresholds = precision_recall_curve(y_val, y_proba[:, 1])\n",
    "\n",
    "# Compute F1 score for each threshold\n",
    "f1_scores = 2 * (precision * recall) / (precision + recall)\n",
    "\n",
    "# Find the threshold that maximizes F1 score\n",
    "optimal_threshold = thresholds[np.argmax(f1_scores)]\n",
    "\n",
    "print(\"Optimal threshold for maximum F1 score:\", optimal_threshold)"
   ]
  },
  {
   "cell_type": "markdown",
   "id": "d6cc54e2-a104-4e12-b251-04c03d5abf05",
   "metadata": {},
   "source": [
    "## Option 2: Optimal Threshold using ROC Curve"
   ]
  },
  {
   "cell_type": "code",
   "execution_count": 11,
   "id": "306ff455-d004-4c13-9f78-1f16b3cfd34e",
   "metadata": {
    "tags": []
   },
   "outputs": [],
   "source": [
    "# def Find_Optimal_Cutoff(target, predicted):\n",
    "#     \"\"\"\n",
    "#     Find the optimal probability cutoff point for a classification model using Youden’s J statistic.\n",
    "\n",
    "#     Parameters\n",
    "#     ----------\n",
    "#     target : true class labels\n",
    "#     predicted : predicted probabilities for the positive class\n",
    "\n",
    "#     Returns\n",
    "#     -------\n",
    "#     list : optimal threshold value(s)\n",
    "#     \"\"\"\n",
    "#     fpr, tpr, thresholds = roc_curve(target, predicted)\n",
    "#     youden_j = tpr - fpr\n",
    "#     optimal_idx = np.argmax(youden_j)\n",
    "#     return [thresholds[optimal_idx]]\n",
    "\n",
    "\n",
    "# # Find optimal probability threshold\n",
    "# threshold = Find_Optimal_Cutoff(y_val, y_proba[:,1])\n",
    "# print(threshold)"
   ]
  },
  {
   "cell_type": "markdown",
   "id": "96bd9706-deed-4546-95b2-460a0c145fff",
   "metadata": {},
   "source": [
    "## Apply Optimal Threshold"
   ]
  },
  {
   "cell_type": "code",
   "execution_count": 19,
   "id": "2caadd61-6a95-4f7e-8a5e-9c448d528428",
   "metadata": {
    "tags": []
   },
   "outputs": [
    {
     "name": "stdout",
     "output_type": "stream",
     "text": [
      "[0 0 0 ... 0 0 1]\n"
     ]
    }
   ],
   "source": [
    "# Apply custom threshold\n",
    "threshold = optimal_threshold\n",
    "\n",
    "y_pred = (y_proba[:,1] >= threshold).astype(int)  # Convert probabilities to 0/1\n",
    "\n",
    "# Print results\n",
    "print(y_pred)"
   ]
  },
  {
   "cell_type": "markdown",
   "id": "a80e5478-fa73-4197-9ec1-8470a33964b9",
   "metadata": {},
   "source": [
    "## Metrics Evaluation"
   ]
  },
  {
   "cell_type": "code",
   "execution_count": 20,
   "id": "36ec2764-dd9b-41a1-a7d2-89d13e24ecaf",
   "metadata": {
    "tags": []
   },
   "outputs": [
    {
     "name": "stdout",
     "output_type": "stream",
     "text": [
      "True Negatives (TN): 33278\n",
      "False Positives (FP): 23\n",
      "False Negatives (FN): 43\n",
      "True Positives (TP): 170\n",
      "[[33278    23]\n",
      " [   43   170]]\n",
      "Accuracy: 0.9980\n",
      "Precision: 0.8808\n",
      "Recall: 0.7981\n",
      "F1 Score: 0.8374\n",
      "AUC: 0.9838\n",
      "Specificity: 0.9993\n"
     ]
    }
   ],
   "source": [
    "# Get actual labels from y2\n",
    "y_true = y_val \n",
    "\n",
    "\n",
    "def calculate_specificity(y_true, y_pred):\n",
    "    \"\"\"\n",
    "    Calculate specificity from true and predicted labels.\n",
    "    \n",
    "    Parameters:\n",
    "        y_true (list or array): True binary labels.\n",
    "        y_pred (list or array): Predicted binary labels.\n",
    "    \n",
    "    Returns:\n",
    "        float: Specificity score.\n",
    "    \"\"\"\n",
    "    tn, fp, fn, tp = confusion_matrix(y_true, y_pred).ravel()\n",
    "    print(f\"True Negatives (TN): {tn}\")\n",
    "    print(f\"False Positives (FP): {fp}\")\n",
    "    print(f\"False Negatives (FN): {fn}\")\n",
    "    print(f\"True Positives (TP): {tp}\")\n",
    "    specificity = tn / (tn + fp)\n",
    "    return specificity\n",
    "\n",
    "# Evaluate performance\n",
    "accuracy = accuracy_score(y_true, y_pred)\n",
    "precision = precision_score(y_true, y_pred)\n",
    "recall = recall_score(y_true, y_pred)\n",
    "f1 = f1_score(y_true, y_pred)\n",
    "auc = roc_auc_score(y_true, y_proba[:,1])  # Use probabilities for AUC\n",
    "spec = calculate_specificity(y_true, y_pred)\n",
    "\n",
    "# Print metrics\n",
    "print(confusion_matrix(y_true, y_pred))\n",
    "print(f\"Accuracy: {accuracy:.4f}\")\n",
    "print(f\"Precision: {precision:.4f}\")\n",
    "print(f\"Recall: {recall:.4f}\") #Same as sensitivity\n",
    "print(f\"F1 Score: {f1:.4f}\")\n",
    "print(f\"AUC: {auc:.4f}\")\n",
    "print(f\"Specificity: {spec:.4f}\")"
   ]
  },
  {
   "cell_type": "markdown",
   "id": "56486225-1944-4fd9-bc91-2119c16aab92",
   "metadata": {},
   "source": [
    "## SHAP Plots"
   ]
  },
  {
   "cell_type": "code",
   "execution_count": 15,
   "id": "5c876eb4-5348-4513-b57d-117709ef3b61",
   "metadata": {},
   "outputs": [
    {
     "data": {
      "image/png": "[encoded data removed]",
      "text/plain": [
       "<Figure size 800x950 with 2 Axes>"
      ]
     },
     "metadata": {},
     "output_type": "display_data"
    }
   ],
   "source": [
    "explainer = shap.Explainer(model)\n",
    "shap_values = explainer(X_train_split)\n",
    "shap.summary_plot(shap_values, X_train_split)"
   ]
  },
  {
   "cell_type": "code",
   "execution_count": 16,
   "id": "f4c4baef-7a28-40e9-8795-17f1354713e0",
   "metadata": {
    "tags": []
   },
   "outputs": [
    {
     "data": {
      "image/png": "[encoded data removed]",
      "text/plain": [
       "<Figure size 800x1800 with 1 Axes>"
      ]
     },
     "metadata": {},
     "output_type": "display_data"
    }
   ],
   "source": [
    "shap.plots.bar(shap_values, max_display=50)"
   ]
  }
 ],
 "metadata": {
  "kernelspec": {
   "display_name": "Python 3 (ipykernel)",
   "language": "python",
   "name": "python3"
  },
  "language_info": {
   "codemirror_mode": {
    "name": "ipython",
    "version": 3
   },
   "file_extension": ".py",
   "mimetype": "text/x-python",
   "name": "python",
   "nbconvert_exporter": "python",
   "pygments_lexer": "ipython3",
   "version": "3.11.5"
  }
 },
 "nbformat": 4,
 "nbformat_minor": 5
}
