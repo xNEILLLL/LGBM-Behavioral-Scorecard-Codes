{
 "cells": [
  {
   "cell_type": "code",
   "execution_count": 1,
   "id": "6d2aa686-ad72-4f32-98d0-f3962b389453",
   "metadata": {
    "tags": []
   },
   "outputs": [
    {
     "name": "stderr",
     "output_type": "stream",
     "text": [
      "C:\\Users\\Neil\\AppData\\Roaming\\Python\\Python311\\site-packages\\pandas\\core\\arrays\\masked.py:60: UserWarning: Pandas requires version '1.3.6' or newer of 'bottleneck' (version '1.3.5' currently installed).\n",
      "  from pandas.core import (\n"
     ]
    }
   ],
   "source": [
    "import lightgbm as lgb\n",
    "import numpy as np\n",
    "import pandas as pd\n",
    "import shap\n",
    "import os\n",
    "import glob\n",
    "import matplotlib.pyplot as plt\n",
    "import seaborn as sns\n",
    "import imblearn\n",
    "import sklearn\n",
    "from sklearn.model_selection import train_test_split\n",
    "from scipy.stats import ks_2samp\n",
    "from sklearn.metrics import accuracy_score, precision_score, recall_score, f1_score, roc_auc_score, brier_score_loss, precision_recall_curve\n",
    "from sklearn.metrics import confusion_matrix\n",
    "from sklearn.metrics import roc_curve\n",
    "from imblearn.over_sampling import SMOTE"
   ]
  },
  {
   "cell_type": "markdown",
   "id": "b8f048eb-b70b-497d-bdfa-41e45771d19a",
   "metadata": {},
   "source": [
    "## Read Files"
   ]
  },
  {
   "cell_type": "code",
   "execution_count": 2,
   "id": "f034c428-2f43-45fe-ac70-7d27ad1e2df4",
   "metadata": {
    "tags": []
   },
   "outputs": [],
   "source": [
    "csv_folder = 'C:/Users/Neil/OneDrive/Documents/Capstone Files/' ### make sure na lahat ng csv ay nasa isang folder tapos dapat yung features lang yung nandun\n",
    "csv_files = sorted(glob.glob(os.path.join(csv_folder, \"*.csv\")))  # Get all CSV files"
   ]
  },
  {
   "cell_type": "code",
   "execution_count": 3,
   "id": "0e54caac-4a05-45f2-9718-1f4703ef2595",
   "metadata": {
    "tags": []
   },
   "outputs": [
    {
     "data": {
      "text/plain": [
       "['C:/Users/Neil/OneDrive/Documents/Capstone Files\\\\Car Features M1-24.csv',\n",
       " 'C:/Users/Neil/OneDrive/Documents/Capstone Files\\\\Car Features M13-36.csv',\n",
       " 'C:/Users/Neil/OneDrive/Documents/Capstone Files\\\\Car Features M25-48.csv',\n",
       " 'C:/Users/Neil/OneDrive/Documents/Capstone Files\\\\Car Features M37-60.csv']"
      ]
     },
     "execution_count": 3,
     "metadata": {},
     "output_type": "execute_result"
    }
   ],
   "source": [
    "csv_files"
   ]
  },
  {
   "cell_type": "markdown",
   "id": "f56b9d58-1e67-4e35-8f21-b374f0e1f4af",
   "metadata": {},
   "source": [
    "## Splitting"
   ]
  },
  {
   "cell_type": "code",
   "execution_count": 4,
   "id": "33e517e4-6e46-4631-bb93-67aa91b6c390",
   "metadata": {
    "tags": []
   },
   "outputs": [
    {
     "name": "stdout",
     "output_type": "stream",
     "text": [
      "\n",
      "Processing file: C:/Users/Neil/OneDrive/Documents/Capstone Files\\Car Features M1-24.csv\n",
      "Train class balance:\n",
      " DEFAULT_TAGGING\n",
      "0    0.998525\n",
      "1    0.001475\n",
      "Name: proportion, dtype: float64\n",
      "Test class balance:\n",
      " DEFAULT_TAGGING\n",
      "0    0.998513\n",
      "1    0.001487\n",
      "Name: proportion, dtype: float64\n",
      "\n",
      "Processing file: C:/Users/Neil/OneDrive/Documents/Capstone Files\\Car Features M13-36.csv\n",
      "Train class balance:\n",
      " DEFAULT_TAGGING\n",
      "0    0.994214\n",
      "1    0.005786\n",
      "Name: proportion, dtype: float64\n",
      "Test class balance:\n",
      " DEFAULT_TAGGING\n",
      "0    0.994182\n",
      "1    0.005818\n",
      "Name: proportion, dtype: float64\n",
      "\n",
      "Processing file: C:/Users/Neil/OneDrive/Documents/Capstone Files\\Car Features M25-48.csv\n",
      "Train class balance:\n",
      " DEFAULT_TAGGING\n",
      "0    0.986499\n",
      "1    0.013501\n",
      "Name: proportion, dtype: float64\n",
      "Test class balance:\n",
      " DEFAULT_TAGGING\n",
      "0    0.98652\n",
      "1    0.01348\n",
      "Name: proportion, dtype: float64\n",
      "\n",
      "Processing file: C:/Users/Neil/OneDrive/Documents/Capstone Files\\Car Features M37-60.csv\n",
      "Train class balance:\n",
      " DEFAULT_TAGGING\n",
      "0    0.974224\n",
      "1    0.025776\n",
      "Name: proportion, dtype: float64\n",
      "Test class balance:\n",
      " DEFAULT_TAGGING\n",
      "0    0.974037\n",
      "1    0.025963\n",
      "Name: proportion, dtype: float64\n",
      "\n",
      "Final Merged Data Shapes:\n",
      "X_train_all: (111711, 33)\n",
      "X_test_all: (47879, 33)\n",
      "y_train_all: (111711,)\n",
      "y_test_all: (47879,)\n"
     ]
    }
   ],
   "source": [
    "selected_features = [\n",
    "    'EverAtLeast1DPD_3mos', \n",
    "    'EverAtLeast15DPD_3mos', 'EverAtLeast31DPD_3mos', \n",
    "    'EverAtLeast61DPD_3mos', \n",
    "    'EverAtLeast1DPD_6mos', \n",
    "    'EverAtLeast15DPD_6mos', 'EverAtLeast31DPD_6mos', \n",
    "    'EverAtLeast61DPD_6mos', \n",
    "    'EverAtLeast1DPD_9mos', \n",
    "    'EverAtLeast15DPD_9mos', 'EverAtLeast31DPD_9mos', 'EverAtLeast61DPD_9mos', \n",
    "    'EverAtLeast1DPD_12mos', 'EverAtLeast15DPD_12mos', \n",
    "    'EverAtLeast31DPD_12mos', 'EverAtLeast61DPD_12mos', \n",
    "    'WorstDel_3mos', 'WorstDel_6mos', \n",
    "    'WorstDel_9mos', 'WorstDel_12mos', \n",
    "    'RemainingLoanRatio_12mos', \n",
    "    'Missed_past3mos', \n",
    "    'Partial_past3mos', \n",
    "    'Full_past3mos', 'Missed_past6mos', \n",
    "    'Partial_past6mos', \n",
    "    'Full_past6mos', \n",
    "    'Missed_past9mos', \n",
    "    'Partial_past9mos', \n",
    "    'Full_past9mos', 'Missed_past12mos', \n",
    "    'Partial_past12mos', \n",
    "    'Full_past12mos'\n",
    "]\n",
    "\n",
    "\n",
    "# Lists to store all training and testing data\n",
    "X_train_list, X_test_list, y_train_list, y_test_list = [], [], [], []\n",
    "\n",
    "# Process each CSV file\n",
    "for file in csv_files:\n",
    "    print(f\"\\nProcessing file: {file}\")\n",
    "    \n",
    "    # Read the CSV file\n",
    "    data = pd.read_csv(file)\n",
    "\n",
    "    X = data[selected_features]\n",
    "    y = data['DEFAULT_TAGGING']\n",
    "\n",
    "    # Train-test split\n",
    "    X_train, X_test, y_train, y_test = train_test_split(\n",
    "        X, y, test_size=0.3, random_state=42, stratify=y\n",
    "    )\n",
    "\n",
    "    # Append to lists\n",
    "    X_train_list.append(X_train)\n",
    "    X_test_list.append(X_test)\n",
    "    y_train_list.append(y_train)\n",
    "    y_test_list.append(y_test)\n",
    "\n",
    "    # Print class balance\n",
    "    print(\"Train class balance:\\n\", y_train.value_counts(normalize=True))\n",
    "    print(\"Test class balance:\\n\", y_test.value_counts(normalize=True))\n",
    "\n",
    "# Merge all train and test data\n",
    "X_train_all = pd.concat(X_train_list, axis=0)\n",
    "X_test_all = pd.concat(X_test_list, axis=0)\n",
    "y_train_all = pd.concat(y_train_list, axis=0)\n",
    "y_test_all = pd.concat(y_test_list, axis=0)\n",
    "\n",
    "print(\"\\nFinal Merged Data Shapes:\")\n",
    "print(\"X_train_all:\", X_train_all.shape)\n",
    "print(\"X_test_all:\", X_test_all.shape)\n",
    "print(\"y_train_all:\", y_train_all.shape)\n",
    "print(\"y_test_all:\", y_test_all.shape)"
   ]
  },
  {
   "cell_type": "code",
   "execution_count": 5,
   "id": "225edce1-38f7-4229-9615-36b29384974a",
   "metadata": {
    "tags": []
   },
   "outputs": [
    {
     "name": "stdout",
     "output_type": "stream",
     "text": [
      "\n",
      "Final Split Data Shapes:\n",
      "X_train_split_0: (78197, 33)\n",
      "X_val: (33514, 33)\n",
      "y_train_split_0: (78197,)\n",
      "y_val: (33514,)\n"
     ]
    }
   ],
   "source": [
    "X_train_split_0, X_val, y_train_split_0, y_val = train_test_split(\n",
    "    X_train_all, y_train_all, test_size=0.3, random_state=42, stratify=y_train_all\n",
    ")\n",
    "\n",
    "print(\"\\nFinal Split Data Shapes:\")\n",
    "print(\"X_train_split_0:\", X_train_split_0.shape)\n",
    "print(\"X_val:\", X_val.shape)\n",
    "print(\"y_train_split_0:\", y_train_split_0.shape)\n",
    "print(\"y_val:\", y_val.shape)"
   ]
  },
  {
   "cell_type": "code",
   "execution_count": 6,
   "id": "09b3284b-c09a-40e1-86d7-391b32cfbc63",
   "metadata": {
    "tags": []
   },
   "outputs": [],
   "source": [
    "Y1= pd.concat([X_train_split_0, y_train_split_0], axis=1)"
   ]
  },
  {
   "cell_type": "code",
   "execution_count": 7,
   "id": "66be3cbb-ed03-4227-ac9a-94d8abda35e1",
   "metadata": {
    "tags": []
   },
   "outputs": [
    {
     "data": {
      "text/html": [
       "<div>\n",
       "<style scoped>\n",
       "    .dataframe tbody tr th:only-of-type {\n",
       "        vertical-align: middle;\n",
       "    }\n",
       "\n",
       "    .dataframe tbody tr th {\n",
       "        vertical-align: top;\n",
       "    }\n",
       "\n",
       "    .dataframe thead th {\n",
       "        text-align: right;\n",
       "    }\n",
       "</style>\n",
       "<table border=\"1\" class=\"dataframe\">\n",
       "  <thead>\n",
       "    <tr style=\"text-align: right;\">\n",
       "      <th></th>\n",
       "      <th>EverAtLeast1DPD_3mos</th>\n",
       "      <th>EverAtLeast15DPD_3mos</th>\n",
       "      <th>EverAtLeast31DPD_3mos</th>\n",
       "      <th>EverAtLeast61DPD_3mos</th>\n",
       "      <th>EverAtLeast1DPD_6mos</th>\n",
       "      <th>EverAtLeast15DPD_6mos</th>\n",
       "      <th>EverAtLeast31DPD_6mos</th>\n",
       "      <th>EverAtLeast61DPD_6mos</th>\n",
       "      <th>EverAtLeast1DPD_9mos</th>\n",
       "      <th>EverAtLeast15DPD_9mos</th>\n",
       "      <th>...</th>\n",
       "      <th>Missed_past6mos</th>\n",
       "      <th>Partial_past6mos</th>\n",
       "      <th>Full_past6mos</th>\n",
       "      <th>Missed_past9mos</th>\n",
       "      <th>Partial_past9mos</th>\n",
       "      <th>Full_past9mos</th>\n",
       "      <th>Missed_past12mos</th>\n",
       "      <th>Partial_past12mos</th>\n",
       "      <th>Full_past12mos</th>\n",
       "      <th>DEFAULT_TAGGING</th>\n",
       "    </tr>\n",
       "  </thead>\n",
       "  <tbody>\n",
       "    <tr>\n",
       "      <th>11757</th>\n",
       "      <td>0</td>\n",
       "      <td>0</td>\n",
       "      <td>0</td>\n",
       "      <td>0</td>\n",
       "      <td>0</td>\n",
       "      <td>0</td>\n",
       "      <td>0</td>\n",
       "      <td>0</td>\n",
       "      <td>0</td>\n",
       "      <td>0</td>\n",
       "      <td>...</td>\n",
       "      <td>0</td>\n",
       "      <td>0</td>\n",
       "      <td>6</td>\n",
       "      <td>0</td>\n",
       "      <td>0</td>\n",
       "      <td>9</td>\n",
       "      <td>0</td>\n",
       "      <td>0</td>\n",
       "      <td>12</td>\n",
       "      <td>0</td>\n",
       "    </tr>\n",
       "    <tr>\n",
       "      <th>39534</th>\n",
       "      <td>0</td>\n",
       "      <td>0</td>\n",
       "      <td>0</td>\n",
       "      <td>0</td>\n",
       "      <td>0</td>\n",
       "      <td>0</td>\n",
       "      <td>0</td>\n",
       "      <td>0</td>\n",
       "      <td>0</td>\n",
       "      <td>0</td>\n",
       "      <td>...</td>\n",
       "      <td>0</td>\n",
       "      <td>0</td>\n",
       "      <td>6</td>\n",
       "      <td>0</td>\n",
       "      <td>0</td>\n",
       "      <td>9</td>\n",
       "      <td>0</td>\n",
       "      <td>0</td>\n",
       "      <td>12</td>\n",
       "      <td>0</td>\n",
       "    </tr>\n",
       "    <tr>\n",
       "      <th>9963</th>\n",
       "      <td>0</td>\n",
       "      <td>0</td>\n",
       "      <td>0</td>\n",
       "      <td>0</td>\n",
       "      <td>0</td>\n",
       "      <td>0</td>\n",
       "      <td>0</td>\n",
       "      <td>0</td>\n",
       "      <td>0</td>\n",
       "      <td>0</td>\n",
       "      <td>...</td>\n",
       "      <td>0</td>\n",
       "      <td>0</td>\n",
       "      <td>6</td>\n",
       "      <td>0</td>\n",
       "      <td>0</td>\n",
       "      <td>9</td>\n",
       "      <td>1</td>\n",
       "      <td>0</td>\n",
       "      <td>11</td>\n",
       "      <td>0</td>\n",
       "    </tr>\n",
       "    <tr>\n",
       "      <th>72838</th>\n",
       "      <td>0</td>\n",
       "      <td>0</td>\n",
       "      <td>0</td>\n",
       "      <td>0</td>\n",
       "      <td>0</td>\n",
       "      <td>0</td>\n",
       "      <td>0</td>\n",
       "      <td>0</td>\n",
       "      <td>0</td>\n",
       "      <td>0</td>\n",
       "      <td>...</td>\n",
       "      <td>0</td>\n",
       "      <td>0</td>\n",
       "      <td>6</td>\n",
       "      <td>0</td>\n",
       "      <td>0</td>\n",
       "      <td>9</td>\n",
       "      <td>1</td>\n",
       "      <td>0</td>\n",
       "      <td>11</td>\n",
       "      <td>0</td>\n",
       "    </tr>\n",
       "    <tr>\n",
       "      <th>40217</th>\n",
       "      <td>0</td>\n",
       "      <td>0</td>\n",
       "      <td>0</td>\n",
       "      <td>0</td>\n",
       "      <td>0</td>\n",
       "      <td>0</td>\n",
       "      <td>0</td>\n",
       "      <td>0</td>\n",
       "      <td>0</td>\n",
       "      <td>0</td>\n",
       "      <td>...</td>\n",
       "      <td>0</td>\n",
       "      <td>0</td>\n",
       "      <td>6</td>\n",
       "      <td>0</td>\n",
       "      <td>0</td>\n",
       "      <td>9</td>\n",
       "      <td>0</td>\n",
       "      <td>0</td>\n",
       "      <td>12</td>\n",
       "      <td>0</td>\n",
       "    </tr>\n",
       "    <tr>\n",
       "      <th>...</th>\n",
       "      <td>...</td>\n",
       "      <td>...</td>\n",
       "      <td>...</td>\n",
       "      <td>...</td>\n",
       "      <td>...</td>\n",
       "      <td>...</td>\n",
       "      <td>...</td>\n",
       "      <td>...</td>\n",
       "      <td>...</td>\n",
       "      <td>...</td>\n",
       "      <td>...</td>\n",
       "      <td>...</td>\n",
       "      <td>...</td>\n",
       "      <td>...</td>\n",
       "      <td>...</td>\n",
       "      <td>...</td>\n",
       "      <td>...</td>\n",
       "      <td>...</td>\n",
       "      <td>...</td>\n",
       "      <td>...</td>\n",
       "      <td>...</td>\n",
       "    </tr>\n",
       "    <tr>\n",
       "      <th>972</th>\n",
       "      <td>0</td>\n",
       "      <td>0</td>\n",
       "      <td>0</td>\n",
       "      <td>0</td>\n",
       "      <td>0</td>\n",
       "      <td>0</td>\n",
       "      <td>0</td>\n",
       "      <td>0</td>\n",
       "      <td>1</td>\n",
       "      <td>0</td>\n",
       "      <td>...</td>\n",
       "      <td>1</td>\n",
       "      <td>0</td>\n",
       "      <td>5</td>\n",
       "      <td>2</td>\n",
       "      <td>0</td>\n",
       "      <td>7</td>\n",
       "      <td>2</td>\n",
       "      <td>0</td>\n",
       "      <td>10</td>\n",
       "      <td>0</td>\n",
       "    </tr>\n",
       "    <tr>\n",
       "      <th>24028</th>\n",
       "      <td>0</td>\n",
       "      <td>0</td>\n",
       "      <td>0</td>\n",
       "      <td>0</td>\n",
       "      <td>0</td>\n",
       "      <td>0</td>\n",
       "      <td>0</td>\n",
       "      <td>0</td>\n",
       "      <td>0</td>\n",
       "      <td>0</td>\n",
       "      <td>...</td>\n",
       "      <td>0</td>\n",
       "      <td>0</td>\n",
       "      <td>6</td>\n",
       "      <td>0</td>\n",
       "      <td>0</td>\n",
       "      <td>9</td>\n",
       "      <td>0</td>\n",
       "      <td>0</td>\n",
       "      <td>12</td>\n",
       "      <td>0</td>\n",
       "    </tr>\n",
       "    <tr>\n",
       "      <th>36067</th>\n",
       "      <td>0</td>\n",
       "      <td>0</td>\n",
       "      <td>0</td>\n",
       "      <td>0</td>\n",
       "      <td>0</td>\n",
       "      <td>0</td>\n",
       "      <td>0</td>\n",
       "      <td>0</td>\n",
       "      <td>0</td>\n",
       "      <td>0</td>\n",
       "      <td>...</td>\n",
       "      <td>0</td>\n",
       "      <td>0</td>\n",
       "      <td>6</td>\n",
       "      <td>0</td>\n",
       "      <td>0</td>\n",
       "      <td>9</td>\n",
       "      <td>2</td>\n",
       "      <td>0</td>\n",
       "      <td>10</td>\n",
       "      <td>0</td>\n",
       "    </tr>\n",
       "    <tr>\n",
       "      <th>24985</th>\n",
       "      <td>0</td>\n",
       "      <td>0</td>\n",
       "      <td>0</td>\n",
       "      <td>0</td>\n",
       "      <td>0</td>\n",
       "      <td>0</td>\n",
       "      <td>0</td>\n",
       "      <td>0</td>\n",
       "      <td>1</td>\n",
       "      <td>0</td>\n",
       "      <td>...</td>\n",
       "      <td>1</td>\n",
       "      <td>0</td>\n",
       "      <td>5</td>\n",
       "      <td>2</td>\n",
       "      <td>0</td>\n",
       "      <td>7</td>\n",
       "      <td>3</td>\n",
       "      <td>0</td>\n",
       "      <td>9</td>\n",
       "      <td>0</td>\n",
       "    </tr>\n",
       "    <tr>\n",
       "      <th>878</th>\n",
       "      <td>0</td>\n",
       "      <td>0</td>\n",
       "      <td>0</td>\n",
       "      <td>0</td>\n",
       "      <td>0</td>\n",
       "      <td>0</td>\n",
       "      <td>0</td>\n",
       "      <td>0</td>\n",
       "      <td>0</td>\n",
       "      <td>0</td>\n",
       "      <td>...</td>\n",
       "      <td>0</td>\n",
       "      <td>0</td>\n",
       "      <td>6</td>\n",
       "      <td>0</td>\n",
       "      <td>0</td>\n",
       "      <td>9</td>\n",
       "      <td>0</td>\n",
       "      <td>0</td>\n",
       "      <td>12</td>\n",
       "      <td>0</td>\n",
       "    </tr>\n",
       "  </tbody>\n",
       "</table>\n",
       "<p>78197 rows × 34 columns</p>\n",
       "</div>"
      ],
      "text/plain": [
       "       EverAtLeast1DPD_3mos  EverAtLeast15DPD_3mos  EverAtLeast31DPD_3mos  \\\n",
       "11757                     0                      0                      0   \n",
       "39534                     0                      0                      0   \n",
       "9963                      0                      0                      0   \n",
       "72838                     0                      0                      0   \n",
       "40217                     0                      0                      0   \n",
       "...                     ...                    ...                    ...   \n",
       "972                       0                      0                      0   \n",
       "24028                     0                      0                      0   \n",
       "36067                     0                      0                      0   \n",
       "24985                     0                      0                      0   \n",
       "878                       0                      0                      0   \n",
       "\n",
       "       EverAtLeast61DPD_3mos  EverAtLeast1DPD_6mos  EverAtLeast15DPD_6mos  \\\n",
       "11757                      0                     0                      0   \n",
       "39534                      0                     0                      0   \n",
       "9963                       0                     0                      0   \n",
       "72838                      0                     0                      0   \n",
       "40217                      0                     0                      0   \n",
       "...                      ...                   ...                    ...   \n",
       "972                        0                     0                      0   \n",
       "24028                      0                     0                      0   \n",
       "36067                      0                     0                      0   \n",
       "24985                      0                     0                      0   \n",
       "878                        0                     0                      0   \n",
       "\n",
       "       EverAtLeast31DPD_6mos  EverAtLeast61DPD_6mos  EverAtLeast1DPD_9mos  \\\n",
       "11757                      0                      0                     0   \n",
       "39534                      0                      0                     0   \n",
       "9963                       0                      0                     0   \n",
       "72838                      0                      0                     0   \n",
       "40217                      0                      0                     0   \n",
       "...                      ...                    ...                   ...   \n",
       "972                        0                      0                     1   \n",
       "24028                      0                      0                     0   \n",
       "36067                      0                      0                     0   \n",
       "24985                      0                      0                     1   \n",
       "878                        0                      0                     0   \n",
       "\n",
       "       EverAtLeast15DPD_9mos  ...  Missed_past6mos  Partial_past6mos  \\\n",
       "11757                      0  ...                0                 0   \n",
       "39534                      0  ...                0                 0   \n",
       "9963                       0  ...                0                 0   \n",
       "72838                      0  ...                0                 0   \n",
       "40217                      0  ...                0                 0   \n",
       "...                      ...  ...              ...               ...   \n",
       "972                        0  ...                1                 0   \n",
       "24028                      0  ...                0                 0   \n",
       "36067                      0  ...                0                 0   \n",
       "24985                      0  ...                1                 0   \n",
       "878                        0  ...                0                 0   \n",
       "\n",
       "       Full_past6mos  Missed_past9mos  Partial_past9mos  Full_past9mos  \\\n",
       "11757              6                0                 0              9   \n",
       "39534              6                0                 0              9   \n",
       "9963               6                0                 0              9   \n",
       "72838              6                0                 0              9   \n",
       "40217              6                0                 0              9   \n",
       "...              ...              ...               ...            ...   \n",
       "972                5                2                 0              7   \n",
       "24028              6                0                 0              9   \n",
       "36067              6                0                 0              9   \n",
       "24985              5                2                 0              7   \n",
       "878                6                0                 0              9   \n",
       "\n",
       "       Missed_past12mos  Partial_past12mos  Full_past12mos  DEFAULT_TAGGING  \n",
       "11757                 0                  0              12                0  \n",
       "39534                 0                  0              12                0  \n",
       "9963                  1                  0              11                0  \n",
       "72838                 1                  0              11                0  \n",
       "40217                 0                  0              12                0  \n",
       "...                 ...                ...             ...              ...  \n",
       "972                   2                  0              10                0  \n",
       "24028                 0                  0              12                0  \n",
       "36067                 2                  0              10                0  \n",
       "24985                 3                  0               9                0  \n",
       "878                   0                  0              12                0  \n",
       "\n",
       "[78197 rows x 34 columns]"
      ]
     },
     "execution_count": 7,
     "metadata": {},
     "output_type": "execute_result"
    }
   ],
   "source": [
    "Y1"
   ]
  },
  {
   "cell_type": "code",
   "execution_count": 8,
   "id": "19d947aa-fc9a-4cbd-b211-4f061ea1e650",
   "metadata": {
    "tags": []
   },
   "outputs": [],
   "source": [
    "# Define X1 (features) and y1 (target)\n",
    "X_1 = Y1.drop(columns=[\"DEFAULT_TAGGING\"])  \n",
    "Y_1 = Y1[\"DEFAULT_TAGGING\"].astype(int)  # Convert target to integer Series"
   ]
  },
  {
   "cell_type": "code",
   "execution_count": 9,
   "id": "93b0bbc4-7144-401e-b0c4-31fe52aba020",
   "metadata": {
    "tags": []
   },
   "outputs": [
    {
     "name": "stdout",
     "output_type": "stream",
     "text": [
      "Before SMOTE: Counter({0: 77699, 1: 498})\n",
      "After SMOTE: Counter({0: 77699, 1: 38849})\n"
     ]
    }
   ],
   "source": [
    "from imblearn.over_sampling import SMOTENC\n",
    "# import numpy as np\n",
    "# import pandas as pd\n",
    "from collections import Counter\n",
    "\n",
    "# Define feature groups\n",
    "binary_features = ['EverAtLeast1DPD_3mos', 'EverAtLeast15DPD_3mos', 'EverAtLeast31DPD_3mos', 'EverAtLeast61DPD_3mos',\n",
    "                   'EverAtLeast1DPD_6mos', 'EverAtLeast15DPD_6mos', 'EverAtLeast31DPD_6mos', 'EverAtLeast61DPD_6mos',\n",
    "                   'EverAtLeast1DPD_9mos', 'EverAtLeast15DPD_9mos', 'EverAtLeast31DPD_9mos', 'EverAtLeast61DPD_9mos',\n",
    "                   'EverAtLeast1DPD_12mos', 'EverAtLeast15DPD_12mos', 'EverAtLeast31DPD_12mos', 'EverAtLeast61DPD_12mos']\n",
    "\n",
    "ordinal_features = ['WorstDel_3mos', 'WorstDel_6mos', 'WorstDel_9mos', 'WorstDel_12mos']\n",
    "\n",
    "continuous_features = ['RemainingLoanRatio_12mos']\n",
    "\n",
    "count_features = ['Missed_past3mos', 'Partial_past3mos', 'Full_past3mos',\n",
    "                  'Missed_past6mos', 'Partial_past6mos', 'Full_past6mos',\n",
    "                  'Missed_past9mos', 'Partial_past9mos', 'Full_past9mos',\n",
    "                  'Missed_past12mos', 'Partial_past12mos', 'Full_past12mos']\n",
    "\n",
    "# Get categorical feature indices for SMOTE-NC  \n",
    "categorical_feature_indices = [X_1.columns.get_loc(col) for col in binary_features + ordinal_features]\n",
    "\n",
    "# Apply SMOTE-NC\n",
    "smote_nc = SMOTENC(categorical_features=categorical_feature_indices, random_state=42, sampling_strategy=0.50)\n",
    "X1_resampled, Y1_resampled = smote_nc.fit_resample(X_1, Y_1)\n",
    "\n",
    "# Convert back to DataFrame\n",
    "x1_resampled = pd.DataFrame(X1_resampled, columns=X_1.columns)\n",
    "y1_resampled = pd.Series(Y1_resampled, name=\"DEFAULT_TAGGING\")\n",
    "\n",
    "# Post-processing: Round categorical & count features\n",
    "x1_resampled[binary_features] = x1_resampled[binary_features].round().astype(int)\n",
    "x1_resampled[ordinal_features] = x1_resampled[ordinal_features].round().astype(int)\n",
    "x1_resampled[count_features] = x1_resampled[count_features].round().astype(int)\n",
    "\n",
    "# Print class distribution\n",
    "print(\"Before SMOTE:\", Counter(Y_1))\n",
    "print(\"After SMOTE:\", Counter(y1_resampled))"
   ]
  },
  {
   "cell_type": "code",
   "execution_count": 10,
   "id": "165524a0-95fe-4681-806a-e95113e85b1e",
   "metadata": {
    "tags": []
   },
   "outputs": [
    {
     "name": "stdout",
     "output_type": "stream",
     "text": [
      "        EverAtLeast1DPD_3mos  EverAtLeast15DPD_3mos  EverAtLeast31DPD_3mos  \\\n",
      "116543                     1                      1                      1   \n",
      "116544                     1                      1                      1   \n",
      "116545                     1                      1                      1   \n",
      "116546                     0                      0                      0   \n",
      "116547                     1                      1                      1   \n",
      "\n",
      "        EverAtLeast61DPD_3mos  EverAtLeast1DPD_6mos  EverAtLeast15DPD_6mos  \\\n",
      "116543                      1                     1                      1   \n",
      "116544                      1                     1                      1   \n",
      "116545                      1                     1                      1   \n",
      "116546                      0                     0                      0   \n",
      "116547                      0                     1                      1   \n",
      "\n",
      "        EverAtLeast31DPD_6mos  EverAtLeast61DPD_6mos  EverAtLeast1DPD_9mos  \\\n",
      "116543                      1                      1                     1   \n",
      "116544                      1                      1                     1   \n",
      "116545                      1                      1                     1   \n",
      "116546                      0                      0                     0   \n",
      "116547                      1                      0                     1   \n",
      "\n",
      "        EverAtLeast15DPD_9mos  ...  Missed_past6mos  Partial_past6mos  \\\n",
      "116543                      1  ...                6                 0   \n",
      "116544                      1  ...                5                 0   \n",
      "116545                      1  ...                5                 0   \n",
      "116546                      0  ...                2                 0   \n",
      "116547                      1  ...                2                 0   \n",
      "\n",
      "        Full_past6mos  Missed_past9mos  Partial_past9mos  Full_past9mos  \\\n",
      "116543              0                9                 0              0   \n",
      "116544              0                6                 0              3   \n",
      "116545              1                5                 0              4   \n",
      "116546              4                2                 0              7   \n",
      "116547              3                2                 0              6   \n",
      "\n",
      "        Missed_past12mos  Partial_past12mos  Full_past12mos  DEFAULT_TAGGING  \n",
      "116543                11                  0               1                1  \n",
      "116544                 6                  0               5                1  \n",
      "116545                 5                  0               7                1  \n",
      "116546                 2                  0               9                1  \n",
      "116547                 2                  0               9                1  \n",
      "\n",
      "[5 rows x 34 columns]\n"
     ]
    }
   ],
   "source": [
    "Y1_resampled = pd.concat([x1_resampled, y1_resampled], axis=1)\n",
    "\n",
    "# Check if rows are still aligned properly\n",
    "print(Y1_resampled.tail())  # Preview first few rows"
   ]
  },
  {
   "cell_type": "code",
   "execution_count": 12,
   "id": "fe3ac59b-d01a-43bd-99d2-535b100af5f5",
   "metadata": {
    "tags": []
   },
   "outputs": [],
   "source": [
    "xvars = [\n",
    "    'EverAtLeast1DPD_3mos', 'EverAtLeast15DPD_3mos', 'EverAtLeast31DPD_3mos', 'EverAtLeast61DPD_3mos', \n",
    "    'EverAtLeast1DPD_6mos', 'EverAtLeast15DPD_6mos', 'EverAtLeast31DPD_6mos', 'EverAtLeast61DPD_6mos', \n",
    "    'EverAtLeast1DPD_9mos', 'EverAtLeast15DPD_9mos', 'EverAtLeast31DPD_9mos', 'EverAtLeast61DPD_9mos', \n",
    "    'EverAtLeast1DPD_12mos', 'EverAtLeast15DPD_12mos', 'EverAtLeast31DPD_12mos', 'EverAtLeast61DPD_12mos', \n",
    "    'WorstDel_3mos', 'WorstDel_6mos', 'WorstDel_9mos', 'WorstDel_12mos', 'RemainingLoanRatio_12mos', \n",
    "    'Missed_past3mos', 'Partial_past3mos', 'Full_past3mos', 'Missed_past6mos', 'Partial_past6mos', \n",
    "    'Full_past6mos', 'Missed_past9mos', 'Partial_past9mos', 'Full_past9mos', 'Missed_past12mos', \n",
    "    'Partial_past12mos', 'Full_past12mos'\n",
    "]\n",
    "\n",
    "yvar = 'DEFAULT_TAGGING'  # Target variable for y1\n",
    "\n",
    "# Prepare training data (y1)\n",
    "X_train_split = Y1_resampled[xvars]\n",
    "y_train_split = Y1_resampled[yvar]"
   ]
  },
  {
   "cell_type": "markdown",
   "id": "0959e968-ab56-44b7-9ea8-b1733d31dc9a",
   "metadata": {},
   "source": [
    "#### Option 1 Grid Search "
   ]
  },
  {
   "cell_type": "code",
   "execution_count": 13,
   "id": "ae2a8d73-d626-4244-9737-451b885f7c6b",
   "metadata": {
    "tags": []
   },
   "outputs": [],
   "source": [
    "from sklearn.metrics import recall_score, confusion_matrix, precision_recall_curve\n",
    "import lightgbm as lgb\n",
    "import numpy as np\n",
    "from itertools import product\n",
    "\n",
    "def calculate_specificity(y_true, y_pred):\n",
    "    tn, fp, fn, tp = confusion_matrix(y_true, y_pred).ravel()\n",
    "    print(f\"True Negatives (TN): {tn}\")\n",
    "    print(f\"False Positives (FP): {fp}\")\n",
    "    print(f\"False Negatives (FN): {fn}\")\n",
    "    print(f\"True Positives (TP): {tp}\")\n",
    "    specificity = tn / (tn + fp)\n",
    "    return specificity\n",
    "\n",
    "#change param_grid based on your chosen range of values\n",
    "def grid_search_lgbm(X_train_split, y_train_split, X_val, y_val):\n",
    "    param_grid = {\n",
    "        'num_leaves': np.linspace(20, 100, 5, dtype=int),\n",
    "        'learning_rate': np.linspace(0.03, 0.15, 5),\n",
    "        'num_iterations': np.linspace(50, 200, 4, dtype=int)\n",
    "    }\n",
    "\n",
    "    best_results = {\n",
    "        'recall': {'score': -np.inf, 'params': None},\n",
    "        'specificity': {'score': -np.inf, 'params': None}\n",
    "    }\n",
    "\n",
    "    print(\"Starting Grid Search for num_leaves, learning_rate, and num_iterations...\\n\")\n",
    "\n",
    "    for num_leaves, learning_rate, num_iterations in product(\n",
    "        param_grid['num_leaves'], param_grid['learning_rate'], param_grid['num_iterations']\n",
    "    ):\n",
    "        model = lgb.LGBMClassifier(\n",
    "            boosting_type='gbdt',\n",
    "            objective='binary',\n",
    "            metric='binary_logloss',\n",
    "            learning_rate=learning_rate,\n",
    "            num_iterations=num_iterations,\n",
    "            num_leaves=num_leaves,\n",
    "            is_unbalanced=True,\n",
    "            random_state=42,\n",
    "            bagging_seed=42,\n",
    "            feature_fraction_seed=42,\n",
    "            drop_seed=42,\n",
    "            data_random_seed=42,\n",
    "            deterministic=True,\n",
    "            n_jobs=1\n",
    "        )\n",
    "\n",
    "        model.fit(X_train_split, y_train_split)\n",
    "        y_proba = model.predict_proba(X_val)\n",
    "\n",
    "        # Threshold tuning based on maximum F1 score\n",
    "        precision, recall_arr, thresholds = precision_recall_curve(y_val, y_proba[:, 1])\n",
    "        f1_scores = 2 * (precision * recall_arr) / (precision + recall_arr)  # Avoid divide-by-zero\n",
    "        optimal_threshold = thresholds[np.argmax(f1_scores)]\n",
    "\n",
    "        # Apply optimal threshold\n",
    "        y_pred = (y_proba[:, 1] >= optimal_threshold).astype(int)\n",
    "\n",
    "        recall = recall_score(y_val, y_pred)\n",
    "        specificity = calculate_specificity(y_val, y_pred)\n",
    "\n",
    "        print(f\"Params: num_leaves={num_leaves}, learning_rate={learning_rate:.3f}, num_iterations={num_iterations}\")\n",
    "        print(f\" → Optimal Threshold: {optimal_threshold:.4f}\")\n",
    "        print(f\" → Recall: {recall:.4f}, Specificity: {specificity:.4f}\\n\")\n",
    "\n",
    "        if recall > best_results['recall']['score']:\n",
    "            best_results['recall'] = {\n",
    "                'score': recall,\n",
    "                'params': {\n",
    "                    'num_leaves': num_leaves,\n",
    "                    'learning_rate': learning_rate,\n",
    "                    'num_iterations': num_iterations,\n",
    "                    'threshold': optimal_threshold\n",
    "                }\n",
    "            }\n",
    "\n",
    "        if specificity > best_results['specificity']['score']:\n",
    "            best_results['specificity'] = {\n",
    "                'score': specificity,\n",
    "                'params': {\n",
    "                    'num_leaves': num_leaves,\n",
    "                    'learning_rate': learning_rate,\n",
    "                    'num_iterations': num_iterations,\n",
    "                    'threshold': optimal_threshold\n",
    "                }\n",
    "            }\n",
    "\n",
    "    # Print final best results\n",
    "    print(\"Grid Search Complete!\\n\")\n",
    "    print(\"Best Recall Score:\")\n",
    "    print(f\" → Score: {best_results['recall']['score']:.4f}\")\n",
    "    print(f\" → Params: {best_results['recall']['params']}\\n\")\n",
    "\n",
    "    print(\"Best Specificity Score:\")\n",
    "    print(f\" → Score: {best_results['specificity']['score']:.4f}\")\n",
    "    print(f\" → Params: {best_results['specificity']['params']}\\n\")\n",
    "\n",
    "    return best_results"
   ]
  },
  {
   "cell_type": "code",
   "execution_count": 14,
   "id": "3e34702e-117b-4be9-9951-2cb6a101a334",
   "metadata": {
    "tags": []
   },
   "outputs": [
    {
     "name": "stdout",
     "output_type": "stream",
     "text": [
      "Starting Grid Search for num_leaves, learning_rate, and num_iterations...\n",
      "\n",
      "[LightGBM] [Warning] Unknown parameter: is_unbalanced\n"
     ]
    },
    {
     "name": "stderr",
     "output_type": "stream",
     "text": [
      "C:\\Users\\Neil\\AppData\\Roaming\\Python\\Python311\\site-packages\\lightgbm\\engine.py:204: UserWarning: Found `num_iterations` in params. Will use it instead of argument\n",
      "  _log_warning(f\"Found `{alias}` in params. Will use it instead of argument\")\n"
     ]
    },
    {
     "name": "stdout",
     "output_type": "stream",
     "text": [
      "[LightGBM] [Warning] Unknown parameter: is_unbalanced\n",
      "[LightGBM] [Info] Number of positive: 38849, number of negative: 77699\n",
      "[LightGBM] [Info] Auto-choosing row-wise multi-threading, the overhead of testing was 0.024714 seconds.\n",
      "You can set `force_row_wise=true` to remove the overhead.\n",
      "And if memory is not enough, you can set `force_col_wise=true`.\n",
      "[LightGBM] [Info] Total Bins 411\n",
      "[LightGBM] [Info] Number of data points in the train set: 116548, number of used features: 33\n",
      "[LightGBM] [Info] [binary:BoostFromScore]: pavg=0.333330 -> initscore=-0.693160\n",
      "[LightGBM] [Info] Start training from score -0.693160\n",
      "[LightGBM] [Warning] Unknown parameter: is_unbalanced\n",
      "True Negatives (TN): 33286\n",
      "False Positives (FP): 15\n",
      "False Negatives (FN): 73\n",
      "True Positives (TP): 140\n",
      "Params: num_leaves=20, learning_rate=0.030, num_iterations=50\n",
      " → Optimal Threshold: 0.8366\n",
      " → Recall: 0.6573, Specificity: 0.9995\n",
      "\n",
      "[LightGBM] [Warning] Unknown parameter: is_unbalanced\n"
     ]
    },
    {
     "name": "stderr",
     "output_type": "stream",
     "text": [
      "C:\\Users\\Neil\\AppData\\Roaming\\Python\\Python311\\site-packages\\lightgbm\\engine.py:204: UserWarning: Found `num_iterations` in params. Will use it instead of argument\n",
      "  _log_warning(f\"Found `{alias}` in params. Will use it instead of argument\")\n"
     ]
    },
    {
     "name": "stdout",
     "output_type": "stream",
     "text": [
      "[LightGBM] [Warning] Unknown parameter: is_unbalanced\n",
      "[LightGBM] [Info] Number of positive: 38849, number of negative: 77699\n",
      "[LightGBM] [Info] Auto-choosing row-wise multi-threading, the overhead of testing was 0.023718 seconds.\n",
      "You can set `force_row_wise=true` to remove the overhead.\n",
      "And if memory is not enough, you can set `force_col_wise=true`.\n",
      "[LightGBM] [Info] Total Bins 411\n",
      "[LightGBM] [Info] Number of data points in the train set: 116548, number of used features: 33\n",
      "[LightGBM] [Info] [binary:BoostFromScore]: pavg=0.333330 -> initscore=-0.693160\n",
      "[LightGBM] [Info] Start training from score -0.693160\n",
      "[LightGBM] [Warning] Unknown parameter: is_unbalanced\n",
      "True Negatives (TN): 33290\n",
      "False Positives (FP): 11\n",
      "False Negatives (FN): 54\n",
      "True Positives (TP): 159\n",
      "Params: num_leaves=20, learning_rate=0.030, num_iterations=100\n",
      " → Optimal Threshold: 0.9201\n",
      " → Recall: 0.7465, Specificity: 0.9997\n",
      "\n",
      "[LightGBM] [Warning] Unknown parameter: is_unbalanced\n"
     ]
    },
    {
     "name": "stderr",
     "output_type": "stream",
     "text": [
      "C:\\Users\\Neil\\AppData\\Roaming\\Python\\Python311\\site-packages\\lightgbm\\engine.py:204: UserWarning: Found `num_iterations` in params. Will use it instead of argument\n",
      "  _log_warning(f\"Found `{alias}` in params. Will use it instead of argument\")\n"
     ]
    },
    {
     "name": "stdout",
     "output_type": "stream",
     "text": [
      "[LightGBM] [Warning] Unknown parameter: is_unbalanced\n",
      "[LightGBM] [Info] Number of positive: 38849, number of negative: 77699\n",
      "[LightGBM] [Info] Auto-choosing row-wise multi-threading, the overhead of testing was 0.021951 seconds.\n",
      "You can set `force_row_wise=true` to remove the overhead.\n",
      "And if memory is not enough, you can set `force_col_wise=true`.\n",
      "[LightGBM] [Info] Total Bins 411\n",
      "[LightGBM] [Info] Number of data points in the train set: 116548, number of used features: 33\n",
      "[LightGBM] [Info] [binary:BoostFromScore]: pavg=0.333330 -> initscore=-0.693160\n",
      "[LightGBM] [Info] Start training from score -0.693160\n",
      "[LightGBM] [Warning] Unknown parameter: is_unbalanced\n",
      "True Negatives (TN): 33289\n",
      "False Positives (FP): 12\n",
      "False Negatives (FN): 53\n",
      "True Positives (TP): 160\n",
      "Params: num_leaves=20, learning_rate=0.030, num_iterations=150\n",
      " → Optimal Threshold: 0.9281\n",
      " → Recall: 0.7512, Specificity: 0.9996\n",
      "\n"
     ]
    },
    {
     "name": "stderr",
     "output_type": "stream",
     "text": [
      "C:\\Users\\Neil\\AppData\\Roaming\\Python\\Python311\\site-packages\\lightgbm\\engine.py:204: UserWarning: Found `num_iterations` in params. Will use it instead of argument\n",
      "  _log_warning(f\"Found `{alias}` in params. Will use it instead of argument\")\n"
     ]
    },
    {
     "name": "stdout",
     "output_type": "stream",
     "text": [
      "[LightGBM] [Warning] Unknown parameter: is_unbalanced\n",
      "[LightGBM] [Warning] Unknown parameter: is_unbalanced\n",
      "[LightGBM] [Info] Number of positive: 38849, number of negative: 77699\n",
      "[LightGBM] [Info] Auto-choosing row-wise multi-threading, the overhead of testing was 0.022557 seconds.\n",
      "You can set `force_row_wise=true` to remove the overhead.\n",
      "And if memory is not enough, you can set `force_col_wise=true`.\n",
      "[LightGBM] [Info] Total Bins 411\n",
      "[LightGBM] [Info] Number of data points in the train set: 116548, number of used features: 33\n",
      "[LightGBM] [Info] [binary:BoostFromScore]: pavg=0.333330 -> initscore=-0.693160\n",
      "[LightGBM] [Info] Start training from score -0.693160\n",
      "[LightGBM] [Warning] Unknown parameter: is_unbalanced\n",
      "True Negatives (TN): 33289\n",
      "False Positives (FP): 12\n",
      "False Negatives (FN): 53\n",
      "True Positives (TP): 160\n",
      "Params: num_leaves=20, learning_rate=0.030, num_iterations=200\n",
      " → Optimal Threshold: 0.9384\n",
      " → Recall: 0.7512, Specificity: 0.9996\n",
      "\n",
      "[LightGBM] [Warning] Unknown parameter: is_unbalanced\n"
     ]
    },
    {
     "name": "stderr",
     "output_type": "stream",
     "text": [
      "C:\\Users\\Neil\\AppData\\Roaming\\Python\\Python311\\site-packages\\lightgbm\\engine.py:204: UserWarning: Found `num_iterations` in params. Will use it instead of argument\n",
      "  _log_warning(f\"Found `{alias}` in params. Will use it instead of argument\")\n"
     ]
    },
    {
     "name": "stdout",
     "output_type": "stream",
     "text": [
      "[LightGBM] [Warning] Unknown parameter: is_unbalanced\n",
      "[LightGBM] [Info] Number of positive: 38849, number of negative: 77699\n",
      "[LightGBM] [Info] Auto-choosing row-wise multi-threading, the overhead of testing was 0.024757 seconds.\n",
      "You can set `force_row_wise=true` to remove the overhead.\n",
      "And if memory is not enough, you can set `force_col_wise=true`.\n",
      "[LightGBM] [Info] Total Bins 411\n",
      "[LightGBM] [Info] Number of data points in the train set: 116548, number of used features: 33\n",
      "[LightGBM] [Info] [binary:BoostFromScore]: pavg=0.333330 -> initscore=-0.693160\n",
      "[LightGBM] [Info] Start training from score -0.693160\n",
      "[LightGBM] [Warning] Unknown parameter: is_unbalanced\n",
      "True Negatives (TN): 33289\n",
      "False Positives (FP): 12\n",
      "False Negatives (FN): 52\n",
      "True Positives (TP): 161\n",
      "Params: num_leaves=20, learning_rate=0.060, num_iterations=50\n",
      " → Optimal Threshold: 0.9164\n",
      " → Recall: 0.7559, Specificity: 0.9996\n",
      "\n",
      "[LightGBM] [Warning] Unknown parameter: is_unbalanced\n"
     ]
    },
    {
     "name": "stderr",
     "output_type": "stream",
     "text": [
      "C:\\Users\\Neil\\AppData\\Roaming\\Python\\Python311\\site-packages\\lightgbm\\engine.py:204: UserWarning: Found `num_iterations` in params. Will use it instead of argument\n",
      "  _log_warning(f\"Found `{alias}` in params. Will use it instead of argument\")\n"
     ]
    },
    {
     "name": "stdout",
     "output_type": "stream",
     "text": [
      "[LightGBM] [Warning] Unknown parameter: is_unbalanced\n",
      "[LightGBM] [Info] Number of positive: 38849, number of negative: 77699\n",
      "[LightGBM] [Info] Auto-choosing row-wise multi-threading, the overhead of testing was 0.024669 seconds.\n",
      "You can set `force_row_wise=true` to remove the overhead.\n",
      "And if memory is not enough, you can set `force_col_wise=true`.\n",
      "[LightGBM] [Info] Total Bins 411\n",
      "[LightGBM] [Info] Number of data points in the train set: 116548, number of used features: 33\n",
      "[LightGBM] [Info] [binary:BoostFromScore]: pavg=0.333330 -> initscore=-0.693160\n",
      "[LightGBM] [Info] Start training from score -0.693160\n",
      "[LightGBM] [Warning] Unknown parameter: is_unbalanced\n",
      "True Negatives (TN): 33289\n",
      "False Positives (FP): 12\n",
      "False Negatives (FN): 54\n",
      "True Positives (TP): 159\n",
      "Params: num_leaves=20, learning_rate=0.060, num_iterations=100\n",
      " → Optimal Threshold: 0.9405\n",
      " → Recall: 0.7465, Specificity: 0.9996\n",
      "\n",
      "[LightGBM] [Warning] Unknown parameter: is_unbalanced\n"
     ]
    },
    {
     "name": "stderr",
     "output_type": "stream",
     "text": [
      "C:\\Users\\Neil\\AppData\\Roaming\\Python\\Python311\\site-packages\\lightgbm\\engine.py:204: UserWarning: Found `num_iterations` in params. Will use it instead of argument\n",
      "  _log_warning(f\"Found `{alias}` in params. Will use it instead of argument\")\n"
     ]
    },
    {
     "name": "stdout",
     "output_type": "stream",
     "text": [
      "[LightGBM] [Warning] Unknown parameter: is_unbalanced\n",
      "[LightGBM] [Info] Number of positive: 38849, number of negative: 77699\n",
      "[LightGBM] [Info] Auto-choosing row-wise multi-threading, the overhead of testing was 0.027519 seconds.\n",
      "You can set `force_row_wise=true` to remove the overhead.\n",
      "And if memory is not enough, you can set `force_col_wise=true`.\n",
      "[LightGBM] [Info] Total Bins 411\n",
      "[LightGBM] [Info] Number of data points in the train set: 116548, number of used features: 33\n",
      "[LightGBM] [Info] [binary:BoostFromScore]: pavg=0.333330 -> initscore=-0.693160\n",
      "[LightGBM] [Info] Start training from score -0.693160\n",
      "[LightGBM] [Warning] Unknown parameter: is_unbalanced\n",
      "True Negatives (TN): 33287\n",
      "False Positives (FP): 14\n",
      "False Negatives (FN): 53\n",
      "True Positives (TP): 160\n",
      "Params: num_leaves=20, learning_rate=0.060, num_iterations=150\n",
      " → Optimal Threshold: 0.9296\n",
      " → Recall: 0.7512, Specificity: 0.9996\n",
      "\n",
      "[LightGBM] [Warning] Unknown parameter: is_unbalanced\n"
     ]
    },
    {
     "name": "stderr",
     "output_type": "stream",
     "text": [
      "C:\\Users\\Neil\\AppData\\Roaming\\Python\\Python311\\site-packages\\lightgbm\\engine.py:204: UserWarning: Found `num_iterations` in params. Will use it instead of argument\n",
      "  _log_warning(f\"Found `{alias}` in params. Will use it instead of argument\")\n"
     ]
    },
    {
     "name": "stdout",
     "output_type": "stream",
     "text": [
      "[LightGBM] [Warning] Unknown parameter: is_unbalanced\n",
      "[LightGBM] [Info] Number of positive: 38849, number of negative: 77699\n",
      "[LightGBM] [Info] Auto-choosing row-wise multi-threading, the overhead of testing was 0.022968 seconds.\n",
      "You can set `force_row_wise=true` to remove the overhead.\n",
      "And if memory is not enough, you can set `force_col_wise=true`.\n",
      "[LightGBM] [Info] Total Bins 411\n",
      "[LightGBM] [Info] Number of data points in the train set: 116548, number of used features: 33\n",
      "[LightGBM] [Info] [binary:BoostFromScore]: pavg=0.333330 -> initscore=-0.693160\n",
      "[LightGBM] [Info] Start training from score -0.693160\n",
      "[LightGBM] [Warning] Unknown parameter: is_unbalanced\n",
      "True Negatives (TN): 33285\n",
      "False Positives (FP): 16\n",
      "False Negatives (FN): 53\n",
      "True Positives (TP): 160\n",
      "Params: num_leaves=20, learning_rate=0.060, num_iterations=200\n",
      " → Optimal Threshold: 0.9142\n",
      " → Recall: 0.7512, Specificity: 0.9995\n",
      "\n",
      "[LightGBM] [Warning] Unknown parameter: is_unbalanced\n"
     ]
    },
    {
     "name": "stderr",
     "output_type": "stream",
     "text": [
      "C:\\Users\\Neil\\AppData\\Roaming\\Python\\Python311\\site-packages\\lightgbm\\engine.py:204: UserWarning: Found `num_iterations` in params. Will use it instead of argument\n",
      "  _log_warning(f\"Found `{alias}` in params. Will use it instead of argument\")\n"
     ]
    },
    {
     "name": "stdout",
     "output_type": "stream",
     "text": [
      "[LightGBM] [Warning] Unknown parameter: is_unbalanced\n",
      "[LightGBM] [Info] Number of positive: 38849, number of negative: 77699\n",
      "[LightGBM] [Info] Auto-choosing row-wise multi-threading, the overhead of testing was 0.020530 seconds.\n",
      "You can set `force_row_wise=true` to remove the overhead.\n",
      "And if memory is not enough, you can set `force_col_wise=true`.\n",
      "[LightGBM] [Info] Total Bins 411\n",
      "[LightGBM] [Info] Number of data points in the train set: 116548, number of used features: 33\n",
      "[LightGBM] [Info] [binary:BoostFromScore]: pavg=0.333330 -> initscore=-0.693160\n",
      "[LightGBM] [Info] Start training from score -0.693160\n",
      "[LightGBM] [Warning] Unknown parameter: is_unbalanced\n",
      "True Negatives (TN): 33290\n",
      "False Positives (FP): 11\n",
      "False Negatives (FN): 53\n",
      "True Positives (TP): 160\n",
      "Params: num_leaves=20, learning_rate=0.090, num_iterations=50\n",
      " → Optimal Threshold: 0.9298\n",
      " → Recall: 0.7512, Specificity: 0.9997\n",
      "\n",
      "[LightGBM] [Warning] Unknown parameter: is_unbalanced\n"
     ]
    },
    {
     "name": "stderr",
     "output_type": "stream",
     "text": [
      "C:\\Users\\Neil\\AppData\\Roaming\\Python\\Python311\\site-packages\\lightgbm\\engine.py:204: UserWarning: Found `num_iterations` in params. Will use it instead of argument\n",
      "  _log_warning(f\"Found `{alias}` in params. Will use it instead of argument\")\n"
     ]
    },
    {
     "name": "stdout",
     "output_type": "stream",
     "text": [
      "[LightGBM] [Warning] Unknown parameter: is_unbalanced\n",
      "[LightGBM] [Info] Number of positive: 38849, number of negative: 77699\n",
      "[LightGBM] [Info] Auto-choosing row-wise multi-threading, the overhead of testing was 0.023778 seconds.\n",
      "You can set `force_row_wise=true` to remove the overhead.\n",
      "And if memory is not enough, you can set `force_col_wise=true`.\n",
      "[LightGBM] [Info] Total Bins 411\n",
      "[LightGBM] [Info] Number of data points in the train set: 116548, number of used features: 33\n",
      "[LightGBM] [Info] [binary:BoostFromScore]: pavg=0.333330 -> initscore=-0.693160\n",
      "[LightGBM] [Info] Start training from score -0.693160\n",
      "[LightGBM] [Warning] Unknown parameter: is_unbalanced\n",
      "True Negatives (TN): 33292\n",
      "False Positives (FP): 9\n",
      "False Negatives (FN): 56\n",
      "True Positives (TP): 157\n",
      "Params: num_leaves=20, learning_rate=0.090, num_iterations=100\n",
      " → Optimal Threshold: 0.9590\n",
      " → Recall: 0.7371, Specificity: 0.9997\n",
      "\n",
      "[LightGBM] [Warning] Unknown parameter: is_unbalanced\n"
     ]
    },
    {
     "name": "stderr",
     "output_type": "stream",
     "text": [
      "C:\\Users\\Neil\\AppData\\Roaming\\Python\\Python311\\site-packages\\lightgbm\\engine.py:204: UserWarning: Found `num_iterations` in params. Will use it instead of argument\n",
      "  _log_warning(f\"Found `{alias}` in params. Will use it instead of argument\")\n"
     ]
    },
    {
     "name": "stdout",
     "output_type": "stream",
     "text": [
      "[LightGBM] [Warning] Unknown parameter: is_unbalanced\n",
      "[LightGBM] [Info] Number of positive: 38849, number of negative: 77699\n",
      "[LightGBM] [Info] Auto-choosing row-wise multi-threading, the overhead of testing was 0.019310 seconds.\n",
      "You can set `force_row_wise=true` to remove the overhead.\n",
      "And if memory is not enough, you can set `force_col_wise=true`.\n",
      "[LightGBM] [Info] Total Bins 411\n",
      "[LightGBM] [Info] Number of data points in the train set: 116548, number of used features: 33\n",
      "[LightGBM] [Info] [binary:BoostFromScore]: pavg=0.333330 -> initscore=-0.693160\n",
      "[LightGBM] [Info] Start training from score -0.693160\n",
      "[LightGBM] [Warning] Unknown parameter: is_unbalanced\n",
      "True Negatives (TN): 33292\n",
      "False Positives (FP): 9\n",
      "False Negatives (FN): 55\n",
      "True Positives (TP): 158\n",
      "Params: num_leaves=20, learning_rate=0.090, num_iterations=150\n",
      " → Optimal Threshold: 0.9531\n",
      " → Recall: 0.7418, Specificity: 0.9997\n",
      "\n",
      "[LightGBM] [Warning] Unknown parameter: is_unbalanced\n"
     ]
    },
    {
     "name": "stderr",
     "output_type": "stream",
     "text": [
      "C:\\Users\\Neil\\AppData\\Roaming\\Python\\Python311\\site-packages\\lightgbm\\engine.py:204: UserWarning: Found `num_iterations` in params. Will use it instead of argument\n",
      "  _log_warning(f\"Found `{alias}` in params. Will use it instead of argument\")\n"
     ]
    },
    {
     "name": "stdout",
     "output_type": "stream",
     "text": [
      "[LightGBM] [Warning] Unknown parameter: is_unbalanced\n",
      "[LightGBM] [Info] Number of positive: 38849, number of negative: 77699\n",
      "[LightGBM] [Info] Auto-choosing row-wise multi-threading, the overhead of testing was 0.026686 seconds.\n",
      "You can set `force_row_wise=true` to remove the overhead.\n",
      "And if memory is not enough, you can set `force_col_wise=true`.\n",
      "[LightGBM] [Info] Total Bins 411\n",
      "[LightGBM] [Info] Number of data points in the train set: 116548, number of used features: 33\n",
      "[LightGBM] [Info] [binary:BoostFromScore]: pavg=0.333330 -> initscore=-0.693160\n",
      "[LightGBM] [Info] Start training from score -0.693160\n",
      "[LightGBM] [Warning] Unknown parameter: is_unbalanced\n",
      "True Negatives (TN): 33289\n",
      "False Positives (FP): 12\n",
      "False Negatives (FN): 56\n",
      "True Positives (TP): 157\n",
      "Params: num_leaves=20, learning_rate=0.090, num_iterations=200\n",
      " → Optimal Threshold: 0.9219\n",
      " → Recall: 0.7371, Specificity: 0.9996\n",
      "\n",
      "[LightGBM] [Warning] Unknown parameter: is_unbalanced\n"
     ]
    },
    {
     "name": "stderr",
     "output_type": "stream",
     "text": [
      "C:\\Users\\Neil\\AppData\\Roaming\\Python\\Python311\\site-packages\\lightgbm\\engine.py:204: UserWarning: Found `num_iterations` in params. Will use it instead of argument\n",
      "  _log_warning(f\"Found `{alias}` in params. Will use it instead of argument\")\n"
     ]
    },
    {
     "name": "stdout",
     "output_type": "stream",
     "text": [
      "[LightGBM] [Warning] Unknown parameter: is_unbalanced\n",
      "[LightGBM] [Info] Number of positive: 38849, number of negative: 77699\n",
      "[LightGBM] [Info] Auto-choosing row-wise multi-threading, the overhead of testing was 0.021923 seconds.\n",
      "You can set `force_row_wise=true` to remove the overhead.\n",
      "And if memory is not enough, you can set `force_col_wise=true`.\n",
      "[LightGBM] [Info] Total Bins 411\n",
      "[LightGBM] [Info] Number of data points in the train set: 116548, number of used features: 33\n",
      "[LightGBM] [Info] [binary:BoostFromScore]: pavg=0.333330 -> initscore=-0.693160\n",
      "[LightGBM] [Info] Start training from score -0.693160\n",
      "[LightGBM] [Warning] Unknown parameter: is_unbalanced\n",
      "True Negatives (TN): 33288\n",
      "False Positives (FP): 13\n",
      "False Negatives (FN): 53\n",
      "True Positives (TP): 160\n",
      "Params: num_leaves=20, learning_rate=0.120, num_iterations=50\n",
      " → Optimal Threshold: 0.9446\n",
      " → Recall: 0.7512, Specificity: 0.9996\n",
      "\n",
      "[LightGBM] [Warning] Unknown parameter: is_unbalanced\n"
     ]
    },
    {
     "name": "stderr",
     "output_type": "stream",
     "text": [
      "C:\\Users\\Neil\\AppData\\Roaming\\Python\\Python311\\site-packages\\lightgbm\\engine.py:204: UserWarning: Found `num_iterations` in params. Will use it instead of argument\n",
      "  _log_warning(f\"Found `{alias}` in params. Will use it instead of argument\")\n"
     ]
    },
    {
     "name": "stdout",
     "output_type": "stream",
     "text": [
      "[LightGBM] [Warning] Unknown parameter: is_unbalanced\n",
      "[LightGBM] [Info] Number of positive: 38849, number of negative: 77699\n",
      "[LightGBM] [Info] Auto-choosing row-wise multi-threading, the overhead of testing was 0.023143 seconds.\n",
      "You can set `force_row_wise=true` to remove the overhead.\n",
      "And if memory is not enough, you can set `force_col_wise=true`.\n",
      "[LightGBM] [Info] Total Bins 411\n",
      "[LightGBM] [Info] Number of data points in the train set: 116548, number of used features: 33\n",
      "[LightGBM] [Info] [binary:BoostFromScore]: pavg=0.333330 -> initscore=-0.693160\n",
      "[LightGBM] [Info] Start training from score -0.693160\n",
      "[LightGBM] [Warning] Unknown parameter: is_unbalanced\n",
      "True Negatives (TN): 33287\n",
      "False Positives (FP): 14\n",
      "False Negatives (FN): 54\n",
      "True Positives (TP): 159\n",
      "Params: num_leaves=20, learning_rate=0.120, num_iterations=100\n",
      " → Optimal Threshold: 0.9229\n",
      " → Recall: 0.7465, Specificity: 0.9996\n",
      "\n",
      "[LightGBM] [Warning] Unknown parameter: is_unbalanced\n"
     ]
    },
    {
     "name": "stderr",
     "output_type": "stream",
     "text": [
      "C:\\Users\\Neil\\AppData\\Roaming\\Python\\Python311\\site-packages\\lightgbm\\engine.py:204: UserWarning: Found `num_iterations` in params. Will use it instead of argument\n",
      "  _log_warning(f\"Found `{alias}` in params. Will use it instead of argument\")\n"
     ]
    },
    {
     "name": "stdout",
     "output_type": "stream",
     "text": [
      "[LightGBM] [Warning] Unknown parameter: is_unbalanced\n",
      "[LightGBM] [Info] Number of positive: 38849, number of negative: 77699\n",
      "[LightGBM] [Info] Auto-choosing row-wise multi-threading, the overhead of testing was 0.037300 seconds.\n",
      "You can set `force_row_wise=true` to remove the overhead.\n",
      "And if memory is not enough, you can set `force_col_wise=true`.\n",
      "[LightGBM] [Info] Total Bins 411\n",
      "[LightGBM] [Info] Number of data points in the train set: 116548, number of used features: 33\n",
      "[LightGBM] [Info] [binary:BoostFromScore]: pavg=0.333330 -> initscore=-0.693160\n",
      "[LightGBM] [Info] Start training from score -0.693160\n",
      "[LightGBM] [Warning] Unknown parameter: is_unbalanced\n",
      "True Negatives (TN): 33290\n",
      "False Positives (FP): 11\n",
      "False Negatives (FN): 60\n",
      "True Positives (TP): 153\n",
      "Params: num_leaves=20, learning_rate=0.120, num_iterations=150\n",
      " → Optimal Threshold: 0.9443\n",
      " → Recall: 0.7183, Specificity: 0.9997\n",
      "\n",
      "[LightGBM] [Warning] Unknown parameter: is_unbalanced\n"
     ]
    },
    {
     "name": "stderr",
     "output_type": "stream",
     "text": [
      "C:\\Users\\Neil\\AppData\\Roaming\\Python\\Python311\\site-packages\\lightgbm\\engine.py:204: UserWarning: Found `num_iterations` in params. Will use it instead of argument\n",
      "  _log_warning(f\"Found `{alias}` in params. Will use it instead of argument\")\n"
     ]
    },
    {
     "name": "stdout",
     "output_type": "stream",
     "text": [
      "[LightGBM] [Warning] Unknown parameter: is_unbalanced\n",
      "[LightGBM] [Info] Number of positive: 38849, number of negative: 77699\n",
      "[LightGBM] [Info] Auto-choosing row-wise multi-threading, the overhead of testing was 0.022164 seconds.\n",
      "You can set `force_row_wise=true` to remove the overhead.\n",
      "And if memory is not enough, you can set `force_col_wise=true`.\n",
      "[LightGBM] [Info] Total Bins 411\n",
      "[LightGBM] [Info] Number of data points in the train set: 116548, number of used features: 33\n",
      "[LightGBM] [Info] [binary:BoostFromScore]: pavg=0.333330 -> initscore=-0.693160\n",
      "[LightGBM] [Info] Start training from score -0.693160\n",
      "[LightGBM] [Warning] Unknown parameter: is_unbalanced\n",
      "True Negatives (TN): 33290\n",
      "False Positives (FP): 11\n",
      "False Negatives (FN): 69\n",
      "True Positives (TP): 144\n",
      "Params: num_leaves=20, learning_rate=0.120, num_iterations=200\n",
      " → Optimal Threshold: 0.9441\n",
      " → Recall: 0.6761, Specificity: 0.9997\n",
      "\n",
      "[LightGBM] [Warning] Unknown parameter: is_unbalanced\n"
     ]
    },
    {
     "name": "stderr",
     "output_type": "stream",
     "text": [
      "C:\\Users\\Neil\\AppData\\Roaming\\Python\\Python311\\site-packages\\lightgbm\\engine.py:204: UserWarning: Found `num_iterations` in params. Will use it instead of argument\n",
      "  _log_warning(f\"Found `{alias}` in params. Will use it instead of argument\")\n"
     ]
    },
    {
     "name": "stdout",
     "output_type": "stream",
     "text": [
      "[LightGBM] [Warning] Unknown parameter: is_unbalanced\n",
      "[LightGBM] [Info] Number of positive: 38849, number of negative: 77699\n",
      "[LightGBM] [Info] Auto-choosing row-wise multi-threading, the overhead of testing was 0.025371 seconds.\n",
      "You can set `force_row_wise=true` to remove the overhead.\n",
      "And if memory is not enough, you can set `force_col_wise=true`.\n",
      "[LightGBM] [Info] Total Bins 411\n",
      "[LightGBM] [Info] Number of data points in the train set: 116548, number of used features: 33\n",
      "[LightGBM] [Info] [binary:BoostFromScore]: pavg=0.333330 -> initscore=-0.693160\n",
      "[LightGBM] [Info] Start training from score -0.693160\n",
      "[LightGBM] [Warning] Unknown parameter: is_unbalanced\n",
      "True Negatives (TN): 33292\n",
      "False Positives (FP): 9\n",
      "False Negatives (FN): 60\n",
      "True Positives (TP): 153\n",
      "Params: num_leaves=20, learning_rate=0.150, num_iterations=50\n",
      " → Optimal Threshold: 0.9562\n",
      " → Recall: 0.7183, Specificity: 0.9997\n",
      "\n",
      "[LightGBM] [Warning] Unknown parameter: is_unbalanced\n"
     ]
    },
    {
     "name": "stderr",
     "output_type": "stream",
     "text": [
      "C:\\Users\\Neil\\AppData\\Roaming\\Python\\Python311\\site-packages\\lightgbm\\engine.py:204: UserWarning: Found `num_iterations` in params. Will use it instead of argument\n",
      "  _log_warning(f\"Found `{alias}` in params. Will use it instead of argument\")\n"
     ]
    },
    {
     "name": "stdout",
     "output_type": "stream",
     "text": [
      "[LightGBM] [Warning] Unknown parameter: is_unbalanced\n",
      "[LightGBM] [Info] Number of positive: 38849, number of negative: 77699\n",
      "[LightGBM] [Info] Auto-choosing row-wise multi-threading, the overhead of testing was 0.017232 seconds.\n",
      "You can set `force_row_wise=true` to remove the overhead.\n",
      "And if memory is not enough, you can set `force_col_wise=true`.\n",
      "[LightGBM] [Info] Total Bins 411\n",
      "[LightGBM] [Info] Number of data points in the train set: 116548, number of used features: 33\n",
      "[LightGBM] [Info] [binary:BoostFromScore]: pavg=0.333330 -> initscore=-0.693160\n",
      "[LightGBM] [Info] Start training from score -0.693160\n",
      "[LightGBM] [Warning] Unknown parameter: is_unbalanced\n",
      "True Negatives (TN): 33290\n",
      "False Positives (FP): 11\n",
      "False Negatives (FN): 62\n",
      "True Positives (TP): 151\n",
      "Params: num_leaves=20, learning_rate=0.150, num_iterations=100\n",
      " → Optimal Threshold: 0.9423\n",
      " → Recall: 0.7089, Specificity: 0.9997\n",
      "\n",
      "[LightGBM] [Warning] Unknown parameter: is_unbalanced\n"
     ]
    },
    {
     "name": "stderr",
     "output_type": "stream",
     "text": [
      "C:\\Users\\Neil\\AppData\\Roaming\\Python\\Python311\\site-packages\\lightgbm\\engine.py:204: UserWarning: Found `num_iterations` in params. Will use it instead of argument\n",
      "  _log_warning(f\"Found `{alias}` in params. Will use it instead of argument\")\n"
     ]
    },
    {
     "name": "stdout",
     "output_type": "stream",
     "text": [
      "[LightGBM] [Warning] Unknown parameter: is_unbalanced\n",
      "[LightGBM] [Info] Number of positive: 38849, number of negative: 77699\n",
      "[LightGBM] [Info] Auto-choosing row-wise multi-threading, the overhead of testing was 0.022134 seconds.\n",
      "You can set `force_row_wise=true` to remove the overhead.\n",
      "And if memory is not enough, you can set `force_col_wise=true`.\n",
      "[LightGBM] [Info] Total Bins 411\n",
      "[LightGBM] [Info] Number of data points in the train set: 116548, number of used features: 33\n",
      "[LightGBM] [Info] [binary:BoostFromScore]: pavg=0.333330 -> initscore=-0.693160\n",
      "[LightGBM] [Info] Start training from score -0.693160\n",
      "[LightGBM] [Warning] Unknown parameter: is_unbalanced\n",
      "True Negatives (TN): 33293\n",
      "False Positives (FP): 8\n",
      "False Negatives (FN): 68\n",
      "True Positives (TP): 145\n",
      "Params: num_leaves=20, learning_rate=0.150, num_iterations=150\n",
      " → Optimal Threshold: 0.9602\n",
      " → Recall: 0.6808, Specificity: 0.9998\n",
      "\n",
      "[LightGBM] [Warning] Unknown parameter: is_unbalanced\n"
     ]
    },
    {
     "name": "stderr",
     "output_type": "stream",
     "text": [
      "C:\\Users\\Neil\\AppData\\Roaming\\Python\\Python311\\site-packages\\lightgbm\\engine.py:204: UserWarning: Found `num_iterations` in params. Will use it instead of argument\n",
      "  _log_warning(f\"Found `{alias}` in params. Will use it instead of argument\")\n"
     ]
    },
    {
     "name": "stdout",
     "output_type": "stream",
     "text": [
      "[LightGBM] [Warning] Unknown parameter: is_unbalanced\n",
      "[LightGBM] [Info] Number of positive: 38849, number of negative: 77699\n",
      "[LightGBM] [Info] Auto-choosing row-wise multi-threading, the overhead of testing was 0.021421 seconds.\n",
      "You can set `force_row_wise=true` to remove the overhead.\n",
      "And if memory is not enough, you can set `force_col_wise=true`.\n",
      "[LightGBM] [Info] Total Bins 411\n",
      "[LightGBM] [Info] Number of data points in the train set: 116548, number of used features: 33\n",
      "[LightGBM] [Info] [binary:BoostFromScore]: pavg=0.333330 -> initscore=-0.693160\n",
      "[LightGBM] [Info] Start training from score -0.693160\n",
      "[LightGBM] [Warning] Unknown parameter: is_unbalanced\n",
      "True Negatives (TN): 33292\n",
      "False Positives (FP): 9\n",
      "False Negatives (FN): 69\n",
      "True Positives (TP): 144\n",
      "Params: num_leaves=20, learning_rate=0.150, num_iterations=200\n",
      " → Optimal Threshold: 0.9502\n",
      " → Recall: 0.6761, Specificity: 0.9997\n",
      "\n",
      "[LightGBM] [Warning] Unknown parameter: is_unbalanced\n"
     ]
    },
    {
     "name": "stderr",
     "output_type": "stream",
     "text": [
      "C:\\Users\\Neil\\AppData\\Roaming\\Python\\Python311\\site-packages\\lightgbm\\engine.py:204: UserWarning: Found `num_iterations` in params. Will use it instead of argument\n",
      "  _log_warning(f\"Found `{alias}` in params. Will use it instead of argument\")\n"
     ]
    },
    {
     "name": "stdout",
     "output_type": "stream",
     "text": [
      "[LightGBM] [Warning] Unknown parameter: is_unbalanced\n",
      "[LightGBM] [Info] Number of positive: 38849, number of negative: 77699\n",
      "[LightGBM] [Info] Auto-choosing row-wise multi-threading, the overhead of testing was 0.025821 seconds.\n",
      "You can set `force_row_wise=true` to remove the overhead.\n",
      "And if memory is not enough, you can set `force_col_wise=true`.\n",
      "[LightGBM] [Info] Total Bins 411\n",
      "[LightGBM] [Info] Number of data points in the train set: 116548, number of used features: 33\n",
      "[LightGBM] [Info] [binary:BoostFromScore]: pavg=0.333330 -> initscore=-0.693160\n",
      "[LightGBM] [Info] Start training from score -0.693160\n",
      "[LightGBM] [Warning] Unknown parameter: is_unbalanced\n",
      "True Negatives (TN): 33281\n",
      "False Positives (FP): 20\n",
      "False Negatives (FN): 62\n",
      "True Positives (TP): 151\n",
      "Params: num_leaves=40, learning_rate=0.030, num_iterations=50\n",
      " → Optimal Threshold: 0.8360\n",
      " → Recall: 0.7089, Specificity: 0.9994\n",
      "\n",
      "[LightGBM] [Warning] Unknown parameter: is_unbalanced\n"
     ]
    },
    {
     "name": "stderr",
     "output_type": "stream",
     "text": [
      "C:\\Users\\Neil\\AppData\\Roaming\\Python\\Python311\\site-packages\\lightgbm\\engine.py:204: UserWarning: Found `num_iterations` in params. Will use it instead of argument\n",
      "  _log_warning(f\"Found `{alias}` in params. Will use it instead of argument\")\n"
     ]
    },
    {
     "name": "stdout",
     "output_type": "stream",
     "text": [
      "[LightGBM] [Warning] Unknown parameter: is_unbalanced\n",
      "[LightGBM] [Info] Number of positive: 38849, number of negative: 77699\n",
      "[LightGBM] [Info] Auto-choosing row-wise multi-threading, the overhead of testing was 0.021757 seconds.\n",
      "You can set `force_row_wise=true` to remove the overhead.\n",
      "And if memory is not enough, you can set `force_col_wise=true`.\n",
      "[LightGBM] [Info] Total Bins 411\n",
      "[LightGBM] [Info] Number of data points in the train set: 116548, number of used features: 33\n",
      "[LightGBM] [Info] [binary:BoostFromScore]: pavg=0.333330 -> initscore=-0.693160\n",
      "[LightGBM] [Info] Start training from score -0.693160\n",
      "[LightGBM] [Warning] Unknown parameter: is_unbalanced\n",
      "True Negatives (TN): 33291\n",
      "False Positives (FP): 10\n",
      "False Negatives (FN): 58\n",
      "True Positives (TP): 155\n",
      "Params: num_leaves=40, learning_rate=0.030, num_iterations=100\n",
      " → Optimal Threshold: 0.9410\n",
      " → Recall: 0.7277, Specificity: 0.9997\n",
      "\n"
     ]
    },
    {
     "name": "stderr",
     "output_type": "stream",
     "text": [
      "C:\\Users\\Neil\\AppData\\Roaming\\Python\\Python311\\site-packages\\lightgbm\\engine.py:204: UserWarning: Found `num_iterations` in params. Will use it instead of argument\n",
      "  _log_warning(f\"Found `{alias}` in params. Will use it instead of argument\")\n"
     ]
    },
    {
     "name": "stdout",
     "output_type": "stream",
     "text": [
      "[LightGBM] [Warning] Unknown parameter: is_unbalanced\n",
      "[LightGBM] [Warning] Unknown parameter: is_unbalanced\n",
      "[LightGBM] [Info] Number of positive: 38849, number of negative: 77699\n",
      "[LightGBM] [Info] Auto-choosing row-wise multi-threading, the overhead of testing was 0.025118 seconds.\n",
      "You can set `force_row_wise=true` to remove the overhead.\n",
      "And if memory is not enough, you can set `force_col_wise=true`.\n",
      "[LightGBM] [Info] Total Bins 411\n",
      "[LightGBM] [Info] Number of data points in the train set: 116548, number of used features: 33\n",
      "[LightGBM] [Info] [binary:BoostFromScore]: pavg=0.333330 -> initscore=-0.693160\n",
      "[LightGBM] [Info] Start training from score -0.693160\n",
      "[LightGBM] [Warning] Unknown parameter: is_unbalanced\n",
      "True Negatives (TN): 33290\n",
      "False Positives (FP): 11\n",
      "False Negatives (FN): 56\n",
      "True Positives (TP): 157\n",
      "Params: num_leaves=40, learning_rate=0.030, num_iterations=150\n",
      " → Optimal Threshold: 0.9505\n",
      " → Recall: 0.7371, Specificity: 0.9997\n",
      "\n"
     ]
    },
    {
     "name": "stderr",
     "output_type": "stream",
     "text": [
      "C:\\Users\\Neil\\AppData\\Roaming\\Python\\Python311\\site-packages\\lightgbm\\engine.py:204: UserWarning: Found `num_iterations` in params. Will use it instead of argument\n",
      "  _log_warning(f\"Found `{alias}` in params. Will use it instead of argument\")\n"
     ]
    },
    {
     "name": "stdout",
     "output_type": "stream",
     "text": [
      "[LightGBM] [Warning] Unknown parameter: is_unbalanced\n",
      "[LightGBM] [Warning] Unknown parameter: is_unbalanced\n",
      "[LightGBM] [Info] Number of positive: 38849, number of negative: 77699\n",
      "[LightGBM] [Info] Auto-choosing row-wise multi-threading, the overhead of testing was 0.021809 seconds.\n",
      "You can set `force_row_wise=true` to remove the overhead.\n",
      "And if memory is not enough, you can set `force_col_wise=true`.\n",
      "[LightGBM] [Info] Total Bins 411\n",
      "[LightGBM] [Info] Number of data points in the train set: 116548, number of used features: 33\n",
      "[LightGBM] [Info] [binary:BoostFromScore]: pavg=0.333330 -> initscore=-0.693160\n",
      "[LightGBM] [Info] Start training from score -0.693160\n",
      "[LightGBM] [Warning] Unknown parameter: is_unbalanced\n",
      "True Negatives (TN): 33294\n",
      "False Positives (FP): 7\n",
      "False Negatives (FN): 58\n",
      "True Positives (TP): 155\n",
      "Params: num_leaves=40, learning_rate=0.030, num_iterations=200\n",
      " → Optimal Threshold: 0.9708\n",
      " → Recall: 0.7277, Specificity: 0.9998\n",
      "\n",
      "[LightGBM] [Warning] Unknown parameter: is_unbalanced\n"
     ]
    },
    {
     "name": "stderr",
     "output_type": "stream",
     "text": [
      "C:\\Users\\Neil\\AppData\\Roaming\\Python\\Python311\\site-packages\\lightgbm\\engine.py:204: UserWarning: Found `num_iterations` in params. Will use it instead of argument\n",
      "  _log_warning(f\"Found `{alias}` in params. Will use it instead of argument\")\n"
     ]
    },
    {
     "name": "stdout",
     "output_type": "stream",
     "text": [
      "[LightGBM] [Warning] Unknown parameter: is_unbalanced\n",
      "[LightGBM] [Info] Number of positive: 38849, number of negative: 77699\n",
      "[LightGBM] [Info] Auto-choosing row-wise multi-threading, the overhead of testing was 0.020987 seconds.\n",
      "You can set `force_row_wise=true` to remove the overhead.\n",
      "And if memory is not enough, you can set `force_col_wise=true`.\n",
      "[LightGBM] [Info] Total Bins 411\n",
      "[LightGBM] [Info] Number of data points in the train set: 116548, number of used features: 33\n",
      "[LightGBM] [Info] [binary:BoostFromScore]: pavg=0.333330 -> initscore=-0.693160\n",
      "[LightGBM] [Info] Start training from score -0.693160\n",
      "[LightGBM] [Warning] Unknown parameter: is_unbalanced\n",
      "True Negatives (TN): 33290\n",
      "False Positives (FP): 11\n",
      "False Negatives (FN): 58\n",
      "True Positives (TP): 155\n",
      "Params: num_leaves=40, learning_rate=0.060, num_iterations=50\n",
      " → Optimal Threshold: 0.9410\n",
      " → Recall: 0.7277, Specificity: 0.9997\n",
      "\n",
      "[LightGBM] [Warning] Unknown parameter: is_unbalanced\n"
     ]
    },
    {
     "name": "stderr",
     "output_type": "stream",
     "text": [
      "C:\\Users\\Neil\\AppData\\Roaming\\Python\\Python311\\site-packages\\lightgbm\\engine.py:204: UserWarning: Found `num_iterations` in params. Will use it instead of argument\n",
      "  _log_warning(f\"Found `{alias}` in params. Will use it instead of argument\")\n"
     ]
    },
    {
     "name": "stdout",
     "output_type": "stream",
     "text": [
      "[LightGBM] [Warning] Unknown parameter: is_unbalanced\n",
      "[LightGBM] [Info] Number of positive: 38849, number of negative: 77699\n",
      "[LightGBM] [Info] Auto-choosing row-wise multi-threading, the overhead of testing was 0.020570 seconds.\n",
      "You can set `force_row_wise=true` to remove the overhead.\n",
      "And if memory is not enough, you can set `force_col_wise=true`.\n",
      "[LightGBM] [Info] Total Bins 411\n",
      "[LightGBM] [Info] Number of data points in the train set: 116548, number of used features: 33\n",
      "[LightGBM] [Info] [binary:BoostFromScore]: pavg=0.333330 -> initscore=-0.693160\n",
      "[LightGBM] [Info] Start training from score -0.693160\n",
      "[LightGBM] [Warning] Unknown parameter: is_unbalanced\n",
      "True Negatives (TN): 33294\n",
      "False Positives (FP): 7\n",
      "False Negatives (FN): 58\n",
      "True Positives (TP): 155\n",
      "Params: num_leaves=40, learning_rate=0.060, num_iterations=100\n",
      " → Optimal Threshold: 0.9664\n",
      " → Recall: 0.7277, Specificity: 0.9998\n",
      "\n",
      "[LightGBM] [Warning] Unknown parameter: is_unbalanced\n"
     ]
    },
    {
     "name": "stderr",
     "output_type": "stream",
     "text": [
      "C:\\Users\\Neil\\AppData\\Roaming\\Python\\Python311\\site-packages\\lightgbm\\engine.py:204: UserWarning: Found `num_iterations` in params. Will use it instead of argument\n",
      "  _log_warning(f\"Found `{alias}` in params. Will use it instead of argument\")\n"
     ]
    },
    {
     "name": "stdout",
     "output_type": "stream",
     "text": [
      "[LightGBM] [Warning] Unknown parameter: is_unbalanced\n",
      "[LightGBM] [Info] Number of positive: 38849, number of negative: 77699\n",
      "[LightGBM] [Info] Auto-choosing row-wise multi-threading, the overhead of testing was 0.018761 seconds.\n",
      "You can set `force_row_wise=true` to remove the overhead.\n",
      "And if memory is not enough, you can set `force_col_wise=true`.\n",
      "[LightGBM] [Info] Total Bins 411\n",
      "[LightGBM] [Info] Number of data points in the train set: 116548, number of used features: 33\n",
      "[LightGBM] [Info] [binary:BoostFromScore]: pavg=0.333330 -> initscore=-0.693160\n",
      "[LightGBM] [Info] Start training from score -0.693160\n",
      "[LightGBM] [Warning] Unknown parameter: is_unbalanced\n",
      "True Negatives (TN): 33289\n",
      "False Positives (FP): 12\n",
      "False Negatives (FN): 60\n",
      "True Positives (TP): 153\n",
      "Params: num_leaves=40, learning_rate=0.060, num_iterations=150\n",
      " → Optimal Threshold: 0.9390\n",
      " → Recall: 0.7183, Specificity: 0.9996\n",
      "\n",
      "[LightGBM] [Warning] Unknown parameter: is_unbalanced\n"
     ]
    },
    {
     "name": "stderr",
     "output_type": "stream",
     "text": [
      "C:\\Users\\Neil\\AppData\\Roaming\\Python\\Python311\\site-packages\\lightgbm\\engine.py:204: UserWarning: Found `num_iterations` in params. Will use it instead of argument\n",
      "  _log_warning(f\"Found `{alias}` in params. Will use it instead of argument\")\n"
     ]
    },
    {
     "name": "stdout",
     "output_type": "stream",
     "text": [
      "[LightGBM] [Warning] Unknown parameter: is_unbalanced\n",
      "[LightGBM] [Info] Number of positive: 38849, number of negative: 77699\n",
      "[LightGBM] [Info] Auto-choosing row-wise multi-threading, the overhead of testing was 0.023909 seconds.\n",
      "You can set `force_row_wise=true` to remove the overhead.\n",
      "And if memory is not enough, you can set `force_col_wise=true`.\n",
      "[LightGBM] [Info] Total Bins 411\n",
      "[LightGBM] [Info] Number of data points in the train set: 116548, number of used features: 33\n",
      "[LightGBM] [Info] [binary:BoostFromScore]: pavg=0.333330 -> initscore=-0.693160\n",
      "[LightGBM] [Info] Start training from score -0.693160\n",
      "[LightGBM] [Warning] Unknown parameter: is_unbalanced\n",
      "True Negatives (TN): 33295\n",
      "False Positives (FP): 6\n",
      "False Negatives (FN): 67\n",
      "True Positives (TP): 146\n",
      "Params: num_leaves=40, learning_rate=0.060, num_iterations=200\n",
      " → Optimal Threshold: 0.9684\n",
      " → Recall: 0.6854, Specificity: 0.9998\n",
      "\n",
      "[LightGBM] [Warning] Unknown parameter: is_unbalanced\n"
     ]
    },
    {
     "name": "stderr",
     "output_type": "stream",
     "text": [
      "C:\\Users\\Neil\\AppData\\Roaming\\Python\\Python311\\site-packages\\lightgbm\\engine.py:204: UserWarning: Found `num_iterations` in params. Will use it instead of argument\n",
      "  _log_warning(f\"Found `{alias}` in params. Will use it instead of argument\")\n"
     ]
    },
    {
     "name": "stdout",
     "output_type": "stream",
     "text": [
      "[LightGBM] [Warning] Unknown parameter: is_unbalanced\n",
      "[LightGBM] [Info] Number of positive: 38849, number of negative: 77699\n",
      "[LightGBM] [Info] Auto-choosing row-wise multi-threading, the overhead of testing was 0.024032 seconds.\n",
      "You can set `force_row_wise=true` to remove the overhead.\n",
      "And if memory is not enough, you can set `force_col_wise=true`.\n",
      "[LightGBM] [Info] Total Bins 411\n",
      "[LightGBM] [Info] Number of data points in the train set: 116548, number of used features: 33\n",
      "[LightGBM] [Info] [binary:BoostFromScore]: pavg=0.333330 -> initscore=-0.693160\n",
      "[LightGBM] [Info] Start training from score -0.693160\n",
      "[LightGBM] [Warning] Unknown parameter: is_unbalanced\n",
      "True Negatives (TN): 33292\n",
      "False Positives (FP): 9\n",
      "False Negatives (FN): 57\n",
      "True Positives (TP): 156\n",
      "Params: num_leaves=40, learning_rate=0.090, num_iterations=50\n",
      " → Optimal Threshold: 0.9490\n",
      " → Recall: 0.7324, Specificity: 0.9997\n",
      "\n",
      "[LightGBM] [Warning] Unknown parameter: is_unbalanced\n"
     ]
    },
    {
     "name": "stderr",
     "output_type": "stream",
     "text": [
      "C:\\Users\\Neil\\AppData\\Roaming\\Python\\Python311\\site-packages\\lightgbm\\engine.py:204: UserWarning: Found `num_iterations` in params. Will use it instead of argument\n",
      "  _log_warning(f\"Found `{alias}` in params. Will use it instead of argument\")\n"
     ]
    },
    {
     "name": "stdout",
     "output_type": "stream",
     "text": [
      "[LightGBM] [Warning] Unknown parameter: is_unbalanced\n",
      "[LightGBM] [Info] Number of positive: 38849, number of negative: 77699\n",
      "[LightGBM] [Info] Auto-choosing row-wise multi-threading, the overhead of testing was 0.020750 seconds.\n",
      "You can set `force_row_wise=true` to remove the overhead.\n",
      "And if memory is not enough, you can set `force_col_wise=true`.\n",
      "[LightGBM] [Info] Total Bins 411\n",
      "[LightGBM] [Info] Number of data points in the train set: 116548, number of used features: 33\n",
      "[LightGBM] [Info] [binary:BoostFromScore]: pavg=0.333330 -> initscore=-0.693160\n",
      "[LightGBM] [Info] Start training from score -0.693160\n",
      "[LightGBM] [Warning] Unknown parameter: is_unbalanced\n",
      "True Negatives (TN): 33290\n",
      "False Positives (FP): 11\n",
      "False Negatives (FN): 59\n",
      "True Positives (TP): 154\n",
      "Params: num_leaves=40, learning_rate=0.090, num_iterations=100\n",
      " → Optimal Threshold: 0.9367\n",
      " → Recall: 0.7230, Specificity: 0.9997\n",
      "\n",
      "[LightGBM] [Warning] Unknown parameter: is_unbalanced\n"
     ]
    },
    {
     "name": "stderr",
     "output_type": "stream",
     "text": [
      "C:\\Users\\Neil\\AppData\\Roaming\\Python\\Python311\\site-packages\\lightgbm\\engine.py:204: UserWarning: Found `num_iterations` in params. Will use it instead of argument\n",
      "  _log_warning(f\"Found `{alias}` in params. Will use it instead of argument\")\n"
     ]
    },
    {
     "name": "stdout",
     "output_type": "stream",
     "text": [
      "[LightGBM] [Warning] Unknown parameter: is_unbalanced\n",
      "[LightGBM] [Info] Number of positive: 38849, number of negative: 77699\n",
      "[LightGBM] [Info] Auto-choosing row-wise multi-threading, the overhead of testing was 0.021996 seconds.\n",
      "You can set `force_row_wise=true` to remove the overhead.\n",
      "And if memory is not enough, you can set `force_col_wise=true`.\n",
      "[LightGBM] [Info] Total Bins 411\n",
      "[LightGBM] [Info] Number of data points in the train set: 116548, number of used features: 33\n",
      "[LightGBM] [Info] [binary:BoostFromScore]: pavg=0.333330 -> initscore=-0.693160\n",
      "[LightGBM] [Info] Start training from score -0.693160\n",
      "[LightGBM] [Warning] Unknown parameter: is_unbalanced\n",
      "True Negatives (TN): 33294\n",
      "False Positives (FP): 7\n",
      "False Negatives (FN): 64\n",
      "True Positives (TP): 149\n",
      "Params: num_leaves=40, learning_rate=0.090, num_iterations=150\n",
      " → Optimal Threshold: 0.9575\n",
      " → Recall: 0.6995, Specificity: 0.9998\n",
      "\n",
      "[LightGBM] [Warning] Unknown parameter: is_unbalanced\n"
     ]
    },
    {
     "name": "stderr",
     "output_type": "stream",
     "text": [
      "C:\\Users\\Neil\\AppData\\Roaming\\Python\\Python311\\site-packages\\lightgbm\\engine.py:204: UserWarning: Found `num_iterations` in params. Will use it instead of argument\n",
      "  _log_warning(f\"Found `{alias}` in params. Will use it instead of argument\")\n"
     ]
    },
    {
     "name": "stdout",
     "output_type": "stream",
     "text": [
      "[LightGBM] [Warning] Unknown parameter: is_unbalanced\n",
      "[LightGBM] [Info] Number of positive: 38849, number of negative: 77699\n",
      "[LightGBM] [Info] Auto-choosing row-wise multi-threading, the overhead of testing was 0.018479 seconds.\n",
      "You can set `force_row_wise=true` to remove the overhead.\n",
      "And if memory is not enough, you can set `force_col_wise=true`.\n",
      "[LightGBM] [Info] Total Bins 411\n",
      "[LightGBM] [Info] Number of data points in the train set: 116548, number of used features: 33\n",
      "[LightGBM] [Info] [binary:BoostFromScore]: pavg=0.333330 -> initscore=-0.693160\n",
      "[LightGBM] [Info] Start training from score -0.693160\n",
      "[LightGBM] [Warning] Unknown parameter: is_unbalanced\n",
      "True Negatives (TN): 33296\n",
      "False Positives (FP): 5\n",
      "False Negatives (FN): 67\n",
      "True Positives (TP): 146\n",
      "Params: num_leaves=40, learning_rate=0.090, num_iterations=200\n",
      " → Optimal Threshold: 0.9668\n",
      " → Recall: 0.6854, Specificity: 0.9998\n",
      "\n",
      "[LightGBM] [Warning] Unknown parameter: is_unbalanced\n"
     ]
    },
    {
     "name": "stderr",
     "output_type": "stream",
     "text": [
      "C:\\Users\\Neil\\AppData\\Roaming\\Python\\Python311\\site-packages\\lightgbm\\engine.py:204: UserWarning: Found `num_iterations` in params. Will use it instead of argument\n",
      "  _log_warning(f\"Found `{alias}` in params. Will use it instead of argument\")\n"
     ]
    },
    {
     "name": "stdout",
     "output_type": "stream",
     "text": [
      "[LightGBM] [Warning] Unknown parameter: is_unbalanced\n",
      "[LightGBM] [Info] Number of positive: 38849, number of negative: 77699\n",
      "[LightGBM] [Info] Auto-choosing row-wise multi-threading, the overhead of testing was 0.021249 seconds.\n",
      "You can set `force_row_wise=true` to remove the overhead.\n",
      "And if memory is not enough, you can set `force_col_wise=true`.\n",
      "[LightGBM] [Info] Total Bins 411\n",
      "[LightGBM] [Info] Number of data points in the train set: 116548, number of used features: 33\n",
      "[LightGBM] [Info] [binary:BoostFromScore]: pavg=0.333330 -> initscore=-0.693160\n",
      "[LightGBM] [Info] Start training from score -0.693160\n",
      "[LightGBM] [Warning] Unknown parameter: is_unbalanced\n",
      "True Negatives (TN): 33294\n",
      "False Positives (FP): 7\n",
      "False Negatives (FN): 59\n",
      "True Positives (TP): 154\n",
      "Params: num_leaves=40, learning_rate=0.120, num_iterations=50\n",
      " → Optimal Threshold: 0.9737\n",
      " → Recall: 0.7230, Specificity: 0.9998\n",
      "\n",
      "[LightGBM] [Warning] Unknown parameter: is_unbalanced\n"
     ]
    },
    {
     "name": "stderr",
     "output_type": "stream",
     "text": [
      "C:\\Users\\Neil\\AppData\\Roaming\\Python\\Python311\\site-packages\\lightgbm\\engine.py:204: UserWarning: Found `num_iterations` in params. Will use it instead of argument\n",
      "  _log_warning(f\"Found `{alias}` in params. Will use it instead of argument\")\n"
     ]
    },
    {
     "name": "stdout",
     "output_type": "stream",
     "text": [
      "[LightGBM] [Warning] Unknown parameter: is_unbalanced\n",
      "[LightGBM] [Info] Number of positive: 38849, number of negative: 77699\n",
      "[LightGBM] [Info] Auto-choosing row-wise multi-threading, the overhead of testing was 0.022881 seconds.\n",
      "You can set `force_row_wise=true` to remove the overhead.\n",
      "And if memory is not enough, you can set `force_col_wise=true`.\n",
      "[LightGBM] [Info] Total Bins 411\n",
      "[LightGBM] [Info] Number of data points in the train set: 116548, number of used features: 33\n",
      "[LightGBM] [Info] [binary:BoostFromScore]: pavg=0.333330 -> initscore=-0.693160\n",
      "[LightGBM] [Info] Start training from score -0.693160\n",
      "[LightGBM] [Warning] Unknown parameter: is_unbalanced\n",
      "True Negatives (TN): 33296\n",
      "False Positives (FP): 5\n",
      "False Negatives (FN): 61\n",
      "True Positives (TP): 152\n",
      "Params: num_leaves=40, learning_rate=0.120, num_iterations=100\n",
      " → Optimal Threshold: 0.9549\n",
      " → Recall: 0.7136, Specificity: 0.9998\n",
      "\n"
     ]
    },
    {
     "name": "stderr",
     "output_type": "stream",
     "text": [
      "C:\\Users\\Neil\\AppData\\Roaming\\Python\\Python311\\site-packages\\lightgbm\\engine.py:204: UserWarning: Found `num_iterations` in params. Will use it instead of argument\n",
      "  _log_warning(f\"Found `{alias}` in params. Will use it instead of argument\")\n"
     ]
    },
    {
     "name": "stdout",
     "output_type": "stream",
     "text": [
      "[LightGBM] [Warning] Unknown parameter: is_unbalanced\n",
      "[LightGBM] [Warning] Unknown parameter: is_unbalanced\n",
      "[LightGBM] [Info] Number of positive: 38849, number of negative: 77699\n",
      "[LightGBM] [Info] Auto-choosing row-wise multi-threading, the overhead of testing was 0.022648 seconds.\n",
      "You can set `force_row_wise=true` to remove the overhead.\n",
      "And if memory is not enough, you can set `force_col_wise=true`.\n",
      "[LightGBM] [Info] Total Bins 411\n",
      "[LightGBM] [Info] Number of data points in the train set: 116548, number of used features: 33\n",
      "[LightGBM] [Info] [binary:BoostFromScore]: pavg=0.333330 -> initscore=-0.693160\n",
      "[LightGBM] [Info] Start training from score -0.693160\n",
      "[LightGBM] [Warning] Unknown parameter: is_unbalanced\n",
      "True Negatives (TN): 33298\n",
      "False Positives (FP): 3\n",
      "False Negatives (FN): 68\n",
      "True Positives (TP): 145\n",
      "Params: num_leaves=40, learning_rate=0.120, num_iterations=150\n",
      " → Optimal Threshold: 0.9706\n",
      " → Recall: 0.6808, Specificity: 0.9999\n",
      "\n",
      "[LightGBM] [Warning] Unknown parameter: is_unbalanced\n"
     ]
    },
    {
     "name": "stderr",
     "output_type": "stream",
     "text": [
      "C:\\Users\\Neil\\AppData\\Roaming\\Python\\Python311\\site-packages\\lightgbm\\engine.py:204: UserWarning: Found `num_iterations` in params. Will use it instead of argument\n",
      "  _log_warning(f\"Found `{alias}` in params. Will use it instead of argument\")\n"
     ]
    },
    {
     "name": "stdout",
     "output_type": "stream",
     "text": [
      "[LightGBM] [Warning] Unknown parameter: is_unbalanced\n",
      "[LightGBM] [Info] Number of positive: 38849, number of negative: 77699\n",
      "[LightGBM] [Info] Auto-choosing row-wise multi-threading, the overhead of testing was 0.025727 seconds.\n",
      "You can set `force_row_wise=true` to remove the overhead.\n",
      "And if memory is not enough, you can set `force_col_wise=true`.\n",
      "[LightGBM] [Info] Total Bins 411\n",
      "[LightGBM] [Info] Number of data points in the train set: 116548, number of used features: 33\n",
      "[LightGBM] [Info] [binary:BoostFromScore]: pavg=0.333330 -> initscore=-0.693160\n",
      "[LightGBM] [Info] Start training from score -0.693160\n",
      "[LightGBM] [Warning] Unknown parameter: is_unbalanced\n",
      "True Negatives (TN): 33292\n",
      "False Positives (FP): 9\n",
      "False Negatives (FN): 66\n",
      "True Positives (TP): 147\n",
      "Params: num_leaves=40, learning_rate=0.120, num_iterations=200\n",
      " → Optimal Threshold: 0.9560\n",
      " → Recall: 0.6901, Specificity: 0.9997\n",
      "\n",
      "[LightGBM] [Warning] Unknown parameter: is_unbalanced\n"
     ]
    },
    {
     "name": "stderr",
     "output_type": "stream",
     "text": [
      "C:\\Users\\Neil\\AppData\\Roaming\\Python\\Python311\\site-packages\\lightgbm\\engine.py:204: UserWarning: Found `num_iterations` in params. Will use it instead of argument\n",
      "  _log_warning(f\"Found `{alias}` in params. Will use it instead of argument\")\n"
     ]
    },
    {
     "name": "stdout",
     "output_type": "stream",
     "text": [
      "[LightGBM] [Warning] Unknown parameter: is_unbalanced\n",
      "[LightGBM] [Info] Number of positive: 38849, number of negative: 77699\n",
      "[LightGBM] [Info] Auto-choosing row-wise multi-threading, the overhead of testing was 0.023117 seconds.\n",
      "You can set `force_row_wise=true` to remove the overhead.\n",
      "And if memory is not enough, you can set `force_col_wise=true`.\n",
      "[LightGBM] [Info] Total Bins 411\n",
      "[LightGBM] [Info] Number of data points in the train set: 116548, number of used features: 33\n",
      "[LightGBM] [Info] [binary:BoostFromScore]: pavg=0.333330 -> initscore=-0.693160\n",
      "[LightGBM] [Info] Start training from score -0.693160\n",
      "[LightGBM] [Warning] Unknown parameter: is_unbalanced\n",
      "True Negatives (TN): 33296\n",
      "False Positives (FP): 5\n",
      "False Negatives (FN): 60\n",
      "True Positives (TP): 153\n",
      "Params: num_leaves=40, learning_rate=0.150, num_iterations=50\n",
      " → Optimal Threshold: 0.9612\n",
      " → Recall: 0.7183, Specificity: 0.9998\n",
      "\n",
      "[LightGBM] [Warning] Unknown parameter: is_unbalanced\n"
     ]
    },
    {
     "name": "stderr",
     "output_type": "stream",
     "text": [
      "C:\\Users\\Neil\\AppData\\Roaming\\Python\\Python311\\site-packages\\lightgbm\\engine.py:204: UserWarning: Found `num_iterations` in params. Will use it instead of argument\n",
      "  _log_warning(f\"Found `{alias}` in params. Will use it instead of argument\")\n"
     ]
    },
    {
     "name": "stdout",
     "output_type": "stream",
     "text": [
      "[LightGBM] [Warning] Unknown parameter: is_unbalanced\n",
      "[LightGBM] [Info] Number of positive: 38849, number of negative: 77699\n",
      "[LightGBM] [Info] Auto-choosing row-wise multi-threading, the overhead of testing was 0.016970 seconds.\n",
      "You can set `force_row_wise=true` to remove the overhead.\n",
      "And if memory is not enough, you can set `force_col_wise=true`.\n",
      "[LightGBM] [Info] Total Bins 411\n",
      "[LightGBM] [Info] Number of data points in the train set: 116548, number of used features: 33\n",
      "[LightGBM] [Info] [binary:BoostFromScore]: pavg=0.333330 -> initscore=-0.693160\n",
      "[LightGBM] [Info] Start training from score -0.693160\n",
      "[LightGBM] [Warning] Unknown parameter: is_unbalanced\n",
      "True Negatives (TN): 33296\n",
      "False Positives (FP): 5\n",
      "False Negatives (FN): 62\n",
      "True Positives (TP): 151\n",
      "Params: num_leaves=40, learning_rate=0.150, num_iterations=100\n",
      " → Optimal Threshold: 0.9687\n",
      " → Recall: 0.7089, Specificity: 0.9998\n",
      "\n",
      "[LightGBM] [Warning] Unknown parameter: is_unbalanced\n"
     ]
    },
    {
     "name": "stderr",
     "output_type": "stream",
     "text": [
      "C:\\Users\\Neil\\AppData\\Roaming\\Python\\Python311\\site-packages\\lightgbm\\engine.py:204: UserWarning: Found `num_iterations` in params. Will use it instead of argument\n",
      "  _log_warning(f\"Found `{alias}` in params. Will use it instead of argument\")\n"
     ]
    },
    {
     "name": "stdout",
     "output_type": "stream",
     "text": [
      "[LightGBM] [Warning] Unknown parameter: is_unbalanced\n",
      "[LightGBM] [Info] Number of positive: 38849, number of negative: 77699\n",
      "[LightGBM] [Info] Auto-choosing row-wise multi-threading, the overhead of testing was 0.021576 seconds.\n",
      "You can set `force_row_wise=true` to remove the overhead.\n",
      "And if memory is not enough, you can set `force_col_wise=true`.\n",
      "[LightGBM] [Info] Total Bins 411\n",
      "[LightGBM] [Info] Number of data points in the train set: 116548, number of used features: 33\n",
      "[LightGBM] [Info] [binary:BoostFromScore]: pavg=0.333330 -> initscore=-0.693160\n",
      "[LightGBM] [Info] Start training from score -0.693160\n",
      "[LightGBM] [Warning] Unknown parameter: is_unbalanced\n",
      "True Negatives (TN): 33296\n",
      "False Positives (FP): 5\n",
      "False Negatives (FN): 65\n",
      "True Positives (TP): 148\n",
      "Params: num_leaves=40, learning_rate=0.150, num_iterations=150\n",
      " → Optimal Threshold: 0.9796\n",
      " → Recall: 0.6948, Specificity: 0.9998\n",
      "\n",
      "[LightGBM] [Warning] Unknown parameter: is_unbalanced\n"
     ]
    },
    {
     "name": "stderr",
     "output_type": "stream",
     "text": [
      "C:\\Users\\Neil\\AppData\\Roaming\\Python\\Python311\\site-packages\\lightgbm\\engine.py:204: UserWarning: Found `num_iterations` in params. Will use it instead of argument\n",
      "  _log_warning(f\"Found `{alias}` in params. Will use it instead of argument\")\n"
     ]
    },
    {
     "name": "stdout",
     "output_type": "stream",
     "text": [
      "[LightGBM] [Warning] Unknown parameter: is_unbalanced\n",
      "[LightGBM] [Info] Number of positive: 38849, number of negative: 77699\n",
      "[LightGBM] [Info] Auto-choosing row-wise multi-threading, the overhead of testing was 0.017640 seconds.\n",
      "You can set `force_row_wise=true` to remove the overhead.\n",
      "And if memory is not enough, you can set `force_col_wise=true`.\n",
      "[LightGBM] [Info] Total Bins 411\n",
      "[LightGBM] [Info] Number of data points in the train set: 116548, number of used features: 33\n",
      "[LightGBM] [Info] [binary:BoostFromScore]: pavg=0.333330 -> initscore=-0.693160\n",
      "[LightGBM] [Info] Start training from score -0.693160\n",
      "[LightGBM] [Warning] Unknown parameter: is_unbalanced\n",
      "True Negatives (TN): 33291\n",
      "False Positives (FP): 10\n",
      "False Negatives (FN): 65\n",
      "True Positives (TP): 148\n",
      "Params: num_leaves=40, learning_rate=0.150, num_iterations=200\n",
      " → Optimal Threshold: 0.9786\n",
      " → Recall: 0.6948, Specificity: 0.9997\n",
      "\n",
      "[LightGBM] [Warning] Unknown parameter: is_unbalanced\n"
     ]
    },
    {
     "name": "stderr",
     "output_type": "stream",
     "text": [
      "C:\\Users\\Neil\\AppData\\Roaming\\Python\\Python311\\site-packages\\lightgbm\\engine.py:204: UserWarning: Found `num_iterations` in params. Will use it instead of argument\n",
      "  _log_warning(f\"Found `{alias}` in params. Will use it instead of argument\")\n"
     ]
    },
    {
     "name": "stdout",
     "output_type": "stream",
     "text": [
      "[LightGBM] [Warning] Unknown parameter: is_unbalanced\n",
      "[LightGBM] [Info] Number of positive: 38849, number of negative: 77699\n",
      "[LightGBM] [Info] Auto-choosing row-wise multi-threading, the overhead of testing was 0.021406 seconds.\n",
      "You can set `force_row_wise=true` to remove the overhead.\n",
      "And if memory is not enough, you can set `force_col_wise=true`.\n",
      "[LightGBM] [Info] Total Bins 411\n",
      "[LightGBM] [Info] Number of data points in the train set: 116548, number of used features: 33\n",
      "[LightGBM] [Info] [binary:BoostFromScore]: pavg=0.333330 -> initscore=-0.693160\n",
      "[LightGBM] [Info] Start training from score -0.693160\n",
      "[LightGBM] [Warning] Unknown parameter: is_unbalanced\n",
      "True Negatives (TN): 33265\n",
      "False Positives (FP): 36\n",
      "False Negatives (FN): 50\n",
      "True Positives (TP): 163\n",
      "Params: num_leaves=60, learning_rate=0.030, num_iterations=50\n",
      " → Optimal Threshold: 0.8162\n",
      " → Recall: 0.7653, Specificity: 0.9989\n",
      "\n",
      "[LightGBM] [Warning] Unknown parameter: is_unbalanced\n"
     ]
    },
    {
     "name": "stderr",
     "output_type": "stream",
     "text": [
      "C:\\Users\\Neil\\AppData\\Roaming\\Python\\Python311\\site-packages\\lightgbm\\engine.py:204: UserWarning: Found `num_iterations` in params. Will use it instead of argument\n",
      "  _log_warning(f\"Found `{alias}` in params. Will use it instead of argument\")\n"
     ]
    },
    {
     "name": "stdout",
     "output_type": "stream",
     "text": [
      "[LightGBM] [Warning] Unknown parameter: is_unbalanced\n",
      "[LightGBM] [Info] Number of positive: 38849, number of negative: 77699\n",
      "[LightGBM] [Info] Auto-choosing row-wise multi-threading, the overhead of testing was 0.022940 seconds.\n",
      "You can set `force_row_wise=true` to remove the overhead.\n",
      "And if memory is not enough, you can set `force_col_wise=true`.\n",
      "[LightGBM] [Info] Total Bins 411\n",
      "[LightGBM] [Info] Number of data points in the train set: 116548, number of used features: 33\n",
      "[LightGBM] [Info] [binary:BoostFromScore]: pavg=0.333330 -> initscore=-0.693160\n",
      "[LightGBM] [Info] Start training from score -0.693160\n",
      "[LightGBM] [Warning] Unknown parameter: is_unbalanced\n",
      "True Negatives (TN): 33287\n",
      "False Positives (FP): 14\n",
      "False Negatives (FN): 60\n",
      "True Positives (TP): 153\n",
      "Params: num_leaves=60, learning_rate=0.030, num_iterations=100\n",
      " → Optimal Threshold: 0.9490\n",
      " → Recall: 0.7183, Specificity: 0.9996\n",
      "\n",
      "[LightGBM] [Warning] Unknown parameter: is_unbalanced\n"
     ]
    },
    {
     "name": "stderr",
     "output_type": "stream",
     "text": [
      "C:\\Users\\Neil\\AppData\\Roaming\\Python\\Python311\\site-packages\\lightgbm\\engine.py:204: UserWarning: Found `num_iterations` in params. Will use it instead of argument\n",
      "  _log_warning(f\"Found `{alias}` in params. Will use it instead of argument\")\n"
     ]
    },
    {
     "name": "stdout",
     "output_type": "stream",
     "text": [
      "[LightGBM] [Warning] Unknown parameter: is_unbalanced\n",
      "[LightGBM] [Info] Number of positive: 38849, number of negative: 77699\n",
      "[LightGBM] [Info] Auto-choosing row-wise multi-threading, the overhead of testing was 0.022339 seconds.\n",
      "You can set `force_row_wise=true` to remove the overhead.\n",
      "And if memory is not enough, you can set `force_col_wise=true`.\n",
      "[LightGBM] [Info] Total Bins 411\n",
      "[LightGBM] [Info] Number of data points in the train set: 116548, number of used features: 33\n",
      "[LightGBM] [Info] [binary:BoostFromScore]: pavg=0.333330 -> initscore=-0.693160\n",
      "[LightGBM] [Info] Start training from score -0.693160\n",
      "[LightGBM] [Warning] Unknown parameter: is_unbalanced\n",
      "True Negatives (TN): 33294\n",
      "False Positives (FP): 7\n",
      "False Negatives (FN): 61\n",
      "True Positives (TP): 152\n",
      "Params: num_leaves=60, learning_rate=0.030, num_iterations=150\n",
      " → Optimal Threshold: 0.9672\n",
      " → Recall: 0.7136, Specificity: 0.9998\n",
      "\n",
      "[LightGBM] [Warning] Unknown parameter: is_unbalanced\n",
      "[LightGBM] [Warning] Unknown parameter: is_unbalanced\n",
      "[LightGBM] [Info] Number of positive: 38849, number of negative: 77699\n"
     ]
    },
    {
     "name": "stderr",
     "output_type": "stream",
     "text": [
      "C:\\Users\\Neil\\AppData\\Roaming\\Python\\Python311\\site-packages\\lightgbm\\engine.py:204: UserWarning: Found `num_iterations` in params. Will use it instead of argument\n",
      "  _log_warning(f\"Found `{alias}` in params. Will use it instead of argument\")\n"
     ]
    },
    {
     "name": "stdout",
     "output_type": "stream",
     "text": [
      "[LightGBM] [Info] Auto-choosing row-wise multi-threading, the overhead of testing was 0.025825 seconds.\n",
      "You can set `force_row_wise=true` to remove the overhead.\n",
      "And if memory is not enough, you can set `force_col_wise=true`.\n",
      "[LightGBM] [Info] Total Bins 411\n",
      "[LightGBM] [Info] Number of data points in the train set: 116548, number of used features: 33\n",
      "[LightGBM] [Info] [binary:BoostFromScore]: pavg=0.333330 -> initscore=-0.693160\n",
      "[LightGBM] [Info] Start training from score -0.693160\n",
      "[LightGBM] [Warning] Unknown parameter: is_unbalanced\n",
      "True Negatives (TN): 33289\n",
      "False Positives (FP): 12\n",
      "False Negatives (FN): 60\n",
      "True Positives (TP): 153\n",
      "Params: num_leaves=60, learning_rate=0.030, num_iterations=200\n",
      " → Optimal Threshold: 0.9562\n",
      " → Recall: 0.7183, Specificity: 0.9996\n",
      "\n",
      "[LightGBM] [Warning] Unknown parameter: is_unbalanced\n",
      "[LightGBM] [Warning] Unknown parameter: is_unbalanced\n",
      "[LightGBM] [Info] Number of positive: 38849, number of negative: 77699\n"
     ]
    },
    {
     "name": "stderr",
     "output_type": "stream",
     "text": [
      "C:\\Users\\Neil\\AppData\\Roaming\\Python\\Python311\\site-packages\\lightgbm\\engine.py:204: UserWarning: Found `num_iterations` in params. Will use it instead of argument\n",
      "  _log_warning(f\"Found `{alias}` in params. Will use it instead of argument\")\n"
     ]
    },
    {
     "name": "stdout",
     "output_type": "stream",
     "text": [
      "[LightGBM] [Info] Auto-choosing row-wise multi-threading, the overhead of testing was 0.020163 seconds.\n",
      "You can set `force_row_wise=true` to remove the overhead.\n",
      "And if memory is not enough, you can set `force_col_wise=true`.\n",
      "[LightGBM] [Info] Total Bins 411\n",
      "[LightGBM] [Info] Number of data points in the train set: 116548, number of used features: 33\n",
      "[LightGBM] [Info] [binary:BoostFromScore]: pavg=0.333330 -> initscore=-0.693160\n",
      "[LightGBM] [Info] Start training from score -0.693160\n",
      "[LightGBM] [Warning] Unknown parameter: is_unbalanced\n",
      "True Negatives (TN): 33294\n",
      "False Positives (FP): 7\n",
      "False Negatives (FN): 63\n",
      "True Positives (TP): 150\n",
      "Params: num_leaves=60, learning_rate=0.060, num_iterations=50\n",
      " → Optimal Threshold: 0.9539\n",
      " → Recall: 0.7042, Specificity: 0.9998\n",
      "\n",
      "[LightGBM] [Warning] Unknown parameter: is_unbalanced\n"
     ]
    },
    {
     "name": "stderr",
     "output_type": "stream",
     "text": [
      "C:\\Users\\Neil\\AppData\\Roaming\\Python\\Python311\\site-packages\\lightgbm\\engine.py:204: UserWarning: Found `num_iterations` in params. Will use it instead of argument\n",
      "  _log_warning(f\"Found `{alias}` in params. Will use it instead of argument\")\n"
     ]
    },
    {
     "name": "stdout",
     "output_type": "stream",
     "text": [
      "[LightGBM] [Warning] Unknown parameter: is_unbalanced\n",
      "[LightGBM] [Info] Number of positive: 38849, number of negative: 77699\n",
      "[LightGBM] [Info] Auto-choosing row-wise multi-threading, the overhead of testing was 0.020729 seconds.\n",
      "You can set `force_row_wise=true` to remove the overhead.\n",
      "And if memory is not enough, you can set `force_col_wise=true`.\n",
      "[LightGBM] [Info] Total Bins 411\n",
      "[LightGBM] [Info] Number of data points in the train set: 116548, number of used features: 33\n",
      "[LightGBM] [Info] [binary:BoostFromScore]: pavg=0.333330 -> initscore=-0.693160\n",
      "[LightGBM] [Info] Start training from score -0.693160\n",
      "[LightGBM] [Warning] Unknown parameter: is_unbalanced\n",
      "True Negatives (TN): 33297\n",
      "False Positives (FP): 4\n",
      "False Negatives (FN): 62\n",
      "True Positives (TP): 151\n",
      "Params: num_leaves=60, learning_rate=0.060, num_iterations=100\n",
      " → Optimal Threshold: 0.9732\n",
      " → Recall: 0.7089, Specificity: 0.9999\n",
      "\n"
     ]
    },
    {
     "name": "stderr",
     "output_type": "stream",
     "text": [
      "C:\\Users\\Neil\\AppData\\Roaming\\Python\\Python311\\site-packages\\lightgbm\\engine.py:204: UserWarning: Found `num_iterations` in params. Will use it instead of argument\n",
      "  _log_warning(f\"Found `{alias}` in params. Will use it instead of argument\")\n"
     ]
    },
    {
     "name": "stdout",
     "output_type": "stream",
     "text": [
      "[LightGBM] [Warning] Unknown parameter: is_unbalanced\n",
      "[LightGBM] [Warning] Unknown parameter: is_unbalanced\n",
      "[LightGBM] [Info] Number of positive: 38849, number of negative: 77699\n",
      "[LightGBM] [Info] Auto-choosing row-wise multi-threading, the overhead of testing was 0.023308 seconds.\n",
      "You can set `force_row_wise=true` to remove the overhead.\n",
      "And if memory is not enough, you can set `force_col_wise=true`.\n",
      "[LightGBM] [Info] Total Bins 411\n",
      "[LightGBM] [Info] Number of data points in the train set: 116548, number of used features: 33\n",
      "[LightGBM] [Info] [binary:BoostFromScore]: pavg=0.333330 -> initscore=-0.693160\n",
      "[LightGBM] [Info] Start training from score -0.693160\n",
      "[LightGBM] [Warning] Unknown parameter: is_unbalanced\n",
      "True Negatives (TN): 33295\n",
      "False Positives (FP): 6\n",
      "False Negatives (FN): 63\n",
      "True Positives (TP): 150\n",
      "Params: num_leaves=60, learning_rate=0.060, num_iterations=150\n",
      " → Optimal Threshold: 0.9586\n",
      " → Recall: 0.7042, Specificity: 0.9998\n",
      "\n",
      "[LightGBM] [Warning] Unknown parameter: is_unbalanced\n"
     ]
    },
    {
     "name": "stderr",
     "output_type": "stream",
     "text": [
      "C:\\Users\\Neil\\AppData\\Roaming\\Python\\Python311\\site-packages\\lightgbm\\engine.py:204: UserWarning: Found `num_iterations` in params. Will use it instead of argument\n",
      "  _log_warning(f\"Found `{alias}` in params. Will use it instead of argument\")\n"
     ]
    },
    {
     "name": "stdout",
     "output_type": "stream",
     "text": [
      "[LightGBM] [Warning] Unknown parameter: is_unbalanced\n",
      "[LightGBM] [Info] Number of positive: 38849, number of negative: 77699\n",
      "[LightGBM] [Info] Auto-choosing row-wise multi-threading, the overhead of testing was 0.023228 seconds.\n",
      "You can set `force_row_wise=true` to remove the overhead.\n",
      "And if memory is not enough, you can set `force_col_wise=true`.\n",
      "[LightGBM] [Info] Total Bins 411\n",
      "[LightGBM] [Info] Number of data points in the train set: 116548, number of used features: 33\n",
      "[LightGBM] [Info] [binary:BoostFromScore]: pavg=0.333330 -> initscore=-0.693160\n",
      "[LightGBM] [Info] Start training from score -0.693160\n",
      "[LightGBM] [Warning] Unknown parameter: is_unbalanced\n",
      "True Negatives (TN): 33294\n",
      "False Positives (FP): 7\n",
      "False Negatives (FN): 65\n",
      "True Positives (TP): 148\n",
      "Params: num_leaves=60, learning_rate=0.060, num_iterations=200\n",
      " → Optimal Threshold: 0.9627\n",
      " → Recall: 0.6948, Specificity: 0.9998\n",
      "\n",
      "[LightGBM] [Warning] Unknown parameter: is_unbalanced\n"
     ]
    },
    {
     "name": "stderr",
     "output_type": "stream",
     "text": [
      "C:\\Users\\Neil\\AppData\\Roaming\\Python\\Python311\\site-packages\\lightgbm\\engine.py:204: UserWarning: Found `num_iterations` in params. Will use it instead of argument\n",
      "  _log_warning(f\"Found `{alias}` in params. Will use it instead of argument\")\n"
     ]
    },
    {
     "name": "stdout",
     "output_type": "stream",
     "text": [
      "[LightGBM] [Warning] Unknown parameter: is_unbalanced\n",
      "[LightGBM] [Info] Number of positive: 38849, number of negative: 77699\n",
      "[LightGBM] [Info] Auto-choosing col-wise multi-threading, the overhead of testing was 0.048146 seconds.\n",
      "You can set `force_col_wise=true` to remove the overhead.\n",
      "[LightGBM] [Info] Total Bins 411\n",
      "[LightGBM] [Info] Number of data points in the train set: 116548, number of used features: 33\n",
      "[LightGBM] [Info] [binary:BoostFromScore]: pavg=0.333330 -> initscore=-0.693160\n",
      "[LightGBM] [Info] Start training from score -0.693160\n",
      "[LightGBM] [Warning] Unknown parameter: is_unbalanced\n",
      "True Negatives (TN): 33294\n",
      "False Positives (FP): 7\n",
      "False Negatives (FN): 62\n",
      "True Positives (TP): 151\n",
      "Params: num_leaves=60, learning_rate=0.090, num_iterations=50\n",
      " → Optimal Threshold: 0.9766\n",
      " → Recall: 0.7089, Specificity: 0.9998\n",
      "\n",
      "[LightGBM] [Warning] Unknown parameter: is_unbalanced\n"
     ]
    },
    {
     "name": "stderr",
     "output_type": "stream",
     "text": [
      "C:\\Users\\Neil\\AppData\\Roaming\\Python\\Python311\\site-packages\\lightgbm\\engine.py:204: UserWarning: Found `num_iterations` in params. Will use it instead of argument\n",
      "  _log_warning(f\"Found `{alias}` in params. Will use it instead of argument\")\n"
     ]
    },
    {
     "name": "stdout",
     "output_type": "stream",
     "text": [
      "[LightGBM] [Warning] Unknown parameter: is_unbalanced\n",
      "[LightGBM] [Info] Number of positive: 38849, number of negative: 77699\n",
      "[LightGBM] [Info] Auto-choosing row-wise multi-threading, the overhead of testing was 0.016665 seconds.\n",
      "You can set `force_row_wise=true` to remove the overhead.\n",
      "And if memory is not enough, you can set `force_col_wise=true`.\n",
      "[LightGBM] [Info] Total Bins 411\n",
      "[LightGBM] [Info] Number of data points in the train set: 116548, number of used features: 33\n",
      "[LightGBM] [Info] [binary:BoostFromScore]: pavg=0.333330 -> initscore=-0.693160\n",
      "[LightGBM] [Info] Start training from score -0.693160\n",
      "[LightGBM] [Warning] Unknown parameter: is_unbalanced\n",
      "True Negatives (TN): 33289\n",
      "False Positives (FP): 12\n",
      "False Negatives (FN): 58\n",
      "True Positives (TP): 155\n",
      "Params: num_leaves=60, learning_rate=0.090, num_iterations=100\n",
      " → Optimal Threshold: 0.9375\n",
      " → Recall: 0.7277, Specificity: 0.9996\n",
      "\n",
      "[LightGBM] [Warning] Unknown parameter: is_unbalanced\n"
     ]
    },
    {
     "name": "stderr",
     "output_type": "stream",
     "text": [
      "C:\\Users\\Neil\\AppData\\Roaming\\Python\\Python311\\site-packages\\lightgbm\\engine.py:204: UserWarning: Found `num_iterations` in params. Will use it instead of argument\n",
      "  _log_warning(f\"Found `{alias}` in params. Will use it instead of argument\")\n"
     ]
    },
    {
     "name": "stdout",
     "output_type": "stream",
     "text": [
      "[LightGBM] [Warning] Unknown parameter: is_unbalanced\n",
      "[LightGBM] [Info] Number of positive: 38849, number of negative: 77699\n",
      "[LightGBM] [Info] Auto-choosing row-wise multi-threading, the overhead of testing was 0.017473 seconds.\n",
      "You can set `force_row_wise=true` to remove the overhead.\n",
      "And if memory is not enough, you can set `force_col_wise=true`.\n",
      "[LightGBM] [Info] Total Bins 411\n",
      "[LightGBM] [Info] Number of data points in the train set: 116548, number of used features: 33\n",
      "[LightGBM] [Info] [binary:BoostFromScore]: pavg=0.333330 -> initscore=-0.693160\n",
      "[LightGBM] [Info] Start training from score -0.693160\n",
      "[LightGBM] [Warning] Unknown parameter: is_unbalanced\n",
      "True Negatives (TN): 33292\n",
      "False Positives (FP): 9\n",
      "False Negatives (FN): 65\n",
      "True Positives (TP): 148\n",
      "Params: num_leaves=60, learning_rate=0.090, num_iterations=150\n",
      " → Optimal Threshold: 0.9557\n",
      " → Recall: 0.6948, Specificity: 0.9997\n",
      "\n",
      "[LightGBM] [Warning] Unknown parameter: is_unbalanced\n",
      "[LightGBM] [Warning] Unknown parameter: is_unbalanced\n",
      "[LightGBM] [Info] Number of positive: 38849, number of negative: 77699\n"
     ]
    },
    {
     "name": "stderr",
     "output_type": "stream",
     "text": [
      "C:\\Users\\Neil\\AppData\\Roaming\\Python\\Python311\\site-packages\\lightgbm\\engine.py:204: UserWarning: Found `num_iterations` in params. Will use it instead of argument\n",
      "  _log_warning(f\"Found `{alias}` in params. Will use it instead of argument\")\n"
     ]
    },
    {
     "name": "stdout",
     "output_type": "stream",
     "text": [
      "[LightGBM] [Info] Auto-choosing row-wise multi-threading, the overhead of testing was 0.016913 seconds.\n",
      "You can set `force_row_wise=true` to remove the overhead.\n",
      "And if memory is not enough, you can set `force_col_wise=true`.\n",
      "[LightGBM] [Info] Total Bins 411\n",
      "[LightGBM] [Info] Number of data points in the train set: 116548, number of used features: 33\n",
      "[LightGBM] [Info] [binary:BoostFromScore]: pavg=0.333330 -> initscore=-0.693160\n",
      "[LightGBM] [Info] Start training from score -0.693160\n",
      "[LightGBM] [Warning] Unknown parameter: is_unbalanced\n",
      "True Negatives (TN): 33293\n",
      "False Positives (FP): 8\n",
      "False Negatives (FN): 66\n",
      "True Positives (TP): 147\n",
      "Params: num_leaves=60, learning_rate=0.090, num_iterations=200\n",
      " → Optimal Threshold: 0.9613\n",
      " → Recall: 0.6901, Specificity: 0.9998\n",
      "\n",
      "[LightGBM] [Warning] Unknown parameter: is_unbalanced\n"
     ]
    },
    {
     "name": "stderr",
     "output_type": "stream",
     "text": [
      "C:\\Users\\Neil\\AppData\\Roaming\\Python\\Python311\\site-packages\\lightgbm\\engine.py:204: UserWarning: Found `num_iterations` in params. Will use it instead of argument\n",
      "  _log_warning(f\"Found `{alias}` in params. Will use it instead of argument\")\n"
     ]
    },
    {
     "name": "stdout",
     "output_type": "stream",
     "text": [
      "[LightGBM] [Warning] Unknown parameter: is_unbalanced\n",
      "[LightGBM] [Info] Number of positive: 38849, number of negative: 77699\n",
      "[LightGBM] [Info] Auto-choosing row-wise multi-threading, the overhead of testing was 0.024553 seconds.\n",
      "You can set `force_row_wise=true` to remove the overhead.\n",
      "And if memory is not enough, you can set `force_col_wise=true`.\n",
      "[LightGBM] [Info] Total Bins 411\n",
      "[LightGBM] [Info] Number of data points in the train set: 116548, number of used features: 33\n",
      "[LightGBM] [Info] [binary:BoostFromScore]: pavg=0.333330 -> initscore=-0.693160\n",
      "[LightGBM] [Info] Start training from score -0.693160\n",
      "[LightGBM] [Warning] Unknown parameter: is_unbalanced\n",
      "True Negatives (TN): 33296\n",
      "False Positives (FP): 5\n",
      "False Negatives (FN): 62\n",
      "True Positives (TP): 151\n",
      "Params: num_leaves=60, learning_rate=0.120, num_iterations=50\n",
      " → Optimal Threshold: 0.9707\n",
      " → Recall: 0.7089, Specificity: 0.9998\n",
      "\n",
      "[LightGBM] [Warning] Unknown parameter: is_unbalanced\n"
     ]
    },
    {
     "name": "stderr",
     "output_type": "stream",
     "text": [
      "C:\\Users\\Neil\\AppData\\Roaming\\Python\\Python311\\site-packages\\lightgbm\\engine.py:204: UserWarning: Found `num_iterations` in params. Will use it instead of argument\n",
      "  _log_warning(f\"Found `{alias}` in params. Will use it instead of argument\")\n"
     ]
    },
    {
     "name": "stdout",
     "output_type": "stream",
     "text": [
      "[LightGBM] [Warning] Unknown parameter: is_unbalanced\n",
      "[LightGBM] [Info] Number of positive: 38849, number of negative: 77699\n",
      "[LightGBM] [Info] Auto-choosing row-wise multi-threading, the overhead of testing was 0.023981 seconds.\n",
      "You can set `force_row_wise=true` to remove the overhead.\n",
      "And if memory is not enough, you can set `force_col_wise=true`.\n",
      "[LightGBM] [Info] Total Bins 411\n",
      "[LightGBM] [Info] Number of data points in the train set: 116548, number of used features: 33\n",
      "[LightGBM] [Info] [binary:BoostFromScore]: pavg=0.333330 -> initscore=-0.693160\n",
      "[LightGBM] [Info] Start training from score -0.693160\n",
      "[LightGBM] [Warning] Unknown parameter: is_unbalanced\n",
      "True Negatives (TN): 33294\n",
      "False Positives (FP): 7\n",
      "False Negatives (FN): 68\n",
      "True Positives (TP): 145\n",
      "Params: num_leaves=60, learning_rate=0.120, num_iterations=100\n",
      " → Optimal Threshold: 0.9691\n",
      " → Recall: 0.6808, Specificity: 0.9998\n",
      "\n"
     ]
    },
    {
     "name": "stderr",
     "output_type": "stream",
     "text": [
      "C:\\Users\\Neil\\AppData\\Roaming\\Python\\Python311\\site-packages\\lightgbm\\engine.py:204: UserWarning: Found `num_iterations` in params. Will use it instead of argument\n",
      "  _log_warning(f\"Found `{alias}` in params. Will use it instead of argument\")\n"
     ]
    },
    {
     "name": "stdout",
     "output_type": "stream",
     "text": [
      "[LightGBM] [Warning] Unknown parameter: is_unbalanced\n",
      "[LightGBM] [Warning] Unknown parameter: is_unbalanced\n",
      "[LightGBM] [Info] Number of positive: 38849, number of negative: 77699\n",
      "[LightGBM] [Info] Auto-choosing row-wise multi-threading, the overhead of testing was 0.024249 seconds.\n",
      "You can set `force_row_wise=true` to remove the overhead.\n",
      "And if memory is not enough, you can set `force_col_wise=true`.\n",
      "[LightGBM] [Info] Total Bins 411\n",
      "[LightGBM] [Info] Number of data points in the train set: 116548, number of used features: 33\n",
      "[LightGBM] [Info] [binary:BoostFromScore]: pavg=0.333330 -> initscore=-0.693160\n",
      "[LightGBM] [Info] Start training from score -0.693160\n",
      "[LightGBM] [Warning] Unknown parameter: is_unbalanced\n",
      "True Negatives (TN): 33297\n",
      "False Positives (FP): 4\n",
      "False Negatives (FN): 70\n",
      "True Positives (TP): 143\n",
      "Params: num_leaves=60, learning_rate=0.120, num_iterations=150\n",
      " → Optimal Threshold: 0.9818\n",
      " → Recall: 0.6714, Specificity: 0.9999\n",
      "\n",
      "[LightGBM] [Warning] Unknown parameter: is_unbalanced\n"
     ]
    },
    {
     "name": "stderr",
     "output_type": "stream",
     "text": [
      "C:\\Users\\Neil\\AppData\\Roaming\\Python\\Python311\\site-packages\\lightgbm\\engine.py:204: UserWarning: Found `num_iterations` in params. Will use it instead of argument\n",
      "  _log_warning(f\"Found `{alias}` in params. Will use it instead of argument\")\n"
     ]
    },
    {
     "name": "stdout",
     "output_type": "stream",
     "text": [
      "[LightGBM] [Warning] Unknown parameter: is_unbalanced\n",
      "[LightGBM] [Info] Number of positive: 38849, number of negative: 77699\n",
      "[LightGBM] [Info] Auto-choosing row-wise multi-threading, the overhead of testing was 0.019348 seconds.\n",
      "You can set `force_row_wise=true` to remove the overhead.\n",
      "And if memory is not enough, you can set `force_col_wise=true`.\n",
      "[LightGBM] [Info] Total Bins 411\n",
      "[LightGBM] [Info] Number of data points in the train set: 116548, number of used features: 33\n",
      "[LightGBM] [Info] [binary:BoostFromScore]: pavg=0.333330 -> initscore=-0.693160\n",
      "[LightGBM] [Info] Start training from score -0.693160\n",
      "[LightGBM] [Warning] Unknown parameter: is_unbalanced\n",
      "True Negatives (TN): 33293\n",
      "False Positives (FP): 8\n",
      "False Negatives (FN): 67\n",
      "True Positives (TP): 146\n",
      "Params: num_leaves=60, learning_rate=0.120, num_iterations=200\n",
      " → Optimal Threshold: 0.9756\n",
      " → Recall: 0.6854, Specificity: 0.9998\n",
      "\n",
      "[LightGBM] [Warning] Unknown parameter: is_unbalanced\n"
     ]
    },
    {
     "name": "stderr",
     "output_type": "stream",
     "text": [
      "C:\\Users\\Neil\\AppData\\Roaming\\Python\\Python311\\site-packages\\lightgbm\\engine.py:204: UserWarning: Found `num_iterations` in params. Will use it instead of argument\n",
      "  _log_warning(f\"Found `{alias}` in params. Will use it instead of argument\")\n"
     ]
    },
    {
     "name": "stdout",
     "output_type": "stream",
     "text": [
      "[LightGBM] [Warning] Unknown parameter: is_unbalanced\n",
      "[LightGBM] [Info] Number of positive: 38849, number of negative: 77699\n",
      "[LightGBM] [Info] Auto-choosing row-wise multi-threading, the overhead of testing was 0.022585 seconds.\n",
      "You can set `force_row_wise=true` to remove the overhead.\n",
      "And if memory is not enough, you can set `force_col_wise=true`.\n",
      "[LightGBM] [Info] Total Bins 411\n",
      "[LightGBM] [Info] Number of data points in the train set: 116548, number of used features: 33\n",
      "[LightGBM] [Info] [binary:BoostFromScore]: pavg=0.333330 -> initscore=-0.693160\n",
      "[LightGBM] [Info] Start training from score -0.693160\n",
      "[LightGBM] [Warning] Unknown parameter: is_unbalanced\n",
      "True Negatives (TN): 33295\n",
      "False Positives (FP): 6\n",
      "False Negatives (FN): 63\n",
      "True Positives (TP): 150\n",
      "Params: num_leaves=60, learning_rate=0.150, num_iterations=50\n",
      " → Optimal Threshold: 0.9709\n",
      " → Recall: 0.7042, Specificity: 0.9998\n",
      "\n",
      "[LightGBM] [Warning] Unknown parameter: is_unbalanced\n"
     ]
    },
    {
     "name": "stderr",
     "output_type": "stream",
     "text": [
      "C:\\Users\\Neil\\AppData\\Roaming\\Python\\Python311\\site-packages\\lightgbm\\engine.py:204: UserWarning: Found `num_iterations` in params. Will use it instead of argument\n",
      "  _log_warning(f\"Found `{alias}` in params. Will use it instead of argument\")\n"
     ]
    },
    {
     "name": "stdout",
     "output_type": "stream",
     "text": [
      "[LightGBM] [Warning] Unknown parameter: is_unbalanced\n",
      "[LightGBM] [Info] Number of positive: 38849, number of negative: 77699\n",
      "[LightGBM] [Info] Auto-choosing row-wise multi-threading, the overhead of testing was 0.018055 seconds.\n",
      "You can set `force_row_wise=true` to remove the overhead.\n",
      "And if memory is not enough, you can set `force_col_wise=true`.\n",
      "[LightGBM] [Info] Total Bins 411\n",
      "[LightGBM] [Info] Number of data points in the train set: 116548, number of used features: 33\n",
      "[LightGBM] [Info] [binary:BoostFromScore]: pavg=0.333330 -> initscore=-0.693160\n",
      "[LightGBM] [Info] Start training from score -0.693160\n",
      "[LightGBM] [Warning] Unknown parameter: is_unbalanced\n",
      "True Negatives (TN): 33292\n",
      "False Positives (FP): 9\n",
      "False Negatives (FN): 64\n",
      "True Positives (TP): 149\n",
      "Params: num_leaves=60, learning_rate=0.150, num_iterations=100\n",
      " → Optimal Threshold: 0.9631\n",
      " → Recall: 0.6995, Specificity: 0.9997\n",
      "\n",
      "[LightGBM] [Warning] Unknown parameter: is_unbalanced\n"
     ]
    },
    {
     "name": "stderr",
     "output_type": "stream",
     "text": [
      "C:\\Users\\Neil\\AppData\\Roaming\\Python\\Python311\\site-packages\\lightgbm\\engine.py:204: UserWarning: Found `num_iterations` in params. Will use it instead of argument\n",
      "  _log_warning(f\"Found `{alias}` in params. Will use it instead of argument\")\n"
     ]
    },
    {
     "name": "stdout",
     "output_type": "stream",
     "text": [
      "[LightGBM] [Warning] Unknown parameter: is_unbalanced\n",
      "[LightGBM] [Info] Number of positive: 38849, number of negative: 77699\n",
      "[LightGBM] [Info] Auto-choosing row-wise multi-threading, the overhead of testing was 0.022420 seconds.\n",
      "You can set `force_row_wise=true` to remove the overhead.\n",
      "And if memory is not enough, you can set `force_col_wise=true`.\n",
      "[LightGBM] [Info] Total Bins 411\n",
      "[LightGBM] [Info] Number of data points in the train set: 116548, number of used features: 33\n",
      "[LightGBM] [Info] [binary:BoostFromScore]: pavg=0.333330 -> initscore=-0.693160\n",
      "[LightGBM] [Info] Start training from score -0.693160\n",
      "[LightGBM] [Warning] Unknown parameter: is_unbalanced\n",
      "True Negatives (TN): 33292\n",
      "False Positives (FP): 9\n",
      "False Negatives (FN): 65\n",
      "True Positives (TP): 148\n",
      "Params: num_leaves=60, learning_rate=0.150, num_iterations=150\n",
      " → Optimal Threshold: 0.9683\n",
      " → Recall: 0.6948, Specificity: 0.9997\n",
      "\n",
      "[LightGBM] [Warning] Unknown parameter: is_unbalanced\n"
     ]
    },
    {
     "name": "stderr",
     "output_type": "stream",
     "text": [
      "C:\\Users\\Neil\\AppData\\Roaming\\Python\\Python311\\site-packages\\lightgbm\\engine.py:204: UserWarning: Found `num_iterations` in params. Will use it instead of argument\n",
      "  _log_warning(f\"Found `{alias}` in params. Will use it instead of argument\")\n"
     ]
    },
    {
     "name": "stdout",
     "output_type": "stream",
     "text": [
      "[LightGBM] [Warning] Unknown parameter: is_unbalanced\n",
      "[LightGBM] [Info] Number of positive: 38849, number of negative: 77699\n",
      "[LightGBM] [Info] Auto-choosing row-wise multi-threading, the overhead of testing was 0.022809 seconds.\n",
      "You can set `force_row_wise=true` to remove the overhead.\n",
      "And if memory is not enough, you can set `force_col_wise=true`.\n",
      "[LightGBM] [Info] Total Bins 411\n",
      "[LightGBM] [Info] Number of data points in the train set: 116548, number of used features: 33\n",
      "[LightGBM] [Info] [binary:BoostFromScore]: pavg=0.333330 -> initscore=-0.693160\n",
      "[LightGBM] [Info] Start training from score -0.693160\n",
      "[LightGBM] [Warning] Unknown parameter: is_unbalanced\n",
      "True Negatives (TN): 33297\n",
      "False Positives (FP): 4\n",
      "False Negatives (FN): 71\n",
      "True Positives (TP): 142\n",
      "Params: num_leaves=60, learning_rate=0.150, num_iterations=200\n",
      " → Optimal Threshold: 0.9922\n",
      " → Recall: 0.6667, Specificity: 0.9999\n",
      "\n",
      "[LightGBM] [Warning] Unknown parameter: is_unbalanced\n"
     ]
    },
    {
     "name": "stderr",
     "output_type": "stream",
     "text": [
      "C:\\Users\\Neil\\AppData\\Roaming\\Python\\Python311\\site-packages\\lightgbm\\engine.py:204: UserWarning: Found `num_iterations` in params. Will use it instead of argument\n",
      "  _log_warning(f\"Found `{alias}` in params. Will use it instead of argument\")\n"
     ]
    },
    {
     "name": "stdout",
     "output_type": "stream",
     "text": [
      "[LightGBM] [Warning] Unknown parameter: is_unbalanced\n",
      "[LightGBM] [Info] Number of positive: 38849, number of negative: 77699\n",
      "[LightGBM] [Info] Auto-choosing row-wise multi-threading, the overhead of testing was 0.020962 seconds.\n",
      "You can set `force_row_wise=true` to remove the overhead.\n",
      "And if memory is not enough, you can set `force_col_wise=true`.\n",
      "[LightGBM] [Info] Total Bins 411\n",
      "[LightGBM] [Info] Number of data points in the train set: 116548, number of used features: 33\n",
      "[LightGBM] [Info] [binary:BoostFromScore]: pavg=0.333330 -> initscore=-0.693160\n",
      "[LightGBM] [Info] Start training from score -0.693160\n",
      "[LightGBM] [Warning] Unknown parameter: is_unbalanced\n",
      "True Negatives (TN): 33266\n",
      "False Positives (FP): 35\n",
      "False Negatives (FN): 52\n",
      "True Positives (TP): 161\n",
      "Params: num_leaves=80, learning_rate=0.030, num_iterations=50\n",
      " → Optimal Threshold: 0.8177\n",
      " → Recall: 0.7559, Specificity: 0.9989\n",
      "\n",
      "[LightGBM] [Warning] Unknown parameter: is_unbalanced\n"
     ]
    },
    {
     "name": "stderr",
     "output_type": "stream",
     "text": [
      "C:\\Users\\Neil\\AppData\\Roaming\\Python\\Python311\\site-packages\\lightgbm\\engine.py:204: UserWarning: Found `num_iterations` in params. Will use it instead of argument\n",
      "  _log_warning(f\"Found `{alias}` in params. Will use it instead of argument\")\n"
     ]
    },
    {
     "name": "stdout",
     "output_type": "stream",
     "text": [
      "[LightGBM] [Warning] Unknown parameter: is_unbalanced\n",
      "[LightGBM] [Info] Number of positive: 38849, number of negative: 77699\n",
      "[LightGBM] [Info] Auto-choosing row-wise multi-threading, the overhead of testing was 0.020356 seconds.\n",
      "You can set `force_row_wise=true` to remove the overhead.\n",
      "And if memory is not enough, you can set `force_col_wise=true`.\n",
      "[LightGBM] [Info] Total Bins 411\n",
      "[LightGBM] [Info] Number of data points in the train set: 116548, number of used features: 33\n",
      "[LightGBM] [Info] [binary:BoostFromScore]: pavg=0.333330 -> initscore=-0.693160\n",
      "[LightGBM] [Info] Start training from score -0.693160\n",
      "[LightGBM] [Warning] Unknown parameter: is_unbalanced\n",
      "True Negatives (TN): 33281\n",
      "False Positives (FP): 20\n",
      "False Negatives (FN): 57\n",
      "True Positives (TP): 156\n",
      "Params: num_leaves=80, learning_rate=0.030, num_iterations=100\n",
      " → Optimal Threshold: 0.9153\n",
      " → Recall: 0.7324, Specificity: 0.9994\n",
      "\n"
     ]
    },
    {
     "name": "stderr",
     "output_type": "stream",
     "text": [
      "C:\\Users\\Neil\\AppData\\Roaming\\Python\\Python311\\site-packages\\lightgbm\\engine.py:204: UserWarning: Found `num_iterations` in params. Will use it instead of argument\n",
      "  _log_warning(f\"Found `{alias}` in params. Will use it instead of argument\")\n"
     ]
    },
    {
     "name": "stdout",
     "output_type": "stream",
     "text": [
      "[LightGBM] [Warning] Unknown parameter: is_unbalanced\n",
      "[LightGBM] [Warning] Unknown parameter: is_unbalanced\n",
      "[LightGBM] [Info] Number of positive: 38849, number of negative: 77699\n",
      "[LightGBM] [Info] Auto-choosing row-wise multi-threading, the overhead of testing was 0.017206 seconds.\n",
      "You can set `force_row_wise=true` to remove the overhead.\n",
      "And if memory is not enough, you can set `force_col_wise=true`.\n",
      "[LightGBM] [Info] Total Bins 411\n",
      "[LightGBM] [Info] Number of data points in the train set: 116548, number of used features: 33\n",
      "[LightGBM] [Info] [binary:BoostFromScore]: pavg=0.333330 -> initscore=-0.693160\n",
      "[LightGBM] [Info] Start training from score -0.693160\n",
      "[LightGBM] [Warning] Unknown parameter: is_unbalanced\n",
      "True Negatives (TN): 33293\n",
      "False Positives (FP): 8\n",
      "False Negatives (FN): 61\n",
      "True Positives (TP): 152\n",
      "Params: num_leaves=80, learning_rate=0.030, num_iterations=150\n",
      " → Optimal Threshold: 0.9687\n",
      " → Recall: 0.7136, Specificity: 0.9998\n",
      "\n",
      "[LightGBM] [Warning] Unknown parameter: is_unbalanced\n",
      "[LightGBM] [Warning] Unknown parameter: is_unbalanced\n",
      "[LightGBM] [Info] Number of positive: 38849, number of negative: 77699\n"
     ]
    },
    {
     "name": "stderr",
     "output_type": "stream",
     "text": [
      "C:\\Users\\Neil\\AppData\\Roaming\\Python\\Python311\\site-packages\\lightgbm\\engine.py:204: UserWarning: Found `num_iterations` in params. Will use it instead of argument\n",
      "  _log_warning(f\"Found `{alias}` in params. Will use it instead of argument\")\n"
     ]
    },
    {
     "name": "stdout",
     "output_type": "stream",
     "text": [
      "[LightGBM] [Info] Auto-choosing row-wise multi-threading, the overhead of testing was 0.016838 seconds.\n",
      "You can set `force_row_wise=true` to remove the overhead.\n",
      "And if memory is not enough, you can set `force_col_wise=true`.\n",
      "[LightGBM] [Info] Total Bins 411\n",
      "[LightGBM] [Info] Number of data points in the train set: 116548, number of used features: 33\n",
      "[LightGBM] [Info] [binary:BoostFromScore]: pavg=0.333330 -> initscore=-0.693160\n",
      "[LightGBM] [Info] Start training from score -0.693160\n",
      "[LightGBM] [Warning] Unknown parameter: is_unbalanced\n",
      "True Negatives (TN): 33298\n",
      "False Positives (FP): 3\n",
      "False Negatives (FN): 67\n",
      "True Positives (TP): 146\n",
      "Params: num_leaves=80, learning_rate=0.030, num_iterations=200\n",
      " → Optimal Threshold: 0.9823\n",
      " → Recall: 0.6854, Specificity: 0.9999\n",
      "\n",
      "[LightGBM] [Warning] Unknown parameter: is_unbalanced\n",
      "[LightGBM] [Warning] Unknown parameter: is_unbalanced\n",
      "[LightGBM] [Info] Number of positive: 38849, number of negative: 77699\n"
     ]
    },
    {
     "name": "stderr",
     "output_type": "stream",
     "text": [
      "C:\\Users\\Neil\\AppData\\Roaming\\Python\\Python311\\site-packages\\lightgbm\\engine.py:204: UserWarning: Found `num_iterations` in params. Will use it instead of argument\n",
      "  _log_warning(f\"Found `{alias}` in params. Will use it instead of argument\")\n"
     ]
    },
    {
     "name": "stdout",
     "output_type": "stream",
     "text": [
      "[LightGBM] [Info] Auto-choosing row-wise multi-threading, the overhead of testing was 0.020241 seconds.\n",
      "You can set `force_row_wise=true` to remove the overhead.\n",
      "And if memory is not enough, you can set `force_col_wise=true`.\n",
      "[LightGBM] [Info] Total Bins 411\n",
      "[LightGBM] [Info] Number of data points in the train set: 116548, number of used features: 33\n",
      "[LightGBM] [Info] [binary:BoostFromScore]: pavg=0.333330 -> initscore=-0.693160\n",
      "[LightGBM] [Info] Start training from score -0.693160\n",
      "[LightGBM] [Warning] Unknown parameter: is_unbalanced\n",
      "True Negatives (TN): 33285\n",
      "False Positives (FP): 16\n",
      "False Negatives (FN): 58\n",
      "True Positives (TP): 155\n",
      "Params: num_leaves=80, learning_rate=0.060, num_iterations=50\n",
      " → Optimal Threshold: 0.9261\n",
      " → Recall: 0.7277, Specificity: 0.9995\n",
      "\n",
      "[LightGBM] [Warning] Unknown parameter: is_unbalanced\n"
     ]
    },
    {
     "name": "stderr",
     "output_type": "stream",
     "text": [
      "C:\\Users\\Neil\\AppData\\Roaming\\Python\\Python311\\site-packages\\lightgbm\\engine.py:204: UserWarning: Found `num_iterations` in params. Will use it instead of argument\n",
      "  _log_warning(f\"Found `{alias}` in params. Will use it instead of argument\")\n"
     ]
    },
    {
     "name": "stdout",
     "output_type": "stream",
     "text": [
      "[LightGBM] [Warning] Unknown parameter: is_unbalanced\n",
      "[LightGBM] [Info] Number of positive: 38849, number of negative: 77699\n",
      "[LightGBM] [Info] Auto-choosing row-wise multi-threading, the overhead of testing was 0.019523 seconds.\n",
      "You can set `force_row_wise=true` to remove the overhead.\n",
      "And if memory is not enough, you can set `force_col_wise=true`.\n",
      "[LightGBM] [Info] Total Bins 411\n",
      "[LightGBM] [Info] Number of data points in the train set: 116548, number of used features: 33\n",
      "[LightGBM] [Info] [binary:BoostFromScore]: pavg=0.333330 -> initscore=-0.693160\n",
      "[LightGBM] [Info] Start training from score -0.693160\n",
      "[LightGBM] [Warning] Unknown parameter: is_unbalanced\n",
      "True Negatives (TN): 33298\n",
      "False Positives (FP): 3\n",
      "False Negatives (FN): 65\n",
      "True Positives (TP): 148\n",
      "Params: num_leaves=80, learning_rate=0.060, num_iterations=100\n",
      " → Optimal Threshold: 0.9814\n",
      " → Recall: 0.6948, Specificity: 0.9999\n",
      "\n"
     ]
    },
    {
     "name": "stderr",
     "output_type": "stream",
     "text": [
      "C:\\Users\\Neil\\AppData\\Roaming\\Python\\Python311\\site-packages\\lightgbm\\engine.py:204: UserWarning: Found `num_iterations` in params. Will use it instead of argument\n",
      "  _log_warning(f\"Found `{alias}` in params. Will use it instead of argument\")\n"
     ]
    },
    {
     "name": "stdout",
     "output_type": "stream",
     "text": [
      "[LightGBM] [Warning] Unknown parameter: is_unbalanced\n",
      "[LightGBM] [Warning] Unknown parameter: is_unbalanced\n",
      "[LightGBM] [Info] Number of positive: 38849, number of negative: 77699\n",
      "[LightGBM] [Info] Auto-choosing row-wise multi-threading, the overhead of testing was 0.024815 seconds.\n",
      "You can set `force_row_wise=true` to remove the overhead.\n",
      "And if memory is not enough, you can set `force_col_wise=true`.\n",
      "[LightGBM] [Info] Total Bins 411\n",
      "[LightGBM] [Info] Number of data points in the train set: 116548, number of used features: 33\n",
      "[LightGBM] [Info] [binary:BoostFromScore]: pavg=0.333330 -> initscore=-0.693160\n",
      "[LightGBM] [Info] Start training from score -0.693160\n",
      "[LightGBM] [Warning] Unknown parameter: is_unbalanced\n",
      "True Negatives (TN): 33295\n",
      "False Positives (FP): 6\n",
      "False Negatives (FN): 64\n",
      "True Positives (TP): 149\n",
      "Params: num_leaves=80, learning_rate=0.060, num_iterations=150\n",
      " → Optimal Threshold: 0.9742\n",
      " → Recall: 0.6995, Specificity: 0.9998\n",
      "\n",
      "[LightGBM] [Warning] Unknown parameter: is_unbalanced\n"
     ]
    },
    {
     "name": "stderr",
     "output_type": "stream",
     "text": [
      "C:\\Users\\Neil\\AppData\\Roaming\\Python\\Python311\\site-packages\\lightgbm\\engine.py:204: UserWarning: Found `num_iterations` in params. Will use it instead of argument\n",
      "  _log_warning(f\"Found `{alias}` in params. Will use it instead of argument\")\n"
     ]
    },
    {
     "name": "stdout",
     "output_type": "stream",
     "text": [
      "[LightGBM] [Warning] Unknown parameter: is_unbalanced\n",
      "[LightGBM] [Info] Number of positive: 38849, number of negative: 77699\n",
      "[LightGBM] [Info] Auto-choosing row-wise multi-threading, the overhead of testing was 0.022621 seconds.\n",
      "You can set `force_row_wise=true` to remove the overhead.\n",
      "And if memory is not enough, you can set `force_col_wise=true`.\n",
      "[LightGBM] [Info] Total Bins 411\n",
      "[LightGBM] [Info] Number of data points in the train set: 116548, number of used features: 33\n",
      "[LightGBM] [Info] [binary:BoostFromScore]: pavg=0.333330 -> initscore=-0.693160\n",
      "[LightGBM] [Info] Start training from score -0.693160\n",
      "[LightGBM] [Warning] Unknown parameter: is_unbalanced\n",
      "True Negatives (TN): 33293\n",
      "False Positives (FP): 8\n",
      "False Negatives (FN): 66\n",
      "True Positives (TP): 147\n",
      "Params: num_leaves=80, learning_rate=0.060, num_iterations=200\n",
      " → Optimal Threshold: 0.9681\n",
      " → Recall: 0.6901, Specificity: 0.9998\n",
      "\n",
      "[LightGBM] [Warning] Unknown parameter: is_unbalanced\n",
      "[LightGBM] [Warning] Unknown parameter: is_unbalanced\n",
      "[LightGBM] [Info] Number of positive: 38849, number of negative: 77699\n"
     ]
    },
    {
     "name": "stderr",
     "output_type": "stream",
     "text": [
      "C:\\Users\\Neil\\AppData\\Roaming\\Python\\Python311\\site-packages\\lightgbm\\engine.py:204: UserWarning: Found `num_iterations` in params. Will use it instead of argument\n",
      "  _log_warning(f\"Found `{alias}` in params. Will use it instead of argument\")\n"
     ]
    },
    {
     "name": "stdout",
     "output_type": "stream",
     "text": [
      "[LightGBM] [Info] Auto-choosing row-wise multi-threading, the overhead of testing was 0.020746 seconds.\n",
      "You can set `force_row_wise=true` to remove the overhead.\n",
      "And if memory is not enough, you can set `force_col_wise=true`.\n",
      "[LightGBM] [Info] Total Bins 411\n",
      "[LightGBM] [Info] Number of data points in the train set: 116548, number of used features: 33\n",
      "[LightGBM] [Info] [binary:BoostFromScore]: pavg=0.333330 -> initscore=-0.693160\n",
      "[LightGBM] [Info] Start training from score -0.693160\n",
      "[LightGBM] [Warning] Unknown parameter: is_unbalanced\n",
      "True Negatives (TN): 33294\n",
      "False Positives (FP): 7\n",
      "False Negatives (FN): 62\n",
      "True Positives (TP): 151\n",
      "Params: num_leaves=80, learning_rate=0.090, num_iterations=50\n",
      " → Optimal Threshold: 0.9776\n",
      " → Recall: 0.7089, Specificity: 0.9998\n",
      "\n",
      "[LightGBM] [Warning] Unknown parameter: is_unbalanced\n"
     ]
    },
    {
     "name": "stderr",
     "output_type": "stream",
     "text": [
      "C:\\Users\\Neil\\AppData\\Roaming\\Python\\Python311\\site-packages\\lightgbm\\engine.py:204: UserWarning: Found `num_iterations` in params. Will use it instead of argument\n",
      "  _log_warning(f\"Found `{alias}` in params. Will use it instead of argument\")\n"
     ]
    },
    {
     "name": "stdout",
     "output_type": "stream",
     "text": [
      "[LightGBM] [Warning] Unknown parameter: is_unbalanced\n",
      "[LightGBM] [Info] Number of positive: 38849, number of negative: 77699\n",
      "[LightGBM] [Info] Auto-choosing row-wise multi-threading, the overhead of testing was 0.018960 seconds.\n",
      "You can set `force_row_wise=true` to remove the overhead.\n",
      "And if memory is not enough, you can set `force_col_wise=true`.\n",
      "[LightGBM] [Info] Total Bins 411\n",
      "[LightGBM] [Info] Number of data points in the train set: 116548, number of used features: 33\n",
      "[LightGBM] [Info] [binary:BoostFromScore]: pavg=0.333330 -> initscore=-0.693160\n",
      "[LightGBM] [Info] Start training from score -0.693160\n",
      "[LightGBM] [Warning] Unknown parameter: is_unbalanced\n",
      "True Negatives (TN): 33294\n",
      "False Positives (FP): 7\n",
      "False Negatives (FN): 63\n",
      "True Positives (TP): 150\n",
      "Params: num_leaves=80, learning_rate=0.090, num_iterations=100\n",
      " → Optimal Threshold: 0.9649\n",
      " → Recall: 0.7042, Specificity: 0.9998\n",
      "\n",
      "[LightGBM] [Warning] Unknown parameter: is_unbalanced\n"
     ]
    },
    {
     "name": "stderr",
     "output_type": "stream",
     "text": [
      "C:\\Users\\Neil\\AppData\\Roaming\\Python\\Python311\\site-packages\\lightgbm\\engine.py:204: UserWarning: Found `num_iterations` in params. Will use it instead of argument\n",
      "  _log_warning(f\"Found `{alias}` in params. Will use it instead of argument\")\n"
     ]
    },
    {
     "name": "stdout",
     "output_type": "stream",
     "text": [
      "[LightGBM] [Warning] Unknown parameter: is_unbalanced\n",
      "[LightGBM] [Info] Number of positive: 38849, number of negative: 77699\n",
      "[LightGBM] [Info] Auto-choosing row-wise multi-threading, the overhead of testing was 0.016904 seconds.\n",
      "You can set `force_row_wise=true` to remove the overhead.\n",
      "And if memory is not enough, you can set `force_col_wise=true`.\n",
      "[LightGBM] [Info] Total Bins 411\n",
      "[LightGBM] [Info] Number of data points in the train set: 116548, number of used features: 33\n",
      "[LightGBM] [Info] [binary:BoostFromScore]: pavg=0.333330 -> initscore=-0.693160\n",
      "[LightGBM] [Info] Start training from score -0.693160\n",
      "[LightGBM] [Warning] Unknown parameter: is_unbalanced\n",
      "True Negatives (TN): 33294\n",
      "False Positives (FP): 7\n",
      "False Negatives (FN): 68\n",
      "True Positives (TP): 145\n",
      "Params: num_leaves=80, learning_rate=0.090, num_iterations=150\n",
      " → Optimal Threshold: 0.9782\n",
      " → Recall: 0.6808, Specificity: 0.9998\n",
      "\n",
      "[LightGBM] [Warning] Unknown parameter: is_unbalanced\n",
      "[LightGBM] [Warning] Unknown parameter: is_unbalanced\n",
      "[LightGBM] [Info] Number of positive: 38849, number of negative: 77699\n"
     ]
    },
    {
     "name": "stderr",
     "output_type": "stream",
     "text": [
      "C:\\Users\\Neil\\AppData\\Roaming\\Python\\Python311\\site-packages\\lightgbm\\engine.py:204: UserWarning: Found `num_iterations` in params. Will use it instead of argument\n",
      "  _log_warning(f\"Found `{alias}` in params. Will use it instead of argument\")\n"
     ]
    },
    {
     "name": "stdout",
     "output_type": "stream",
     "text": [
      "[LightGBM] [Info] Auto-choosing row-wise multi-threading, the overhead of testing was 0.021303 seconds.\n",
      "You can set `force_row_wise=true` to remove the overhead.\n",
      "And if memory is not enough, you can set `force_col_wise=true`.\n",
      "[LightGBM] [Info] Total Bins 411\n",
      "[LightGBM] [Info] Number of data points in the train set: 116548, number of used features: 33\n",
      "[LightGBM] [Info] [binary:BoostFromScore]: pavg=0.333330 -> initscore=-0.693160\n",
      "[LightGBM] [Info] Start training from score -0.693160\n",
      "[LightGBM] [Warning] Unknown parameter: is_unbalanced\n",
      "True Negatives (TN): 33296\n",
      "False Positives (FP): 5\n",
      "False Negatives (FN): 68\n",
      "True Positives (TP): 145\n",
      "Params: num_leaves=80, learning_rate=0.090, num_iterations=200\n",
      " → Optimal Threshold: 0.9880\n",
      " → Recall: 0.6808, Specificity: 0.9998\n",
      "\n",
      "[LightGBM] [Warning] Unknown parameter: is_unbalanced\n"
     ]
    },
    {
     "name": "stderr",
     "output_type": "stream",
     "text": [
      "C:\\Users\\Neil\\AppData\\Roaming\\Python\\Python311\\site-packages\\lightgbm\\engine.py:204: UserWarning: Found `num_iterations` in params. Will use it instead of argument\n",
      "  _log_warning(f\"Found `{alias}` in params. Will use it instead of argument\")\n"
     ]
    },
    {
     "name": "stdout",
     "output_type": "stream",
     "text": [
      "[LightGBM] [Warning] Unknown parameter: is_unbalanced\n",
      "[LightGBM] [Info] Number of positive: 38849, number of negative: 77699\n",
      "[LightGBM] [Info] Auto-choosing row-wise multi-threading, the overhead of testing was 0.018177 seconds.\n",
      "You can set `force_row_wise=true` to remove the overhead.\n",
      "And if memory is not enough, you can set `force_col_wise=true`.\n",
      "[LightGBM] [Info] Total Bins 411\n",
      "[LightGBM] [Info] Number of data points in the train set: 116548, number of used features: 33\n",
      "[LightGBM] [Info] [binary:BoostFromScore]: pavg=0.333330 -> initscore=-0.693160\n",
      "[LightGBM] [Info] Start training from score -0.693160\n",
      "[LightGBM] [Warning] Unknown parameter: is_unbalanced\n",
      "True Negatives (TN): 33289\n",
      "False Positives (FP): 12\n",
      "False Negatives (FN): 57\n",
      "True Positives (TP): 156\n",
      "Params: num_leaves=80, learning_rate=0.120, num_iterations=50\n",
      " → Optimal Threshold: 0.9516\n",
      " → Recall: 0.7324, Specificity: 0.9996\n",
      "\n",
      "[LightGBM] [Warning] Unknown parameter: is_unbalanced\n"
     ]
    },
    {
     "name": "stderr",
     "output_type": "stream",
     "text": [
      "C:\\Users\\Neil\\AppData\\Roaming\\Python\\Python311\\site-packages\\lightgbm\\engine.py:204: UserWarning: Found `num_iterations` in params. Will use it instead of argument\n",
      "  _log_warning(f\"Found `{alias}` in params. Will use it instead of argument\")\n"
     ]
    },
    {
     "name": "stdout",
     "output_type": "stream",
     "text": [
      "[LightGBM] [Warning] Unknown parameter: is_unbalanced\n",
      "[LightGBM] [Info] Number of positive: 38849, number of negative: 77699\n",
      "[LightGBM] [Info] Auto-choosing row-wise multi-threading, the overhead of testing was 0.021912 seconds.\n",
      "You can set `force_row_wise=true` to remove the overhead.\n",
      "And if memory is not enough, you can set `force_col_wise=true`.\n",
      "[LightGBM] [Info] Total Bins 411\n",
      "[LightGBM] [Info] Number of data points in the train set: 116548, number of used features: 33\n",
      "[LightGBM] [Info] [binary:BoostFromScore]: pavg=0.333330 -> initscore=-0.693160\n",
      "[LightGBM] [Info] Start training from score -0.693160\n",
      "[LightGBM] [Warning] Unknown parameter: is_unbalanced\n",
      "True Negatives (TN): 33297\n",
      "False Positives (FP): 4\n",
      "False Negatives (FN): 67\n",
      "True Positives (TP): 146\n",
      "Params: num_leaves=80, learning_rate=0.120, num_iterations=100\n",
      " → Optimal Threshold: 0.9823\n",
      " → Recall: 0.6854, Specificity: 0.9999\n",
      "\n",
      "[LightGBM] [Warning] Unknown parameter: is_unbalanced\n"
     ]
    },
    {
     "name": "stderr",
     "output_type": "stream",
     "text": [
      "C:\\Users\\Neil\\AppData\\Roaming\\Python\\Python311\\site-packages\\lightgbm\\engine.py:204: UserWarning: Found `num_iterations` in params. Will use it instead of argument\n",
      "  _log_warning(f\"Found `{alias}` in params. Will use it instead of argument\")\n"
     ]
    },
    {
     "name": "stdout",
     "output_type": "stream",
     "text": [
      "[LightGBM] [Warning] Unknown parameter: is_unbalanced\n",
      "[LightGBM] [Info] Number of positive: 38849, number of negative: 77699\n",
      "[LightGBM] [Info] Auto-choosing row-wise multi-threading, the overhead of testing was 0.022188 seconds.\n",
      "You can set `force_row_wise=true` to remove the overhead.\n",
      "And if memory is not enough, you can set `force_col_wise=true`.\n",
      "[LightGBM] [Info] Total Bins 411\n",
      "[LightGBM] [Info] Number of data points in the train set: 116548, number of used features: 33\n",
      "[LightGBM] [Info] [binary:BoostFromScore]: pavg=0.333330 -> initscore=-0.693160\n",
      "[LightGBM] [Info] Start training from score -0.693160\n",
      "[LightGBM] [Warning] Unknown parameter: is_unbalanced\n",
      "True Negatives (TN): 33296\n",
      "False Positives (FP): 5\n",
      "False Negatives (FN): 68\n",
      "True Positives (TP): 145\n",
      "Params: num_leaves=80, learning_rate=0.120, num_iterations=150\n",
      " → Optimal Threshold: 0.9891\n",
      " → Recall: 0.6808, Specificity: 0.9998\n",
      "\n",
      "[LightGBM] [Warning] Unknown parameter: is_unbalanced\n",
      "[LightGBM] [Warning] Unknown parameter: is_unbalanced\n",
      "[LightGBM] [Info] Number of positive: 38849, number of negative: 77699\n"
     ]
    },
    {
     "name": "stderr",
     "output_type": "stream",
     "text": [
      "C:\\Users\\Neil\\AppData\\Roaming\\Python\\Python311\\site-packages\\lightgbm\\engine.py:204: UserWarning: Found `num_iterations` in params. Will use it instead of argument\n",
      "  _log_warning(f\"Found `{alias}` in params. Will use it instead of argument\")\n"
     ]
    },
    {
     "name": "stdout",
     "output_type": "stream",
     "text": [
      "[LightGBM] [Info] Auto-choosing row-wise multi-threading, the overhead of testing was 0.022180 seconds.\n",
      "You can set `force_row_wise=true` to remove the overhead.\n",
      "And if memory is not enough, you can set `force_col_wise=true`.\n",
      "[LightGBM] [Info] Total Bins 411\n",
      "[LightGBM] [Info] Number of data points in the train set: 116548, number of used features: 33\n",
      "[LightGBM] [Info] [binary:BoostFromScore]: pavg=0.333330 -> initscore=-0.693160\n",
      "[LightGBM] [Info] Start training from score -0.693160\n",
      "[LightGBM] [Warning] Unknown parameter: is_unbalanced\n",
      "True Negatives (TN): 33298\n",
      "False Positives (FP): 3\n",
      "False Negatives (FN): 70\n",
      "True Positives (TP): 143\n",
      "Params: num_leaves=80, learning_rate=0.120, num_iterations=200\n",
      " → Optimal Threshold: 0.9955\n",
      " → Recall: 0.6714, Specificity: 0.9999\n",
      "\n",
      "[LightGBM] [Warning] Unknown parameter: is_unbalanced\n",
      "[LightGBM] [Warning] Unknown parameter: is_unbalanced\n",
      "[LightGBM] [Info] Number of positive: 38849, number of negative: 77699\n"
     ]
    },
    {
     "name": "stderr",
     "output_type": "stream",
     "text": [
      "C:\\Users\\Neil\\AppData\\Roaming\\Python\\Python311\\site-packages\\lightgbm\\engine.py:204: UserWarning: Found `num_iterations` in params. Will use it instead of argument\n",
      "  _log_warning(f\"Found `{alias}` in params. Will use it instead of argument\")\n"
     ]
    },
    {
     "name": "stdout",
     "output_type": "stream",
     "text": [
      "[LightGBM] [Info] Auto-choosing row-wise multi-threading, the overhead of testing was 0.017880 seconds.\n",
      "You can set `force_row_wise=true` to remove the overhead.\n",
      "And if memory is not enough, you can set `force_col_wise=true`.\n",
      "[LightGBM] [Info] Total Bins 411\n",
      "[LightGBM] [Info] Number of data points in the train set: 116548, number of used features: 33\n",
      "[LightGBM] [Info] [binary:BoostFromScore]: pavg=0.333330 -> initscore=-0.693160\n",
      "[LightGBM] [Info] Start training from score -0.693160\n",
      "[LightGBM] [Warning] Unknown parameter: is_unbalanced\n",
      "True Negatives (TN): 33273\n",
      "False Positives (FP): 28\n",
      "False Negatives (FN): 52\n",
      "True Positives (TP): 161\n",
      "Params: num_leaves=80, learning_rate=0.150, num_iterations=50\n",
      " → Optimal Threshold: 0.9064\n",
      " → Recall: 0.7559, Specificity: 0.9992\n",
      "\n",
      "[LightGBM] [Warning] Unknown parameter: is_unbalanced\n"
     ]
    },
    {
     "name": "stderr",
     "output_type": "stream",
     "text": [
      "C:\\Users\\Neil\\AppData\\Roaming\\Python\\Python311\\site-packages\\lightgbm\\engine.py:204: UserWarning: Found `num_iterations` in params. Will use it instead of argument\n",
      "  _log_warning(f\"Found `{alias}` in params. Will use it instead of argument\")\n"
     ]
    },
    {
     "name": "stdout",
     "output_type": "stream",
     "text": [
      "[LightGBM] [Warning] Unknown parameter: is_unbalanced\n",
      "[LightGBM] [Info] Number of positive: 38849, number of negative: 77699\n",
      "[LightGBM] [Info] Auto-choosing row-wise multi-threading, the overhead of testing was 0.019609 seconds.\n",
      "You can set `force_row_wise=true` to remove the overhead.\n",
      "And if memory is not enough, you can set `force_col_wise=true`.\n",
      "[LightGBM] [Info] Total Bins 411\n",
      "[LightGBM] [Info] Number of data points in the train set: 116548, number of used features: 33\n",
      "[LightGBM] [Info] [binary:BoostFromScore]: pavg=0.333330 -> initscore=-0.693160\n",
      "[LightGBM] [Info] Start training from score -0.693160\n",
      "[LightGBM] [Warning] Unknown parameter: is_unbalanced\n",
      "True Negatives (TN): 33298\n",
      "False Positives (FP): 3\n",
      "False Negatives (FN): 71\n",
      "True Positives (TP): 142\n",
      "Params: num_leaves=80, learning_rate=0.150, num_iterations=100\n",
      " → Optimal Threshold: 0.9874\n",
      " → Recall: 0.6667, Specificity: 0.9999\n",
      "\n",
      "[LightGBM] [Warning] Unknown parameter: is_unbalanced\n"
     ]
    },
    {
     "name": "stderr",
     "output_type": "stream",
     "text": [
      "C:\\Users\\Neil\\AppData\\Roaming\\Python\\Python311\\site-packages\\lightgbm\\engine.py:204: UserWarning: Found `num_iterations` in params. Will use it instead of argument\n",
      "  _log_warning(f\"Found `{alias}` in params. Will use it instead of argument\")\n"
     ]
    },
    {
     "name": "stdout",
     "output_type": "stream",
     "text": [
      "[LightGBM] [Warning] Unknown parameter: is_unbalanced\n",
      "[LightGBM] [Info] Number of positive: 38849, number of negative: 77699\n",
      "[LightGBM] [Info] Auto-choosing row-wise multi-threading, the overhead of testing was 0.023872 seconds.\n",
      "You can set `force_row_wise=true` to remove the overhead.\n",
      "And if memory is not enough, you can set `force_col_wise=true`.\n",
      "[LightGBM] [Info] Total Bins 411\n",
      "[LightGBM] [Info] Number of data points in the train set: 116548, number of used features: 33\n",
      "[LightGBM] [Info] [binary:BoostFromScore]: pavg=0.333330 -> initscore=-0.693160\n",
      "[LightGBM] [Info] Start training from score -0.693160\n",
      "[LightGBM] [Warning] Unknown parameter: is_unbalanced\n",
      "True Negatives (TN): 33300\n",
      "False Positives (FP): 1\n",
      "False Negatives (FN): 74\n",
      "True Positives (TP): 139\n",
      "Params: num_leaves=80, learning_rate=0.150, num_iterations=150\n",
      " → Optimal Threshold: 0.9963\n",
      " → Recall: 0.6526, Specificity: 1.0000\n",
      "\n",
      "[LightGBM] [Warning] Unknown parameter: is_unbalanced\n"
     ]
    },
    {
     "name": "stderr",
     "output_type": "stream",
     "text": [
      "C:\\Users\\Neil\\AppData\\Roaming\\Python\\Python311\\site-packages\\lightgbm\\engine.py:204: UserWarning: Found `num_iterations` in params. Will use it instead of argument\n",
      "  _log_warning(f\"Found `{alias}` in params. Will use it instead of argument\")\n"
     ]
    },
    {
     "name": "stdout",
     "output_type": "stream",
     "text": [
      "[LightGBM] [Warning] Unknown parameter: is_unbalanced\n",
      "[LightGBM] [Info] Number of positive: 38849, number of negative: 77699\n",
      "[LightGBM] [Info] Auto-choosing row-wise multi-threading, the overhead of testing was 0.021517 seconds.\n",
      "You can set `force_row_wise=true` to remove the overhead.\n",
      "And if memory is not enough, you can set `force_col_wise=true`.\n",
      "[LightGBM] [Info] Total Bins 411\n",
      "[LightGBM] [Info] Number of data points in the train set: 116548, number of used features: 33\n",
      "[LightGBM] [Info] [binary:BoostFromScore]: pavg=0.333330 -> initscore=-0.693160\n",
      "[LightGBM] [Info] Start training from score -0.693160\n",
      "[LightGBM] [Warning] Unknown parameter: is_unbalanced\n",
      "True Negatives (TN): 33297\n",
      "False Positives (FP): 4\n",
      "False Negatives (FN): 72\n",
      "True Positives (TP): 141\n",
      "Params: num_leaves=80, learning_rate=0.150, num_iterations=200\n",
      " → Optimal Threshold: 0.9964\n",
      " → Recall: 0.6620, Specificity: 0.9999\n",
      "\n",
      "[LightGBM] [Warning] Unknown parameter: is_unbalanced\n"
     ]
    },
    {
     "name": "stderr",
     "output_type": "stream",
     "text": [
      "C:\\Users\\Neil\\AppData\\Roaming\\Python\\Python311\\site-packages\\lightgbm\\engine.py:204: UserWarning: Found `num_iterations` in params. Will use it instead of argument\n",
      "  _log_warning(f\"Found `{alias}` in params. Will use it instead of argument\")\n"
     ]
    },
    {
     "name": "stdout",
     "output_type": "stream",
     "text": [
      "[LightGBM] [Warning] Unknown parameter: is_unbalanced\n",
      "[LightGBM] [Info] Number of positive: 38849, number of negative: 77699\n",
      "[LightGBM] [Info] Auto-choosing row-wise multi-threading, the overhead of testing was 0.020561 seconds.\n",
      "You can set `force_row_wise=true` to remove the overhead.\n",
      "And if memory is not enough, you can set `force_col_wise=true`.\n",
      "[LightGBM] [Info] Total Bins 411\n",
      "[LightGBM] [Info] Number of data points in the train set: 116548, number of used features: 33\n",
      "[LightGBM] [Info] [binary:BoostFromScore]: pavg=0.333330 -> initscore=-0.693160\n",
      "[LightGBM] [Info] Start training from score -0.693160\n",
      "[LightGBM] [Warning] Unknown parameter: is_unbalanced\n",
      "True Negatives (TN): 33266\n",
      "False Positives (FP): 35\n",
      "False Negatives (FN): 53\n",
      "True Positives (TP): 160\n",
      "Params: num_leaves=100, learning_rate=0.030, num_iterations=50\n",
      " → Optimal Threshold: 0.8349\n",
      " → Recall: 0.7512, Specificity: 0.9989\n",
      "\n",
      "[LightGBM] [Warning] Unknown parameter: is_unbalanced\n"
     ]
    },
    {
     "name": "stderr",
     "output_type": "stream",
     "text": [
      "C:\\Users\\Neil\\AppData\\Roaming\\Python\\Python311\\site-packages\\lightgbm\\engine.py:204: UserWarning: Found `num_iterations` in params. Will use it instead of argument\n",
      "  _log_warning(f\"Found `{alias}` in params. Will use it instead of argument\")\n"
     ]
    },
    {
     "name": "stdout",
     "output_type": "stream",
     "text": [
      "[LightGBM] [Warning] Unknown parameter: is_unbalanced\n",
      "[LightGBM] [Info] Number of positive: 38849, number of negative: 77699\n",
      "[LightGBM] [Info] Auto-choosing row-wise multi-threading, the overhead of testing was 0.018845 seconds.\n",
      "You can set `force_row_wise=true` to remove the overhead.\n",
      "And if memory is not enough, you can set `force_col_wise=true`.\n",
      "[LightGBM] [Info] Total Bins 411\n",
      "[LightGBM] [Info] Number of data points in the train set: 116548, number of used features: 33\n",
      "[LightGBM] [Info] [binary:BoostFromScore]: pavg=0.333330 -> initscore=-0.693160\n",
      "[LightGBM] [Info] Start training from score -0.693160\n",
      "[LightGBM] [Warning] Unknown parameter: is_unbalanced\n",
      "True Negatives (TN): 33295\n",
      "False Positives (FP): 6\n",
      "False Negatives (FN): 66\n",
      "True Positives (TP): 147\n",
      "Params: num_leaves=100, learning_rate=0.030, num_iterations=100\n",
      " → Optimal Threshold: 0.9564\n",
      " → Recall: 0.6901, Specificity: 0.9998\n",
      "\n",
      "[LightGBM] [Warning] Unknown parameter: is_unbalanced\n"
     ]
    },
    {
     "name": "stderr",
     "output_type": "stream",
     "text": [
      "C:\\Users\\Neil\\AppData\\Roaming\\Python\\Python311\\site-packages\\lightgbm\\engine.py:204: UserWarning: Found `num_iterations` in params. Will use it instead of argument\n",
      "  _log_warning(f\"Found `{alias}` in params. Will use it instead of argument\")\n"
     ]
    },
    {
     "name": "stdout",
     "output_type": "stream",
     "text": [
      "[LightGBM] [Warning] Unknown parameter: is_unbalanced\n",
      "[LightGBM] [Info] Number of positive: 38849, number of negative: 77699\n",
      "[LightGBM] [Info] Auto-choosing row-wise multi-threading, the overhead of testing was 0.016918 seconds.\n",
      "You can set `force_row_wise=true` to remove the overhead.\n",
      "And if memory is not enough, you can set `force_col_wise=true`.\n",
      "[LightGBM] [Info] Total Bins 411\n",
      "[LightGBM] [Info] Number of data points in the train set: 116548, number of used features: 33\n",
      "[LightGBM] [Info] [binary:BoostFromScore]: pavg=0.333330 -> initscore=-0.693160\n",
      "[LightGBM] [Info] Start training from score -0.693160\n",
      "[LightGBM] [Warning] Unknown parameter: is_unbalanced\n",
      "True Negatives (TN): 33289\n",
      "False Positives (FP): 12\n",
      "False Negatives (FN): 62\n",
      "True Positives (TP): 151\n",
      "Params: num_leaves=100, learning_rate=0.030, num_iterations=150\n",
      " → Optimal Threshold: 0.9700\n",
      " → Recall: 0.7089, Specificity: 0.9996\n",
      "\n",
      "[LightGBM] [Warning] Unknown parameter: is_unbalanced\n"
     ]
    },
    {
     "name": "stderr",
     "output_type": "stream",
     "text": [
      "C:\\Users\\Neil\\AppData\\Roaming\\Python\\Python311\\site-packages\\lightgbm\\engine.py:204: UserWarning: Found `num_iterations` in params. Will use it instead of argument\n",
      "  _log_warning(f\"Found `{alias}` in params. Will use it instead of argument\")\n"
     ]
    },
    {
     "name": "stdout",
     "output_type": "stream",
     "text": [
      "[LightGBM] [Warning] Unknown parameter: is_unbalanced\n",
      "[LightGBM] [Info] Number of positive: 38849, number of negative: 77699\n",
      "[LightGBM] [Info] Auto-choosing row-wise multi-threading, the overhead of testing was 0.016684 seconds.\n",
      "You can set `force_row_wise=true` to remove the overhead.\n",
      "And if memory is not enough, you can set `force_col_wise=true`.\n",
      "[LightGBM] [Info] Total Bins 411\n",
      "[LightGBM] [Info] Number of data points in the train set: 116548, number of used features: 33\n",
      "[LightGBM] [Info] [binary:BoostFromScore]: pavg=0.333330 -> initscore=-0.693160\n",
      "[LightGBM] [Info] Start training from score -0.693160\n",
      "[LightGBM] [Warning] Unknown parameter: is_unbalanced\n",
      "True Negatives (TN): 33296\n",
      "False Positives (FP): 5\n",
      "False Negatives (FN): 68\n",
      "True Positives (TP): 145\n",
      "Params: num_leaves=100, learning_rate=0.030, num_iterations=200\n",
      " → Optimal Threshold: 0.9741\n",
      " → Recall: 0.6808, Specificity: 0.9998\n",
      "\n",
      "[LightGBM] [Warning] Unknown parameter: is_unbalanced\n"
     ]
    },
    {
     "name": "stderr",
     "output_type": "stream",
     "text": [
      "C:\\Users\\Neil\\AppData\\Roaming\\Python\\Python311\\site-packages\\lightgbm\\engine.py:204: UserWarning: Found `num_iterations` in params. Will use it instead of argument\n",
      "  _log_warning(f\"Found `{alias}` in params. Will use it instead of argument\")\n"
     ]
    },
    {
     "name": "stdout",
     "output_type": "stream",
     "text": [
      "[LightGBM] [Warning] Unknown parameter: is_unbalanced\n",
      "[LightGBM] [Info] Number of positive: 38849, number of negative: 77699\n",
      "[LightGBM] [Info] Auto-choosing row-wise multi-threading, the overhead of testing was 0.021647 seconds.\n",
      "You can set `force_row_wise=true` to remove the overhead.\n",
      "And if memory is not enough, you can set `force_col_wise=true`.\n",
      "[LightGBM] [Info] Total Bins 411\n",
      "[LightGBM] [Info] Number of data points in the train set: 116548, number of used features: 33\n",
      "[LightGBM] [Info] [binary:BoostFromScore]: pavg=0.333330 -> initscore=-0.693160\n",
      "[LightGBM] [Info] Start training from score -0.693160\n",
      "[LightGBM] [Warning] Unknown parameter: is_unbalanced\n",
      "True Negatives (TN): 33295\n",
      "False Positives (FP): 6\n",
      "False Negatives (FN): 66\n",
      "True Positives (TP): 147\n",
      "Params: num_leaves=100, learning_rate=0.060, num_iterations=50\n",
      " → Optimal Threshold: 0.9583\n",
      " → Recall: 0.6901, Specificity: 0.9998\n",
      "\n",
      "[LightGBM] [Warning] Unknown parameter: is_unbalanced\n"
     ]
    },
    {
     "name": "stderr",
     "output_type": "stream",
     "text": [
      "C:\\Users\\Neil\\AppData\\Roaming\\Python\\Python311\\site-packages\\lightgbm\\engine.py:204: UserWarning: Found `num_iterations` in params. Will use it instead of argument\n",
      "  _log_warning(f\"Found `{alias}` in params. Will use it instead of argument\")\n"
     ]
    },
    {
     "name": "stdout",
     "output_type": "stream",
     "text": [
      "[LightGBM] [Warning] Unknown parameter: is_unbalanced\n",
      "[LightGBM] [Info] Number of positive: 38849, number of negative: 77699\n",
      "[LightGBM] [Info] Auto-choosing row-wise multi-threading, the overhead of testing was 0.018012 seconds.\n",
      "You can set `force_row_wise=true` to remove the overhead.\n",
      "And if memory is not enough, you can set `force_col_wise=true`.\n",
      "[LightGBM] [Info] Total Bins 411\n",
      "[LightGBM] [Info] Number of data points in the train set: 116548, number of used features: 33\n",
      "[LightGBM] [Info] [binary:BoostFromScore]: pavg=0.333330 -> initscore=-0.693160\n",
      "[LightGBM] [Info] Start training from score -0.693160\n",
      "[LightGBM] [Warning] Unknown parameter: is_unbalanced\n",
      "True Negatives (TN): 33290\n",
      "False Positives (FP): 11\n",
      "False Negatives (FN): 64\n",
      "True Positives (TP): 149\n",
      "Params: num_leaves=100, learning_rate=0.060, num_iterations=100\n",
      " → Optimal Threshold: 0.9566\n",
      " → Recall: 0.6995, Specificity: 0.9997\n",
      "\n",
      "[LightGBM] [Warning] Unknown parameter: is_unbalanced\n"
     ]
    },
    {
     "name": "stderr",
     "output_type": "stream",
     "text": [
      "C:\\Users\\Neil\\AppData\\Roaming\\Python\\Python311\\site-packages\\lightgbm\\engine.py:204: UserWarning: Found `num_iterations` in params. Will use it instead of argument\n",
      "  _log_warning(f\"Found `{alias}` in params. Will use it instead of argument\")\n"
     ]
    },
    {
     "name": "stdout",
     "output_type": "stream",
     "text": [
      "[LightGBM] [Warning] Unknown parameter: is_unbalanced\n",
      "[LightGBM] [Info] Number of positive: 38849, number of negative: 77699\n",
      "[LightGBM] [Info] Auto-choosing row-wise multi-threading, the overhead of testing was 0.020486 seconds.\n",
      "You can set `force_row_wise=true` to remove the overhead.\n",
      "And if memory is not enough, you can set `force_col_wise=true`.\n",
      "[LightGBM] [Info] Total Bins 411\n",
      "[LightGBM] [Info] Number of data points in the train set: 116548, number of used features: 33\n",
      "[LightGBM] [Info] [binary:BoostFromScore]: pavg=0.333330 -> initscore=-0.693160\n",
      "[LightGBM] [Info] Start training from score -0.693160\n",
      "[LightGBM] [Warning] Unknown parameter: is_unbalanced\n",
      "True Negatives (TN): 33297\n",
      "False Positives (FP): 4\n",
      "False Negatives (FN): 70\n",
      "True Positives (TP): 143\n",
      "Params: num_leaves=100, learning_rate=0.060, num_iterations=150\n",
      " → Optimal Threshold: 0.9825\n",
      " → Recall: 0.6714, Specificity: 0.9999\n",
      "\n",
      "[LightGBM] [Warning] Unknown parameter: is_unbalanced\n"
     ]
    },
    {
     "name": "stderr",
     "output_type": "stream",
     "text": [
      "C:\\Users\\Neil\\AppData\\Roaming\\Python\\Python311\\site-packages\\lightgbm\\engine.py:204: UserWarning: Found `num_iterations` in params. Will use it instead of argument\n",
      "  _log_warning(f\"Found `{alias}` in params. Will use it instead of argument\")\n"
     ]
    },
    {
     "name": "stdout",
     "output_type": "stream",
     "text": [
      "[LightGBM] [Warning] Unknown parameter: is_unbalanced\n",
      "[LightGBM] [Info] Number of positive: 38849, number of negative: 77699\n",
      "[LightGBM] [Info] Auto-choosing row-wise multi-threading, the overhead of testing was 0.019720 seconds.\n",
      "You can set `force_row_wise=true` to remove the overhead.\n",
      "And if memory is not enough, you can set `force_col_wise=true`.\n",
      "[LightGBM] [Info] Total Bins 411\n",
      "[LightGBM] [Info] Number of data points in the train set: 116548, number of used features: 33\n",
      "[LightGBM] [Info] [binary:BoostFromScore]: pavg=0.333330 -> initscore=-0.693160\n",
      "[LightGBM] [Info] Start training from score -0.693160\n",
      "[LightGBM] [Warning] Unknown parameter: is_unbalanced\n",
      "True Negatives (TN): 33293\n",
      "False Positives (FP): 8\n",
      "False Negatives (FN): 69\n",
      "True Positives (TP): 144\n",
      "Params: num_leaves=100, learning_rate=0.060, num_iterations=200\n",
      " → Optimal Threshold: 0.9736\n",
      " → Recall: 0.6761, Specificity: 0.9998\n",
      "\n",
      "[LightGBM] [Warning] Unknown parameter: is_unbalanced\n",
      "[LightGBM] [Warning] Unknown parameter: is_unbalanced\n",
      "[LightGBM] [Info] Number of positive: 38849, number of negative: 77699\n"
     ]
    },
    {
     "name": "stderr",
     "output_type": "stream",
     "text": [
      "C:\\Users\\Neil\\AppData\\Roaming\\Python\\Python311\\site-packages\\lightgbm\\engine.py:204: UserWarning: Found `num_iterations` in params. Will use it instead of argument\n",
      "  _log_warning(f\"Found `{alias}` in params. Will use it instead of argument\")\n"
     ]
    },
    {
     "name": "stdout",
     "output_type": "stream",
     "text": [
      "[LightGBM] [Info] Auto-choosing row-wise multi-threading, the overhead of testing was 0.021313 seconds.\n",
      "You can set `force_row_wise=true` to remove the overhead.\n",
      "And if memory is not enough, you can set `force_col_wise=true`.\n",
      "[LightGBM] [Info] Total Bins 411\n",
      "[LightGBM] [Info] Number of data points in the train set: 116548, number of used features: 33\n",
      "[LightGBM] [Info] [binary:BoostFromScore]: pavg=0.333330 -> initscore=-0.693160\n",
      "[LightGBM] [Info] Start training from score -0.693160\n",
      "[LightGBM] [Warning] Unknown parameter: is_unbalanced\n",
      "True Negatives (TN): 33286\n",
      "False Positives (FP): 15\n",
      "False Negatives (FN): 58\n",
      "True Positives (TP): 155\n",
      "Params: num_leaves=100, learning_rate=0.090, num_iterations=50\n",
      " → Optimal Threshold: 0.9389\n",
      " → Recall: 0.7277, Specificity: 0.9995\n",
      "\n",
      "[LightGBM] [Warning] Unknown parameter: is_unbalanced\n"
     ]
    },
    {
     "name": "stderr",
     "output_type": "stream",
     "text": [
      "C:\\Users\\Neil\\AppData\\Roaming\\Python\\Python311\\site-packages\\lightgbm\\engine.py:204: UserWarning: Found `num_iterations` in params. Will use it instead of argument\n",
      "  _log_warning(f\"Found `{alias}` in params. Will use it instead of argument\")\n"
     ]
    },
    {
     "name": "stdout",
     "output_type": "stream",
     "text": [
      "[LightGBM] [Warning] Unknown parameter: is_unbalanced\n",
      "[LightGBM] [Info] Number of positive: 38849, number of negative: 77699\n",
      "[LightGBM] [Info] Auto-choosing row-wise multi-threading, the overhead of testing was 0.020239 seconds.\n",
      "You can set `force_row_wise=true` to remove the overhead.\n",
      "And if memory is not enough, you can set `force_col_wise=true`.\n",
      "[LightGBM] [Info] Total Bins 411\n",
      "[LightGBM] [Info] Number of data points in the train set: 116548, number of used features: 33\n",
      "[LightGBM] [Info] [binary:BoostFromScore]: pavg=0.333330 -> initscore=-0.693160\n",
      "[LightGBM] [Info] Start training from score -0.693160\n",
      "[LightGBM] [Warning] Unknown parameter: is_unbalanced\n",
      "True Negatives (TN): 33295\n",
      "False Positives (FP): 6\n",
      "False Negatives (FN): 71\n",
      "True Positives (TP): 142\n",
      "Params: num_leaves=100, learning_rate=0.090, num_iterations=100\n",
      " → Optimal Threshold: 0.9735\n",
      " → Recall: 0.6667, Specificity: 0.9998\n",
      "\n"
     ]
    },
    {
     "name": "stderr",
     "output_type": "stream",
     "text": [
      "C:\\Users\\Neil\\AppData\\Roaming\\Python\\Python311\\site-packages\\lightgbm\\engine.py:204: UserWarning: Found `num_iterations` in params. Will use it instead of argument\n",
      "  _log_warning(f\"Found `{alias}` in params. Will use it instead of argument\")\n"
     ]
    },
    {
     "name": "stdout",
     "output_type": "stream",
     "text": [
      "[LightGBM] [Warning] Unknown parameter: is_unbalanced\n",
      "[LightGBM] [Warning] Unknown parameter: is_unbalanced\n",
      "[LightGBM] [Info] Number of positive: 38849, number of negative: 77699\n",
      "[LightGBM] [Info] Auto-choosing row-wise multi-threading, the overhead of testing was 0.017084 seconds.\n",
      "You can set `force_row_wise=true` to remove the overhead.\n",
      "And if memory is not enough, you can set `force_col_wise=true`.\n",
      "[LightGBM] [Info] Total Bins 411\n",
      "[LightGBM] [Info] Number of data points in the train set: 116548, number of used features: 33\n",
      "[LightGBM] [Info] [binary:BoostFromScore]: pavg=0.333330 -> initscore=-0.693160\n",
      "[LightGBM] [Info] Start training from score -0.693160\n",
      "[LightGBM] [Warning] Unknown parameter: is_unbalanced\n",
      "True Negatives (TN): 33295\n",
      "False Positives (FP): 6\n",
      "False Negatives (FN): 69\n",
      "True Positives (TP): 144\n",
      "Params: num_leaves=100, learning_rate=0.090, num_iterations=150\n",
      " → Optimal Threshold: 0.9815\n",
      " → Recall: 0.6761, Specificity: 0.9998\n",
      "\n",
      "[LightGBM] [Warning] Unknown parameter: is_unbalanced\n"
     ]
    },
    {
     "name": "stderr",
     "output_type": "stream",
     "text": [
      "C:\\Users\\Neil\\AppData\\Roaming\\Python\\Python311\\site-packages\\lightgbm\\engine.py:204: UserWarning: Found `num_iterations` in params. Will use it instead of argument\n",
      "  _log_warning(f\"Found `{alias}` in params. Will use it instead of argument\")\n"
     ]
    },
    {
     "name": "stdout",
     "output_type": "stream",
     "text": [
      "[LightGBM] [Warning] Unknown parameter: is_unbalanced\n",
      "[LightGBM] [Info] Number of positive: 38849, number of negative: 77699\n",
      "[LightGBM] [Info] Auto-choosing row-wise multi-threading, the overhead of testing was 0.023079 seconds.\n",
      "You can set `force_row_wise=true` to remove the overhead.\n",
      "And if memory is not enough, you can set `force_col_wise=true`.\n",
      "[LightGBM] [Info] Total Bins 411\n",
      "[LightGBM] [Info] Number of data points in the train set: 116548, number of used features: 33\n",
      "[LightGBM] [Info] [binary:BoostFromScore]: pavg=0.333330 -> initscore=-0.693160\n",
      "[LightGBM] [Info] Start training from score -0.693160\n",
      "[LightGBM] [Warning] Unknown parameter: is_unbalanced\n",
      "True Negatives (TN): 33298\n",
      "False Positives (FP): 3\n",
      "False Negatives (FN): 69\n",
      "True Positives (TP): 144\n",
      "Params: num_leaves=100, learning_rate=0.090, num_iterations=200\n",
      " → Optimal Threshold: 0.9937\n",
      " → Recall: 0.6761, Specificity: 0.9999\n",
      "\n",
      "[LightGBM] [Warning] Unknown parameter: is_unbalanced\n"
     ]
    },
    {
     "name": "stderr",
     "output_type": "stream",
     "text": [
      "C:\\Users\\Neil\\AppData\\Roaming\\Python\\Python311\\site-packages\\lightgbm\\engine.py:204: UserWarning: Found `num_iterations` in params. Will use it instead of argument\n",
      "  _log_warning(f\"Found `{alias}` in params. Will use it instead of argument\")\n"
     ]
    },
    {
     "name": "stdout",
     "output_type": "stream",
     "text": [
      "[LightGBM] [Warning] Unknown parameter: is_unbalanced\n",
      "[LightGBM] [Info] Number of positive: 38849, number of negative: 77699\n",
      "[LightGBM] [Info] Auto-choosing row-wise multi-threading, the overhead of testing was 0.020587 seconds.\n",
      "You can set `force_row_wise=true` to remove the overhead.\n",
      "And if memory is not enough, you can set `force_col_wise=true`.\n",
      "[LightGBM] [Info] Total Bins 411\n",
      "[LightGBM] [Info] Number of data points in the train set: 116548, number of used features: 33\n",
      "[LightGBM] [Info] [binary:BoostFromScore]: pavg=0.333330 -> initscore=-0.693160\n",
      "[LightGBM] [Info] Start training from score -0.693160\n",
      "[LightGBM] [Warning] Unknown parameter: is_unbalanced\n",
      "True Negatives (TN): 33287\n",
      "False Positives (FP): 14\n",
      "False Negatives (FN): 61\n",
      "True Positives (TP): 152\n",
      "Params: num_leaves=100, learning_rate=0.120, num_iterations=50\n",
      " → Optimal Threshold: 0.9444\n",
      " → Recall: 0.7136, Specificity: 0.9996\n",
      "\n",
      "[LightGBM] [Warning] Unknown parameter: is_unbalanced\n"
     ]
    },
    {
     "name": "stderr",
     "output_type": "stream",
     "text": [
      "C:\\Users\\Neil\\AppData\\Roaming\\Python\\Python311\\site-packages\\lightgbm\\engine.py:204: UserWarning: Found `num_iterations` in params. Will use it instead of argument\n",
      "  _log_warning(f\"Found `{alias}` in params. Will use it instead of argument\")\n"
     ]
    },
    {
     "name": "stdout",
     "output_type": "stream",
     "text": [
      "[LightGBM] [Warning] Unknown parameter: is_unbalanced\n",
      "[LightGBM] [Info] Number of positive: 38849, number of negative: 77699\n",
      "[LightGBM] [Info] Auto-choosing row-wise multi-threading, the overhead of testing was 0.020674 seconds.\n",
      "You can set `force_row_wise=true` to remove the overhead.\n",
      "And if memory is not enough, you can set `force_col_wise=true`.\n",
      "[LightGBM] [Info] Total Bins 411\n",
      "[LightGBM] [Info] Number of data points in the train set: 116548, number of used features: 33\n",
      "[LightGBM] [Info] [binary:BoostFromScore]: pavg=0.333330 -> initscore=-0.693160\n",
      "[LightGBM] [Info] Start training from score -0.693160\n",
      "[LightGBM] [Warning] Unknown parameter: is_unbalanced\n",
      "True Negatives (TN): 33299\n",
      "False Positives (FP): 2\n",
      "False Negatives (FN): 70\n",
      "True Positives (TP): 143\n",
      "Params: num_leaves=100, learning_rate=0.120, num_iterations=100\n",
      " → Optimal Threshold: 0.9881\n",
      " → Recall: 0.6714, Specificity: 0.9999\n",
      "\n",
      "[LightGBM] [Warning] Unknown parameter: is_unbalanced\n",
      "[LightGBM] [Warning] Unknown parameter: is_unbalanced\n",
      "[LightGBM] [Info] Number of positive: 38849, number of negative: 77699\n"
     ]
    },
    {
     "name": "stderr",
     "output_type": "stream",
     "text": [
      "C:\\Users\\Neil\\AppData\\Roaming\\Python\\Python311\\site-packages\\lightgbm\\engine.py:204: UserWarning: Found `num_iterations` in params. Will use it instead of argument\n",
      "  _log_warning(f\"Found `{alias}` in params. Will use it instead of argument\")\n"
     ]
    },
    {
     "name": "stdout",
     "output_type": "stream",
     "text": [
      "[LightGBM] [Info] Auto-choosing row-wise multi-threading, the overhead of testing was 0.017577 seconds.\n",
      "You can set `force_row_wise=true` to remove the overhead.\n",
      "And if memory is not enough, you can set `force_col_wise=true`.\n",
      "[LightGBM] [Info] Total Bins 411\n",
      "[LightGBM] [Info] Number of data points in the train set: 116548, number of used features: 33\n",
      "[LightGBM] [Info] [binary:BoostFromScore]: pavg=0.333330 -> initscore=-0.693160\n",
      "[LightGBM] [Info] Start training from score -0.693160\n",
      "[LightGBM] [Warning] Unknown parameter: is_unbalanced\n",
      "True Negatives (TN): 33293\n",
      "False Positives (FP): 8\n",
      "False Negatives (FN): 68\n",
      "True Positives (TP): 145\n",
      "Params: num_leaves=100, learning_rate=0.120, num_iterations=150\n",
      " → Optimal Threshold: 0.9877\n",
      " → Recall: 0.6808, Specificity: 0.9998\n",
      "\n",
      "[LightGBM] [Warning] Unknown parameter: is_unbalanced\n"
     ]
    },
    {
     "name": "stderr",
     "output_type": "stream",
     "text": [
      "C:\\Users\\Neil\\AppData\\Roaming\\Python\\Python311\\site-packages\\lightgbm\\engine.py:204: UserWarning: Found `num_iterations` in params. Will use it instead of argument\n",
      "  _log_warning(f\"Found `{alias}` in params. Will use it instead of argument\")\n"
     ]
    },
    {
     "name": "stdout",
     "output_type": "stream",
     "text": [
      "[LightGBM] [Warning] Unknown parameter: is_unbalanced\n",
      "[LightGBM] [Info] Number of positive: 38849, number of negative: 77699\n",
      "[LightGBM] [Info] Auto-choosing row-wise multi-threading, the overhead of testing was 0.017327 seconds.\n",
      "You can set `force_row_wise=true` to remove the overhead.\n",
      "And if memory is not enough, you can set `force_col_wise=true`.\n",
      "[LightGBM] [Info] Total Bins 411\n",
      "[LightGBM] [Info] Number of data points in the train set: 116548, number of used features: 33\n",
      "[LightGBM] [Info] [binary:BoostFromScore]: pavg=0.333330 -> initscore=-0.693160\n",
      "[LightGBM] [Info] Start training from score -0.693160\n",
      "[LightGBM] [Warning] Unknown parameter: is_unbalanced\n",
      "True Negatives (TN): 33292\n",
      "False Positives (FP): 9\n",
      "False Negatives (FN): 66\n",
      "True Positives (TP): 147\n",
      "Params: num_leaves=100, learning_rate=0.120, num_iterations=200\n",
      " → Optimal Threshold: 0.9872\n",
      " → Recall: 0.6901, Specificity: 0.9997\n",
      "\n",
      "[LightGBM] [Warning] Unknown parameter: is_unbalanced\n"
     ]
    },
    {
     "name": "stderr",
     "output_type": "stream",
     "text": [
      "C:\\Users\\Neil\\AppData\\Roaming\\Python\\Python311\\site-packages\\lightgbm\\engine.py:204: UserWarning: Found `num_iterations` in params. Will use it instead of argument\n",
      "  _log_warning(f\"Found `{alias}` in params. Will use it instead of argument\")\n"
     ]
    },
    {
     "name": "stdout",
     "output_type": "stream",
     "text": [
      "[LightGBM] [Warning] Unknown parameter: is_unbalanced\n",
      "[LightGBM] [Info] Number of positive: 38849, number of negative: 77699\n",
      "[LightGBM] [Info] Auto-choosing row-wise multi-threading, the overhead of testing was 0.038281 seconds.\n",
      "You can set `force_row_wise=true` to remove the overhead.\n",
      "And if memory is not enough, you can set `force_col_wise=true`.\n",
      "[LightGBM] [Info] Total Bins 411\n",
      "[LightGBM] [Info] Number of data points in the train set: 116548, number of used features: 33\n",
      "[LightGBM] [Info] [binary:BoostFromScore]: pavg=0.333330 -> initscore=-0.693160\n",
      "[LightGBM] [Info] Start training from score -0.693160\n",
      "[LightGBM] [Warning] Unknown parameter: is_unbalanced\n",
      "True Negatives (TN): 33294\n",
      "False Positives (FP): 7\n",
      "False Negatives (FN): 66\n",
      "True Positives (TP): 147\n",
      "Params: num_leaves=100, learning_rate=0.150, num_iterations=50\n",
      " → Optimal Threshold: 0.9742\n",
      " → Recall: 0.6901, Specificity: 0.9998\n",
      "\n",
      "[LightGBM] [Warning] Unknown parameter: is_unbalanced\n"
     ]
    },
    {
     "name": "stderr",
     "output_type": "stream",
     "text": [
      "C:\\Users\\Neil\\AppData\\Roaming\\Python\\Python311\\site-packages\\lightgbm\\engine.py:204: UserWarning: Found `num_iterations` in params. Will use it instead of argument\n",
      "  _log_warning(f\"Found `{alias}` in params. Will use it instead of argument\")\n"
     ]
    },
    {
     "name": "stdout",
     "output_type": "stream",
     "text": [
      "[LightGBM] [Warning] Unknown parameter: is_unbalanced\n",
      "[LightGBM] [Info] Number of positive: 38849, number of negative: 77699\n",
      "[LightGBM] [Info] Auto-choosing row-wise multi-threading, the overhead of testing was 0.023225 seconds.\n",
      "You can set `force_row_wise=true` to remove the overhead.\n",
      "And if memory is not enough, you can set `force_col_wise=true`.\n",
      "[LightGBM] [Info] Total Bins 411\n",
      "[LightGBM] [Info] Number of data points in the train set: 116548, number of used features: 33\n",
      "[LightGBM] [Info] [binary:BoostFromScore]: pavg=0.333330 -> initscore=-0.693160\n",
      "[LightGBM] [Info] Start training from score -0.693160\n",
      "[LightGBM] [Warning] Unknown parameter: is_unbalanced\n",
      "True Negatives (TN): 33298\n",
      "False Positives (FP): 3\n",
      "False Negatives (FN): 68\n",
      "True Positives (TP): 145\n",
      "Params: num_leaves=100, learning_rate=0.150, num_iterations=100\n",
      " → Optimal Threshold: 0.9897\n",
      " → Recall: 0.6808, Specificity: 0.9999\n",
      "\n",
      "[LightGBM] [Warning] Unknown parameter: is_unbalanced\n"
     ]
    },
    {
     "name": "stderr",
     "output_type": "stream",
     "text": [
      "C:\\Users\\Neil\\AppData\\Roaming\\Python\\Python311\\site-packages\\lightgbm\\engine.py:204: UserWarning: Found `num_iterations` in params. Will use it instead of argument\n",
      "  _log_warning(f\"Found `{alias}` in params. Will use it instead of argument\")\n"
     ]
    },
    {
     "name": "stdout",
     "output_type": "stream",
     "text": [
      "[LightGBM] [Warning] Unknown parameter: is_unbalanced\n",
      "[LightGBM] [Info] Number of positive: 38849, number of negative: 77699\n",
      "[LightGBM] [Info] Auto-choosing row-wise multi-threading, the overhead of testing was 0.023625 seconds.\n",
      "You can set `force_row_wise=true` to remove the overhead.\n",
      "And if memory is not enough, you can set `force_col_wise=true`.\n",
      "[LightGBM] [Info] Total Bins 411\n",
      "[LightGBM] [Info] Number of data points in the train set: 116548, number of used features: 33\n",
      "[LightGBM] [Info] [binary:BoostFromScore]: pavg=0.333330 -> initscore=-0.693160\n",
      "[LightGBM] [Info] Start training from score -0.693160\n",
      "[LightGBM] [Warning] Unknown parameter: is_unbalanced\n",
      "True Negatives (TN): 33287\n",
      "False Positives (FP): 14\n",
      "False Negatives (FN): 66\n",
      "True Positives (TP): 147\n",
      "Params: num_leaves=100, learning_rate=0.150, num_iterations=150\n",
      " → Optimal Threshold: 0.9984\n",
      " → Recall: 0.6901, Specificity: 0.9996\n",
      "\n",
      "[LightGBM] [Warning] Unknown parameter: is_unbalanced\n"
     ]
    },
    {
     "name": "stderr",
     "output_type": "stream",
     "text": [
      "C:\\Users\\Neil\\AppData\\Roaming\\Python\\Python311\\site-packages\\lightgbm\\engine.py:204: UserWarning: Found `num_iterations` in params. Will use it instead of argument\n",
      "  _log_warning(f\"Found `{alias}` in params. Will use it instead of argument\")\n"
     ]
    },
    {
     "name": "stdout",
     "output_type": "stream",
     "text": [
      "[LightGBM] [Warning] Unknown parameter: is_unbalanced\n",
      "[LightGBM] [Info] Number of positive: 38849, number of negative: 77699\n",
      "[LightGBM] [Info] Auto-choosing row-wise multi-threading, the overhead of testing was 0.018257 seconds.\n",
      "You can set `force_row_wise=true` to remove the overhead.\n",
      "And if memory is not enough, you can set `force_col_wise=true`.\n",
      "[LightGBM] [Info] Total Bins 411\n",
      "[LightGBM] [Info] Number of data points in the train set: 116548, number of used features: 33\n",
      "[LightGBM] [Info] [binary:BoostFromScore]: pavg=0.333330 -> initscore=-0.693160\n",
      "[LightGBM] [Info] Start training from score -0.693160\n",
      "[LightGBM] [Warning] Unknown parameter: is_unbalanced\n",
      "True Negatives (TN): 33146\n",
      "False Positives (FP): 155\n",
      "False Negatives (FN): 53\n",
      "True Positives (TP): 160\n",
      "Params: num_leaves=100, learning_rate=0.150, num_iterations=200\n",
      " → Optimal Threshold: 1.0000\n",
      " → Recall: 0.7512, Specificity: 0.9953\n",
      "\n",
      "Grid Search Complete!\n",
      "\n",
      "Best Recall Score:\n",
      " → Score: 0.7653\n",
      " → Params: {'num_leaves': 60, 'learning_rate': 0.03, 'num_iterations': 50, 'threshold': 0.8161669592451298}\n",
      "\n",
      "Best Specificity Score:\n",
      " → Score: 1.0000\n",
      " → Params: {'num_leaves': 80, 'learning_rate': 0.15, 'num_iterations': 150, 'threshold': 0.9963193490681899}\n",
      "\n",
      "{'recall': {'score': 0.7652582159624414, 'params': {'num_leaves': 60, 'learning_rate': 0.03, 'num_iterations': 50, 'threshold': 0.8161669592451298}}, 'specificity': {'score': 0.9999699708717456, 'params': {'num_leaves': 80, 'learning_rate': 0.15, 'num_iterations': 150, 'threshold': 0.9963193490681899}}}\n"
     ]
    }
   ],
   "source": [
    "results = grid_search_lgbm(X_train_split, y_train_split, X_val, y_val)\n",
    "print(results)"
   ]
  },
  {
   "cell_type": "markdown",
   "id": "f49a9dcd-f81b-4fca-8fd5-9fbf0f3aec4a",
   "metadata": {},
   "source": [
    "## LGBM MODEL"
   ]
  },
  {
   "cell_type": "code",
   "execution_count": 20,
   "id": "03209fe5-adaa-428b-ba7b-26f735dc8920",
   "metadata": {
    "scrolled": true,
    "tags": []
   },
   "outputs": [
    {
     "name": "stderr",
     "output_type": "stream",
     "text": [
      "C:\\Users\\Neil\\AppData\\Roaming\\Python\\Python311\\site-packages\\lightgbm\\engine.py:204: UserWarning: Found `num_iterations` in params. Will use it instead of argument\n",
      "  _log_warning(f\"Found `{alias}` in params. Will use it instead of argument\")\n"
     ]
    },
    {
     "name": "stdout",
     "output_type": "stream",
     "text": [
      "[LightGBM] [Warning] Unknown parameter: is_unbalanced\n",
      "[LightGBM] [Warning] Unknown parameter: is_unbalanced\n",
      "[LightGBM] [Info] Number of positive: 38849, number of negative: 77699\n",
      "[LightGBM] [Info] Auto-choosing row-wise multi-threading, the overhead of testing was 0.026603 seconds.\n",
      "You can set `force_row_wise=true` to remove the overhead.\n",
      "And if memory is not enough, you can set `force_col_wise=true`.\n",
      "[LightGBM] [Info] Total Bins 411\n",
      "[LightGBM] [Info] Number of data points in the train set: 116548, number of used features: 33\n",
      "[LightGBM] [Info] [binary:BoostFromScore]: pavg=0.333330 -> initscore=-0.693160\n",
      "[LightGBM] [Info] Start training from score -0.693160\n",
      "[LightGBM] [Warning] Unknown parameter: is_unbalanced\n",
      "Model Training Complete\n"
     ]
    }
   ],
   "source": [
    "#Initialize the LGBMClassifier\n",
    "model = lgb.LGBMClassifier(\n",
    "    boosting_type='gbdt',   # Gradient Boosting Decision Tree\n",
    "    objective='binary',     # Binary classification\n",
    "    metric='binary_logloss', # Log loss metric for binary classification\n",
    "    learning_rate=0.03,\n",
    "    num_iterations=50,\n",
    "    num_leaves=60,\n",
    "    is_unbalanced=True,\n",
    "    random_state=42,\n",
    "    bagging_seed=42,\n",
    "    feature_fraction_seed=42,\n",
    "    drop_seed=42,\n",
    "    data_random_seed=42,\n",
    "    deterministic=True,\n",
    "    n_jobs=1\n",
    ")\n",
    "\n",
    "#Train the model\n",
    "model.fit(X_train_split, y_train_split)\n",
    "y_proba = model.predict_proba(X_val)  # Returns probability for each class\n",
    "\n",
    "print(\"Model Training Complete\")"
   ]
  },
  {
   "cell_type": "markdown",
   "id": "347396e8-69e7-4b88-aa3f-92f1dcb9290a",
   "metadata": {},
   "source": [
    "## Option 1: Optimal Threshold using Precision-Recall Curve"
   ]
  },
  {
   "cell_type": "code",
   "execution_count": 21,
   "id": "b6ac49a8-d33e-4552-8822-d3570e9a1c01",
   "metadata": {
    "tags": []
   },
   "outputs": [
    {
     "name": "stdout",
     "output_type": "stream",
     "text": [
      "Optimal threshold for maximum F1 score: 0.8161669592451298\n"
     ]
    }
   ],
   "source": [
    "# Assume y_test is your true labels and y_proba[:, 1] are predicted probabilities for the positive class\n",
    "precision, recall, thresholds = precision_recall_curve(y_val, y_proba[:, 1])\n",
    "\n",
    "# Compute F1 score for each threshold\n",
    "f1_scores = 2 * (precision * recall) / (precision + recall)\n",
    "\n",
    "# Find the threshold that maximizes F1 score\n",
    "optimal_threshold = thresholds[np.argmax(f1_scores)]\n",
    "\n",
    "print(\"Optimal threshold for maximum F1 score:\", optimal_threshold)"
   ]
  },
  {
   "cell_type": "markdown",
   "id": "96bd9706-deed-4546-95b2-460a0c145fff",
   "metadata": {},
   "source": [
    "## Apply Optimal Threshold"
   ]
  },
  {
   "cell_type": "code",
   "execution_count": 22,
   "id": "2caadd61-6a95-4f7e-8a5e-9c448d528428",
   "metadata": {
    "tags": []
   },
   "outputs": [
    {
     "name": "stdout",
     "output_type": "stream",
     "text": [
      "[0 0 0 ... 0 0 1]\n"
     ]
    }
   ],
   "source": [
    "# Apply custom threshold\n",
    "threshold = optimal_threshold\n",
    "\n",
    "y_pred = (y_proba[:,1] >= threshold).astype(int)  # Convert probabilities to 0/1\n",
    "\n",
    "# Print results\n",
    "print(y_pred)"
   ]
  },
  {
   "cell_type": "markdown",
   "id": "a80e5478-fa73-4197-9ec1-8470a33964b9",
   "metadata": {},
   "source": [
    "## Metrics Evaluation"
   ]
  },
  {
   "cell_type": "code",
   "execution_count": 23,
   "id": "36ec2764-dd9b-41a1-a7d2-89d13e24ecaf",
   "metadata": {
    "tags": []
   },
   "outputs": [
    {
     "name": "stdout",
     "output_type": "stream",
     "text": [
      "True Negatives (TN): 33265\n",
      "False Positives (FP): 36\n",
      "False Negatives (FN): 50\n",
      "True Positives (TP): 163\n",
      "[[33265    36]\n",
      " [   50   163]]\n",
      "Accuracy: 0.9974\n",
      "Precision: 0.8191\n",
      "Recall: 0.7653\n",
      "F1 Score: 0.7913\n",
      "AUC: 0.9812\n",
      "Specificity: 0.9989\n"
     ]
    }
   ],
   "source": [
    "# Get actual labels from y2\n",
    "y_true = y_val \n",
    "\n",
    "\n",
    "def calculate_specificity(y_true, y_pred):\n",
    "    \"\"\"\n",
    "    Calculate specificity from true and predicted labels.\n",
    "    \n",
    "    Parameters:\n",
    "        y_true (list or array): True binary labels.\n",
    "        y_pred (list or array): Predicted binary labels.\n",
    "    \n",
    "    Returns:\n",
    "        float: Specificity score.\n",
    "    \"\"\"\n",
    "    tn, fp, fn, tp = confusion_matrix(y_true, y_pred).ravel()\n",
    "    print(f\"True Negatives (TN): {tn}\")\n",
    "    print(f\"False Positives (FP): {fp}\")\n",
    "    print(f\"False Negatives (FN): {fn}\")\n",
    "    print(f\"True Positives (TP): {tp}\")\n",
    "    specificity = tn / (tn + fp)\n",
    "    return specificity\n",
    "\n",
    "# Evaluate performance\n",
    "accuracy = accuracy_score(y_true, y_pred)\n",
    "precision = precision_score(y_true, y_pred)\n",
    "recall = recall_score(y_true, y_pred)\n",
    "f1 = f1_score(y_true, y_pred)\n",
    "auc = roc_auc_score(y_true, y_proba[:,1])  # Use probabilities for AUC\n",
    "spec = calculate_specificity(y_true, y_pred)\n",
    "\n",
    "# Print metrics\n",
    "print(confusion_matrix(y_true, y_pred))\n",
    "print(f\"Accuracy: {accuracy:.4f}\")\n",
    "print(f\"Precision: {precision:.4f}\")\n",
    "print(f\"Recall: {recall:.4f}\") #Same as sensitivity\n",
    "print(f\"F1 Score: {f1:.4f}\")\n",
    "print(f\"AUC: {auc:.4f}\")\n",
    "print(f\"Specificity: {spec:.4f}\")"
   ]
  },
  {
   "cell_type": "markdown",
   "id": "56486225-1944-4fd9-bc91-2119c16aab92",
   "metadata": {},
   "source": [
    "## SHAP Plots"
   ]
  },
  {
   "cell_type": "code",
   "execution_count": 61,
   "id": "5c876eb4-5348-4513-b57d-117709ef3b61",
   "metadata": {},
   "outputs": [
    {
     "data": {
      "image/png": "[encoded data removed]",
      "text/plain": [
       "<Figure size 800x950 with 2 Axes>"
      ]
     },
     "metadata": {},
     "output_type": "display_data"
    }
   ],
   "source": [
    "explainer = shap.Explainer(model)\n",
    "shap_values = explainer(X_train_split)\n",
    "shap.summary_plot(shap_values, X_train_split)"
   ]
  },
  {
   "cell_type": "code",
   "execution_count": 116,
   "id": "f4c4baef-7a28-40e9-8795-17f1354713e0",
   "metadata": {},
   "outputs": [
    {
     "data": {
      "image/png": "[encoded data removed]",
      "text/plain": [
       "<Figure size 800x700 with 1 Axes>"
      ]
     },
     "metadata": {},
     "output_type": "display_data"
    }
   ],
   "source": [
    "shap.plots.bar(shap_values, max_display=50)"
   ]
  }
 ],
 "metadata": {
  "kernelspec": {
   "display_name": "Python 3 (ipykernel)",
   "language": "python",
   "name": "python3"
  },
  "language_info": {
   "codemirror_mode": {
    "name": "ipython",
    "version": 3
   },
   "file_extension": ".py",
   "mimetype": "text/x-python",
   "name": "python",
   "nbconvert_exporter": "python",
   "pygments_lexer": "ipython3",
   "version": "3.11.5"
  }
 },
 "nbformat": 4,
 "nbformat_minor": 5
}
