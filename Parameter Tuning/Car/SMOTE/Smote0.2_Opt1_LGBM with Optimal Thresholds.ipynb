{
 "cells": [
  {
   "cell_type": "code",
   "execution_count": 1,
   "id": "6d2aa686-ad72-4f32-98d0-f3962b389453",
   "metadata": {
    "tags": []
   },
   "outputs": [
    {
     "name": "stderr",
     "output_type": "stream",
     "text": [
      "C:\\Users\\Neil\\AppData\\Roaming\\Python\\Python311\\site-packages\\pandas\\core\\arrays\\masked.py:60: UserWarning: Pandas requires version '1.3.6' or newer of 'bottleneck' (version '1.3.5' currently installed).\n",
      "  from pandas.core import (\n"
     ]
    }
   ],
   "source": [
    "import lightgbm as lgb\n",
    "import numpy as np\n",
    "import pandas as pd\n",
    "import shap\n",
    "import os\n",
    "import glob\n",
    "import matplotlib.pyplot as plt\n",
    "import seaborn as sns\n",
    "import imblearn\n",
    "import sklearn\n",
    "from sklearn.model_selection import train_test_split\n",
    "from scipy.stats import ks_2samp\n",
    "from sklearn.metrics import accuracy_score, precision_score, recall_score, f1_score, roc_auc_score, brier_score_loss, precision_recall_curve\n",
    "from sklearn.metrics import confusion_matrix\n",
    "from sklearn.metrics import roc_curve\n",
    "from imblearn.over_sampling import SMOTE"
   ]
  },
  {
   "cell_type": "markdown",
   "id": "b8f048eb-b70b-497d-bdfa-41e45771d19a",
   "metadata": {},
   "source": [
    "## Read Files"
   ]
  },
  {
   "cell_type": "code",
   "execution_count": 2,
   "id": "f034c428-2f43-45fe-ac70-7d27ad1e2df4",
   "metadata": {
    "tags": []
   },
   "outputs": [],
   "source": [
    "csv_folder = 'C:/Users/Neil/OneDrive/Documents/Capstone Files/' ### make sure na lahat ng csv ay nasa isang folder tapos dapat yung features lang yung nandun\n",
    "csv_files = sorted(glob.glob(os.path.join(csv_folder, \"*.csv\")))  # Get all CSV files"
   ]
  },
  {
   "cell_type": "code",
   "execution_count": 3,
   "id": "0e54caac-4a05-45f2-9718-1f4703ef2595",
   "metadata": {
    "tags": []
   },
   "outputs": [
    {
     "data": {
      "text/plain": [
       "['C:/Users/Neil/OneDrive/Documents/Capstone Files\\\\Car Features M1-24.csv',\n",
       " 'C:/Users/Neil/OneDrive/Documents/Capstone Files\\\\Car Features M13-36.csv',\n",
       " 'C:/Users/Neil/OneDrive/Documents/Capstone Files\\\\Car Features M25-48.csv',\n",
       " 'C:/Users/Neil/OneDrive/Documents/Capstone Files\\\\Car Features M37-60.csv']"
      ]
     },
     "execution_count": 3,
     "metadata": {},
     "output_type": "execute_result"
    }
   ],
   "source": [
    "csv_files"
   ]
  },
  {
   "cell_type": "markdown",
   "id": "f56b9d58-1e67-4e35-8f21-b374f0e1f4af",
   "metadata": {},
   "source": [
    "## Splitting"
   ]
  },
  {
   "cell_type": "code",
   "execution_count": 4,
   "id": "33e517e4-6e46-4631-bb93-67aa91b6c390",
   "metadata": {
    "tags": []
   },
   "outputs": [
    {
     "name": "stdout",
     "output_type": "stream",
     "text": [
      "\n",
      "Processing file: C:/Users/Neil/OneDrive/Documents/Capstone Files\\Car Features M1-24.csv\n",
      "Train class balance:\n",
      " DEFAULT_TAGGING\n",
      "0    0.998525\n",
      "1    0.001475\n",
      "Name: proportion, dtype: float64\n",
      "Test class balance:\n",
      " DEFAULT_TAGGING\n",
      "0    0.998513\n",
      "1    0.001487\n",
      "Name: proportion, dtype: float64\n",
      "\n",
      "Processing file: C:/Users/Neil/OneDrive/Documents/Capstone Files\\Car Features M13-36.csv\n",
      "Train class balance:\n",
      " DEFAULT_TAGGING\n",
      "0    0.994214\n",
      "1    0.005786\n",
      "Name: proportion, dtype: float64\n",
      "Test class balance:\n",
      " DEFAULT_TAGGING\n",
      "0    0.994182\n",
      "1    0.005818\n",
      "Name: proportion, dtype: float64\n",
      "\n",
      "Processing file: C:/Users/Neil/OneDrive/Documents/Capstone Files\\Car Features M25-48.csv\n",
      "Train class balance:\n",
      " DEFAULT_TAGGING\n",
      "0    0.986499\n",
      "1    0.013501\n",
      "Name: proportion, dtype: float64\n",
      "Test class balance:\n",
      " DEFAULT_TAGGING\n",
      "0    0.98652\n",
      "1    0.01348\n",
      "Name: proportion, dtype: float64\n",
      "\n",
      "Processing file: C:/Users/Neil/OneDrive/Documents/Capstone Files\\Car Features M37-60.csv\n",
      "Train class balance:\n",
      " DEFAULT_TAGGING\n",
      "0    0.974224\n",
      "1    0.025776\n",
      "Name: proportion, dtype: float64\n",
      "Test class balance:\n",
      " DEFAULT_TAGGING\n",
      "0    0.974037\n",
      "1    0.025963\n",
      "Name: proportion, dtype: float64\n",
      "\n",
      "Final Merged Data Shapes:\n",
      "X_train_all: (111711, 33)\n",
      "X_test_all: (47879, 33)\n",
      "y_train_all: (111711,)\n",
      "y_test_all: (47879,)\n"
     ]
    }
   ],
   "source": [
    "selected_features = [\n",
    "    'EverAtLeast1DPD_3mos', \n",
    "    'EverAtLeast15DPD_3mos', 'EverAtLeast31DPD_3mos', \n",
    "    'EverAtLeast61DPD_3mos', \n",
    "    'EverAtLeast1DPD_6mos', \n",
    "    'EverAtLeast15DPD_6mos', 'EverAtLeast31DPD_6mos', \n",
    "    'EverAtLeast61DPD_6mos', \n",
    "    'EverAtLeast1DPD_9mos', \n",
    "    'EverAtLeast15DPD_9mos', 'EverAtLeast31DPD_9mos', 'EverAtLeast61DPD_9mos', \n",
    "    'EverAtLeast1DPD_12mos', 'EverAtLeast15DPD_12mos', \n",
    "    'EverAtLeast31DPD_12mos', 'EverAtLeast61DPD_12mos', \n",
    "    'WorstDel_3mos', 'WorstDel_6mos', \n",
    "    'WorstDel_9mos', 'WorstDel_12mos', \n",
    "    'RemainingLoanRatio_12mos', \n",
    "    'Missed_past3mos', \n",
    "    'Partial_past3mos', \n",
    "    'Full_past3mos', 'Missed_past6mos', \n",
    "    'Partial_past6mos', \n",
    "    'Full_past6mos', \n",
    "    'Missed_past9mos', \n",
    "    'Partial_past9mos', \n",
    "    'Full_past9mos', 'Missed_past12mos', \n",
    "    'Partial_past12mos', \n",
    "    'Full_past12mos'\n",
    "]\n",
    "\n",
    "\n",
    "# Lists to store all training and testing data\n",
    "X_train_list, X_test_list, y_train_list, y_test_list = [], [], [], []\n",
    "\n",
    "# Process each CSV file\n",
    "for file in csv_files:\n",
    "    print(f\"\\nProcessing file: {file}\")\n",
    "    \n",
    "    # Read the CSV file\n",
    "    data = pd.read_csv(file)\n",
    "\n",
    "    X = data[selected_features]\n",
    "    y = data['DEFAULT_TAGGING']\n",
    "\n",
    "    # Train-test split\n",
    "    X_train, X_test, y_train, y_test = train_test_split(\n",
    "        X, y, test_size=0.3, random_state=42, stratify=y\n",
    "    )\n",
    "\n",
    "    # Append to lists\n",
    "    X_train_list.append(X_train)\n",
    "    X_test_list.append(X_test)\n",
    "    y_train_list.append(y_train)\n",
    "    y_test_list.append(y_test)\n",
    "\n",
    "    # Print class balance\n",
    "    print(\"Train class balance:\\n\", y_train.value_counts(normalize=True))\n",
    "    print(\"Test class balance:\\n\", y_test.value_counts(normalize=True))\n",
    "\n",
    "# Merge all train and test data\n",
    "X_train_all = pd.concat(X_train_list, axis=0)\n",
    "X_test_all = pd.concat(X_test_list, axis=0)\n",
    "y_train_all = pd.concat(y_train_list, axis=0)\n",
    "y_test_all = pd.concat(y_test_list, axis=0)\n",
    "\n",
    "print(\"\\nFinal Merged Data Shapes:\")\n",
    "print(\"X_train_all:\", X_train_all.shape)\n",
    "print(\"X_test_all:\", X_test_all.shape)\n",
    "print(\"y_train_all:\", y_train_all.shape)\n",
    "print(\"y_test_all:\", y_test_all.shape)"
   ]
  },
  {
   "cell_type": "code",
   "execution_count": 5,
   "id": "225edce1-38f7-4229-9615-36b29384974a",
   "metadata": {
    "tags": []
   },
   "outputs": [
    {
     "name": "stdout",
     "output_type": "stream",
     "text": [
      "\n",
      "Final Split Data Shapes:\n",
      "X_train_split_0: (78197, 33)\n",
      "X_val: (33514, 33)\n",
      "y_train_split_0: (78197,)\n",
      "y_val: (33514,)\n"
     ]
    }
   ],
   "source": [
    "X_train_split_0, X_val, y_train_split_0, y_val = train_test_split(\n",
    "    X_train_all, y_train_all, test_size=0.3, random_state=42, stratify=y_train_all\n",
    ")\n",
    "\n",
    "print(\"\\nFinal Split Data Shapes:\")\n",
    "print(\"X_train_split_0:\", X_train_split_0.shape)\n",
    "print(\"X_val:\", X_val.shape)\n",
    "print(\"y_train_split_0:\", y_train_split_0.shape)\n",
    "print(\"y_val:\", y_val.shape)"
   ]
  },
  {
   "cell_type": "code",
   "execution_count": 6,
   "id": "09b3284b-c09a-40e1-86d7-391b32cfbc63",
   "metadata": {
    "tags": []
   },
   "outputs": [],
   "source": [
    "Y1= pd.concat([X_train_split_0, y_train_split_0], axis=1)"
   ]
  },
  {
   "cell_type": "code",
   "execution_count": 7,
   "id": "66be3cbb-ed03-4227-ac9a-94d8abda35e1",
   "metadata": {
    "tags": []
   },
   "outputs": [
    {
     "data": {
      "text/html": [
       "<div>\n",
       "<style scoped>\n",
       "    .dataframe tbody tr th:only-of-type {\n",
       "        vertical-align: middle;\n",
       "    }\n",
       "\n",
       "    .dataframe tbody tr th {\n",
       "        vertical-align: top;\n",
       "    }\n",
       "\n",
       "    .dataframe thead th {\n",
       "        text-align: right;\n",
       "    }\n",
       "</style>\n",
       "<table border=\"1\" class=\"dataframe\">\n",
       "  <thead>\n",
       "    <tr style=\"text-align: right;\">\n",
       "      <th></th>\n",
       "      <th>EverAtLeast1DPD_3mos</th>\n",
       "      <th>EverAtLeast15DPD_3mos</th>\n",
       "      <th>EverAtLeast31DPD_3mos</th>\n",
       "      <th>EverAtLeast61DPD_3mos</th>\n",
       "      <th>EverAtLeast1DPD_6mos</th>\n",
       "      <th>EverAtLeast15DPD_6mos</th>\n",
       "      <th>EverAtLeast31DPD_6mos</th>\n",
       "      <th>EverAtLeast61DPD_6mos</th>\n",
       "      <th>EverAtLeast1DPD_9mos</th>\n",
       "      <th>EverAtLeast15DPD_9mos</th>\n",
       "      <th>...</th>\n",
       "      <th>Missed_past6mos</th>\n",
       "      <th>Partial_past6mos</th>\n",
       "      <th>Full_past6mos</th>\n",
       "      <th>Missed_past9mos</th>\n",
       "      <th>Partial_past9mos</th>\n",
       "      <th>Full_past9mos</th>\n",
       "      <th>Missed_past12mos</th>\n",
       "      <th>Partial_past12mos</th>\n",
       "      <th>Full_past12mos</th>\n",
       "      <th>DEFAULT_TAGGING</th>\n",
       "    </tr>\n",
       "  </thead>\n",
       "  <tbody>\n",
       "    <tr>\n",
       "      <th>11757</th>\n",
       "      <td>0</td>\n",
       "      <td>0</td>\n",
       "      <td>0</td>\n",
       "      <td>0</td>\n",
       "      <td>0</td>\n",
       "      <td>0</td>\n",
       "      <td>0</td>\n",
       "      <td>0</td>\n",
       "      <td>0</td>\n",
       "      <td>0</td>\n",
       "      <td>...</td>\n",
       "      <td>0</td>\n",
       "      <td>0</td>\n",
       "      <td>6</td>\n",
       "      <td>0</td>\n",
       "      <td>0</td>\n",
       "      <td>9</td>\n",
       "      <td>0</td>\n",
       "      <td>0</td>\n",
       "      <td>12</td>\n",
       "      <td>0</td>\n",
       "    </tr>\n",
       "    <tr>\n",
       "      <th>39534</th>\n",
       "      <td>0</td>\n",
       "      <td>0</td>\n",
       "      <td>0</td>\n",
       "      <td>0</td>\n",
       "      <td>0</td>\n",
       "      <td>0</td>\n",
       "      <td>0</td>\n",
       "      <td>0</td>\n",
       "      <td>0</td>\n",
       "      <td>0</td>\n",
       "      <td>...</td>\n",
       "      <td>0</td>\n",
       "      <td>0</td>\n",
       "      <td>6</td>\n",
       "      <td>0</td>\n",
       "      <td>0</td>\n",
       "      <td>9</td>\n",
       "      <td>0</td>\n",
       "      <td>0</td>\n",
       "      <td>12</td>\n",
       "      <td>0</td>\n",
       "    </tr>\n",
       "    <tr>\n",
       "      <th>9963</th>\n",
       "      <td>0</td>\n",
       "      <td>0</td>\n",
       "      <td>0</td>\n",
       "      <td>0</td>\n",
       "      <td>0</td>\n",
       "      <td>0</td>\n",
       "      <td>0</td>\n",
       "      <td>0</td>\n",
       "      <td>0</td>\n",
       "      <td>0</td>\n",
       "      <td>...</td>\n",
       "      <td>0</td>\n",
       "      <td>0</td>\n",
       "      <td>6</td>\n",
       "      <td>0</td>\n",
       "      <td>0</td>\n",
       "      <td>9</td>\n",
       "      <td>1</td>\n",
       "      <td>0</td>\n",
       "      <td>11</td>\n",
       "      <td>0</td>\n",
       "    </tr>\n",
       "    <tr>\n",
       "      <th>72838</th>\n",
       "      <td>0</td>\n",
       "      <td>0</td>\n",
       "      <td>0</td>\n",
       "      <td>0</td>\n",
       "      <td>0</td>\n",
       "      <td>0</td>\n",
       "      <td>0</td>\n",
       "      <td>0</td>\n",
       "      <td>0</td>\n",
       "      <td>0</td>\n",
       "      <td>...</td>\n",
       "      <td>0</td>\n",
       "      <td>0</td>\n",
       "      <td>6</td>\n",
       "      <td>0</td>\n",
       "      <td>0</td>\n",
       "      <td>9</td>\n",
       "      <td>1</td>\n",
       "      <td>0</td>\n",
       "      <td>11</td>\n",
       "      <td>0</td>\n",
       "    </tr>\n",
       "    <tr>\n",
       "      <th>40217</th>\n",
       "      <td>0</td>\n",
       "      <td>0</td>\n",
       "      <td>0</td>\n",
       "      <td>0</td>\n",
       "      <td>0</td>\n",
       "      <td>0</td>\n",
       "      <td>0</td>\n",
       "      <td>0</td>\n",
       "      <td>0</td>\n",
       "      <td>0</td>\n",
       "      <td>...</td>\n",
       "      <td>0</td>\n",
       "      <td>0</td>\n",
       "      <td>6</td>\n",
       "      <td>0</td>\n",
       "      <td>0</td>\n",
       "      <td>9</td>\n",
       "      <td>0</td>\n",
       "      <td>0</td>\n",
       "      <td>12</td>\n",
       "      <td>0</td>\n",
       "    </tr>\n",
       "    <tr>\n",
       "      <th>...</th>\n",
       "      <td>...</td>\n",
       "      <td>...</td>\n",
       "      <td>...</td>\n",
       "      <td>...</td>\n",
       "      <td>...</td>\n",
       "      <td>...</td>\n",
       "      <td>...</td>\n",
       "      <td>...</td>\n",
       "      <td>...</td>\n",
       "      <td>...</td>\n",
       "      <td>...</td>\n",
       "      <td>...</td>\n",
       "      <td>...</td>\n",
       "      <td>...</td>\n",
       "      <td>...</td>\n",
       "      <td>...</td>\n",
       "      <td>...</td>\n",
       "      <td>...</td>\n",
       "      <td>...</td>\n",
       "      <td>...</td>\n",
       "      <td>...</td>\n",
       "    </tr>\n",
       "    <tr>\n",
       "      <th>972</th>\n",
       "      <td>0</td>\n",
       "      <td>0</td>\n",
       "      <td>0</td>\n",
       "      <td>0</td>\n",
       "      <td>0</td>\n",
       "      <td>0</td>\n",
       "      <td>0</td>\n",
       "      <td>0</td>\n",
       "      <td>1</td>\n",
       "      <td>0</td>\n",
       "      <td>...</td>\n",
       "      <td>1</td>\n",
       "      <td>0</td>\n",
       "      <td>5</td>\n",
       "      <td>2</td>\n",
       "      <td>0</td>\n",
       "      <td>7</td>\n",
       "      <td>2</td>\n",
       "      <td>0</td>\n",
       "      <td>10</td>\n",
       "      <td>0</td>\n",
       "    </tr>\n",
       "    <tr>\n",
       "      <th>24028</th>\n",
       "      <td>0</td>\n",
       "      <td>0</td>\n",
       "      <td>0</td>\n",
       "      <td>0</td>\n",
       "      <td>0</td>\n",
       "      <td>0</td>\n",
       "      <td>0</td>\n",
       "      <td>0</td>\n",
       "      <td>0</td>\n",
       "      <td>0</td>\n",
       "      <td>...</td>\n",
       "      <td>0</td>\n",
       "      <td>0</td>\n",
       "      <td>6</td>\n",
       "      <td>0</td>\n",
       "      <td>0</td>\n",
       "      <td>9</td>\n",
       "      <td>0</td>\n",
       "      <td>0</td>\n",
       "      <td>12</td>\n",
       "      <td>0</td>\n",
       "    </tr>\n",
       "    <tr>\n",
       "      <th>36067</th>\n",
       "      <td>0</td>\n",
       "      <td>0</td>\n",
       "      <td>0</td>\n",
       "      <td>0</td>\n",
       "      <td>0</td>\n",
       "      <td>0</td>\n",
       "      <td>0</td>\n",
       "      <td>0</td>\n",
       "      <td>0</td>\n",
       "      <td>0</td>\n",
       "      <td>...</td>\n",
       "      <td>0</td>\n",
       "      <td>0</td>\n",
       "      <td>6</td>\n",
       "      <td>0</td>\n",
       "      <td>0</td>\n",
       "      <td>9</td>\n",
       "      <td>2</td>\n",
       "      <td>0</td>\n",
       "      <td>10</td>\n",
       "      <td>0</td>\n",
       "    </tr>\n",
       "    <tr>\n",
       "      <th>24985</th>\n",
       "      <td>0</td>\n",
       "      <td>0</td>\n",
       "      <td>0</td>\n",
       "      <td>0</td>\n",
       "      <td>0</td>\n",
       "      <td>0</td>\n",
       "      <td>0</td>\n",
       "      <td>0</td>\n",
       "      <td>1</td>\n",
       "      <td>0</td>\n",
       "      <td>...</td>\n",
       "      <td>1</td>\n",
       "      <td>0</td>\n",
       "      <td>5</td>\n",
       "      <td>2</td>\n",
       "      <td>0</td>\n",
       "      <td>7</td>\n",
       "      <td>3</td>\n",
       "      <td>0</td>\n",
       "      <td>9</td>\n",
       "      <td>0</td>\n",
       "    </tr>\n",
       "    <tr>\n",
       "      <th>878</th>\n",
       "      <td>0</td>\n",
       "      <td>0</td>\n",
       "      <td>0</td>\n",
       "      <td>0</td>\n",
       "      <td>0</td>\n",
       "      <td>0</td>\n",
       "      <td>0</td>\n",
       "      <td>0</td>\n",
       "      <td>0</td>\n",
       "      <td>0</td>\n",
       "      <td>...</td>\n",
       "      <td>0</td>\n",
       "      <td>0</td>\n",
       "      <td>6</td>\n",
       "      <td>0</td>\n",
       "      <td>0</td>\n",
       "      <td>9</td>\n",
       "      <td>0</td>\n",
       "      <td>0</td>\n",
       "      <td>12</td>\n",
       "      <td>0</td>\n",
       "    </tr>\n",
       "  </tbody>\n",
       "</table>\n",
       "<p>78197 rows × 34 columns</p>\n",
       "</div>"
      ],
      "text/plain": [
       "       EverAtLeast1DPD_3mos  EverAtLeast15DPD_3mos  EverAtLeast31DPD_3mos  \\\n",
       "11757                     0                      0                      0   \n",
       "39534                     0                      0                      0   \n",
       "9963                      0                      0                      0   \n",
       "72838                     0                      0                      0   \n",
       "40217                     0                      0                      0   \n",
       "...                     ...                    ...                    ...   \n",
       "972                       0                      0                      0   \n",
       "24028                     0                      0                      0   \n",
       "36067                     0                      0                      0   \n",
       "24985                     0                      0                      0   \n",
       "878                       0                      0                      0   \n",
       "\n",
       "       EverAtLeast61DPD_3mos  EverAtLeast1DPD_6mos  EverAtLeast15DPD_6mos  \\\n",
       "11757                      0                     0                      0   \n",
       "39534                      0                     0                      0   \n",
       "9963                       0                     0                      0   \n",
       "72838                      0                     0                      0   \n",
       "40217                      0                     0                      0   \n",
       "...                      ...                   ...                    ...   \n",
       "972                        0                     0                      0   \n",
       "24028                      0                     0                      0   \n",
       "36067                      0                     0                      0   \n",
       "24985                      0                     0                      0   \n",
       "878                        0                     0                      0   \n",
       "\n",
       "       EverAtLeast31DPD_6mos  EverAtLeast61DPD_6mos  EverAtLeast1DPD_9mos  \\\n",
       "11757                      0                      0                     0   \n",
       "39534                      0                      0                     0   \n",
       "9963                       0                      0                     0   \n",
       "72838                      0                      0                     0   \n",
       "40217                      0                      0                     0   \n",
       "...                      ...                    ...                   ...   \n",
       "972                        0                      0                     1   \n",
       "24028                      0                      0                     0   \n",
       "36067                      0                      0                     0   \n",
       "24985                      0                      0                     1   \n",
       "878                        0                      0                     0   \n",
       "\n",
       "       EverAtLeast15DPD_9mos  ...  Missed_past6mos  Partial_past6mos  \\\n",
       "11757                      0  ...                0                 0   \n",
       "39534                      0  ...                0                 0   \n",
       "9963                       0  ...                0                 0   \n",
       "72838                      0  ...                0                 0   \n",
       "40217                      0  ...                0                 0   \n",
       "...                      ...  ...              ...               ...   \n",
       "972                        0  ...                1                 0   \n",
       "24028                      0  ...                0                 0   \n",
       "36067                      0  ...                0                 0   \n",
       "24985                      0  ...                1                 0   \n",
       "878                        0  ...                0                 0   \n",
       "\n",
       "       Full_past6mos  Missed_past9mos  Partial_past9mos  Full_past9mos  \\\n",
       "11757              6                0                 0              9   \n",
       "39534              6                0                 0              9   \n",
       "9963               6                0                 0              9   \n",
       "72838              6                0                 0              9   \n",
       "40217              6                0                 0              9   \n",
       "...              ...              ...               ...            ...   \n",
       "972                5                2                 0              7   \n",
       "24028              6                0                 0              9   \n",
       "36067              6                0                 0              9   \n",
       "24985              5                2                 0              7   \n",
       "878                6                0                 0              9   \n",
       "\n",
       "       Missed_past12mos  Partial_past12mos  Full_past12mos  DEFAULT_TAGGING  \n",
       "11757                 0                  0              12                0  \n",
       "39534                 0                  0              12                0  \n",
       "9963                  1                  0              11                0  \n",
       "72838                 1                  0              11                0  \n",
       "40217                 0                  0              12                0  \n",
       "...                 ...                ...             ...              ...  \n",
       "972                   2                  0              10                0  \n",
       "24028                 0                  0              12                0  \n",
       "36067                 2                  0              10                0  \n",
       "24985                 3                  0               9                0  \n",
       "878                   0                  0              12                0  \n",
       "\n",
       "[78197 rows x 34 columns]"
      ]
     },
     "execution_count": 7,
     "metadata": {},
     "output_type": "execute_result"
    }
   ],
   "source": [
    "Y1"
   ]
  },
  {
   "cell_type": "code",
   "execution_count": 8,
   "id": "19d947aa-fc9a-4cbd-b211-4f061ea1e650",
   "metadata": {
    "tags": []
   },
   "outputs": [],
   "source": [
    "# Define X1 (features) and y1 (target)\n",
    "X_1 = Y1.drop(columns=[\"DEFAULT_TAGGING\"])  \n",
    "Y_1 = Y1[\"DEFAULT_TAGGING\"].astype(int)  # Convert target to integer Series"
   ]
  },
  {
   "cell_type": "code",
   "execution_count": 9,
   "id": "93b0bbc4-7144-401e-b0c4-31fe52aba020",
   "metadata": {
    "tags": []
   },
   "outputs": [
    {
     "name": "stdout",
     "output_type": "stream",
     "text": [
      "Before SMOTE: Counter({0: 77699, 1: 498})\n",
      "After SMOTE: Counter({0: 77699, 1: 15539})\n"
     ]
    }
   ],
   "source": [
    "from imblearn.over_sampling import SMOTENC\n",
    "# import numpy as np\n",
    "# import pandas as pd\n",
    "from collections import Counter\n",
    "\n",
    "# Define feature groups\n",
    "binary_features = ['EverAtLeast1DPD_3mos', 'EverAtLeast15DPD_3mos', 'EverAtLeast31DPD_3mos', 'EverAtLeast61DPD_3mos',\n",
    "                   'EverAtLeast1DPD_6mos', 'EverAtLeast15DPD_6mos', 'EverAtLeast31DPD_6mos', 'EverAtLeast61DPD_6mos',\n",
    "                   'EverAtLeast1DPD_9mos', 'EverAtLeast15DPD_9mos', 'EverAtLeast31DPD_9mos', 'EverAtLeast61DPD_9mos',\n",
    "                   'EverAtLeast1DPD_12mos', 'EverAtLeast15DPD_12mos', 'EverAtLeast31DPD_12mos', 'EverAtLeast61DPD_12mos']\n",
    "\n",
    "ordinal_features = ['WorstDel_3mos', 'WorstDel_6mos', 'WorstDel_9mos', 'WorstDel_12mos']\n",
    "\n",
    "continuous_features = ['RemainingLoanRatio_12mos']\n",
    "\n",
    "count_features = ['Missed_past3mos', 'Partial_past3mos', 'Full_past3mos',\n",
    "                  'Missed_past6mos', 'Partial_past6mos', 'Full_past6mos',\n",
    "                  'Missed_past9mos', 'Partial_past9mos', 'Full_past9mos',\n",
    "                  'Missed_past12mos', 'Partial_past12mos', 'Full_past12mos']\n",
    "\n",
    "# Get categorical feature indices for SMOTE-NC  \n",
    "categorical_feature_indices = [X_1.columns.get_loc(col) for col in binary_features + ordinal_features]\n",
    "\n",
    "# Apply SMOTE-NC\n",
    "smote_nc = SMOTENC(categorical_features=categorical_feature_indices, random_state=42, sampling_strategy=0.20)\n",
    "X1_resampled, Y1_resampled = smote_nc.fit_resample(X_1, Y_1)\n",
    "\n",
    "# Convert back to DataFrame\n",
    "x1_resampled = pd.DataFrame(X1_resampled, columns=X_1.columns)\n",
    "y1_resampled = pd.Series(Y1_resampled, name=\"DEFAULT_TAGGING\")\n",
    "\n",
    "# Post-processing: Round categorical & count features\n",
    "x1_resampled[binary_features] = x1_resampled[binary_features].round().astype(int)\n",
    "x1_resampled[ordinal_features] = x1_resampled[ordinal_features].round().astype(int)\n",
    "x1_resampled[count_features] = x1_resampled[count_features].round().astype(int)\n",
    "\n",
    "# Print class distribution\n",
    "print(\"Before SMOTE:\", Counter(Y_1))\n",
    "print(\"After SMOTE:\", Counter(y1_resampled))"
   ]
  },
  {
   "cell_type": "code",
   "execution_count": 10,
   "id": "165524a0-95fe-4681-806a-e95113e85b1e",
   "metadata": {
    "tags": []
   },
   "outputs": [
    {
     "name": "stdout",
     "output_type": "stream",
     "text": [
      "       EverAtLeast1DPD_3mos  EverAtLeast15DPD_3mos  EverAtLeast31DPD_3mos  \\\n",
      "93233                     0                      0                      0   \n",
      "93234                     0                      0                      0   \n",
      "93235                     1                      1                      1   \n",
      "93236                     0                      0                      0   \n",
      "93237                     0                      0                      0   \n",
      "\n",
      "       EverAtLeast61DPD_3mos  EverAtLeast1DPD_6mos  EverAtLeast15DPD_6mos  \\\n",
      "93233                      0                     0                      0   \n",
      "93234                      0                     0                      0   \n",
      "93235                      1                     1                      1   \n",
      "93236                      0                     0                      0   \n",
      "93237                      0                     0                      0   \n",
      "\n",
      "       EverAtLeast31DPD_6mos  EverAtLeast61DPD_6mos  EverAtLeast1DPD_9mos  \\\n",
      "93233                      0                      0                     0   \n",
      "93234                      0                      0                     0   \n",
      "93235                      1                      1                     1   \n",
      "93236                      0                      0                     0   \n",
      "93237                      0                      0                     0   \n",
      "\n",
      "       EverAtLeast15DPD_9mos  ...  Missed_past6mos  Partial_past6mos  \\\n",
      "93233                      0  ...                5                 0   \n",
      "93234                      0  ...                4                 0   \n",
      "93235                      1  ...                6                 0   \n",
      "93236                      0  ...                3                 0   \n",
      "93237                      0  ...                0                 0   \n",
      "\n",
      "       Full_past6mos  Missed_past9mos  Partial_past9mos  Full_past9mos  \\\n",
      "93233              1                7                 0              2   \n",
      "93234              2                6                 0              3   \n",
      "93235              0                9                 0              0   \n",
      "93236              3                3                 0              6   \n",
      "93237              5                2                 0              6   \n",
      "\n",
      "       Missed_past12mos  Partial_past12mos  Full_past12mos  DEFAULT_TAGGING  \n",
      "93233                 9                  0               3                1  \n",
      "93234                 7                  0               4                1  \n",
      "93235                12                  0               0                1  \n",
      "93236                 3                  0               9                1  \n",
      "93237                 4                  0               7                1  \n",
      "\n",
      "[5 rows x 34 columns]\n"
     ]
    }
   ],
   "source": [
    "Y1_resampled = pd.concat([x1_resampled, y1_resampled], axis=1)\n",
    "\n",
    "# Check if rows are still aligned properly\n",
    "print(Y1_resampled.tail())  # Preview first few rows"
   ]
  },
  {
   "cell_type": "code",
   "execution_count": 11,
   "id": "fe3ac59b-d01a-43bd-99d2-535b100af5f5",
   "metadata": {
    "tags": []
   },
   "outputs": [],
   "source": [
    "xvars = [\n",
    "    'EverAtLeast1DPD_3mos', 'EverAtLeast15DPD_3mos', 'EverAtLeast31DPD_3mos', 'EverAtLeast61DPD_3mos', \n",
    "    'EverAtLeast1DPD_6mos', 'EverAtLeast15DPD_6mos', 'EverAtLeast31DPD_6mos', 'EverAtLeast61DPD_6mos', \n",
    "    'EverAtLeast1DPD_9mos', 'EverAtLeast15DPD_9mos', 'EverAtLeast31DPD_9mos', 'EverAtLeast61DPD_9mos', \n",
    "    'EverAtLeast1DPD_12mos', 'EverAtLeast15DPD_12mos', 'EverAtLeast31DPD_12mos', 'EverAtLeast61DPD_12mos', \n",
    "    'WorstDel_3mos', 'WorstDel_6mos', 'WorstDel_9mos', 'WorstDel_12mos', 'RemainingLoanRatio_12mos', \n",
    "    'Missed_past3mos', 'Partial_past3mos', 'Full_past3mos', 'Missed_past6mos', 'Partial_past6mos', \n",
    "    'Full_past6mos', 'Missed_past9mos', 'Partial_past9mos', 'Full_past9mos', 'Missed_past12mos', \n",
    "    'Partial_past12mos', 'Full_past12mos'\n",
    "]\n",
    "    \n",
    "yvar = 'DEFAULT_TAGGING'  # Target variable for y1\n",
    "\n",
    "# Prepare training data (y1)\n",
    "X_train_split = Y1_resampled[xvars]\n",
    "y_train_split = Y1_resampled[yvar]"
   ]
  },
  {
   "cell_type": "markdown",
   "id": "0959e968-ab56-44b7-9ea8-b1733d31dc9a",
   "metadata": {
    "tags": []
   },
   "source": [
    "#### Option 1 Grid Search "
   ]
  },
  {
   "cell_type": "code",
   "execution_count": 21,
   "id": "ae2a8d73-d626-4244-9737-451b885f7c6b",
   "metadata": {
    "tags": []
   },
   "outputs": [],
   "source": [
    "from sklearn.metrics import recall_score, confusion_matrix, precision_recall_curve\n",
    "import lightgbm as lgb\n",
    "import numpy as np\n",
    "from itertools import product\n",
    "\n",
    "def calculate_specificity(y_true, y_pred):\n",
    "    tn, fp, fn, tp = confusion_matrix(y_true, y_pred).ravel()\n",
    "    print(f\"True Negatives (TN): {tn}\")\n",
    "    print(f\"False Positives (FP): {fp}\")\n",
    "    print(f\"False Negatives (FN): {fn}\")\n",
    "    print(f\"True Positives (TP): {tp}\")\n",
    "    specificity = tn / (tn + fp)\n",
    "    return specificity\n",
    "\n",
    "\n",
    "#change param_grid based on your chosen range of values\n",
    "def grid_search_lgbm(X_train_split, y_train_split, X_val, y_val):\n",
    "    param_grid = {\n",
    "        'num_leaves': np.linspace(20, 100, 5, dtype=int),\n",
    "        'learning_rate': np.linspace(0.03, 0.15, 5),\n",
    "        'num_iterations': np.linspace(50, 200, 4, dtype=int)\n",
    "    }\n",
    "\n",
    "\n",
    "\n",
    "\n",
    "\n",
    "\n",
    "    best_results = {\n",
    "        'recall': {'score': -np.inf, 'params': None},\n",
    "        'specificity': {'score': -np.inf, 'params': None}\n",
    "    }\n",
    "\n",
    "    print(\"Starting Grid Search for num_leaves, learning_rate, and num_iterations...\\n\")\n",
    "\n",
    "    for num_leaves, learning_rate, num_iterations in product(\n",
    "        param_grid['num_leaves'], param_grid['learning_rate'], param_grid['num_iterations']\n",
    "    ):\n",
    "        model = lgb.LGBMClassifier(\n",
    "            boosting_type='gbdt',\n",
    "            objective='binary',\n",
    "            metric='binary_logloss',\n",
    "            learning_rate=learning_rate,\n",
    "            num_iterations=num_iterations,\n",
    "            num_leaves=num_leaves,\n",
    "            is_unbalanced=True,\n",
    "            random_state=42,\n",
    "            bagging_seed=42,\n",
    "            feature_fraction_seed=42,\n",
    "            drop_seed=42,\n",
    "            data_random_seed=42,\n",
    "            deterministic=True,\n",
    "            n_jobs=1\n",
    "        )\n",
    "\n",
    "        model.fit(X_train_split, y_train_split)\n",
    "        y_proba = model.predict_proba(X_val)\n",
    "\n",
    "        # Threshold tuning based on maximum F1 score\n",
    "        precision, recall_arr, thresholds = precision_recall_curve(y_val, y_proba[:, 1])\n",
    "        f1_scores = 2 * (precision * recall_arr) / (precision + recall_arr)  # Avoid divide-by-zero\n",
    "        optimal_threshold = thresholds[np.argmax(f1_scores)]\n",
    "\n",
    "        # Apply optimal threshold\n",
    "        y_pred = (y_proba[:, 1] >= optimal_threshold).astype(int)\n",
    "\n",
    "        recall = recall_score(y_val, y_pred)\n",
    "        specificity = calculate_specificity(y_val, y_pred)\n",
    "\n",
    "        print(f\"Params: num_leaves={num_leaves}, learning_rate={learning_rate:.3f}, num_iterations={num_iterations}\")\n",
    "        print(f\" → Optimal Threshold: {optimal_threshold:.4f}\")\n",
    "        print(f\" → Recall: {recall:.4f}, Specificity: {specificity:.4f}\\n\")\n",
    "\n",
    "        if recall > best_results['recall']['score']:\n",
    "            best_results['recall'] = {\n",
    "                'score': recall,\n",
    "                'params': {\n",
    "                    'num_leaves': num_leaves,\n",
    "                    'learning_rate': learning_rate,\n",
    "                    'num_iterations': num_iterations,\n",
    "                    'threshold': optimal_threshold\n",
    "                }\n",
    "            }\n",
    "\n",
    "        if specificity > best_results['specificity']['score']:\n",
    "            best_results['specificity'] = {\n",
    "                'score': specificity,\n",
    "                'params': {\n",
    "                    'num_leaves': num_leaves,\n",
    "                    'learning_rate': learning_rate,\n",
    "                    'num_iterations': num_iterations,\n",
    "                    'threshold': optimal_threshold\n",
    "                }\n",
    "            }\n",
    "\n",
    "    # Print final best results\n",
    "    print(\"Grid Search Complete!\\n\")\n",
    "    print(\"Best Recall Score:\")\n",
    "    print(f\" → Score: {best_results['recall']['score']:.4f}\")\n",
    "    print(f\" → Params: {best_results['recall']['params']}\\n\")\n",
    "\n",
    "    print(\"Best Specificity Score:\")\n",
    "    print(f\" → Score: {best_results['specificity']['score']:.4f}\")\n",
    "    print(f\" → Params: {best_results['specificity']['params']}\\n\")\n",
    "\n",
    "    return best_results"
   ]
  },
  {
   "cell_type": "code",
   "execution_count": 22,
   "id": "3e34702e-117b-4be9-9951-2cb6a101a334",
   "metadata": {
    "tags": []
   },
   "outputs": [
    {
     "name": "stdout",
     "output_type": "stream",
     "text": [
      "Starting Grid Search for num_leaves, learning_rate, and num_iterations...\n",
      "\n",
      "[LightGBM] [Warning] Unknown parameter: is_unbalanced\n"
     ]
    },
    {
     "name": "stderr",
     "output_type": "stream",
     "text": [
      "C:\\Users\\Neil\\AppData\\Roaming\\Python\\Python311\\site-packages\\lightgbm\\engine.py:204: UserWarning: Found `num_iterations` in params. Will use it instead of argument\n",
      "  _log_warning(f\"Found `{alias}` in params. Will use it instead of argument\")\n"
     ]
    },
    {
     "name": "stdout",
     "output_type": "stream",
     "text": [
      "[LightGBM] [Warning] Unknown parameter: is_unbalanced\n",
      "[LightGBM] [Info] Number of positive: 15539, number of negative: 77699\n",
      "[LightGBM] [Info] Auto-choosing row-wise multi-threading, the overhead of testing was 0.037476 seconds.\n",
      "You can set `force_row_wise=true` to remove the overhead.\n",
      "And if memory is not enough, you can set `force_col_wise=true`.\n",
      "[LightGBM] [Info] Total Bins 411\n",
      "[LightGBM] [Info] Number of data points in the train set: 93238, number of used features: 33\n",
      "[LightGBM] [Info] [binary:BoostFromScore]: pavg=0.166660 -> initscore=-1.609489\n",
      "[LightGBM] [Info] Start training from score -1.609489\n",
      "[LightGBM] [Warning] Unknown parameter: is_unbalanced\n",
      "True Negatives (TN): 33281\n",
      "False Positives (FP): 20\n",
      "False Negatives (FN): 55\n",
      "True Positives (TP): 158\n",
      "Params: num_leaves=20, learning_rate=0.030, num_iterations=50\n",
      " → Optimal Threshold: 0.7614\n",
      " → Recall: 0.7418, Specificity: 0.9994\n",
      "\n",
      "[LightGBM] [Warning] Unknown parameter: is_unbalanced\n"
     ]
    },
    {
     "name": "stderr",
     "output_type": "stream",
     "text": [
      "C:\\Users\\Neil\\AppData\\Roaming\\Python\\Python311\\site-packages\\lightgbm\\engine.py:204: UserWarning: Found `num_iterations` in params. Will use it instead of argument\n",
      "  _log_warning(f\"Found `{alias}` in params. Will use it instead of argument\")\n"
     ]
    },
    {
     "name": "stdout",
     "output_type": "stream",
     "text": [
      "[LightGBM] [Warning] Unknown parameter: is_unbalanced\n",
      "[LightGBM] [Info] Number of positive: 15539, number of negative: 77699\n",
      "[LightGBM] [Info] Auto-choosing row-wise multi-threading, the overhead of testing was 0.040274 seconds.\n",
      "You can set `force_row_wise=true` to remove the overhead.\n",
      "And if memory is not enough, you can set `force_col_wise=true`.\n",
      "[LightGBM] [Info] Total Bins 411\n",
      "[LightGBM] [Info] Number of data points in the train set: 93238, number of used features: 33\n",
      "[LightGBM] [Info] [binary:BoostFromScore]: pavg=0.166660 -> initscore=-1.609489\n",
      "[LightGBM] [Info] Start training from score -1.609489\n",
      "[LightGBM] [Warning] Unknown parameter: is_unbalanced\n",
      "True Negatives (TN): 33287\n",
      "False Positives (FP): 14\n",
      "False Negatives (FN): 55\n",
      "True Positives (TP): 158\n",
      "Params: num_leaves=20, learning_rate=0.030, num_iterations=100\n",
      " → Optimal Threshold: 0.8636\n",
      " → Recall: 0.7418, Specificity: 0.9996\n",
      "\n",
      "[LightGBM] [Warning] Unknown parameter: is_unbalanced\n"
     ]
    },
    {
     "name": "stderr",
     "output_type": "stream",
     "text": [
      "C:\\Users\\Neil\\AppData\\Roaming\\Python\\Python311\\site-packages\\lightgbm\\engine.py:204: UserWarning: Found `num_iterations` in params. Will use it instead of argument\n",
      "  _log_warning(f\"Found `{alias}` in params. Will use it instead of argument\")\n"
     ]
    },
    {
     "name": "stdout",
     "output_type": "stream",
     "text": [
      "[LightGBM] [Warning] Unknown parameter: is_unbalanced\n",
      "[LightGBM] [Info] Number of positive: 15539, number of negative: 77699\n",
      "[LightGBM] [Info] Auto-choosing row-wise multi-threading, the overhead of testing was 0.042259 seconds.\n",
      "You can set `force_row_wise=true` to remove the overhead.\n",
      "And if memory is not enough, you can set `force_col_wise=true`.\n",
      "[LightGBM] [Info] Total Bins 411\n",
      "[LightGBM] [Info] Number of data points in the train set: 93238, number of used features: 33\n",
      "[LightGBM] [Info] [binary:BoostFromScore]: pavg=0.166660 -> initscore=-1.609489\n",
      "[LightGBM] [Info] Start training from score -1.609489\n",
      "[LightGBM] [Warning] Unknown parameter: is_unbalanced\n",
      "True Negatives (TN): 33292\n",
      "False Positives (FP): 9\n",
      "False Negatives (FN): 56\n",
      "True Positives (TP): 157\n",
      "Params: num_leaves=20, learning_rate=0.030, num_iterations=150\n",
      " → Optimal Threshold: 0.9178\n",
      " → Recall: 0.7371, Specificity: 0.9997\n",
      "\n",
      "[LightGBM] [Warning] Unknown parameter: is_unbalanced\n"
     ]
    },
    {
     "name": "stderr",
     "output_type": "stream",
     "text": [
      "C:\\Users\\Neil\\AppData\\Roaming\\Python\\Python311\\site-packages\\lightgbm\\engine.py:204: UserWarning: Found `num_iterations` in params. Will use it instead of argument\n",
      "  _log_warning(f\"Found `{alias}` in params. Will use it instead of argument\")\n"
     ]
    },
    {
     "name": "stdout",
     "output_type": "stream",
     "text": [
      "[LightGBM] [Warning] Unknown parameter: is_unbalanced\n",
      "[LightGBM] [Info] Number of positive: 15539, number of negative: 77699\n",
      "[LightGBM] [Info] Auto-choosing row-wise multi-threading, the overhead of testing was 0.042306 seconds.\n",
      "You can set `force_row_wise=true` to remove the overhead.\n",
      "And if memory is not enough, you can set `force_col_wise=true`.\n",
      "[LightGBM] [Info] Total Bins 411\n",
      "[LightGBM] [Info] Number of data points in the train set: 93238, number of used features: 33\n",
      "[LightGBM] [Info] [binary:BoostFromScore]: pavg=0.166660 -> initscore=-1.609489\n",
      "[LightGBM] [Info] Start training from score -1.609489\n",
      "[LightGBM] [Warning] Unknown parameter: is_unbalanced\n",
      "True Negatives (TN): 33283\n",
      "False Positives (FP): 18\n",
      "False Negatives (FN): 50\n",
      "True Positives (TP): 163\n",
      "Params: num_leaves=20, learning_rate=0.030, num_iterations=200\n",
      " → Optimal Threshold: 0.8473\n",
      " → Recall: 0.7653, Specificity: 0.9995\n",
      "\n",
      "[LightGBM] [Warning] Unknown parameter: is_unbalanced\n"
     ]
    },
    {
     "name": "stderr",
     "output_type": "stream",
     "text": [
      "C:\\Users\\Neil\\AppData\\Roaming\\Python\\Python311\\site-packages\\lightgbm\\engine.py:204: UserWarning: Found `num_iterations` in params. Will use it instead of argument\n",
      "  _log_warning(f\"Found `{alias}` in params. Will use it instead of argument\")\n"
     ]
    },
    {
     "name": "stdout",
     "output_type": "stream",
     "text": [
      "[LightGBM] [Warning] Unknown parameter: is_unbalanced\n",
      "[LightGBM] [Info] Number of positive: 15539, number of negative: 77699\n",
      "[LightGBM] [Info] Auto-choosing row-wise multi-threading, the overhead of testing was 0.040731 seconds.\n",
      "You can set `force_row_wise=true` to remove the overhead.\n",
      "And if memory is not enough, you can set `force_col_wise=true`.\n",
      "[LightGBM] [Info] Total Bins 411\n",
      "[LightGBM] [Info] Number of data points in the train set: 93238, number of used features: 33\n",
      "[LightGBM] [Info] [binary:BoostFromScore]: pavg=0.166660 -> initscore=-1.609489\n",
      "[LightGBM] [Info] Start training from score -1.609489\n",
      "[LightGBM] [Warning] Unknown parameter: is_unbalanced\n",
      "True Negatives (TN): 33287\n",
      "False Positives (FP): 14\n",
      "False Negatives (FN): 54\n",
      "True Positives (TP): 159\n",
      "Params: num_leaves=20, learning_rate=0.060, num_iterations=50\n",
      " → Optimal Threshold: 0.8679\n",
      " → Recall: 0.7465, Specificity: 0.9996\n",
      "\n"
     ]
    },
    {
     "name": "stderr",
     "output_type": "stream",
     "text": [
      "C:\\Users\\Neil\\AppData\\Roaming\\Python\\Python311\\site-packages\\lightgbm\\engine.py:204: UserWarning: Found `num_iterations` in params. Will use it instead of argument\n",
      "  _log_warning(f\"Found `{alias}` in params. Will use it instead of argument\")\n"
     ]
    },
    {
     "name": "stdout",
     "output_type": "stream",
     "text": [
      "[LightGBM] [Warning] Unknown parameter: is_unbalanced\n",
      "[LightGBM] [Warning] Unknown parameter: is_unbalanced\n",
      "[LightGBM] [Info] Number of positive: 15539, number of negative: 77699\n",
      "[LightGBM] [Info] Auto-choosing row-wise multi-threading, the overhead of testing was 0.043243 seconds.\n",
      "You can set `force_row_wise=true` to remove the overhead.\n",
      "And if memory is not enough, you can set `force_col_wise=true`.\n",
      "[LightGBM] [Info] Total Bins 411\n",
      "[LightGBM] [Info] Number of data points in the train set: 93238, number of used features: 33\n",
      "[LightGBM] [Info] [binary:BoostFromScore]: pavg=0.166660 -> initscore=-1.609489\n",
      "[LightGBM] [Info] Start training from score -1.609489\n",
      "[LightGBM] [Warning] Unknown parameter: is_unbalanced\n",
      "True Negatives (TN): 33291\n",
      "False Positives (FP): 10\n",
      "False Negatives (FN): 55\n",
      "True Positives (TP): 158\n",
      "Params: num_leaves=20, learning_rate=0.060, num_iterations=100\n",
      " → Optimal Threshold: 0.9100\n",
      " → Recall: 0.7418, Specificity: 0.9997\n",
      "\n",
      "[LightGBM] [Warning] Unknown parameter: is_unbalanced\n"
     ]
    },
    {
     "name": "stderr",
     "output_type": "stream",
     "text": [
      "C:\\Users\\Neil\\AppData\\Roaming\\Python\\Python311\\site-packages\\lightgbm\\engine.py:204: UserWarning: Found `num_iterations` in params. Will use it instead of argument\n",
      "  _log_warning(f\"Found `{alias}` in params. Will use it instead of argument\")\n"
     ]
    },
    {
     "name": "stdout",
     "output_type": "stream",
     "text": [
      "[LightGBM] [Warning] Unknown parameter: is_unbalanced\n",
      "[LightGBM] [Info] Number of positive: 15539, number of negative: 77699\n",
      "[LightGBM] [Info] Auto-choosing row-wise multi-threading, the overhead of testing was 0.044142 seconds.\n",
      "You can set `force_row_wise=true` to remove the overhead.\n",
      "And if memory is not enough, you can set `force_col_wise=true`.\n",
      "[LightGBM] [Info] Total Bins 411\n",
      "[LightGBM] [Info] Number of data points in the train set: 93238, number of used features: 33\n",
      "[LightGBM] [Info] [binary:BoostFromScore]: pavg=0.166660 -> initscore=-1.609489\n",
      "[LightGBM] [Info] Start training from score -1.609489\n",
      "[LightGBM] [Warning] Unknown parameter: is_unbalanced\n",
      "True Negatives (TN): 33285\n",
      "False Positives (FP): 16\n",
      "False Negatives (FN): 51\n",
      "True Positives (TP): 162\n",
      "Params: num_leaves=20, learning_rate=0.060, num_iterations=150\n",
      " → Optimal Threshold: 0.8573\n",
      " → Recall: 0.7606, Specificity: 0.9995\n",
      "\n",
      "[LightGBM] [Warning] Unknown parameter: is_unbalanced\n"
     ]
    },
    {
     "name": "stderr",
     "output_type": "stream",
     "text": [
      "C:\\Users\\Neil\\AppData\\Roaming\\Python\\Python311\\site-packages\\lightgbm\\engine.py:204: UserWarning: Found `num_iterations` in params. Will use it instead of argument\n",
      "  _log_warning(f\"Found `{alias}` in params. Will use it instead of argument\")\n"
     ]
    },
    {
     "name": "stdout",
     "output_type": "stream",
     "text": [
      "[LightGBM] [Warning] Unknown parameter: is_unbalanced\n",
      "[LightGBM] [Info] Number of positive: 15539, number of negative: 77699\n",
      "[LightGBM] [Info] Auto-choosing row-wise multi-threading, the overhead of testing was 0.035023 seconds.\n",
      "You can set `force_row_wise=true` to remove the overhead.\n",
      "And if memory is not enough, you can set `force_col_wise=true`.\n",
      "[LightGBM] [Info] Total Bins 411\n",
      "[LightGBM] [Info] Number of data points in the train set: 93238, number of used features: 33\n",
      "[LightGBM] [Info] [binary:BoostFromScore]: pavg=0.166660 -> initscore=-1.609489\n",
      "[LightGBM] [Info] Start training from score -1.609489\n",
      "[LightGBM] [Warning] Unknown parameter: is_unbalanced\n",
      "True Negatives (TN): 33293\n",
      "False Positives (FP): 8\n",
      "False Negatives (FN): 58\n",
      "True Positives (TP): 155\n",
      "Params: num_leaves=20, learning_rate=0.060, num_iterations=200\n",
      " → Optimal Threshold: 0.9177\n",
      " → Recall: 0.7277, Specificity: 0.9998\n",
      "\n",
      "[LightGBM] [Warning] Unknown parameter: is_unbalanced\n"
     ]
    },
    {
     "name": "stderr",
     "output_type": "stream",
     "text": [
      "C:\\Users\\Neil\\AppData\\Roaming\\Python\\Python311\\site-packages\\lightgbm\\engine.py:204: UserWarning: Found `num_iterations` in params. Will use it instead of argument\n",
      "  _log_warning(f\"Found `{alias}` in params. Will use it instead of argument\")\n"
     ]
    },
    {
     "name": "stdout",
     "output_type": "stream",
     "text": [
      "[LightGBM] [Warning] Unknown parameter: is_unbalanced\n",
      "[LightGBM] [Info] Number of positive: 15539, number of negative: 77699\n",
      "[LightGBM] [Info] Auto-choosing row-wise multi-threading, the overhead of testing was 0.039992 seconds.\n",
      "You can set `force_row_wise=true` to remove the overhead.\n",
      "And if memory is not enough, you can set `force_col_wise=true`.\n",
      "[LightGBM] [Info] Total Bins 411\n",
      "[LightGBM] [Info] Number of data points in the train set: 93238, number of used features: 33\n",
      "[LightGBM] [Info] [binary:BoostFromScore]: pavg=0.166660 -> initscore=-1.609489\n",
      "[LightGBM] [Info] Start training from score -1.609489\n",
      "[LightGBM] [Warning] Unknown parameter: is_unbalanced\n",
      "True Negatives (TN): 33289\n",
      "False Positives (FP): 12\n",
      "False Negatives (FN): 54\n",
      "True Positives (TP): 159\n",
      "Params: num_leaves=20, learning_rate=0.090, num_iterations=50\n",
      " → Optimal Threshold: 0.8921\n",
      " → Recall: 0.7465, Specificity: 0.9996\n",
      "\n"
     ]
    },
    {
     "name": "stderr",
     "output_type": "stream",
     "text": [
      "C:\\Users\\Neil\\AppData\\Roaming\\Python\\Python311\\site-packages\\lightgbm\\engine.py:204: UserWarning: Found `num_iterations` in params. Will use it instead of argument\n",
      "  _log_warning(f\"Found `{alias}` in params. Will use it instead of argument\")\n"
     ]
    },
    {
     "name": "stdout",
     "output_type": "stream",
     "text": [
      "[LightGBM] [Warning] Unknown parameter: is_unbalanced\n",
      "[LightGBM] [Warning] Unknown parameter: is_unbalanced\n",
      "[LightGBM] [Info] Number of positive: 15539, number of negative: 77699\n",
      "[LightGBM] [Info] Auto-choosing row-wise multi-threading, the overhead of testing was 0.039152 seconds.\n",
      "You can set `force_row_wise=true` to remove the overhead.\n",
      "And if memory is not enough, you can set `force_col_wise=true`.\n",
      "[LightGBM] [Info] Total Bins 411\n",
      "[LightGBM] [Info] Number of data points in the train set: 93238, number of used features: 33\n",
      "[LightGBM] [Info] [binary:BoostFromScore]: pavg=0.166660 -> initscore=-1.609489\n",
      "[LightGBM] [Info] Start training from score -1.609489\n",
      "[LightGBM] [Warning] Unknown parameter: is_unbalanced\n",
      "True Negatives (TN): 33290\n",
      "False Positives (FP): 11\n",
      "False Negatives (FN): 54\n",
      "True Positives (TP): 159\n",
      "Params: num_leaves=20, learning_rate=0.090, num_iterations=100\n",
      " → Optimal Threshold: 0.9081\n",
      " → Recall: 0.7465, Specificity: 0.9997\n",
      "\n",
      "[LightGBM] [Warning] Unknown parameter: is_unbalanced\n"
     ]
    },
    {
     "name": "stderr",
     "output_type": "stream",
     "text": [
      "C:\\Users\\Neil\\AppData\\Roaming\\Python\\Python311\\site-packages\\lightgbm\\engine.py:204: UserWarning: Found `num_iterations` in params. Will use it instead of argument\n",
      "  _log_warning(f\"Found `{alias}` in params. Will use it instead of argument\")\n"
     ]
    },
    {
     "name": "stdout",
     "output_type": "stream",
     "text": [
      "[LightGBM] [Warning] Unknown parameter: is_unbalanced\n",
      "[LightGBM] [Info] Number of positive: 15539, number of negative: 77699\n",
      "[LightGBM] [Info] Auto-choosing row-wise multi-threading, the overhead of testing was 0.036991 seconds.\n",
      "You can set `force_row_wise=true` to remove the overhead.\n",
      "And if memory is not enough, you can set `force_col_wise=true`.\n",
      "[LightGBM] [Info] Total Bins 411\n",
      "[LightGBM] [Info] Number of data points in the train set: 93238, number of used features: 33\n",
      "[LightGBM] [Info] [binary:BoostFromScore]: pavg=0.166660 -> initscore=-1.609489\n",
      "[LightGBM] [Info] Start training from score -1.609489\n",
      "[LightGBM] [Warning] Unknown parameter: is_unbalanced\n",
      "True Negatives (TN): 33287\n",
      "False Positives (FP): 14\n",
      "False Negatives (FN): 55\n",
      "True Positives (TP): 158\n",
      "Params: num_leaves=20, learning_rate=0.090, num_iterations=150\n",
      " → Optimal Threshold: 0.8880\n",
      " → Recall: 0.7418, Specificity: 0.9996\n",
      "\n",
      "[LightGBM] [Warning] Unknown parameter: is_unbalanced\n"
     ]
    },
    {
     "name": "stderr",
     "output_type": "stream",
     "text": [
      "C:\\Users\\Neil\\AppData\\Roaming\\Python\\Python311\\site-packages\\lightgbm\\engine.py:204: UserWarning: Found `num_iterations` in params. Will use it instead of argument\n",
      "  _log_warning(f\"Found `{alias}` in params. Will use it instead of argument\")\n"
     ]
    },
    {
     "name": "stdout",
     "output_type": "stream",
     "text": [
      "[LightGBM] [Warning] Unknown parameter: is_unbalanced\n",
      "[LightGBM] [Info] Number of positive: 15539, number of negative: 77699\n",
      "[LightGBM] [Info] Auto-choosing row-wise multi-threading, the overhead of testing was 0.040479 seconds.\n",
      "You can set `force_row_wise=true` to remove the overhead.\n",
      "And if memory is not enough, you can set `force_col_wise=true`.\n",
      "[LightGBM] [Info] Total Bins 411\n",
      "[LightGBM] [Info] Number of data points in the train set: 93238, number of used features: 33\n",
      "[LightGBM] [Info] [binary:BoostFromScore]: pavg=0.166660 -> initscore=-1.609489\n",
      "[LightGBM] [Info] Start training from score -1.609489\n",
      "[LightGBM] [Warning] Unknown parameter: is_unbalanced\n",
      "True Negatives (TN): 33288\n",
      "False Positives (FP): 13\n",
      "False Negatives (FN): 58\n",
      "True Positives (TP): 155\n",
      "Params: num_leaves=20, learning_rate=0.090, num_iterations=200\n",
      " → Optimal Threshold: 0.8790\n",
      " → Recall: 0.7277, Specificity: 0.9996\n",
      "\n",
      "[LightGBM] [Warning] Unknown parameter: is_unbalanced\n"
     ]
    },
    {
     "name": "stderr",
     "output_type": "stream",
     "text": [
      "C:\\Users\\Neil\\AppData\\Roaming\\Python\\Python311\\site-packages\\lightgbm\\engine.py:204: UserWarning: Found `num_iterations` in params. Will use it instead of argument\n",
      "  _log_warning(f\"Found `{alias}` in params. Will use it instead of argument\")\n"
     ]
    },
    {
     "name": "stdout",
     "output_type": "stream",
     "text": [
      "[LightGBM] [Warning] Unknown parameter: is_unbalanced\n",
      "[LightGBM] [Info] Number of positive: 15539, number of negative: 77699\n",
      "[LightGBM] [Info] Auto-choosing row-wise multi-threading, the overhead of testing was 0.037736 seconds.\n",
      "You can set `force_row_wise=true` to remove the overhead.\n",
      "And if memory is not enough, you can set `force_col_wise=true`.\n",
      "[LightGBM] [Info] Total Bins 411\n",
      "[LightGBM] [Info] Number of data points in the train set: 93238, number of used features: 33\n",
      "[LightGBM] [Info] [binary:BoostFromScore]: pavg=0.166660 -> initscore=-1.609489\n",
      "[LightGBM] [Info] Start training from score -1.609489\n",
      "[LightGBM] [Warning] Unknown parameter: is_unbalanced\n",
      "True Negatives (TN): 33284\n",
      "False Positives (FP): 17\n",
      "False Negatives (FN): 49\n",
      "True Positives (TP): 164\n",
      "Params: num_leaves=20, learning_rate=0.120, num_iterations=50\n",
      " → Optimal Threshold: 0.8476\n",
      " → Recall: 0.7700, Specificity: 0.9995\n",
      "\n",
      "[LightGBM] [Warning] Unknown parameter: is_unbalanced\n"
     ]
    },
    {
     "name": "stderr",
     "output_type": "stream",
     "text": [
      "C:\\Users\\Neil\\AppData\\Roaming\\Python\\Python311\\site-packages\\lightgbm\\engine.py:204: UserWarning: Found `num_iterations` in params. Will use it instead of argument\n",
      "  _log_warning(f\"Found `{alias}` in params. Will use it instead of argument\")\n"
     ]
    },
    {
     "name": "stdout",
     "output_type": "stream",
     "text": [
      "[LightGBM] [Warning] Unknown parameter: is_unbalanced\n",
      "[LightGBM] [Info] Number of positive: 15539, number of negative: 77699\n",
      "[LightGBM] [Info] Auto-choosing row-wise multi-threading, the overhead of testing was 0.034546 seconds.\n",
      "You can set `force_row_wise=true` to remove the overhead.\n",
      "And if memory is not enough, you can set `force_col_wise=true`.\n",
      "[LightGBM] [Info] Total Bins 411\n",
      "[LightGBM] [Info] Number of data points in the train set: 93238, number of used features: 33\n",
      "[LightGBM] [Info] [binary:BoostFromScore]: pavg=0.166660 -> initscore=-1.609489\n",
      "[LightGBM] [Info] Start training from score -1.609489\n",
      "[LightGBM] [Warning] Unknown parameter: is_unbalanced\n",
      "True Negatives (TN): 33283\n",
      "False Positives (FP): 18\n",
      "False Negatives (FN): 52\n",
      "True Positives (TP): 161\n",
      "Params: num_leaves=20, learning_rate=0.120, num_iterations=100\n",
      " → Optimal Threshold: 0.8250\n",
      " → Recall: 0.7559, Specificity: 0.9995\n",
      "\n",
      "[LightGBM] [Warning] Unknown parameter: is_unbalanced\n"
     ]
    },
    {
     "name": "stderr",
     "output_type": "stream",
     "text": [
      "C:\\Users\\Neil\\AppData\\Roaming\\Python\\Python311\\site-packages\\lightgbm\\engine.py:204: UserWarning: Found `num_iterations` in params. Will use it instead of argument\n",
      "  _log_warning(f\"Found `{alias}` in params. Will use it instead of argument\")\n"
     ]
    },
    {
     "name": "stdout",
     "output_type": "stream",
     "text": [
      "[LightGBM] [Warning] Unknown parameter: is_unbalanced\n",
      "[LightGBM] [Info] Number of positive: 15539, number of negative: 77699\n",
      "[LightGBM] [Info] Auto-choosing row-wise multi-threading, the overhead of testing was 0.041027 seconds.\n",
      "You can set `force_row_wise=true` to remove the overhead.\n",
      "And if memory is not enough, you can set `force_col_wise=true`.\n",
      "[LightGBM] [Info] Total Bins 411\n",
      "[LightGBM] [Info] Number of data points in the train set: 93238, number of used features: 33\n",
      "[LightGBM] [Info] [binary:BoostFromScore]: pavg=0.166660 -> initscore=-1.609489\n",
      "[LightGBM] [Info] Start training from score -1.609489\n",
      "[LightGBM] [Warning] Unknown parameter: is_unbalanced\n",
      "True Negatives (TN): 33296\n",
      "False Positives (FP): 5\n",
      "False Negatives (FN): 64\n",
      "True Positives (TP): 149\n",
      "Params: num_leaves=20, learning_rate=0.120, num_iterations=150\n",
      " → Optimal Threshold: 0.9222\n",
      " → Recall: 0.6995, Specificity: 0.9998\n",
      "\n",
      "[LightGBM] [Warning] Unknown parameter: is_unbalanced\n"
     ]
    },
    {
     "name": "stderr",
     "output_type": "stream",
     "text": [
      "C:\\Users\\Neil\\AppData\\Roaming\\Python\\Python311\\site-packages\\lightgbm\\engine.py:204: UserWarning: Found `num_iterations` in params. Will use it instead of argument\n",
      "  _log_warning(f\"Found `{alias}` in params. Will use it instead of argument\")\n"
     ]
    },
    {
     "name": "stdout",
     "output_type": "stream",
     "text": [
      "[LightGBM] [Warning] Unknown parameter: is_unbalanced\n",
      "[LightGBM] [Info] Number of positive: 15539, number of negative: 77699\n",
      "[LightGBM] [Info] Auto-choosing row-wise multi-threading, the overhead of testing was 0.036425 seconds.\n",
      "You can set `force_row_wise=true` to remove the overhead.\n",
      "And if memory is not enough, you can set `force_col_wise=true`.\n",
      "[LightGBM] [Info] Total Bins 411\n",
      "[LightGBM] [Info] Number of data points in the train set: 93238, number of used features: 33\n",
      "[LightGBM] [Info] [binary:BoostFromScore]: pavg=0.166660 -> initscore=-1.609489\n",
      "[LightGBM] [Info] Start training from score -1.609489\n",
      "[LightGBM] [Warning] Unknown parameter: is_unbalanced\n",
      "True Negatives (TN): 33300\n",
      "False Positives (FP): 1\n",
      "False Negatives (FN): 83\n",
      "True Positives (TP): 130\n",
      "Params: num_leaves=20, learning_rate=0.120, num_iterations=200\n",
      " → Optimal Threshold: 0.9861\n",
      " → Recall: 0.6103, Specificity: 1.0000\n",
      "\n",
      "[LightGBM] [Warning] Unknown parameter: is_unbalanced\n"
     ]
    },
    {
     "name": "stderr",
     "output_type": "stream",
     "text": [
      "C:\\Users\\Neil\\AppData\\Roaming\\Python\\Python311\\site-packages\\lightgbm\\engine.py:204: UserWarning: Found `num_iterations` in params. Will use it instead of argument\n",
      "  _log_warning(f\"Found `{alias}` in params. Will use it instead of argument\")\n"
     ]
    },
    {
     "name": "stdout",
     "output_type": "stream",
     "text": [
      "[LightGBM] [Warning] Unknown parameter: is_unbalanced\n",
      "[LightGBM] [Info] Number of positive: 15539, number of negative: 77699\n",
      "[LightGBM] [Info] Auto-choosing row-wise multi-threading, the overhead of testing was 0.040218 seconds.\n",
      "You can set `force_row_wise=true` to remove the overhead.\n",
      "And if memory is not enough, you can set `force_col_wise=true`.\n",
      "[LightGBM] [Info] Total Bins 411\n",
      "[LightGBM] [Info] Number of data points in the train set: 93238, number of used features: 33\n",
      "[LightGBM] [Info] [binary:BoostFromScore]: pavg=0.166660 -> initscore=-1.609489\n",
      "[LightGBM] [Info] Start training from score -1.609489\n",
      "[LightGBM] [Warning] Unknown parameter: is_unbalanced\n",
      "True Negatives (TN): 33292\n",
      "False Positives (FP): 9\n",
      "False Negatives (FN): 54\n",
      "True Positives (TP): 159\n",
      "Params: num_leaves=20, learning_rate=0.150, num_iterations=50\n",
      " → Optimal Threshold: 0.9153\n",
      " → Recall: 0.7465, Specificity: 0.9997\n",
      "\n"
     ]
    },
    {
     "name": "stderr",
     "output_type": "stream",
     "text": [
      "C:\\Users\\Neil\\AppData\\Roaming\\Python\\Python311\\site-packages\\lightgbm\\engine.py:204: UserWarning: Found `num_iterations` in params. Will use it instead of argument\n",
      "  _log_warning(f\"Found `{alias}` in params. Will use it instead of argument\")\n"
     ]
    },
    {
     "name": "stdout",
     "output_type": "stream",
     "text": [
      "[LightGBM] [Warning] Unknown parameter: is_unbalanced\n",
      "[LightGBM] [Warning] Unknown parameter: is_unbalanced\n",
      "[LightGBM] [Info] Number of positive: 15539, number of negative: 77699\n",
      "[LightGBM] [Info] Auto-choosing row-wise multi-threading, the overhead of testing was 0.039524 seconds.\n",
      "You can set `force_row_wise=true` to remove the overhead.\n",
      "And if memory is not enough, you can set `force_col_wise=true`.\n",
      "[LightGBM] [Info] Total Bins 411\n",
      "[LightGBM] [Info] Number of data points in the train set: 93238, number of used features: 33\n",
      "[LightGBM] [Info] [binary:BoostFromScore]: pavg=0.166660 -> initscore=-1.609489\n",
      "[LightGBM] [Info] Start training from score -1.609489\n",
      "[LightGBM] [Warning] Unknown parameter: is_unbalanced\n",
      "True Negatives (TN): 33293\n",
      "False Positives (FP): 8\n",
      "False Negatives (FN): 57\n",
      "True Positives (TP): 156\n",
      "Params: num_leaves=20, learning_rate=0.150, num_iterations=100\n",
      " → Optimal Threshold: 0.9087\n",
      " → Recall: 0.7324, Specificity: 0.9998\n",
      "\n",
      "[LightGBM] [Warning] Unknown parameter: is_unbalanced\n"
     ]
    },
    {
     "name": "stderr",
     "output_type": "stream",
     "text": [
      "C:\\Users\\Neil\\AppData\\Roaming\\Python\\Python311\\site-packages\\lightgbm\\engine.py:204: UserWarning: Found `num_iterations` in params. Will use it instead of argument\n",
      "  _log_warning(f\"Found `{alias}` in params. Will use it instead of argument\")\n"
     ]
    },
    {
     "name": "stdout",
     "output_type": "stream",
     "text": [
      "[LightGBM] [Warning] Unknown parameter: is_unbalanced\n",
      "[LightGBM] [Info] Number of positive: 15539, number of negative: 77699\n",
      "[LightGBM] [Info] Auto-choosing row-wise multi-threading, the overhead of testing was 0.039602 seconds.\n",
      "You can set `force_row_wise=true` to remove the overhead.\n",
      "And if memory is not enough, you can set `force_col_wise=true`.\n",
      "[LightGBM] [Info] Total Bins 411\n",
      "[LightGBM] [Info] Number of data points in the train set: 93238, number of used features: 33\n",
      "[LightGBM] [Info] [binary:BoostFromScore]: pavg=0.166660 -> initscore=-1.609489\n",
      "[LightGBM] [Info] Start training from score -1.609489\n",
      "[LightGBM] [Warning] Unknown parameter: is_unbalanced\n",
      "True Negatives (TN): 33291\n",
      "False Positives (FP): 10\n",
      "False Negatives (FN): 61\n",
      "True Positives (TP): 152\n",
      "Params: num_leaves=20, learning_rate=0.150, num_iterations=150\n",
      " → Optimal Threshold: 0.8918\n",
      " → Recall: 0.7136, Specificity: 0.9997\n",
      "\n",
      "[LightGBM] [Warning] Unknown parameter: is_unbalanced\n"
     ]
    },
    {
     "name": "stderr",
     "output_type": "stream",
     "text": [
      "C:\\Users\\Neil\\AppData\\Roaming\\Python\\Python311\\site-packages\\lightgbm\\engine.py:204: UserWarning: Found `num_iterations` in params. Will use it instead of argument\n",
      "  _log_warning(f\"Found `{alias}` in params. Will use it instead of argument\")\n"
     ]
    },
    {
     "name": "stdout",
     "output_type": "stream",
     "text": [
      "[LightGBM] [Warning] Unknown parameter: is_unbalanced\n",
      "[LightGBM] [Info] Number of positive: 15539, number of negative: 77699\n",
      "[LightGBM] [Info] Auto-choosing row-wise multi-threading, the overhead of testing was 0.042611 seconds.\n",
      "You can set `force_row_wise=true` to remove the overhead.\n",
      "And if memory is not enough, you can set `force_col_wise=true`.\n",
      "[LightGBM] [Info] Total Bins 411\n",
      "[LightGBM] [Info] Number of data points in the train set: 93238, number of used features: 33\n",
      "[LightGBM] [Info] [binary:BoostFromScore]: pavg=0.166660 -> initscore=-1.609489\n",
      "[LightGBM] [Info] Start training from score -1.609489\n",
      "[LightGBM] [Warning] Unknown parameter: is_unbalanced\n",
      "True Negatives (TN): 33291\n",
      "False Positives (FP): 10\n",
      "False Negatives (FN): 63\n",
      "True Positives (TP): 150\n",
      "Params: num_leaves=20, learning_rate=0.150, num_iterations=200\n",
      " → Optimal Threshold: 0.8840\n",
      " → Recall: 0.7042, Specificity: 0.9997\n",
      "\n",
      "[LightGBM] [Warning] Unknown parameter: is_unbalanced\n"
     ]
    },
    {
     "name": "stderr",
     "output_type": "stream",
     "text": [
      "C:\\Users\\Neil\\AppData\\Roaming\\Python\\Python311\\site-packages\\lightgbm\\engine.py:204: UserWarning: Found `num_iterations` in params. Will use it instead of argument\n",
      "  _log_warning(f\"Found `{alias}` in params. Will use it instead of argument\")\n"
     ]
    },
    {
     "name": "stdout",
     "output_type": "stream",
     "text": [
      "[LightGBM] [Warning] Unknown parameter: is_unbalanced\n",
      "[LightGBM] [Info] Number of positive: 15539, number of negative: 77699\n",
      "[LightGBM] [Info] Auto-choosing row-wise multi-threading, the overhead of testing was 0.033468 seconds.\n",
      "You can set `force_row_wise=true` to remove the overhead.\n",
      "And if memory is not enough, you can set `force_col_wise=true`.\n",
      "[LightGBM] [Info] Total Bins 411\n",
      "[LightGBM] [Info] Number of data points in the train set: 93238, number of used features: 33\n",
      "[LightGBM] [Info] [binary:BoostFromScore]: pavg=0.166660 -> initscore=-1.609489\n",
      "[LightGBM] [Info] Start training from score -1.609489\n",
      "[LightGBM] [Warning] Unknown parameter: is_unbalanced\n",
      "True Negatives (TN): 33282\n",
      "False Positives (FP): 19\n",
      "False Negatives (FN): 52\n",
      "True Positives (TP): 161\n",
      "Params: num_leaves=40, learning_rate=0.030, num_iterations=50\n",
      " → Optimal Threshold: 0.7708\n",
      " → Recall: 0.7559, Specificity: 0.9994\n",
      "\n",
      "[LightGBM] [Warning] Unknown parameter: is_unbalanced\n"
     ]
    },
    {
     "name": "stderr",
     "output_type": "stream",
     "text": [
      "C:\\Users\\Neil\\AppData\\Roaming\\Python\\Python311\\site-packages\\lightgbm\\engine.py:204: UserWarning: Found `num_iterations` in params. Will use it instead of argument\n",
      "  _log_warning(f\"Found `{alias}` in params. Will use it instead of argument\")\n"
     ]
    },
    {
     "name": "stdout",
     "output_type": "stream",
     "text": [
      "[LightGBM] [Warning] Unknown parameter: is_unbalanced\n",
      "[LightGBM] [Info] Number of positive: 15539, number of negative: 77699\n",
      "[LightGBM] [Info] Auto-choosing row-wise multi-threading, the overhead of testing was 0.039737 seconds.\n",
      "You can set `force_row_wise=true` to remove the overhead.\n",
      "And if memory is not enough, you can set `force_col_wise=true`.\n",
      "[LightGBM] [Info] Total Bins 411\n",
      "[LightGBM] [Info] Number of data points in the train set: 93238, number of used features: 33\n",
      "[LightGBM] [Info] [binary:BoostFromScore]: pavg=0.166660 -> initscore=-1.609489\n",
      "[LightGBM] [Info] Start training from score -1.609489\n",
      "[LightGBM] [Warning] Unknown parameter: is_unbalanced\n",
      "True Negatives (TN): 33289\n",
      "False Positives (FP): 12\n",
      "False Negatives (FN): 55\n",
      "True Positives (TP): 158\n",
      "Params: num_leaves=40, learning_rate=0.030, num_iterations=100\n",
      " → Optimal Threshold: 0.8768\n",
      " → Recall: 0.7418, Specificity: 0.9996\n",
      "\n",
      "[LightGBM] [Warning] Unknown parameter: is_unbalanced\n"
     ]
    },
    {
     "name": "stderr",
     "output_type": "stream",
     "text": [
      "C:\\Users\\Neil\\AppData\\Roaming\\Python\\Python311\\site-packages\\lightgbm\\engine.py:204: UserWarning: Found `num_iterations` in params. Will use it instead of argument\n",
      "  _log_warning(f\"Found `{alias}` in params. Will use it instead of argument\")\n"
     ]
    },
    {
     "name": "stdout",
     "output_type": "stream",
     "text": [
      "[LightGBM] [Warning] Unknown parameter: is_unbalanced\n",
      "[LightGBM] [Info] Number of positive: 15539, number of negative: 77699\n",
      "[LightGBM] [Info] Auto-choosing row-wise multi-threading, the overhead of testing was 0.041255 seconds.\n",
      "You can set `force_row_wise=true` to remove the overhead.\n",
      "And if memory is not enough, you can set `force_col_wise=true`.\n",
      "[LightGBM] [Info] Total Bins 411\n",
      "[LightGBM] [Info] Number of data points in the train set: 93238, number of used features: 33\n",
      "[LightGBM] [Info] [binary:BoostFromScore]: pavg=0.166660 -> initscore=-1.609489\n",
      "[LightGBM] [Info] Start training from score -1.609489\n",
      "[LightGBM] [Warning] Unknown parameter: is_unbalanced\n",
      "True Negatives (TN): 33285\n",
      "False Positives (FP): 16\n",
      "False Negatives (FN): 52\n",
      "True Positives (TP): 161\n",
      "Params: num_leaves=40, learning_rate=0.030, num_iterations=150\n",
      " → Optimal Threshold: 0.8734\n",
      " → Recall: 0.7559, Specificity: 0.9995\n",
      "\n",
      "[LightGBM] [Warning] Unknown parameter: is_unbalanced\n"
     ]
    },
    {
     "name": "stderr",
     "output_type": "stream",
     "text": [
      "C:\\Users\\Neil\\AppData\\Roaming\\Python\\Python311\\site-packages\\lightgbm\\engine.py:204: UserWarning: Found `num_iterations` in params. Will use it instead of argument\n",
      "  _log_warning(f\"Found `{alias}` in params. Will use it instead of argument\")\n"
     ]
    },
    {
     "name": "stdout",
     "output_type": "stream",
     "text": [
      "[LightGBM] [Warning] Unknown parameter: is_unbalanced\n",
      "[LightGBM] [Info] Number of positive: 15539, number of negative: 77699\n",
      "[LightGBM] [Info] Auto-choosing row-wise multi-threading, the overhead of testing was 0.041144 seconds.\n",
      "You can set `force_row_wise=true` to remove the overhead.\n",
      "And if memory is not enough, you can set `force_col_wise=true`.\n",
      "[LightGBM] [Info] Total Bins 411\n",
      "[LightGBM] [Info] Number of data points in the train set: 93238, number of used features: 33\n",
      "[LightGBM] [Info] [binary:BoostFromScore]: pavg=0.166660 -> initscore=-1.609489\n",
      "[LightGBM] [Info] Start training from score -1.609489\n",
      "[LightGBM] [Warning] Unknown parameter: is_unbalanced\n",
      "True Negatives (TN): 33285\n",
      "False Positives (FP): 16\n",
      "False Negatives (FN): 53\n",
      "True Positives (TP): 160\n",
      "Params: num_leaves=40, learning_rate=0.030, num_iterations=200\n",
      " → Optimal Threshold: 0.8877\n",
      " → Recall: 0.7512, Specificity: 0.9995\n",
      "\n",
      "[LightGBM] [Warning] Unknown parameter: is_unbalanced\n"
     ]
    },
    {
     "name": "stderr",
     "output_type": "stream",
     "text": [
      "C:\\Users\\Neil\\AppData\\Roaming\\Python\\Python311\\site-packages\\lightgbm\\engine.py:204: UserWarning: Found `num_iterations` in params. Will use it instead of argument\n",
      "  _log_warning(f\"Found `{alias}` in params. Will use it instead of argument\")\n"
     ]
    },
    {
     "name": "stdout",
     "output_type": "stream",
     "text": [
      "[LightGBM] [Warning] Unknown parameter: is_unbalanced\n",
      "[LightGBM] [Info] Number of positive: 15539, number of negative: 77699\n",
      "[LightGBM] [Info] Auto-choosing row-wise multi-threading, the overhead of testing was 0.041027 seconds.\n",
      "You can set `force_row_wise=true` to remove the overhead.\n",
      "And if memory is not enough, you can set `force_col_wise=true`.\n",
      "[LightGBM] [Info] Total Bins 411\n",
      "[LightGBM] [Info] Number of data points in the train set: 93238, number of used features: 33\n",
      "[LightGBM] [Info] [binary:BoostFromScore]: pavg=0.166660 -> initscore=-1.609489\n",
      "[LightGBM] [Info] Start training from score -1.609489\n",
      "[LightGBM] [Warning] Unknown parameter: is_unbalanced\n",
      "True Negatives (TN): 33284\n",
      "False Positives (FP): 17\n",
      "False Negatives (FN): 54\n",
      "True Positives (TP): 159\n",
      "Params: num_leaves=40, learning_rate=0.060, num_iterations=50\n",
      " → Optimal Threshold: 0.8542\n",
      " → Recall: 0.7465, Specificity: 0.9995\n",
      "\n"
     ]
    },
    {
     "name": "stderr",
     "output_type": "stream",
     "text": [
      "C:\\Users\\Neil\\AppData\\Roaming\\Python\\Python311\\site-packages\\lightgbm\\engine.py:204: UserWarning: Found `num_iterations` in params. Will use it instead of argument\n",
      "  _log_warning(f\"Found `{alias}` in params. Will use it instead of argument\")\n"
     ]
    },
    {
     "name": "stdout",
     "output_type": "stream",
     "text": [
      "[LightGBM] [Warning] Unknown parameter: is_unbalanced\n",
      "[LightGBM] [Warning] Unknown parameter: is_unbalanced\n",
      "[LightGBM] [Info] Number of positive: 15539, number of negative: 77699\n",
      "[LightGBM] [Info] Auto-choosing row-wise multi-threading, the overhead of testing was 0.038954 seconds.\n",
      "You can set `force_row_wise=true` to remove the overhead.\n",
      "And if memory is not enough, you can set `force_col_wise=true`.\n",
      "[LightGBM] [Info] Total Bins 411\n",
      "[LightGBM] [Info] Number of data points in the train set: 93238, number of used features: 33\n",
      "[LightGBM] [Info] [binary:BoostFromScore]: pavg=0.166660 -> initscore=-1.609489\n",
      "[LightGBM] [Info] Start training from score -1.609489\n",
      "[LightGBM] [Warning] Unknown parameter: is_unbalanced\n",
      "True Negatives (TN): 33284\n",
      "False Positives (FP): 17\n",
      "False Negatives (FN): 51\n",
      "True Positives (TP): 162\n",
      "Params: num_leaves=40, learning_rate=0.060, num_iterations=100\n",
      " → Optimal Threshold: 0.8748\n",
      " → Recall: 0.7606, Specificity: 0.9995\n",
      "\n",
      "[LightGBM] [Warning] Unknown parameter: is_unbalanced\n"
     ]
    },
    {
     "name": "stderr",
     "output_type": "stream",
     "text": [
      "C:\\Users\\Neil\\AppData\\Roaming\\Python\\Python311\\site-packages\\lightgbm\\engine.py:204: UserWarning: Found `num_iterations` in params. Will use it instead of argument\n",
      "  _log_warning(f\"Found `{alias}` in params. Will use it instead of argument\")\n"
     ]
    },
    {
     "name": "stdout",
     "output_type": "stream",
     "text": [
      "[LightGBM] [Warning] Unknown parameter: is_unbalanced\n",
      "[LightGBM] [Info] Number of positive: 15539, number of negative: 77699\n",
      "[LightGBM] [Info] Auto-choosing row-wise multi-threading, the overhead of testing was 0.035119 seconds.\n",
      "You can set `force_row_wise=true` to remove the overhead.\n",
      "And if memory is not enough, you can set `force_col_wise=true`.\n",
      "[LightGBM] [Info] Total Bins 411\n",
      "[LightGBM] [Info] Number of data points in the train set: 93238, number of used features: 33\n",
      "[LightGBM] [Info] [binary:BoostFromScore]: pavg=0.166660 -> initscore=-1.609489\n",
      "[LightGBM] [Info] Start training from score -1.609489\n",
      "[LightGBM] [Warning] Unknown parameter: is_unbalanced\n",
      "True Negatives (TN): 33286\n",
      "False Positives (FP): 15\n",
      "False Negatives (FN): 54\n",
      "True Positives (TP): 159\n",
      "Params: num_leaves=40, learning_rate=0.060, num_iterations=150\n",
      " → Optimal Threshold: 0.8712\n",
      " → Recall: 0.7465, Specificity: 0.9995\n",
      "\n",
      "[LightGBM] [Warning] Unknown parameter: is_unbalanced\n"
     ]
    },
    {
     "name": "stderr",
     "output_type": "stream",
     "text": [
      "C:\\Users\\Neil\\AppData\\Roaming\\Python\\Python311\\site-packages\\lightgbm\\engine.py:204: UserWarning: Found `num_iterations` in params. Will use it instead of argument\n",
      "  _log_warning(f\"Found `{alias}` in params. Will use it instead of argument\")\n"
     ]
    },
    {
     "name": "stdout",
     "output_type": "stream",
     "text": [
      "[LightGBM] [Warning] Unknown parameter: is_unbalanced\n",
      "[LightGBM] [Info] Number of positive: 15539, number of negative: 77699\n",
      "[LightGBM] [Info] Auto-choosing row-wise multi-threading, the overhead of testing was 0.042125 seconds.\n",
      "You can set `force_row_wise=true` to remove the overhead.\n",
      "And if memory is not enough, you can set `force_col_wise=true`.\n",
      "[LightGBM] [Info] Total Bins 411\n",
      "[LightGBM] [Info] Number of data points in the train set: 93238, number of used features: 33\n",
      "[LightGBM] [Info] [binary:BoostFromScore]: pavg=0.166660 -> initscore=-1.609489\n",
      "[LightGBM] [Info] Start training from score -1.609489\n",
      "[LightGBM] [Warning] Unknown parameter: is_unbalanced\n",
      "True Negatives (TN): 33294\n",
      "False Positives (FP): 7\n",
      "False Negatives (FN): 62\n",
      "True Positives (TP): 151\n",
      "Params: num_leaves=40, learning_rate=0.060, num_iterations=200\n",
      " → Optimal Threshold: 0.9175\n",
      " → Recall: 0.7089, Specificity: 0.9998\n",
      "\n",
      "[LightGBM] [Warning] Unknown parameter: is_unbalanced\n"
     ]
    },
    {
     "name": "stderr",
     "output_type": "stream",
     "text": [
      "C:\\Users\\Neil\\AppData\\Roaming\\Python\\Python311\\site-packages\\lightgbm\\engine.py:204: UserWarning: Found `num_iterations` in params. Will use it instead of argument\n",
      "  _log_warning(f\"Found `{alias}` in params. Will use it instead of argument\")\n"
     ]
    },
    {
     "name": "stdout",
     "output_type": "stream",
     "text": [
      "[LightGBM] [Warning] Unknown parameter: is_unbalanced\n",
      "[LightGBM] [Info] Number of positive: 15539, number of negative: 77699\n",
      "[LightGBM] [Info] Auto-choosing row-wise multi-threading, the overhead of testing was 0.041382 seconds.\n",
      "You can set `force_row_wise=true` to remove the overhead.\n",
      "And if memory is not enough, you can set `force_col_wise=true`.\n",
      "[LightGBM] [Info] Total Bins 411\n",
      "[LightGBM] [Info] Number of data points in the train set: 93238, number of used features: 33\n",
      "[LightGBM] [Info] [binary:BoostFromScore]: pavg=0.166660 -> initscore=-1.609489\n",
      "[LightGBM] [Info] Start training from score -1.609489\n",
      "[LightGBM] [Warning] Unknown parameter: is_unbalanced\n",
      "True Negatives (TN): 33275\n",
      "False Positives (FP): 26\n",
      "False Negatives (FN): 46\n",
      "True Positives (TP): 167\n",
      "Params: num_leaves=40, learning_rate=0.090, num_iterations=50\n",
      " → Optimal Threshold: 0.8244\n",
      " → Recall: 0.7840, Specificity: 0.9992\n",
      "\n"
     ]
    },
    {
     "name": "stderr",
     "output_type": "stream",
     "text": [
      "C:\\Users\\Neil\\AppData\\Roaming\\Python\\Python311\\site-packages\\lightgbm\\engine.py:204: UserWarning: Found `num_iterations` in params. Will use it instead of argument\n",
      "  _log_warning(f\"Found `{alias}` in params. Will use it instead of argument\")\n"
     ]
    },
    {
     "name": "stdout",
     "output_type": "stream",
     "text": [
      "[LightGBM] [Warning] Unknown parameter: is_unbalanced\n",
      "[LightGBM] [Warning] Unknown parameter: is_unbalanced\n",
      "[LightGBM] [Info] Number of positive: 15539, number of negative: 77699\n",
      "[LightGBM] [Info] Auto-choosing row-wise multi-threading, the overhead of testing was 0.036275 seconds.\n",
      "You can set `force_row_wise=true` to remove the overhead.\n",
      "And if memory is not enough, you can set `force_col_wise=true`.\n",
      "[LightGBM] [Info] Total Bins 411\n",
      "[LightGBM] [Info] Number of data points in the train set: 93238, number of used features: 33\n",
      "[LightGBM] [Info] [binary:BoostFromScore]: pavg=0.166660 -> initscore=-1.609489\n",
      "[LightGBM] [Info] Start training from score -1.609489\n",
      "[LightGBM] [Warning] Unknown parameter: is_unbalanced\n",
      "True Negatives (TN): 33293\n",
      "False Positives (FP): 8\n",
      "False Negatives (FN): 57\n",
      "True Positives (TP): 156\n",
      "Params: num_leaves=40, learning_rate=0.090, num_iterations=100\n",
      " → Optimal Threshold: 0.9180\n",
      " → Recall: 0.7324, Specificity: 0.9998\n",
      "\n",
      "[LightGBM] [Warning] Unknown parameter: is_unbalanced\n"
     ]
    },
    {
     "name": "stderr",
     "output_type": "stream",
     "text": [
      "C:\\Users\\Neil\\AppData\\Roaming\\Python\\Python311\\site-packages\\lightgbm\\engine.py:204: UserWarning: Found `num_iterations` in params. Will use it instead of argument\n",
      "  _log_warning(f\"Found `{alias}` in params. Will use it instead of argument\")\n"
     ]
    },
    {
     "name": "stdout",
     "output_type": "stream",
     "text": [
      "[LightGBM] [Warning] Unknown parameter: is_unbalanced\n",
      "[LightGBM] [Info] Number of positive: 15539, number of negative: 77699\n",
      "[LightGBM] [Info] Auto-choosing row-wise multi-threading, the overhead of testing was 0.043971 seconds.\n",
      "You can set `force_row_wise=true` to remove the overhead.\n",
      "And if memory is not enough, you can set `force_col_wise=true`.\n",
      "[LightGBM] [Info] Total Bins 411\n",
      "[LightGBM] [Info] Number of data points in the train set: 93238, number of used features: 33\n",
      "[LightGBM] [Info] [binary:BoostFromScore]: pavg=0.166660 -> initscore=-1.609489\n",
      "[LightGBM] [Info] Start training from score -1.609489\n",
      "[LightGBM] [Warning] Unknown parameter: is_unbalanced\n",
      "True Negatives (TN): 33296\n",
      "False Positives (FP): 5\n",
      "False Negatives (FN): 64\n",
      "True Positives (TP): 149\n",
      "Params: num_leaves=40, learning_rate=0.090, num_iterations=150\n",
      " → Optimal Threshold: 0.9411\n",
      " → Recall: 0.6995, Specificity: 0.9998\n",
      "\n",
      "[LightGBM] [Warning] Unknown parameter: is_unbalanced\n"
     ]
    },
    {
     "name": "stderr",
     "output_type": "stream",
     "text": [
      "C:\\Users\\Neil\\AppData\\Roaming\\Python\\Python311\\site-packages\\lightgbm\\engine.py:204: UserWarning: Found `num_iterations` in params. Will use it instead of argument\n",
      "  _log_warning(f\"Found `{alias}` in params. Will use it instead of argument\")\n"
     ]
    },
    {
     "name": "stdout",
     "output_type": "stream",
     "text": [
      "[LightGBM] [Warning] Unknown parameter: is_unbalanced\n",
      "[LightGBM] [Info] Number of positive: 15539, number of negative: 77699\n",
      "[LightGBM] [Info] Auto-choosing row-wise multi-threading, the overhead of testing was 0.039251 seconds.\n",
      "You can set `force_row_wise=true` to remove the overhead.\n",
      "And if memory is not enough, you can set `force_col_wise=true`.\n",
      "[LightGBM] [Info] Total Bins 411\n",
      "[LightGBM] [Info] Number of data points in the train set: 93238, number of used features: 33\n",
      "[LightGBM] [Info] [binary:BoostFromScore]: pavg=0.166660 -> initscore=-1.609489\n",
      "[LightGBM] [Info] Start training from score -1.609489\n",
      "[LightGBM] [Warning] Unknown parameter: is_unbalanced\n",
      "True Negatives (TN): 33295\n",
      "False Positives (FP): 6\n",
      "False Negatives (FN): 65\n",
      "True Positives (TP): 148\n",
      "Params: num_leaves=40, learning_rate=0.090, num_iterations=200\n",
      " → Optimal Threshold: 0.9413\n",
      " → Recall: 0.6948, Specificity: 0.9998\n",
      "\n",
      "[LightGBM] [Warning] Unknown parameter: is_unbalanced\n"
     ]
    },
    {
     "name": "stderr",
     "output_type": "stream",
     "text": [
      "C:\\Users\\Neil\\AppData\\Roaming\\Python\\Python311\\site-packages\\lightgbm\\engine.py:204: UserWarning: Found `num_iterations` in params. Will use it instead of argument\n",
      "  _log_warning(f\"Found `{alias}` in params. Will use it instead of argument\")\n"
     ]
    },
    {
     "name": "stdout",
     "output_type": "stream",
     "text": [
      "[LightGBM] [Warning] Unknown parameter: is_unbalanced\n",
      "[LightGBM] [Info] Number of positive: 15539, number of negative: 77699\n",
      "[LightGBM] [Info] Auto-choosing row-wise multi-threading, the overhead of testing was 0.044496 seconds.\n",
      "You can set `force_row_wise=true` to remove the overhead.\n",
      "And if memory is not enough, you can set `force_col_wise=true`.\n",
      "[LightGBM] [Info] Total Bins 411\n",
      "[LightGBM] [Info] Number of data points in the train set: 93238, number of used features: 33\n",
      "[LightGBM] [Info] [binary:BoostFromScore]: pavg=0.166660 -> initscore=-1.609489\n",
      "[LightGBM] [Info] Start training from score -1.609489\n",
      "[LightGBM] [Warning] Unknown parameter: is_unbalanced\n",
      "True Negatives (TN): 33288\n",
      "False Positives (FP): 13\n",
      "False Negatives (FN): 55\n",
      "True Positives (TP): 158\n",
      "Params: num_leaves=40, learning_rate=0.120, num_iterations=50\n",
      " → Optimal Threshold: 0.8983\n",
      " → Recall: 0.7418, Specificity: 0.9996\n",
      "\n"
     ]
    },
    {
     "name": "stderr",
     "output_type": "stream",
     "text": [
      "C:\\Users\\Neil\\AppData\\Roaming\\Python\\Python311\\site-packages\\lightgbm\\engine.py:204: UserWarning: Found `num_iterations` in params. Will use it instead of argument\n",
      "  _log_warning(f\"Found `{alias}` in params. Will use it instead of argument\")\n"
     ]
    },
    {
     "name": "stdout",
     "output_type": "stream",
     "text": [
      "[LightGBM] [Warning] Unknown parameter: is_unbalanced\n",
      "[LightGBM] [Warning] Unknown parameter: is_unbalanced\n",
      "[LightGBM] [Info] Number of positive: 15539, number of negative: 77699\n",
      "[LightGBM] [Info] Auto-choosing row-wise multi-threading, the overhead of testing was 0.038445 seconds.\n",
      "You can set `force_row_wise=true` to remove the overhead.\n",
      "And if memory is not enough, you can set `force_col_wise=true`.\n",
      "[LightGBM] [Info] Total Bins 411\n",
      "[LightGBM] [Info] Number of data points in the train set: 93238, number of used features: 33\n",
      "[LightGBM] [Info] [binary:BoostFromScore]: pavg=0.166660 -> initscore=-1.609489\n",
      "[LightGBM] [Info] Start training from score -1.609489\n",
      "[LightGBM] [Warning] Unknown parameter: is_unbalanced\n",
      "True Negatives (TN): 33297\n",
      "False Positives (FP): 4\n",
      "False Negatives (FN): 64\n",
      "True Positives (TP): 149\n",
      "Params: num_leaves=40, learning_rate=0.120, num_iterations=100\n",
      " → Optimal Threshold: 0.9365\n",
      " → Recall: 0.6995, Specificity: 0.9999\n",
      "\n",
      "[LightGBM] [Warning] Unknown parameter: is_unbalanced\n"
     ]
    },
    {
     "name": "stderr",
     "output_type": "stream",
     "text": [
      "C:\\Users\\Neil\\AppData\\Roaming\\Python\\Python311\\site-packages\\lightgbm\\engine.py:204: UserWarning: Found `num_iterations` in params. Will use it instead of argument\n",
      "  _log_warning(f\"Found `{alias}` in params. Will use it instead of argument\")\n"
     ]
    },
    {
     "name": "stdout",
     "output_type": "stream",
     "text": [
      "[LightGBM] [Warning] Unknown parameter: is_unbalanced\n",
      "[LightGBM] [Info] Number of positive: 15539, number of negative: 77699\n",
      "[LightGBM] [Info] Auto-choosing row-wise multi-threading, the overhead of testing was 0.031460 seconds.\n",
      "You can set `force_row_wise=true` to remove the overhead.\n",
      "And if memory is not enough, you can set `force_col_wise=true`.\n",
      "[LightGBM] [Info] Total Bins 411\n",
      "[LightGBM] [Info] Number of data points in the train set: 93238, number of used features: 33\n",
      "[LightGBM] [Info] [binary:BoostFromScore]: pavg=0.166660 -> initscore=-1.609489\n",
      "[LightGBM] [Info] Start training from score -1.609489\n",
      "[LightGBM] [Warning] Unknown parameter: is_unbalanced\n",
      "True Negatives (TN): 33296\n",
      "False Positives (FP): 5\n",
      "False Negatives (FN): 63\n",
      "True Positives (TP): 150\n",
      "Params: num_leaves=40, learning_rate=0.120, num_iterations=150\n",
      " → Optimal Threshold: 0.9247\n",
      " → Recall: 0.7042, Specificity: 0.9998\n",
      "\n",
      "[LightGBM] [Warning] Unknown parameter: is_unbalanced\n"
     ]
    },
    {
     "name": "stderr",
     "output_type": "stream",
     "text": [
      "C:\\Users\\Neil\\AppData\\Roaming\\Python\\Python311\\site-packages\\lightgbm\\engine.py:204: UserWarning: Found `num_iterations` in params. Will use it instead of argument\n",
      "  _log_warning(f\"Found `{alias}` in params. Will use it instead of argument\")\n"
     ]
    },
    {
     "name": "stdout",
     "output_type": "stream",
     "text": [
      "[LightGBM] [Warning] Unknown parameter: is_unbalanced\n",
      "[LightGBM] [Info] Number of positive: 15539, number of negative: 77699\n",
      "[LightGBM] [Info] Auto-choosing row-wise multi-threading, the overhead of testing was 0.037110 seconds.\n",
      "You can set `force_row_wise=true` to remove the overhead.\n",
      "And if memory is not enough, you can set `force_col_wise=true`.\n",
      "[LightGBM] [Info] Total Bins 411\n",
      "[LightGBM] [Info] Number of data points in the train set: 93238, number of used features: 33\n",
      "[LightGBM] [Info] [binary:BoostFromScore]: pavg=0.166660 -> initscore=-1.609489\n",
      "[LightGBM] [Info] Start training from score -1.609489\n",
      "[LightGBM] [Warning] Unknown parameter: is_unbalanced\n",
      "True Negatives (TN): 33293\n",
      "False Positives (FP): 8\n",
      "False Negatives (FN): 64\n",
      "True Positives (TP): 149\n",
      "Params: num_leaves=40, learning_rate=0.120, num_iterations=200\n",
      " → Optimal Threshold: 0.9193\n",
      " → Recall: 0.6995, Specificity: 0.9998\n",
      "\n",
      "[LightGBM] [Warning] Unknown parameter: is_unbalanced\n"
     ]
    },
    {
     "name": "stderr",
     "output_type": "stream",
     "text": [
      "C:\\Users\\Neil\\AppData\\Roaming\\Python\\Python311\\site-packages\\lightgbm\\engine.py:204: UserWarning: Found `num_iterations` in params. Will use it instead of argument\n",
      "  _log_warning(f\"Found `{alias}` in params. Will use it instead of argument\")\n"
     ]
    },
    {
     "name": "stdout",
     "output_type": "stream",
     "text": [
      "[LightGBM] [Warning] Unknown parameter: is_unbalanced\n",
      "[LightGBM] [Info] Number of positive: 15539, number of negative: 77699\n",
      "[LightGBM] [Info] Auto-choosing row-wise multi-threading, the overhead of testing was 0.038981 seconds.\n",
      "You can set `force_row_wise=true` to remove the overhead.\n",
      "And if memory is not enough, you can set `force_col_wise=true`.\n",
      "[LightGBM] [Info] Total Bins 411\n",
      "[LightGBM] [Info] Number of data points in the train set: 93238, number of used features: 33\n",
      "[LightGBM] [Info] [binary:BoostFromScore]: pavg=0.166660 -> initscore=-1.609489\n",
      "[LightGBM] [Info] Start training from score -1.609489\n",
      "[LightGBM] [Warning] Unknown parameter: is_unbalanced\n",
      "True Negatives (TN): 33288\n",
      "False Positives (FP): 13\n",
      "False Negatives (FN): 53\n",
      "True Positives (TP): 160\n",
      "Params: num_leaves=40, learning_rate=0.150, num_iterations=50\n",
      " → Optimal Threshold: 0.8769\n",
      " → Recall: 0.7512, Specificity: 0.9996\n",
      "\n",
      "[LightGBM] [Warning] Unknown parameter: is_unbalanced\n"
     ]
    },
    {
     "name": "stderr",
     "output_type": "stream",
     "text": [
      "C:\\Users\\Neil\\AppData\\Roaming\\Python\\Python311\\site-packages\\lightgbm\\engine.py:204: UserWarning: Found `num_iterations` in params. Will use it instead of argument\n",
      "  _log_warning(f\"Found `{alias}` in params. Will use it instead of argument\")\n"
     ]
    },
    {
     "name": "stdout",
     "output_type": "stream",
     "text": [
      "[LightGBM] [Warning] Unknown parameter: is_unbalanced\n",
      "[LightGBM] [Info] Number of positive: 15539, number of negative: 77699\n",
      "[LightGBM] [Info] Auto-choosing row-wise multi-threading, the overhead of testing was 0.041970 seconds.\n",
      "You can set `force_row_wise=true` to remove the overhead.\n",
      "And if memory is not enough, you can set `force_col_wise=true`.\n",
      "[LightGBM] [Info] Total Bins 411\n",
      "[LightGBM] [Info] Number of data points in the train set: 93238, number of used features: 33\n",
      "[LightGBM] [Info] [binary:BoostFromScore]: pavg=0.166660 -> initscore=-1.609489\n",
      "[LightGBM] [Info] Start training from score -1.609489\n",
      "[LightGBM] [Warning] Unknown parameter: is_unbalanced\n"
     ]
    },
    {
     "name": "stderr",
     "output_type": "stream",
     "text": [
      "C:\\Users\\Neil\\AppData\\Local\\Temp\\ipykernel_17260\\1605550589.py:59: RuntimeWarning: invalid value encountered in divide\n",
      "  f1_scores = 2 * (precision * recall_arr) / (precision + recall_arr)  # Avoid divide-by-zero\n",
      "C:\\Users\\Neil\\AppData\\Roaming\\Python\\Python311\\site-packages\\lightgbm\\engine.py:204: UserWarning: Found `num_iterations` in params. Will use it instead of argument\n",
      "  _log_warning(f\"Found `{alias}` in params. Will use it instead of argument\")\n"
     ]
    },
    {
     "name": "stdout",
     "output_type": "stream",
     "text": [
      "True Negatives (TN): 33300\n",
      "False Positives (FP): 1\n",
      "False Negatives (FN): 213\n",
      "True Positives (TP): 0\n",
      "Params: num_leaves=40, learning_rate=0.150, num_iterations=100\n",
      " → Optimal Threshold: 1.0000\n",
      " → Recall: 0.0000, Specificity: 1.0000\n",
      "\n",
      "[LightGBM] [Warning] Unknown parameter: is_unbalanced\n",
      "[LightGBM] [Warning] Unknown parameter: is_unbalanced\n",
      "[LightGBM] [Info] Number of positive: 15539, number of negative: 77699\n",
      "[LightGBM] [Info] Auto-choosing row-wise multi-threading, the overhead of testing was 0.107117 seconds.\n",
      "You can set `force_row_wise=true` to remove the overhead.\n",
      "And if memory is not enough, you can set `force_col_wise=true`.\n",
      "[LightGBM] [Info] Total Bins 411\n",
      "[LightGBM] [Info] Number of data points in the train set: 93238, number of used features: 33\n",
      "[LightGBM] [Info] [binary:BoostFromScore]: pavg=0.166660 -> initscore=-1.609489\n",
      "[LightGBM] [Info] Start training from score -1.609489\n",
      "[LightGBM] [Warning] Unknown parameter: is_unbalanced\n"
     ]
    },
    {
     "name": "stderr",
     "output_type": "stream",
     "text": [
      "C:\\Users\\Neil\\AppData\\Local\\Temp\\ipykernel_17260\\1605550589.py:59: RuntimeWarning: invalid value encountered in divide\n",
      "  f1_scores = 2 * (precision * recall_arr) / (precision + recall_arr)  # Avoid divide-by-zero\n",
      "C:\\Users\\Neil\\AppData\\Roaming\\Python\\Python311\\site-packages\\lightgbm\\engine.py:204: UserWarning: Found `num_iterations` in params. Will use it instead of argument\n",
      "  _log_warning(f\"Found `{alias}` in params. Will use it instead of argument\")\n"
     ]
    },
    {
     "name": "stdout",
     "output_type": "stream",
     "text": [
      "True Negatives (TN): 33300\n",
      "False Positives (FP): 1\n",
      "False Negatives (FN): 213\n",
      "True Positives (TP): 0\n",
      "Params: num_leaves=40, learning_rate=0.150, num_iterations=150\n",
      " → Optimal Threshold: 1.0000\n",
      " → Recall: 0.0000, Specificity: 1.0000\n",
      "\n",
      "[LightGBM] [Warning] Unknown parameter: is_unbalanced\n",
      "[LightGBM] [Warning] Unknown parameter: is_unbalanced\n",
      "[LightGBM] [Info] Number of positive: 15539, number of negative: 77699\n",
      "[LightGBM] [Info] Auto-choosing row-wise multi-threading, the overhead of testing was 0.040481 seconds.\n",
      "You can set `force_row_wise=true` to remove the overhead.\n",
      "And if memory is not enough, you can set `force_col_wise=true`.\n",
      "[LightGBM] [Info] Total Bins 411\n",
      "[LightGBM] [Info] Number of data points in the train set: 93238, number of used features: 33\n",
      "[LightGBM] [Info] [binary:BoostFromScore]: pavg=0.166660 -> initscore=-1.609489\n",
      "[LightGBM] [Info] Start training from score -1.609489\n",
      "[LightGBM] [Warning] Unknown parameter: is_unbalanced\n",
      "True Negatives (TN): 33293\n",
      "False Positives (FP): 8\n",
      "False Negatives (FN): 64\n",
      "True Positives (TP): 149\n",
      "Params: num_leaves=40, learning_rate=0.150, num_iterations=200\n",
      " → Optimal Threshold: 0.9622\n",
      " → Recall: 0.6995, Specificity: 0.9998\n",
      "\n",
      "[LightGBM] [Warning] Unknown parameter: is_unbalanced\n"
     ]
    },
    {
     "name": "stderr",
     "output_type": "stream",
     "text": [
      "C:\\Users\\Neil\\AppData\\Roaming\\Python\\Python311\\site-packages\\lightgbm\\engine.py:204: UserWarning: Found `num_iterations` in params. Will use it instead of argument\n",
      "  _log_warning(f\"Found `{alias}` in params. Will use it instead of argument\")\n"
     ]
    },
    {
     "name": "stdout",
     "output_type": "stream",
     "text": [
      "[LightGBM] [Warning] Unknown parameter: is_unbalanced\n",
      "[LightGBM] [Info] Number of positive: 15539, number of negative: 77699\n",
      "[LightGBM] [Info] Auto-choosing row-wise multi-threading, the overhead of testing was 0.036924 seconds.\n",
      "You can set `force_row_wise=true` to remove the overhead.\n",
      "And if memory is not enough, you can set `force_col_wise=true`.\n",
      "[LightGBM] [Info] Total Bins 411\n",
      "[LightGBM] [Info] Number of data points in the train set: 93238, number of used features: 33\n",
      "[LightGBM] [Info] [binary:BoostFromScore]: pavg=0.166660 -> initscore=-1.609489\n",
      "[LightGBM] [Info] Start training from score -1.609489\n",
      "[LightGBM] [Warning] Unknown parameter: is_unbalanced\n",
      "True Negatives (TN): 33285\n",
      "False Positives (FP): 16\n",
      "False Negatives (FN): 52\n",
      "True Positives (TP): 161\n",
      "Params: num_leaves=60, learning_rate=0.030, num_iterations=50\n",
      " → Optimal Threshold: 0.7813\n",
      " → Recall: 0.7559, Specificity: 0.9995\n",
      "\n"
     ]
    },
    {
     "name": "stderr",
     "output_type": "stream",
     "text": [
      "C:\\Users\\Neil\\AppData\\Roaming\\Python\\Python311\\site-packages\\lightgbm\\engine.py:204: UserWarning: Found `num_iterations` in params. Will use it instead of argument\n",
      "  _log_warning(f\"Found `{alias}` in params. Will use it instead of argument\")\n"
     ]
    },
    {
     "name": "stdout",
     "output_type": "stream",
     "text": [
      "[LightGBM] [Warning] Unknown parameter: is_unbalanced\n",
      "[LightGBM] [Warning] Unknown parameter: is_unbalanced\n",
      "[LightGBM] [Info] Number of positive: 15539, number of negative: 77699\n",
      "[LightGBM] [Info] Auto-choosing row-wise multi-threading, the overhead of testing was 0.039291 seconds.\n",
      "You can set `force_row_wise=true` to remove the overhead.\n",
      "And if memory is not enough, you can set `force_col_wise=true`.\n",
      "[LightGBM] [Info] Total Bins 411\n",
      "[LightGBM] [Info] Number of data points in the train set: 93238, number of used features: 33\n",
      "[LightGBM] [Info] [binary:BoostFromScore]: pavg=0.166660 -> initscore=-1.609489\n",
      "[LightGBM] [Info] Start training from score -1.609489\n",
      "[LightGBM] [Warning] Unknown parameter: is_unbalanced\n",
      "True Negatives (TN): 33296\n",
      "False Positives (FP): 5\n",
      "False Negatives (FN): 63\n",
      "True Positives (TP): 150\n",
      "Params: num_leaves=60, learning_rate=0.030, num_iterations=100\n",
      " → Optimal Threshold: 0.9430\n",
      " → Recall: 0.7042, Specificity: 0.9998\n",
      "\n",
      "[LightGBM] [Warning] Unknown parameter: is_unbalanced\n"
     ]
    },
    {
     "name": "stderr",
     "output_type": "stream",
     "text": [
      "C:\\Users\\Neil\\AppData\\Roaming\\Python\\Python311\\site-packages\\lightgbm\\engine.py:204: UserWarning: Found `num_iterations` in params. Will use it instead of argument\n",
      "  _log_warning(f\"Found `{alias}` in params. Will use it instead of argument\")\n"
     ]
    },
    {
     "name": "stdout",
     "output_type": "stream",
     "text": [
      "[LightGBM] [Warning] Unknown parameter: is_unbalanced\n",
      "[LightGBM] [Info] Number of positive: 15539, number of negative: 77699\n",
      "[LightGBM] [Info] Auto-choosing row-wise multi-threading, the overhead of testing was 0.039558 seconds.\n",
      "You can set `force_row_wise=true` to remove the overhead.\n",
      "And if memory is not enough, you can set `force_col_wise=true`.\n",
      "[LightGBM] [Info] Total Bins 411\n",
      "[LightGBM] [Info] Number of data points in the train set: 93238, number of used features: 33\n",
      "[LightGBM] [Info] [binary:BoostFromScore]: pavg=0.166660 -> initscore=-1.609489\n",
      "[LightGBM] [Info] Start training from score -1.609489\n",
      "[LightGBM] [Warning] Unknown parameter: is_unbalanced\n",
      "True Negatives (TN): 33293\n",
      "False Positives (FP): 8\n",
      "False Negatives (FN): 59\n",
      "True Positives (TP): 154\n",
      "Params: num_leaves=60, learning_rate=0.030, num_iterations=150\n",
      " → Optimal Threshold: 0.9317\n",
      " → Recall: 0.7230, Specificity: 0.9998\n",
      "\n",
      "[LightGBM] [Warning] Unknown parameter: is_unbalanced\n"
     ]
    },
    {
     "name": "stderr",
     "output_type": "stream",
     "text": [
      "C:\\Users\\Neil\\AppData\\Roaming\\Python\\Python311\\site-packages\\lightgbm\\engine.py:204: UserWarning: Found `num_iterations` in params. Will use it instead of argument\n",
      "  _log_warning(f\"Found `{alias}` in params. Will use it instead of argument\")\n"
     ]
    },
    {
     "name": "stdout",
     "output_type": "stream",
     "text": [
      "[LightGBM] [Warning] Unknown parameter: is_unbalanced\n",
      "[LightGBM] [Info] Number of positive: 15539, number of negative: 77699\n",
      "[LightGBM] [Info] Auto-choosing row-wise multi-threading, the overhead of testing was 0.042235 seconds.\n",
      "You can set `force_row_wise=true` to remove the overhead.\n",
      "And if memory is not enough, you can set `force_col_wise=true`.\n",
      "[LightGBM] [Info] Total Bins 411\n",
      "[LightGBM] [Info] Number of data points in the train set: 93238, number of used features: 33\n",
      "[LightGBM] [Info] [binary:BoostFromScore]: pavg=0.166660 -> initscore=-1.609489\n",
      "[LightGBM] [Info] Start training from score -1.609489\n",
      "[LightGBM] [Warning] Unknown parameter: is_unbalanced\n",
      "True Negatives (TN): 33282\n",
      "False Positives (FP): 19\n",
      "False Negatives (FN): 54\n",
      "True Positives (TP): 159\n",
      "Params: num_leaves=60, learning_rate=0.030, num_iterations=200\n",
      " → Optimal Threshold: 0.8266\n",
      " → Recall: 0.7465, Specificity: 0.9994\n",
      "\n",
      "[LightGBM] [Warning] Unknown parameter: is_unbalanced\n"
     ]
    },
    {
     "name": "stderr",
     "output_type": "stream",
     "text": [
      "C:\\Users\\Neil\\AppData\\Roaming\\Python\\Python311\\site-packages\\lightgbm\\engine.py:204: UserWarning: Found `num_iterations` in params. Will use it instead of argument\n",
      "  _log_warning(f\"Found `{alias}` in params. Will use it instead of argument\")\n"
     ]
    },
    {
     "name": "stdout",
     "output_type": "stream",
     "text": [
      "[LightGBM] [Warning] Unknown parameter: is_unbalanced\n",
      "[LightGBM] [Info] Number of positive: 15539, number of negative: 77699\n",
      "[LightGBM] [Info] Auto-choosing row-wise multi-threading, the overhead of testing was 0.040350 seconds.\n",
      "You can set `force_row_wise=true` to remove the overhead.\n",
      "And if memory is not enough, you can set `force_col_wise=true`.\n",
      "[LightGBM] [Info] Total Bins 411\n",
      "[LightGBM] [Info] Number of data points in the train set: 93238, number of used features: 33\n",
      "[LightGBM] [Info] [binary:BoostFromScore]: pavg=0.166660 -> initscore=-1.609489\n",
      "[LightGBM] [Info] Start training from score -1.609489\n",
      "[LightGBM] [Warning] Unknown parameter: is_unbalanced\n",
      "True Negatives (TN): 33296\n",
      "False Positives (FP): 5\n",
      "False Negatives (FN): 63\n",
      "True Positives (TP): 150\n",
      "Params: num_leaves=60, learning_rate=0.060, num_iterations=50\n",
      " → Optimal Threshold: 0.9453\n",
      " → Recall: 0.7042, Specificity: 0.9998\n",
      "\n",
      "[LightGBM] [Warning] Unknown parameter: is_unbalanced\n"
     ]
    },
    {
     "name": "stderr",
     "output_type": "stream",
     "text": [
      "C:\\Users\\Neil\\AppData\\Roaming\\Python\\Python311\\site-packages\\lightgbm\\engine.py:204: UserWarning: Found `num_iterations` in params. Will use it instead of argument\n",
      "  _log_warning(f\"Found `{alias}` in params. Will use it instead of argument\")\n"
     ]
    },
    {
     "name": "stdout",
     "output_type": "stream",
     "text": [
      "[LightGBM] [Warning] Unknown parameter: is_unbalanced\n",
      "[LightGBM] [Info] Number of positive: 15539, number of negative: 77699\n",
      "[LightGBM] [Info] Auto-choosing row-wise multi-threading, the overhead of testing was 0.033932 seconds.\n",
      "You can set `force_row_wise=true` to remove the overhead.\n",
      "And if memory is not enough, you can set `force_col_wise=true`.\n",
      "[LightGBM] [Info] Total Bins 411\n",
      "[LightGBM] [Info] Number of data points in the train set: 93238, number of used features: 33\n",
      "[LightGBM] [Info] [binary:BoostFromScore]: pavg=0.166660 -> initscore=-1.609489\n",
      "[LightGBM] [Info] Start training from score -1.609489\n",
      "[LightGBM] [Warning] Unknown parameter: is_unbalanced\n",
      "True Negatives (TN): 33286\n",
      "False Positives (FP): 15\n",
      "False Negatives (FN): 56\n",
      "True Positives (TP): 157\n",
      "Params: num_leaves=60, learning_rate=0.060, num_iterations=100\n",
      " → Optimal Threshold: 0.8847\n",
      " → Recall: 0.7371, Specificity: 0.9995\n",
      "\n",
      "[LightGBM] [Warning] Unknown parameter: is_unbalanced\n"
     ]
    },
    {
     "name": "stderr",
     "output_type": "stream",
     "text": [
      "C:\\Users\\Neil\\AppData\\Roaming\\Python\\Python311\\site-packages\\lightgbm\\engine.py:204: UserWarning: Found `num_iterations` in params. Will use it instead of argument\n",
      "  _log_warning(f\"Found `{alias}` in params. Will use it instead of argument\")\n"
     ]
    },
    {
     "name": "stdout",
     "output_type": "stream",
     "text": [
      "[LightGBM] [Warning] Unknown parameter: is_unbalanced\n",
      "[LightGBM] [Info] Number of positive: 15539, number of negative: 77699\n",
      "[LightGBM] [Info] Auto-choosing row-wise multi-threading, the overhead of testing was 0.041435 seconds.\n",
      "You can set `force_row_wise=true` to remove the overhead.\n",
      "And if memory is not enough, you can set `force_col_wise=true`.\n",
      "[LightGBM] [Info] Total Bins 411\n",
      "[LightGBM] [Info] Number of data points in the train set: 93238, number of used features: 33\n",
      "[LightGBM] [Info] [binary:BoostFromScore]: pavg=0.166660 -> initscore=-1.609489\n",
      "[LightGBM] [Info] Start training from score -1.609489\n",
      "[LightGBM] [Warning] Unknown parameter: is_unbalanced\n",
      "True Negatives (TN): 33295\n",
      "False Positives (FP): 6\n",
      "False Negatives (FN): 64\n",
      "True Positives (TP): 149\n",
      "Params: num_leaves=60, learning_rate=0.060, num_iterations=150\n",
      " → Optimal Threshold: 0.9366\n",
      " → Recall: 0.6995, Specificity: 0.9998\n",
      "\n",
      "[LightGBM] [Warning] Unknown parameter: is_unbalanced\n"
     ]
    },
    {
     "name": "stderr",
     "output_type": "stream",
     "text": [
      "C:\\Users\\Neil\\AppData\\Roaming\\Python\\Python311\\site-packages\\lightgbm\\engine.py:204: UserWarning: Found `num_iterations` in params. Will use it instead of argument\n",
      "  _log_warning(f\"Found `{alias}` in params. Will use it instead of argument\")\n"
     ]
    },
    {
     "name": "stdout",
     "output_type": "stream",
     "text": [
      "[LightGBM] [Warning] Unknown parameter: is_unbalanced\n",
      "[LightGBM] [Info] Number of positive: 15539, number of negative: 77699\n",
      "[LightGBM] [Info] Auto-choosing row-wise multi-threading, the overhead of testing was 0.038414 seconds.\n",
      "You can set `force_row_wise=true` to remove the overhead.\n",
      "And if memory is not enough, you can set `force_col_wise=true`.\n",
      "[LightGBM] [Info] Total Bins 411\n",
      "[LightGBM] [Info] Number of data points in the train set: 93238, number of used features: 33\n",
      "[LightGBM] [Info] [binary:BoostFromScore]: pavg=0.166660 -> initscore=-1.609489\n",
      "[LightGBM] [Info] Start training from score -1.609489\n",
      "[LightGBM] [Warning] Unknown parameter: is_unbalanced\n",
      "True Negatives (TN): 33287\n",
      "False Positives (FP): 14\n",
      "False Negatives (FN): 60\n",
      "True Positives (TP): 153\n",
      "Params: num_leaves=60, learning_rate=0.060, num_iterations=200\n",
      " → Optimal Threshold: 0.8701\n",
      " → Recall: 0.7183, Specificity: 0.9996\n",
      "\n",
      "[LightGBM] [Warning] Unknown parameter: is_unbalanced\n"
     ]
    },
    {
     "name": "stderr",
     "output_type": "stream",
     "text": [
      "C:\\Users\\Neil\\AppData\\Roaming\\Python\\Python311\\site-packages\\lightgbm\\engine.py:204: UserWarning: Found `num_iterations` in params. Will use it instead of argument\n",
      "  _log_warning(f\"Found `{alias}` in params. Will use it instead of argument\")\n"
     ]
    },
    {
     "name": "stdout",
     "output_type": "stream",
     "text": [
      "[LightGBM] [Warning] Unknown parameter: is_unbalanced\n",
      "[LightGBM] [Info] Number of positive: 15539, number of negative: 77699\n",
      "[LightGBM] [Info] Auto-choosing row-wise multi-threading, the overhead of testing was 0.042054 seconds.\n",
      "You can set `force_row_wise=true` to remove the overhead.\n",
      "And if memory is not enough, you can set `force_col_wise=true`.\n",
      "[LightGBM] [Info] Total Bins 411\n",
      "[LightGBM] [Info] Number of data points in the train set: 93238, number of used features: 33\n",
      "[LightGBM] [Info] [binary:BoostFromScore]: pavg=0.166660 -> initscore=-1.609489\n",
      "[LightGBM] [Info] Start training from score -1.609489\n",
      "[LightGBM] [Warning] Unknown parameter: is_unbalanced\n",
      "True Negatives (TN): 33291\n",
      "False Positives (FP): 10\n",
      "False Negatives (FN): 56\n",
      "True Positives (TP): 157\n",
      "Params: num_leaves=60, learning_rate=0.090, num_iterations=50\n",
      " → Optimal Threshold: 0.9113\n",
      " → Recall: 0.7371, Specificity: 0.9997\n",
      "\n",
      "[LightGBM] [Warning] Unknown parameter: is_unbalanced\n"
     ]
    },
    {
     "name": "stderr",
     "output_type": "stream",
     "text": [
      "C:\\Users\\Neil\\AppData\\Roaming\\Python\\Python311\\site-packages\\lightgbm\\engine.py:204: UserWarning: Found `num_iterations` in params. Will use it instead of argument\n",
      "  _log_warning(f\"Found `{alias}` in params. Will use it instead of argument\")\n"
     ]
    },
    {
     "name": "stdout",
     "output_type": "stream",
     "text": [
      "[LightGBM] [Warning] Unknown parameter: is_unbalanced\n",
      "[LightGBM] [Info] Number of positive: 15539, number of negative: 77699\n",
      "[LightGBM] [Info] Auto-choosing row-wise multi-threading, the overhead of testing was 0.038102 seconds.\n",
      "You can set `force_row_wise=true` to remove the overhead.\n",
      "And if memory is not enough, you can set `force_col_wise=true`.\n",
      "[LightGBM] [Info] Total Bins 411\n",
      "[LightGBM] [Info] Number of data points in the train set: 93238, number of used features: 33\n",
      "[LightGBM] [Info] [binary:BoostFromScore]: pavg=0.166660 -> initscore=-1.609489\n",
      "[LightGBM] [Info] Start training from score -1.609489\n",
      "[LightGBM] [Warning] Unknown parameter: is_unbalanced\n",
      "True Negatives (TN): 33289\n",
      "False Positives (FP): 12\n",
      "False Negatives (FN): 60\n",
      "True Positives (TP): 153\n",
      "Params: num_leaves=60, learning_rate=0.090, num_iterations=100\n",
      " → Optimal Threshold: 0.8728\n",
      " → Recall: 0.7183, Specificity: 0.9996\n",
      "\n",
      "[LightGBM] [Warning] Unknown parameter: is_unbalanced\n"
     ]
    },
    {
     "name": "stderr",
     "output_type": "stream",
     "text": [
      "C:\\Users\\Neil\\AppData\\Roaming\\Python\\Python311\\site-packages\\lightgbm\\engine.py:204: UserWarning: Found `num_iterations` in params. Will use it instead of argument\n",
      "  _log_warning(f\"Found `{alias}` in params. Will use it instead of argument\")\n"
     ]
    },
    {
     "name": "stdout",
     "output_type": "stream",
     "text": [
      "[LightGBM] [Warning] Unknown parameter: is_unbalanced\n",
      "[LightGBM] [Info] Number of positive: 15539, number of negative: 77699\n",
      "[LightGBM] [Info] Auto-choosing row-wise multi-threading, the overhead of testing was 0.040954 seconds.\n",
      "You can set `force_row_wise=true` to remove the overhead.\n",
      "And if memory is not enough, you can set `force_col_wise=true`.\n",
      "[LightGBM] [Info] Total Bins 411\n",
      "[LightGBM] [Info] Number of data points in the train set: 93238, number of used features: 33\n",
      "[LightGBM] [Info] [binary:BoostFromScore]: pavg=0.166660 -> initscore=-1.609489\n",
      "[LightGBM] [Info] Start training from score -1.609489\n",
      "[LightGBM] [Warning] Unknown parameter: is_unbalanced\n",
      "True Negatives (TN): 33295\n",
      "False Positives (FP): 6\n",
      "False Negatives (FN): 64\n",
      "True Positives (TP): 149\n",
      "Params: num_leaves=60, learning_rate=0.090, num_iterations=150\n",
      " → Optimal Threshold: 0.9239\n",
      " → Recall: 0.6995, Specificity: 0.9998\n",
      "\n",
      "[LightGBM] [Warning] Unknown parameter: is_unbalanced\n"
     ]
    },
    {
     "name": "stderr",
     "output_type": "stream",
     "text": [
      "C:\\Users\\Neil\\AppData\\Roaming\\Python\\Python311\\site-packages\\lightgbm\\engine.py:204: UserWarning: Found `num_iterations` in params. Will use it instead of argument\n",
      "  _log_warning(f\"Found `{alias}` in params. Will use it instead of argument\")\n"
     ]
    },
    {
     "name": "stdout",
     "output_type": "stream",
     "text": [
      "[LightGBM] [Warning] Unknown parameter: is_unbalanced\n",
      "[LightGBM] [Info] Number of positive: 15539, number of negative: 77699\n",
      "[LightGBM] [Info] Auto-choosing row-wise multi-threading, the overhead of testing was 0.042201 seconds.\n",
      "You can set `force_row_wise=true` to remove the overhead.\n",
      "And if memory is not enough, you can set `force_col_wise=true`.\n",
      "[LightGBM] [Info] Total Bins 411\n",
      "[LightGBM] [Info] Number of data points in the train set: 93238, number of used features: 33\n",
      "[LightGBM] [Info] [binary:BoostFromScore]: pavg=0.166660 -> initscore=-1.609489\n",
      "[LightGBM] [Info] Start training from score -1.609489\n",
      "[LightGBM] [Warning] Unknown parameter: is_unbalanced\n",
      "True Negatives (TN): 33292\n",
      "False Positives (FP): 9\n",
      "False Negatives (FN): 62\n",
      "True Positives (TP): 151\n",
      "Params: num_leaves=60, learning_rate=0.090, num_iterations=200\n",
      " → Optimal Threshold: 0.9183\n",
      " → Recall: 0.7089, Specificity: 0.9997\n",
      "\n",
      "[LightGBM] [Warning] Unknown parameter: is_unbalanced\n"
     ]
    },
    {
     "name": "stderr",
     "output_type": "stream",
     "text": [
      "C:\\Users\\Neil\\AppData\\Roaming\\Python\\Python311\\site-packages\\lightgbm\\engine.py:204: UserWarning: Found `num_iterations` in params. Will use it instead of argument\n",
      "  _log_warning(f\"Found `{alias}` in params. Will use it instead of argument\")\n"
     ]
    },
    {
     "name": "stdout",
     "output_type": "stream",
     "text": [
      "[LightGBM] [Warning] Unknown parameter: is_unbalanced\n",
      "[LightGBM] [Info] Number of positive: 15539, number of negative: 77699\n",
      "[LightGBM] [Info] Auto-choosing row-wise multi-threading, the overhead of testing was 0.047455 seconds.\n",
      "You can set `force_row_wise=true` to remove the overhead.\n",
      "And if memory is not enough, you can set `force_col_wise=true`.\n",
      "[LightGBM] [Info] Total Bins 411\n",
      "[LightGBM] [Info] Number of data points in the train set: 93238, number of used features: 33\n",
      "[LightGBM] [Info] [binary:BoostFromScore]: pavg=0.166660 -> initscore=-1.609489\n",
      "[LightGBM] [Info] Start training from score -1.609489\n",
      "[LightGBM] [Warning] Unknown parameter: is_unbalanced\n",
      "True Negatives (TN): 33288\n",
      "False Positives (FP): 13\n",
      "False Negatives (FN): 57\n",
      "True Positives (TP): 156\n",
      "Params: num_leaves=60, learning_rate=0.120, num_iterations=50\n",
      " → Optimal Threshold: 0.8783\n",
      " → Recall: 0.7324, Specificity: 0.9996\n",
      "\n",
      "[LightGBM] [Warning] Unknown parameter: is_unbalanced\n"
     ]
    },
    {
     "name": "stderr",
     "output_type": "stream",
     "text": [
      "C:\\Users\\Neil\\AppData\\Roaming\\Python\\Python311\\site-packages\\lightgbm\\engine.py:204: UserWarning: Found `num_iterations` in params. Will use it instead of argument\n",
      "  _log_warning(f\"Found `{alias}` in params. Will use it instead of argument\")\n"
     ]
    },
    {
     "name": "stdout",
     "output_type": "stream",
     "text": [
      "[LightGBM] [Warning] Unknown parameter: is_unbalanced\n",
      "[LightGBM] [Info] Number of positive: 15539, number of negative: 77699\n",
      "[LightGBM] [Info] Auto-choosing row-wise multi-threading, the overhead of testing was 0.037928 seconds.\n",
      "You can set `force_row_wise=true` to remove the overhead.\n",
      "And if memory is not enough, you can set `force_col_wise=true`.\n",
      "[LightGBM] [Info] Total Bins 411\n",
      "[LightGBM] [Info] Number of data points in the train set: 93238, number of used features: 33\n",
      "[LightGBM] [Info] [binary:BoostFromScore]: pavg=0.166660 -> initscore=-1.609489\n",
      "[LightGBM] [Info] Start training from score -1.609489\n",
      "[LightGBM] [Warning] Unknown parameter: is_unbalanced\n",
      "True Negatives (TN): 33299\n",
      "False Positives (FP): 2\n",
      "False Negatives (FN): 69\n",
      "True Positives (TP): 144\n",
      "Params: num_leaves=60, learning_rate=0.120, num_iterations=100\n",
      " → Optimal Threshold: 0.9659\n",
      " → Recall: 0.6761, Specificity: 0.9999\n",
      "\n",
      "[LightGBM] [Warning] Unknown parameter: is_unbalanced\n"
     ]
    },
    {
     "name": "stderr",
     "output_type": "stream",
     "text": [
      "C:\\Users\\Neil\\AppData\\Roaming\\Python\\Python311\\site-packages\\lightgbm\\engine.py:204: UserWarning: Found `num_iterations` in params. Will use it instead of argument\n",
      "  _log_warning(f\"Found `{alias}` in params. Will use it instead of argument\")\n"
     ]
    },
    {
     "name": "stdout",
     "output_type": "stream",
     "text": [
      "[LightGBM] [Warning] Unknown parameter: is_unbalanced\n",
      "[LightGBM] [Info] Number of positive: 15539, number of negative: 77699\n",
      "[LightGBM] [Info] Auto-choosing row-wise multi-threading, the overhead of testing was 0.039537 seconds.\n",
      "You can set `force_row_wise=true` to remove the overhead.\n",
      "And if memory is not enough, you can set `force_col_wise=true`.\n",
      "[LightGBM] [Info] Total Bins 411\n",
      "[LightGBM] [Info] Number of data points in the train set: 93238, number of used features: 33\n",
      "[LightGBM] [Info] [binary:BoostFromScore]: pavg=0.166660 -> initscore=-1.609489\n",
      "[LightGBM] [Info] Start training from score -1.609489\n",
      "[LightGBM] [Warning] Unknown parameter: is_unbalanced\n",
      "True Negatives (TN): 33295\n",
      "False Positives (FP): 6\n",
      "False Negatives (FN): 66\n",
      "True Positives (TP): 147\n",
      "Params: num_leaves=60, learning_rate=0.120, num_iterations=150\n",
      " → Optimal Threshold: 0.9555\n",
      " → Recall: 0.6901, Specificity: 0.9998\n",
      "\n",
      "[LightGBM] [Warning] Unknown parameter: is_unbalanced\n"
     ]
    },
    {
     "name": "stderr",
     "output_type": "stream",
     "text": [
      "C:\\Users\\Neil\\AppData\\Roaming\\Python\\Python311\\site-packages\\lightgbm\\engine.py:204: UserWarning: Found `num_iterations` in params. Will use it instead of argument\n",
      "  _log_warning(f\"Found `{alias}` in params. Will use it instead of argument\")\n"
     ]
    },
    {
     "name": "stdout",
     "output_type": "stream",
     "text": [
      "[LightGBM] [Warning] Unknown parameter: is_unbalanced\n",
      "[LightGBM] [Info] Number of positive: 15539, number of negative: 77699\n",
      "[LightGBM] [Info] Auto-choosing row-wise multi-threading, the overhead of testing was 0.042609 seconds.\n",
      "You can set `force_row_wise=true` to remove the overhead.\n",
      "And if memory is not enough, you can set `force_col_wise=true`.\n",
      "[LightGBM] [Info] Total Bins 411\n",
      "[LightGBM] [Info] Number of data points in the train set: 93238, number of used features: 33\n",
      "[LightGBM] [Info] [binary:BoostFromScore]: pavg=0.166660 -> initscore=-1.609489\n",
      "[LightGBM] [Info] Start training from score -1.609489\n",
      "[LightGBM] [Warning] Unknown parameter: is_unbalanced\n",
      "True Negatives (TN): 33296\n",
      "False Positives (FP): 5\n",
      "False Negatives (FN): 66\n",
      "True Positives (TP): 147\n",
      "Params: num_leaves=60, learning_rate=0.120, num_iterations=200\n",
      " → Optimal Threshold: 0.9744\n",
      " → Recall: 0.6901, Specificity: 0.9998\n",
      "\n",
      "[LightGBM] [Warning] Unknown parameter: is_unbalanced\n"
     ]
    },
    {
     "name": "stderr",
     "output_type": "stream",
     "text": [
      "C:\\Users\\Neil\\AppData\\Roaming\\Python\\Python311\\site-packages\\lightgbm\\engine.py:204: UserWarning: Found `num_iterations` in params. Will use it instead of argument\n",
      "  _log_warning(f\"Found `{alias}` in params. Will use it instead of argument\")\n"
     ]
    },
    {
     "name": "stdout",
     "output_type": "stream",
     "text": [
      "[LightGBM] [Warning] Unknown parameter: is_unbalanced\n",
      "[LightGBM] [Info] Number of positive: 15539, number of negative: 77699\n",
      "[LightGBM] [Info] Auto-choosing row-wise multi-threading, the overhead of testing was 0.037882 seconds.\n",
      "You can set `force_row_wise=true` to remove the overhead.\n",
      "And if memory is not enough, you can set `force_col_wise=true`.\n",
      "[LightGBM] [Info] Total Bins 411\n",
      "[LightGBM] [Info] Number of data points in the train set: 93238, number of used features: 33\n",
      "[LightGBM] [Info] [binary:BoostFromScore]: pavg=0.166660 -> initscore=-1.609489\n",
      "[LightGBM] [Info] Start training from score -1.609489\n",
      "[LightGBM] [Warning] Unknown parameter: is_unbalanced\n",
      "True Negatives (TN): 33289\n",
      "False Positives (FP): 12\n",
      "False Negatives (FN): 61\n",
      "True Positives (TP): 152\n",
      "Params: num_leaves=60, learning_rate=0.150, num_iterations=50\n",
      " → Optimal Threshold: 0.8964\n",
      " → Recall: 0.7136, Specificity: 0.9996\n",
      "\n",
      "[LightGBM] [Warning] Unknown parameter: is_unbalanced\n"
     ]
    },
    {
     "name": "stderr",
     "output_type": "stream",
     "text": [
      "C:\\Users\\Neil\\AppData\\Roaming\\Python\\Python311\\site-packages\\lightgbm\\engine.py:204: UserWarning: Found `num_iterations` in params. Will use it instead of argument\n",
      "  _log_warning(f\"Found `{alias}` in params. Will use it instead of argument\")\n"
     ]
    },
    {
     "name": "stdout",
     "output_type": "stream",
     "text": [
      "[LightGBM] [Warning] Unknown parameter: is_unbalanced\n",
      "[LightGBM] [Info] Number of positive: 15539, number of negative: 77699\n",
      "[LightGBM] [Info] Auto-choosing row-wise multi-threading, the overhead of testing was 0.040109 seconds.\n",
      "You can set `force_row_wise=true` to remove the overhead.\n",
      "And if memory is not enough, you can set `force_col_wise=true`.\n",
      "[LightGBM] [Info] Total Bins 411\n",
      "[LightGBM] [Info] Number of data points in the train set: 93238, number of used features: 33\n",
      "[LightGBM] [Info] [binary:BoostFromScore]: pavg=0.166660 -> initscore=-1.609489\n",
      "[LightGBM] [Info] Start training from score -1.609489\n",
      "[LightGBM] [Warning] Unknown parameter: is_unbalanced\n",
      "True Negatives (TN): 33294\n",
      "False Positives (FP): 7\n",
      "False Negatives (FN): 65\n",
      "True Positives (TP): 148\n",
      "Params: num_leaves=60, learning_rate=0.150, num_iterations=100\n",
      " → Optimal Threshold: 0.9313\n",
      " → Recall: 0.6948, Specificity: 0.9998\n",
      "\n",
      "[LightGBM] [Warning] Unknown parameter: is_unbalanced\n"
     ]
    },
    {
     "name": "stderr",
     "output_type": "stream",
     "text": [
      "C:\\Users\\Neil\\AppData\\Roaming\\Python\\Python311\\site-packages\\lightgbm\\engine.py:204: UserWarning: Found `num_iterations` in params. Will use it instead of argument\n",
      "  _log_warning(f\"Found `{alias}` in params. Will use it instead of argument\")\n"
     ]
    },
    {
     "name": "stdout",
     "output_type": "stream",
     "text": [
      "[LightGBM] [Warning] Unknown parameter: is_unbalanced\n",
      "[LightGBM] [Info] Number of positive: 15539, number of negative: 77699\n",
      "[LightGBM] [Info] Auto-choosing row-wise multi-threading, the overhead of testing was 0.037882 seconds.\n",
      "You can set `force_row_wise=true` to remove the overhead.\n",
      "And if memory is not enough, you can set `force_col_wise=true`.\n",
      "[LightGBM] [Info] Total Bins 411\n",
      "[LightGBM] [Info] Number of data points in the train set: 93238, number of used features: 33\n",
      "[LightGBM] [Info] [binary:BoostFromScore]: pavg=0.166660 -> initscore=-1.609489\n",
      "[LightGBM] [Info] Start training from score -1.609489\n",
      "[LightGBM] [Warning] Unknown parameter: is_unbalanced\n",
      "True Negatives (TN): 33294\n",
      "False Positives (FP): 7\n",
      "False Negatives (FN): 67\n",
      "True Positives (TP): 146\n",
      "Params: num_leaves=60, learning_rate=0.150, num_iterations=150\n",
      " → Optimal Threshold: 0.9617\n",
      " → Recall: 0.6854, Specificity: 0.9998\n",
      "\n",
      "[LightGBM] [Warning] Unknown parameter: is_unbalanced\n"
     ]
    },
    {
     "name": "stderr",
     "output_type": "stream",
     "text": [
      "C:\\Users\\Neil\\AppData\\Roaming\\Python\\Python311\\site-packages\\lightgbm\\engine.py:204: UserWarning: Found `num_iterations` in params. Will use it instead of argument\n",
      "  _log_warning(f\"Found `{alias}` in params. Will use it instead of argument\")\n"
     ]
    },
    {
     "name": "stdout",
     "output_type": "stream",
     "text": [
      "[LightGBM] [Warning] Unknown parameter: is_unbalanced\n",
      "[LightGBM] [Info] Number of positive: 15539, number of negative: 77699\n",
      "[LightGBM] [Info] Auto-choosing row-wise multi-threading, the overhead of testing was 0.034085 seconds.\n",
      "You can set `force_row_wise=true` to remove the overhead.\n",
      "And if memory is not enough, you can set `force_col_wise=true`.\n",
      "[LightGBM] [Info] Total Bins 411\n",
      "[LightGBM] [Info] Number of data points in the train set: 93238, number of used features: 33\n",
      "[LightGBM] [Info] [binary:BoostFromScore]: pavg=0.166660 -> initscore=-1.609489\n",
      "[LightGBM] [Info] Start training from score -1.609489\n",
      "[LightGBM] [Warning] Unknown parameter: is_unbalanced\n",
      "True Negatives (TN): 33297\n",
      "False Positives (FP): 4\n",
      "False Negatives (FN): 69\n",
      "True Positives (TP): 144\n",
      "Params: num_leaves=60, learning_rate=0.150, num_iterations=200\n",
      " → Optimal Threshold: 0.9797\n",
      " → Recall: 0.6761, Specificity: 0.9999\n",
      "\n",
      "[LightGBM] [Warning] Unknown parameter: is_unbalanced\n"
     ]
    },
    {
     "name": "stderr",
     "output_type": "stream",
     "text": [
      "C:\\Users\\Neil\\AppData\\Roaming\\Python\\Python311\\site-packages\\lightgbm\\engine.py:204: UserWarning: Found `num_iterations` in params. Will use it instead of argument\n",
      "  _log_warning(f\"Found `{alias}` in params. Will use it instead of argument\")\n"
     ]
    },
    {
     "name": "stdout",
     "output_type": "stream",
     "text": [
      "[LightGBM] [Warning] Unknown parameter: is_unbalanced\n",
      "[LightGBM] [Info] Number of positive: 15539, number of negative: 77699\n",
      "[LightGBM] [Info] Auto-choosing row-wise multi-threading, the overhead of testing was 0.034063 seconds.\n",
      "You can set `force_row_wise=true` to remove the overhead.\n",
      "And if memory is not enough, you can set `force_col_wise=true`.\n",
      "[LightGBM] [Info] Total Bins 411\n",
      "[LightGBM] [Info] Number of data points in the train set: 93238, number of used features: 33\n",
      "[LightGBM] [Info] [binary:BoostFromScore]: pavg=0.166660 -> initscore=-1.609489\n",
      "[LightGBM] [Info] Start training from score -1.609489\n",
      "[LightGBM] [Warning] Unknown parameter: is_unbalanced\n",
      "True Negatives (TN): 33276\n",
      "False Positives (FP): 25\n",
      "False Negatives (FN): 47\n",
      "True Positives (TP): 166\n",
      "Params: num_leaves=80, learning_rate=0.030, num_iterations=50\n",
      " → Optimal Threshold: 0.7131\n",
      " → Recall: 0.7793, Specificity: 0.9992\n",
      "\n"
     ]
    },
    {
     "name": "stderr",
     "output_type": "stream",
     "text": [
      "C:\\Users\\Neil\\AppData\\Roaming\\Python\\Python311\\site-packages\\lightgbm\\engine.py:204: UserWarning: Found `num_iterations` in params. Will use it instead of argument\n",
      "  _log_warning(f\"Found `{alias}` in params. Will use it instead of argument\")\n"
     ]
    },
    {
     "name": "stdout",
     "output_type": "stream",
     "text": [
      "[LightGBM] [Warning] Unknown parameter: is_unbalanced\n",
      "[LightGBM] [Warning] Unknown parameter: is_unbalanced\n",
      "[LightGBM] [Info] Number of positive: 15539, number of negative: 77699\n",
      "[LightGBM] [Info] Auto-choosing row-wise multi-threading, the overhead of testing was 0.039074 seconds.\n",
      "You can set `force_row_wise=true` to remove the overhead.\n",
      "And if memory is not enough, you can set `force_col_wise=true`.\n",
      "[LightGBM] [Info] Total Bins 411\n",
      "[LightGBM] [Info] Number of data points in the train set: 93238, number of used features: 33\n",
      "[LightGBM] [Info] [binary:BoostFromScore]: pavg=0.166660 -> initscore=-1.609489\n",
      "[LightGBM] [Info] Start training from score -1.609489\n",
      "[LightGBM] [Warning] Unknown parameter: is_unbalanced\n",
      "True Negatives (TN): 33295\n",
      "False Positives (FP): 6\n",
      "False Negatives (FN): 64\n",
      "True Positives (TP): 149\n",
      "Params: num_leaves=80, learning_rate=0.030, num_iterations=100\n",
      " → Optimal Threshold: 0.9436\n",
      " → Recall: 0.6995, Specificity: 0.9998\n",
      "\n",
      "[LightGBM] [Warning] Unknown parameter: is_unbalanced\n"
     ]
    },
    {
     "name": "stderr",
     "output_type": "stream",
     "text": [
      "C:\\Users\\Neil\\AppData\\Roaming\\Python\\Python311\\site-packages\\lightgbm\\engine.py:204: UserWarning: Found `num_iterations` in params. Will use it instead of argument\n",
      "  _log_warning(f\"Found `{alias}` in params. Will use it instead of argument\")\n"
     ]
    },
    {
     "name": "stdout",
     "output_type": "stream",
     "text": [
      "[LightGBM] [Warning] Unknown parameter: is_unbalanced\n",
      "[LightGBM] [Info] Number of positive: 15539, number of negative: 77699\n",
      "[LightGBM] [Info] Auto-choosing row-wise multi-threading, the overhead of testing was 0.047397 seconds.\n",
      "You can set `force_row_wise=true` to remove the overhead.\n",
      "And if memory is not enough, you can set `force_col_wise=true`.\n",
      "[LightGBM] [Info] Total Bins 411\n",
      "[LightGBM] [Info] Number of data points in the train set: 93238, number of used features: 33\n",
      "[LightGBM] [Info] [binary:BoostFromScore]: pavg=0.166660 -> initscore=-1.609489\n",
      "[LightGBM] [Info] Start training from score -1.609489\n",
      "[LightGBM] [Warning] Unknown parameter: is_unbalanced\n",
      "True Negatives (TN): 33288\n",
      "False Positives (FP): 13\n",
      "False Negatives (FN): 56\n",
      "True Positives (TP): 157\n",
      "Params: num_leaves=80, learning_rate=0.030, num_iterations=150\n",
      " → Optimal Threshold: 0.9027\n",
      " → Recall: 0.7371, Specificity: 0.9996\n",
      "\n",
      "[LightGBM] [Warning] Unknown parameter: is_unbalanced\n"
     ]
    },
    {
     "name": "stderr",
     "output_type": "stream",
     "text": [
      "C:\\Users\\Neil\\AppData\\Roaming\\Python\\Python311\\site-packages\\lightgbm\\engine.py:204: UserWarning: Found `num_iterations` in params. Will use it instead of argument\n",
      "  _log_warning(f\"Found `{alias}` in params. Will use it instead of argument\")\n"
     ]
    },
    {
     "name": "stdout",
     "output_type": "stream",
     "text": [
      "[LightGBM] [Warning] Unknown parameter: is_unbalanced\n",
      "[LightGBM] [Info] Number of positive: 15539, number of negative: 77699\n",
      "[LightGBM] [Info] Auto-choosing row-wise multi-threading, the overhead of testing was 0.038764 seconds.\n",
      "You can set `force_row_wise=true` to remove the overhead.\n",
      "And if memory is not enough, you can set `force_col_wise=true`.\n",
      "[LightGBM] [Info] Total Bins 411\n",
      "[LightGBM] [Info] Number of data points in the train set: 93238, number of used features: 33\n",
      "[LightGBM] [Info] [binary:BoostFromScore]: pavg=0.166660 -> initscore=-1.609489\n",
      "[LightGBM] [Info] Start training from score -1.609489\n",
      "[LightGBM] [Warning] Unknown parameter: is_unbalanced\n",
      "True Negatives (TN): 33288\n",
      "False Positives (FP): 13\n",
      "False Negatives (FN): 56\n",
      "True Positives (TP): 157\n",
      "Params: num_leaves=80, learning_rate=0.030, num_iterations=200\n",
      " → Optimal Threshold: 0.8826\n",
      " → Recall: 0.7371, Specificity: 0.9996\n",
      "\n",
      "[LightGBM] [Warning] Unknown parameter: is_unbalanced\n"
     ]
    },
    {
     "name": "stderr",
     "output_type": "stream",
     "text": [
      "C:\\Users\\Neil\\AppData\\Roaming\\Python\\Python311\\site-packages\\lightgbm\\engine.py:204: UserWarning: Found `num_iterations` in params. Will use it instead of argument\n",
      "  _log_warning(f\"Found `{alias}` in params. Will use it instead of argument\")\n"
     ]
    },
    {
     "name": "stdout",
     "output_type": "stream",
     "text": [
      "[LightGBM] [Warning] Unknown parameter: is_unbalanced\n",
      "[LightGBM] [Info] Number of positive: 15539, number of negative: 77699\n",
      "[LightGBM] [Info] Auto-choosing row-wise multi-threading, the overhead of testing was 0.035047 seconds.\n",
      "You can set `force_row_wise=true` to remove the overhead.\n",
      "And if memory is not enough, you can set `force_col_wise=true`.\n",
      "[LightGBM] [Info] Total Bins 411\n",
      "[LightGBM] [Info] Number of data points in the train set: 93238, number of used features: 33\n",
      "[LightGBM] [Info] [binary:BoostFromScore]: pavg=0.166660 -> initscore=-1.609489\n",
      "[LightGBM] [Info] Start training from score -1.609489\n",
      "[LightGBM] [Warning] Unknown parameter: is_unbalanced\n",
      "True Negatives (TN): 33286\n",
      "False Positives (FP): 15\n",
      "False Negatives (FN): 54\n",
      "True Positives (TP): 159\n",
      "Params: num_leaves=80, learning_rate=0.060, num_iterations=50\n",
      " → Optimal Threshold: 0.8411\n",
      " → Recall: 0.7465, Specificity: 0.9995\n",
      "\n",
      "[LightGBM] [Warning] Unknown parameter: is_unbalanced\n"
     ]
    },
    {
     "name": "stderr",
     "output_type": "stream",
     "text": [
      "C:\\Users\\Neil\\AppData\\Roaming\\Python\\Python311\\site-packages\\lightgbm\\engine.py:204: UserWarning: Found `num_iterations` in params. Will use it instead of argument\n",
      "  _log_warning(f\"Found `{alias}` in params. Will use it instead of argument\")\n"
     ]
    },
    {
     "name": "stdout",
     "output_type": "stream",
     "text": [
      "[LightGBM] [Warning] Unknown parameter: is_unbalanced\n",
      "[LightGBM] [Info] Number of positive: 15539, number of negative: 77699\n",
      "[LightGBM] [Info] Auto-choosing row-wise multi-threading, the overhead of testing was 0.049455 seconds.\n",
      "You can set `force_row_wise=true` to remove the overhead.\n",
      "And if memory is not enough, you can set `force_col_wise=true`.\n",
      "[LightGBM] [Info] Total Bins 411\n",
      "[LightGBM] [Info] Number of data points in the train set: 93238, number of used features: 33\n",
      "[LightGBM] [Info] [binary:BoostFromScore]: pavg=0.166660 -> initscore=-1.609489\n",
      "[LightGBM] [Info] Start training from score -1.609489\n",
      "[LightGBM] [Warning] Unknown parameter: is_unbalanced\n",
      "True Negatives (TN): 33286\n",
      "False Positives (FP): 15\n",
      "False Negatives (FN): 56\n",
      "True Positives (TP): 157\n",
      "Params: num_leaves=80, learning_rate=0.060, num_iterations=100\n",
      " → Optimal Threshold: 0.8698\n",
      " → Recall: 0.7371, Specificity: 0.9995\n",
      "\n",
      "[LightGBM] [Warning] Unknown parameter: is_unbalanced\n"
     ]
    },
    {
     "name": "stderr",
     "output_type": "stream",
     "text": [
      "C:\\Users\\Neil\\AppData\\Roaming\\Python\\Python311\\site-packages\\lightgbm\\engine.py:204: UserWarning: Found `num_iterations` in params. Will use it instead of argument\n",
      "  _log_warning(f\"Found `{alias}` in params. Will use it instead of argument\")\n"
     ]
    },
    {
     "name": "stdout",
     "output_type": "stream",
     "text": [
      "[LightGBM] [Warning] Unknown parameter: is_unbalanced\n",
      "[LightGBM] [Info] Number of positive: 15539, number of negative: 77699\n",
      "[LightGBM] [Info] Auto-choosing row-wise multi-threading, the overhead of testing was 0.038502 seconds.\n",
      "You can set `force_row_wise=true` to remove the overhead.\n",
      "And if memory is not enough, you can set `force_col_wise=true`.\n",
      "[LightGBM] [Info] Total Bins 411\n",
      "[LightGBM] [Info] Number of data points in the train set: 93238, number of used features: 33\n",
      "[LightGBM] [Info] [binary:BoostFromScore]: pavg=0.166660 -> initscore=-1.609489\n",
      "[LightGBM] [Info] Start training from score -1.609489\n",
      "[LightGBM] [Warning] Unknown parameter: is_unbalanced\n",
      "True Negatives (TN): 33294\n",
      "False Positives (FP): 7\n",
      "False Negatives (FN): 64\n",
      "True Positives (TP): 149\n",
      "Params: num_leaves=80, learning_rate=0.060, num_iterations=150\n",
      " → Optimal Threshold: 0.9249\n",
      " → Recall: 0.6995, Specificity: 0.9998\n",
      "\n",
      "[LightGBM] [Warning] Unknown parameter: is_unbalanced\n"
     ]
    },
    {
     "name": "stderr",
     "output_type": "stream",
     "text": [
      "C:\\Users\\Neil\\AppData\\Roaming\\Python\\Python311\\site-packages\\lightgbm\\engine.py:204: UserWarning: Found `num_iterations` in params. Will use it instead of argument\n",
      "  _log_warning(f\"Found `{alias}` in params. Will use it instead of argument\")\n"
     ]
    },
    {
     "name": "stdout",
     "output_type": "stream",
     "text": [
      "[LightGBM] [Warning] Unknown parameter: is_unbalanced\n",
      "[LightGBM] [Info] Number of positive: 15539, number of negative: 77699\n",
      "[LightGBM] [Info] Auto-choosing row-wise multi-threading, the overhead of testing was 0.043287 seconds.\n",
      "You can set `force_row_wise=true` to remove the overhead.\n",
      "And if memory is not enough, you can set `force_col_wise=true`.\n",
      "[LightGBM] [Info] Total Bins 411\n",
      "[LightGBM] [Info] Number of data points in the train set: 93238, number of used features: 33\n",
      "[LightGBM] [Info] [binary:BoostFromScore]: pavg=0.166660 -> initscore=-1.609489\n",
      "[LightGBM] [Info] Start training from score -1.609489\n",
      "[LightGBM] [Warning] Unknown parameter: is_unbalanced\n",
      "True Negatives (TN): 33295\n",
      "False Positives (FP): 6\n",
      "False Negatives (FN): 66\n",
      "True Positives (TP): 147\n",
      "Params: num_leaves=80, learning_rate=0.060, num_iterations=200\n",
      " → Optimal Threshold: 0.9392\n",
      " → Recall: 0.6901, Specificity: 0.9998\n",
      "\n",
      "[LightGBM] [Warning] Unknown parameter: is_unbalanced\n"
     ]
    },
    {
     "name": "stderr",
     "output_type": "stream",
     "text": [
      "C:\\Users\\Neil\\AppData\\Roaming\\Python\\Python311\\site-packages\\lightgbm\\engine.py:204: UserWarning: Found `num_iterations` in params. Will use it instead of argument\n",
      "  _log_warning(f\"Found `{alias}` in params. Will use it instead of argument\")\n"
     ]
    },
    {
     "name": "stdout",
     "output_type": "stream",
     "text": [
      "[LightGBM] [Warning] Unknown parameter: is_unbalanced\n",
      "[LightGBM] [Info] Number of positive: 15539, number of negative: 77699\n",
      "[LightGBM] [Info] Auto-choosing row-wise multi-threading, the overhead of testing was 0.040671 seconds.\n",
      "You can set `force_row_wise=true` to remove the overhead.\n",
      "And if memory is not enough, you can set `force_col_wise=true`.\n",
      "[LightGBM] [Info] Total Bins 411\n",
      "[LightGBM] [Info] Number of data points in the train set: 93238, number of used features: 33\n",
      "[LightGBM] [Info] [binary:BoostFromScore]: pavg=0.166660 -> initscore=-1.609489\n",
      "[LightGBM] [Info] Start training from score -1.609489\n",
      "[LightGBM] [Warning] Unknown parameter: is_unbalanced\n",
      "True Negatives (TN): 33287\n",
      "False Positives (FP): 14\n",
      "False Negatives (FN): 56\n",
      "True Positives (TP): 157\n",
      "Params: num_leaves=80, learning_rate=0.090, num_iterations=50\n",
      " → Optimal Threshold: 0.8847\n",
      " → Recall: 0.7371, Specificity: 0.9996\n",
      "\n",
      "[LightGBM] [Warning] Unknown parameter: is_unbalanced\n"
     ]
    },
    {
     "name": "stderr",
     "output_type": "stream",
     "text": [
      "C:\\Users\\Neil\\AppData\\Roaming\\Python\\Python311\\site-packages\\lightgbm\\engine.py:204: UserWarning: Found `num_iterations` in params. Will use it instead of argument\n",
      "  _log_warning(f\"Found `{alias}` in params. Will use it instead of argument\")\n"
     ]
    },
    {
     "name": "stdout",
     "output_type": "stream",
     "text": [
      "[LightGBM] [Warning] Unknown parameter: is_unbalanced\n",
      "[LightGBM] [Info] Number of positive: 15539, number of negative: 77699\n",
      "[LightGBM] [Info] Auto-choosing row-wise multi-threading, the overhead of testing was 0.040295 seconds.\n",
      "You can set `force_row_wise=true` to remove the overhead.\n",
      "And if memory is not enough, you can set `force_col_wise=true`.\n",
      "[LightGBM] [Info] Total Bins 411\n",
      "[LightGBM] [Info] Number of data points in the train set: 93238, number of used features: 33\n",
      "[LightGBM] [Info] [binary:BoostFromScore]: pavg=0.166660 -> initscore=-1.609489\n",
      "[LightGBM] [Info] Start training from score -1.609489\n",
      "[LightGBM] [Warning] Unknown parameter: is_unbalanced\n",
      "True Negatives (TN): 33293\n",
      "False Positives (FP): 8\n",
      "False Negatives (FN): 64\n",
      "True Positives (TP): 149\n",
      "Params: num_leaves=80, learning_rate=0.090, num_iterations=100\n",
      " → Optimal Threshold: 0.9235\n",
      " → Recall: 0.6995, Specificity: 0.9998\n",
      "\n",
      "[LightGBM] [Warning] Unknown parameter: is_unbalanced\n"
     ]
    },
    {
     "name": "stderr",
     "output_type": "stream",
     "text": [
      "C:\\Users\\Neil\\AppData\\Roaming\\Python\\Python311\\site-packages\\lightgbm\\engine.py:204: UserWarning: Found `num_iterations` in params. Will use it instead of argument\n",
      "  _log_warning(f\"Found `{alias}` in params. Will use it instead of argument\")\n"
     ]
    },
    {
     "name": "stdout",
     "output_type": "stream",
     "text": [
      "[LightGBM] [Warning] Unknown parameter: is_unbalanced\n",
      "[LightGBM] [Info] Number of positive: 15539, number of negative: 77699\n",
      "[LightGBM] [Info] Auto-choosing row-wise multi-threading, the overhead of testing was 0.043840 seconds.\n",
      "You can set `force_row_wise=true` to remove the overhead.\n",
      "And if memory is not enough, you can set `force_col_wise=true`.\n",
      "[LightGBM] [Info] Total Bins 411\n",
      "[LightGBM] [Info] Number of data points in the train set: 93238, number of used features: 33\n",
      "[LightGBM] [Info] [binary:BoostFromScore]: pavg=0.166660 -> initscore=-1.609489\n",
      "[LightGBM] [Info] Start training from score -1.609489\n",
      "[LightGBM] [Warning] Unknown parameter: is_unbalanced\n",
      "True Negatives (TN): 33294\n",
      "False Positives (FP): 7\n",
      "False Negatives (FN): 66\n",
      "True Positives (TP): 147\n",
      "Params: num_leaves=80, learning_rate=0.090, num_iterations=150\n",
      " → Optimal Threshold: 0.9448\n",
      " → Recall: 0.6901, Specificity: 0.9998\n",
      "\n",
      "[LightGBM] [Warning] Unknown parameter: is_unbalanced\n"
     ]
    },
    {
     "name": "stderr",
     "output_type": "stream",
     "text": [
      "C:\\Users\\Neil\\AppData\\Roaming\\Python\\Python311\\site-packages\\lightgbm\\engine.py:204: UserWarning: Found `num_iterations` in params. Will use it instead of argument\n",
      "  _log_warning(f\"Found `{alias}` in params. Will use it instead of argument\")\n"
     ]
    },
    {
     "name": "stdout",
     "output_type": "stream",
     "text": [
      "[LightGBM] [Warning] Unknown parameter: is_unbalanced\n",
      "[LightGBM] [Info] Number of positive: 15539, number of negative: 77699\n",
      "[LightGBM] [Info] Auto-choosing row-wise multi-threading, the overhead of testing was 0.036436 seconds.\n",
      "You can set `force_row_wise=true` to remove the overhead.\n",
      "And if memory is not enough, you can set `force_col_wise=true`.\n",
      "[LightGBM] [Info] Total Bins 411\n",
      "[LightGBM] [Info] Number of data points in the train set: 93238, number of used features: 33\n",
      "[LightGBM] [Info] [binary:BoostFromScore]: pavg=0.166660 -> initscore=-1.609489\n",
      "[LightGBM] [Info] Start training from score -1.609489\n",
      "[LightGBM] [Warning] Unknown parameter: is_unbalanced\n",
      "True Negatives (TN): 33299\n",
      "False Positives (FP): 2\n",
      "False Negatives (FN): 72\n",
      "True Positives (TP): 141\n",
      "Params: num_leaves=80, learning_rate=0.090, num_iterations=200\n",
      " → Optimal Threshold: 0.9862\n",
      " → Recall: 0.6620, Specificity: 0.9999\n",
      "\n",
      "[LightGBM] [Warning] Unknown parameter: is_unbalanced\n"
     ]
    },
    {
     "name": "stderr",
     "output_type": "stream",
     "text": [
      "C:\\Users\\Neil\\AppData\\Roaming\\Python\\Python311\\site-packages\\lightgbm\\engine.py:204: UserWarning: Found `num_iterations` in params. Will use it instead of argument\n",
      "  _log_warning(f\"Found `{alias}` in params. Will use it instead of argument\")\n"
     ]
    },
    {
     "name": "stdout",
     "output_type": "stream",
     "text": [
      "[LightGBM] [Warning] Unknown parameter: is_unbalanced\n",
      "[LightGBM] [Info] Number of positive: 15539, number of negative: 77699\n",
      "[LightGBM] [Info] Auto-choosing row-wise multi-threading, the overhead of testing was 0.039999 seconds.\n",
      "You can set `force_row_wise=true` to remove the overhead.\n",
      "And if memory is not enough, you can set `force_col_wise=true`.\n",
      "[LightGBM] [Info] Total Bins 411\n",
      "[LightGBM] [Info] Number of data points in the train set: 93238, number of used features: 33\n",
      "[LightGBM] [Info] [binary:BoostFromScore]: pavg=0.166660 -> initscore=-1.609489\n",
      "[LightGBM] [Info] Start training from score -1.609489\n",
      "[LightGBM] [Warning] Unknown parameter: is_unbalanced\n",
      "True Negatives (TN): 33290\n",
      "False Positives (FP): 11\n",
      "False Negatives (FN): 61\n",
      "True Positives (TP): 152\n",
      "Params: num_leaves=80, learning_rate=0.120, num_iterations=50\n",
      " → Optimal Threshold: 0.8975\n",
      " → Recall: 0.7136, Specificity: 0.9997\n",
      "\n",
      "[LightGBM] [Warning] Unknown parameter: is_unbalanced\n"
     ]
    },
    {
     "name": "stderr",
     "output_type": "stream",
     "text": [
      "C:\\Users\\Neil\\AppData\\Roaming\\Python\\Python311\\site-packages\\lightgbm\\engine.py:204: UserWarning: Found `num_iterations` in params. Will use it instead of argument\n",
      "  _log_warning(f\"Found `{alias}` in params. Will use it instead of argument\")\n"
     ]
    },
    {
     "name": "stdout",
     "output_type": "stream",
     "text": [
      "[LightGBM] [Warning] Unknown parameter: is_unbalanced\n",
      "[LightGBM] [Info] Number of positive: 15539, number of negative: 77699\n",
      "[LightGBM] [Info] Auto-choosing row-wise multi-threading, the overhead of testing was 0.042146 seconds.\n",
      "You can set `force_row_wise=true` to remove the overhead.\n",
      "And if memory is not enough, you can set `force_col_wise=true`.\n",
      "[LightGBM] [Info] Total Bins 411\n",
      "[LightGBM] [Info] Number of data points in the train set: 93238, number of used features: 33\n",
      "[LightGBM] [Info] [binary:BoostFromScore]: pavg=0.166660 -> initscore=-1.609489\n",
      "[LightGBM] [Info] Start training from score -1.609489\n",
      "[LightGBM] [Warning] Unknown parameter: is_unbalanced\n",
      "True Negatives (TN): 33296\n",
      "False Positives (FP): 5\n",
      "False Negatives (FN): 65\n",
      "True Positives (TP): 148\n",
      "Params: num_leaves=80, learning_rate=0.120, num_iterations=100\n",
      " → Optimal Threshold: 0.9512\n",
      " → Recall: 0.6948, Specificity: 0.9998\n",
      "\n",
      "[LightGBM] [Warning] Unknown parameter: is_unbalanced\n"
     ]
    },
    {
     "name": "stderr",
     "output_type": "stream",
     "text": [
      "C:\\Users\\Neil\\AppData\\Roaming\\Python\\Python311\\site-packages\\lightgbm\\engine.py:204: UserWarning: Found `num_iterations` in params. Will use it instead of argument\n",
      "  _log_warning(f\"Found `{alias}` in params. Will use it instead of argument\")\n"
     ]
    },
    {
     "name": "stdout",
     "output_type": "stream",
     "text": [
      "[LightGBM] [Warning] Unknown parameter: is_unbalanced\n",
      "[LightGBM] [Info] Number of positive: 15539, number of negative: 77699\n",
      "[LightGBM] [Info] Auto-choosing row-wise multi-threading, the overhead of testing was 0.038561 seconds.\n",
      "You can set `force_row_wise=true` to remove the overhead.\n",
      "And if memory is not enough, you can set `force_col_wise=true`.\n",
      "[LightGBM] [Info] Total Bins 411\n",
      "[LightGBM] [Info] Number of data points in the train set: 93238, number of used features: 33\n",
      "[LightGBM] [Info] [binary:BoostFromScore]: pavg=0.166660 -> initscore=-1.609489\n",
      "[LightGBM] [Info] Start training from score -1.609489\n",
      "[LightGBM] [Warning] Unknown parameter: is_unbalanced\n",
      "True Negatives (TN): 33298\n",
      "False Positives (FP): 3\n",
      "False Negatives (FN): 66\n",
      "True Positives (TP): 147\n",
      "Params: num_leaves=80, learning_rate=0.120, num_iterations=150\n",
      " → Optimal Threshold: 0.9724\n",
      " → Recall: 0.6901, Specificity: 0.9999\n",
      "\n",
      "[LightGBM] [Warning] Unknown parameter: is_unbalanced\n"
     ]
    },
    {
     "name": "stderr",
     "output_type": "stream",
     "text": [
      "C:\\Users\\Neil\\AppData\\Roaming\\Python\\Python311\\site-packages\\lightgbm\\engine.py:204: UserWarning: Found `num_iterations` in params. Will use it instead of argument\n",
      "  _log_warning(f\"Found `{alias}` in params. Will use it instead of argument\")\n"
     ]
    },
    {
     "name": "stdout",
     "output_type": "stream",
     "text": [
      "[LightGBM] [Warning] Unknown parameter: is_unbalanced\n",
      "[LightGBM] [Info] Number of positive: 15539, number of negative: 77699\n",
      "[LightGBM] [Info] Auto-choosing row-wise multi-threading, the overhead of testing was 0.042774 seconds.\n",
      "You can set `force_row_wise=true` to remove the overhead.\n",
      "And if memory is not enough, you can set `force_col_wise=true`.\n",
      "[LightGBM] [Info] Total Bins 411\n",
      "[LightGBM] [Info] Number of data points in the train set: 93238, number of used features: 33\n",
      "[LightGBM] [Info] [binary:BoostFromScore]: pavg=0.166660 -> initscore=-1.609489\n",
      "[LightGBM] [Info] Start training from score -1.609489\n",
      "[LightGBM] [Warning] Unknown parameter: is_unbalanced\n",
      "True Negatives (TN): 33296\n",
      "False Positives (FP): 5\n",
      "False Negatives (FN): 66\n",
      "True Positives (TP): 147\n",
      "Params: num_leaves=80, learning_rate=0.120, num_iterations=200\n",
      " → Optimal Threshold: 0.9806\n",
      " → Recall: 0.6901, Specificity: 0.9998\n",
      "\n",
      "[LightGBM] [Warning] Unknown parameter: is_unbalanced\n"
     ]
    },
    {
     "name": "stderr",
     "output_type": "stream",
     "text": [
      "C:\\Users\\Neil\\AppData\\Roaming\\Python\\Python311\\site-packages\\lightgbm\\engine.py:204: UserWarning: Found `num_iterations` in params. Will use it instead of argument\n",
      "  _log_warning(f\"Found `{alias}` in params. Will use it instead of argument\")\n"
     ]
    },
    {
     "name": "stdout",
     "output_type": "stream",
     "text": [
      "[LightGBM] [Warning] Unknown parameter: is_unbalanced\n",
      "[LightGBM] [Info] Number of positive: 15539, number of negative: 77699\n",
      "[LightGBM] [Info] Auto-choosing row-wise multi-threading, the overhead of testing was 0.040818 seconds.\n",
      "You can set `force_row_wise=true` to remove the overhead.\n",
      "And if memory is not enough, you can set `force_col_wise=true`.\n",
      "[LightGBM] [Info] Total Bins 411\n",
      "[LightGBM] [Info] Number of data points in the train set: 93238, number of used features: 33\n",
      "[LightGBM] [Info] [binary:BoostFromScore]: pavg=0.166660 -> initscore=-1.609489\n",
      "[LightGBM] [Info] Start training from score -1.609489\n",
      "[LightGBM] [Warning] Unknown parameter: is_unbalanced\n",
      "True Negatives (TN): 33290\n",
      "False Positives (FP): 11\n",
      "False Negatives (FN): 59\n",
      "True Positives (TP): 154\n",
      "Params: num_leaves=80, learning_rate=0.150, num_iterations=50\n",
      " → Optimal Threshold: 0.9244\n",
      " → Recall: 0.7230, Specificity: 0.9997\n",
      "\n",
      "[LightGBM] [Warning] Unknown parameter: is_unbalanced\n"
     ]
    },
    {
     "name": "stderr",
     "output_type": "stream",
     "text": [
      "C:\\Users\\Neil\\AppData\\Roaming\\Python\\Python311\\site-packages\\lightgbm\\engine.py:204: UserWarning: Found `num_iterations` in params. Will use it instead of argument\n",
      "  _log_warning(f\"Found `{alias}` in params. Will use it instead of argument\")\n"
     ]
    },
    {
     "name": "stdout",
     "output_type": "stream",
     "text": [
      "[LightGBM] [Warning] Unknown parameter: is_unbalanced\n",
      "[LightGBM] [Info] Number of positive: 15539, number of negative: 77699\n",
      "[LightGBM] [Info] Auto-choosing row-wise multi-threading, the overhead of testing was 0.038703 seconds.\n",
      "You can set `force_row_wise=true` to remove the overhead.\n",
      "And if memory is not enough, you can set `force_col_wise=true`.\n",
      "[LightGBM] [Info] Total Bins 411\n",
      "[LightGBM] [Info] Number of data points in the train set: 93238, number of used features: 33\n",
      "[LightGBM] [Info] [binary:BoostFromScore]: pavg=0.166660 -> initscore=-1.609489\n",
      "[LightGBM] [Info] Start training from score -1.609489\n",
      "[LightGBM] [Warning] Unknown parameter: is_unbalanced\n",
      "True Negatives (TN): 33290\n",
      "False Positives (FP): 11\n",
      "False Negatives (FN): 65\n",
      "True Positives (TP): 148\n",
      "Params: num_leaves=80, learning_rate=0.150, num_iterations=100\n",
      " → Optimal Threshold: 0.9430\n",
      " → Recall: 0.6948, Specificity: 0.9997\n",
      "\n",
      "[LightGBM] [Warning] Unknown parameter: is_unbalanced\n"
     ]
    },
    {
     "name": "stderr",
     "output_type": "stream",
     "text": [
      "C:\\Users\\Neil\\AppData\\Roaming\\Python\\Python311\\site-packages\\lightgbm\\engine.py:204: UserWarning: Found `num_iterations` in params. Will use it instead of argument\n",
      "  _log_warning(f\"Found `{alias}` in params. Will use it instead of argument\")\n"
     ]
    },
    {
     "name": "stdout",
     "output_type": "stream",
     "text": [
      "[LightGBM] [Warning] Unknown parameter: is_unbalanced\n",
      "[LightGBM] [Info] Number of positive: 15539, number of negative: 77699\n",
      "[LightGBM] [Info] Auto-choosing row-wise multi-threading, the overhead of testing was 0.039795 seconds.\n",
      "You can set `force_row_wise=true` to remove the overhead.\n",
      "And if memory is not enough, you can set `force_col_wise=true`.\n",
      "[LightGBM] [Info] Total Bins 411\n",
      "[LightGBM] [Info] Number of data points in the train set: 93238, number of used features: 33\n",
      "[LightGBM] [Info] [binary:BoostFromScore]: pavg=0.166660 -> initscore=-1.609489\n",
      "[LightGBM] [Info] Start training from score -1.609489\n",
      "[LightGBM] [Warning] Unknown parameter: is_unbalanced\n",
      "True Negatives (TN): 33297\n",
      "False Positives (FP): 4\n",
      "False Negatives (FN): 71\n",
      "True Positives (TP): 142\n",
      "Params: num_leaves=80, learning_rate=0.150, num_iterations=150\n",
      " → Optimal Threshold: 0.9895\n",
      " → Recall: 0.6667, Specificity: 0.9999\n",
      "\n",
      "[LightGBM] [Warning] Unknown parameter: is_unbalanced\n"
     ]
    },
    {
     "name": "stderr",
     "output_type": "stream",
     "text": [
      "C:\\Users\\Neil\\AppData\\Roaming\\Python\\Python311\\site-packages\\lightgbm\\engine.py:204: UserWarning: Found `num_iterations` in params. Will use it instead of argument\n",
      "  _log_warning(f\"Found `{alias}` in params. Will use it instead of argument\")\n"
     ]
    },
    {
     "name": "stdout",
     "output_type": "stream",
     "text": [
      "[LightGBM] [Warning] Unknown parameter: is_unbalanced\n",
      "[LightGBM] [Info] Number of positive: 15539, number of negative: 77699\n",
      "[LightGBM] [Info] Auto-choosing row-wise multi-threading, the overhead of testing was 0.041101 seconds.\n",
      "You can set `force_row_wise=true` to remove the overhead.\n",
      "And if memory is not enough, you can set `force_col_wise=true`.\n",
      "[LightGBM] [Info] Total Bins 411\n",
      "[LightGBM] [Info] Number of data points in the train set: 93238, number of used features: 33\n",
      "[LightGBM] [Info] [binary:BoostFromScore]: pavg=0.166660 -> initscore=-1.609489\n",
      "[LightGBM] [Info] Start training from score -1.609489\n",
      "[LightGBM] [Warning] Unknown parameter: is_unbalanced\n",
      "True Negatives (TN): 33294\n",
      "False Positives (FP): 7\n",
      "False Negatives (FN): 71\n",
      "True Positives (TP): 142\n",
      "Params: num_leaves=80, learning_rate=0.150, num_iterations=200\n",
      " → Optimal Threshold: 0.9925\n",
      " → Recall: 0.6667, Specificity: 0.9998\n",
      "\n",
      "[LightGBM] [Warning] Unknown parameter: is_unbalanced\n"
     ]
    },
    {
     "name": "stderr",
     "output_type": "stream",
     "text": [
      "C:\\Users\\Neil\\AppData\\Roaming\\Python\\Python311\\site-packages\\lightgbm\\engine.py:204: UserWarning: Found `num_iterations` in params. Will use it instead of argument\n",
      "  _log_warning(f\"Found `{alias}` in params. Will use it instead of argument\")\n"
     ]
    },
    {
     "name": "stdout",
     "output_type": "stream",
     "text": [
      "[LightGBM] [Warning] Unknown parameter: is_unbalanced\n",
      "[LightGBM] [Info] Number of positive: 15539, number of negative: 77699\n",
      "[LightGBM] [Info] Auto-choosing row-wise multi-threading, the overhead of testing was 0.036881 seconds.\n",
      "You can set `force_row_wise=true` to remove the overhead.\n",
      "And if memory is not enough, you can set `force_col_wise=true`.\n",
      "[LightGBM] [Info] Total Bins 411\n",
      "[LightGBM] [Info] Number of data points in the train set: 93238, number of used features: 33\n",
      "[LightGBM] [Info] [binary:BoostFromScore]: pavg=0.166660 -> initscore=-1.609489\n",
      "[LightGBM] [Info] Start training from score -1.609489\n",
      "[LightGBM] [Warning] Unknown parameter: is_unbalanced\n",
      "True Negatives (TN): 33286\n",
      "False Positives (FP): 15\n",
      "False Negatives (FN): 54\n",
      "True Positives (TP): 159\n",
      "Params: num_leaves=100, learning_rate=0.030, num_iterations=50\n",
      " → Optimal Threshold: 0.7912\n",
      " → Recall: 0.7465, Specificity: 0.9995\n",
      "\n"
     ]
    },
    {
     "name": "stderr",
     "output_type": "stream",
     "text": [
      "C:\\Users\\Neil\\AppData\\Roaming\\Python\\Python311\\site-packages\\lightgbm\\engine.py:204: UserWarning: Found `num_iterations` in params. Will use it instead of argument\n",
      "  _log_warning(f\"Found `{alias}` in params. Will use it instead of argument\")\n"
     ]
    },
    {
     "name": "stdout",
     "output_type": "stream",
     "text": [
      "[LightGBM] [Warning] Unknown parameter: is_unbalanced\n",
      "[LightGBM] [Warning] Unknown parameter: is_unbalanced\n",
      "[LightGBM] [Info] Number of positive: 15539, number of negative: 77699\n",
      "[LightGBM] [Info] Auto-choosing row-wise multi-threading, the overhead of testing was 0.038464 seconds.\n",
      "You can set `force_row_wise=true` to remove the overhead.\n",
      "And if memory is not enough, you can set `force_col_wise=true`.\n",
      "[LightGBM] [Info] Total Bins 411\n",
      "[LightGBM] [Info] Number of data points in the train set: 93238, number of used features: 33\n",
      "[LightGBM] [Info] [binary:BoostFromScore]: pavg=0.166660 -> initscore=-1.609489\n",
      "[LightGBM] [Info] Start training from score -1.609489\n",
      "[LightGBM] [Warning] Unknown parameter: is_unbalanced\n",
      "True Negatives (TN): 33296\n",
      "False Positives (FP): 5\n",
      "False Negatives (FN): 64\n",
      "True Positives (TP): 149\n",
      "Params: num_leaves=100, learning_rate=0.030, num_iterations=100\n",
      " → Optimal Threshold: 0.9470\n",
      " → Recall: 0.6995, Specificity: 0.9998\n",
      "\n",
      "[LightGBM] [Warning] Unknown parameter: is_unbalanced\n"
     ]
    },
    {
     "name": "stderr",
     "output_type": "stream",
     "text": [
      "C:\\Users\\Neil\\AppData\\Roaming\\Python\\Python311\\site-packages\\lightgbm\\engine.py:204: UserWarning: Found `num_iterations` in params. Will use it instead of argument\n",
      "  _log_warning(f\"Found `{alias}` in params. Will use it instead of argument\")\n"
     ]
    },
    {
     "name": "stdout",
     "output_type": "stream",
     "text": [
      "[LightGBM] [Warning] Unknown parameter: is_unbalanced\n",
      "[LightGBM] [Info] Number of positive: 15539, number of negative: 77699\n",
      "[LightGBM] [Info] Auto-choosing row-wise multi-threading, the overhead of testing was 0.037462 seconds.\n",
      "You can set `force_row_wise=true` to remove the overhead.\n",
      "And if memory is not enough, you can set `force_col_wise=true`.\n",
      "[LightGBM] [Info] Total Bins 411\n",
      "[LightGBM] [Info] Number of data points in the train set: 93238, number of used features: 33\n",
      "[LightGBM] [Info] [binary:BoostFromScore]: pavg=0.166660 -> initscore=-1.609489\n",
      "[LightGBM] [Info] Start training from score -1.609489\n",
      "[LightGBM] [Warning] Unknown parameter: is_unbalanced\n",
      "True Negatives (TN): 33289\n",
      "False Positives (FP): 12\n",
      "False Negatives (FN): 57\n",
      "True Positives (TP): 156\n",
      "Params: num_leaves=100, learning_rate=0.030, num_iterations=150\n",
      " → Optimal Threshold: 0.8900\n",
      " → Recall: 0.7324, Specificity: 0.9996\n",
      "\n",
      "[LightGBM] [Warning] Unknown parameter: is_unbalanced\n"
     ]
    },
    {
     "name": "stderr",
     "output_type": "stream",
     "text": [
      "C:\\Users\\Neil\\AppData\\Roaming\\Python\\Python311\\site-packages\\lightgbm\\engine.py:204: UserWarning: Found `num_iterations` in params. Will use it instead of argument\n",
      "  _log_warning(f\"Found `{alias}` in params. Will use it instead of argument\")\n"
     ]
    },
    {
     "name": "stdout",
     "output_type": "stream",
     "text": [
      "[LightGBM] [Warning] Unknown parameter: is_unbalanced\n",
      "[LightGBM] [Info] Number of positive: 15539, number of negative: 77699\n",
      "[LightGBM] [Info] Auto-choosing row-wise multi-threading, the overhead of testing was 0.040901 seconds.\n",
      "You can set `force_row_wise=true` to remove the overhead.\n",
      "And if memory is not enough, you can set `force_col_wise=true`.\n",
      "[LightGBM] [Info] Total Bins 411\n",
      "[LightGBM] [Info] Number of data points in the train set: 93238, number of used features: 33\n",
      "[LightGBM] [Info] [binary:BoostFromScore]: pavg=0.166660 -> initscore=-1.609489\n",
      "[LightGBM] [Info] Start training from score -1.609489\n",
      "[LightGBM] [Warning] Unknown parameter: is_unbalanced\n",
      "True Negatives (TN): 33287\n",
      "False Positives (FP): 14\n",
      "False Negatives (FN): 58\n",
      "True Positives (TP): 155\n",
      "Params: num_leaves=100, learning_rate=0.030, num_iterations=200\n",
      " → Optimal Threshold: 0.8771\n",
      " → Recall: 0.7277, Specificity: 0.9996\n",
      "\n",
      "[LightGBM] [Warning] Unknown parameter: is_unbalanced\n"
     ]
    },
    {
     "name": "stderr",
     "output_type": "stream",
     "text": [
      "C:\\Users\\Neil\\AppData\\Roaming\\Python\\Python311\\site-packages\\lightgbm\\engine.py:204: UserWarning: Found `num_iterations` in params. Will use it instead of argument\n",
      "  _log_warning(f\"Found `{alias}` in params. Will use it instead of argument\")\n"
     ]
    },
    {
     "name": "stdout",
     "output_type": "stream",
     "text": [
      "[LightGBM] [Warning] Unknown parameter: is_unbalanced\n",
      "[LightGBM] [Info] Number of positive: 15539, number of negative: 77699\n",
      "[LightGBM] [Info] Auto-choosing row-wise multi-threading, the overhead of testing was 0.041460 seconds.\n",
      "You can set `force_row_wise=true` to remove the overhead.\n",
      "And if memory is not enough, you can set `force_col_wise=true`.\n",
      "[LightGBM] [Info] Total Bins 411\n",
      "[LightGBM] [Info] Number of data points in the train set: 93238, number of used features: 33\n",
      "[LightGBM] [Info] [binary:BoostFromScore]: pavg=0.166660 -> initscore=-1.609489\n",
      "[LightGBM] [Info] Start training from score -1.609489\n",
      "[LightGBM] [Warning] Unknown parameter: is_unbalanced\n",
      "True Negatives (TN): 33296\n",
      "False Positives (FP): 5\n",
      "False Negatives (FN): 64\n",
      "True Positives (TP): 149\n",
      "Params: num_leaves=100, learning_rate=0.060, num_iterations=50\n",
      " → Optimal Threshold: 0.9480\n",
      " → Recall: 0.6995, Specificity: 0.9998\n",
      "\n",
      "[LightGBM] [Warning] Unknown parameter: is_unbalanced\n"
     ]
    },
    {
     "name": "stderr",
     "output_type": "stream",
     "text": [
      "C:\\Users\\Neil\\AppData\\Roaming\\Python\\Python311\\site-packages\\lightgbm\\engine.py:204: UserWarning: Found `num_iterations` in params. Will use it instead of argument\n",
      "  _log_warning(f\"Found `{alias}` in params. Will use it instead of argument\")\n"
     ]
    },
    {
     "name": "stdout",
     "output_type": "stream",
     "text": [
      "[LightGBM] [Warning] Unknown parameter: is_unbalanced\n",
      "[LightGBM] [Info] Number of positive: 15539, number of negative: 77699\n",
      "[LightGBM] [Info] Auto-choosing row-wise multi-threading, the overhead of testing was 0.040212 seconds.\n",
      "You can set `force_row_wise=true` to remove the overhead.\n",
      "And if memory is not enough, you can set `force_col_wise=true`.\n",
      "[LightGBM] [Info] Total Bins 411\n",
      "[LightGBM] [Info] Number of data points in the train set: 93238, number of used features: 33\n",
      "[LightGBM] [Info] [binary:BoostFromScore]: pavg=0.166660 -> initscore=-1.609489\n",
      "[LightGBM] [Info] Start training from score -1.609489\n",
      "[LightGBM] [Warning] Unknown parameter: is_unbalanced\n",
      "True Negatives (TN): 33292\n",
      "False Positives (FP): 9\n",
      "False Negatives (FN): 62\n",
      "True Positives (TP): 151\n",
      "Params: num_leaves=100, learning_rate=0.060, num_iterations=100\n",
      " → Optimal Threshold: 0.9241\n",
      " → Recall: 0.7089, Specificity: 0.9997\n",
      "\n",
      "[LightGBM] [Warning] Unknown parameter: is_unbalanced\n"
     ]
    },
    {
     "name": "stderr",
     "output_type": "stream",
     "text": [
      "C:\\Users\\Neil\\AppData\\Roaming\\Python\\Python311\\site-packages\\lightgbm\\engine.py:204: UserWarning: Found `num_iterations` in params. Will use it instead of argument\n",
      "  _log_warning(f\"Found `{alias}` in params. Will use it instead of argument\")\n"
     ]
    },
    {
     "name": "stdout",
     "output_type": "stream",
     "text": [
      "[LightGBM] [Warning] Unknown parameter: is_unbalanced\n",
      "[LightGBM] [Info] Number of positive: 15539, number of negative: 77699\n",
      "[LightGBM] [Info] Auto-choosing row-wise multi-threading, the overhead of testing was 0.039516 seconds.\n",
      "You can set `force_row_wise=true` to remove the overhead.\n",
      "And if memory is not enough, you can set `force_col_wise=true`.\n",
      "[LightGBM] [Info] Total Bins 411\n",
      "[LightGBM] [Info] Number of data points in the train set: 93238, number of used features: 33\n",
      "[LightGBM] [Info] [binary:BoostFromScore]: pavg=0.166660 -> initscore=-1.609489\n",
      "[LightGBM] [Info] Start training from score -1.609489\n",
      "[LightGBM] [Warning] Unknown parameter: is_unbalanced\n",
      "True Negatives (TN): 33299\n",
      "False Positives (FP): 2\n",
      "False Negatives (FN): 66\n",
      "True Positives (TP): 147\n",
      "Params: num_leaves=100, learning_rate=0.060, num_iterations=150\n",
      " → Optimal Threshold: 0.9718\n",
      " → Recall: 0.6901, Specificity: 0.9999\n",
      "\n",
      "[LightGBM] [Warning] Unknown parameter: is_unbalanced\n"
     ]
    },
    {
     "name": "stderr",
     "output_type": "stream",
     "text": [
      "C:\\Users\\Neil\\AppData\\Roaming\\Python\\Python311\\site-packages\\lightgbm\\engine.py:204: UserWarning: Found `num_iterations` in params. Will use it instead of argument\n",
      "  _log_warning(f\"Found `{alias}` in params. Will use it instead of argument\")\n"
     ]
    },
    {
     "name": "stdout",
     "output_type": "stream",
     "text": [
      "[LightGBM] [Warning] Unknown parameter: is_unbalanced\n",
      "[LightGBM] [Info] Number of positive: 15539, number of negative: 77699\n",
      "[LightGBM] [Info] Auto-choosing row-wise multi-threading, the overhead of testing was 0.050750 seconds.\n",
      "You can set `force_row_wise=true` to remove the overhead.\n",
      "And if memory is not enough, you can set `force_col_wise=true`.\n",
      "[LightGBM] [Info] Total Bins 411\n",
      "[LightGBM] [Info] Number of data points in the train set: 93238, number of used features: 33\n",
      "[LightGBM] [Info] [binary:BoostFromScore]: pavg=0.166660 -> initscore=-1.609489\n",
      "[LightGBM] [Info] Start training from score -1.609489\n",
      "[LightGBM] [Warning] Unknown parameter: is_unbalanced\n",
      "True Negatives (TN): 33296\n",
      "False Positives (FP): 5\n",
      "False Negatives (FN): 66\n",
      "True Positives (TP): 147\n",
      "Params: num_leaves=100, learning_rate=0.060, num_iterations=200\n",
      " → Optimal Threshold: 0.9648\n",
      " → Recall: 0.6901, Specificity: 0.9998\n",
      "\n",
      "[LightGBM] [Warning] Unknown parameter: is_unbalanced\n"
     ]
    },
    {
     "name": "stderr",
     "output_type": "stream",
     "text": [
      "C:\\Users\\Neil\\AppData\\Roaming\\Python\\Python311\\site-packages\\lightgbm\\engine.py:204: UserWarning: Found `num_iterations` in params. Will use it instead of argument\n",
      "  _log_warning(f\"Found `{alias}` in params. Will use it instead of argument\")\n"
     ]
    },
    {
     "name": "stdout",
     "output_type": "stream",
     "text": [
      "[LightGBM] [Warning] Unknown parameter: is_unbalanced\n",
      "[LightGBM] [Info] Number of positive: 15539, number of negative: 77699\n",
      "[LightGBM] [Info] Auto-choosing row-wise multi-threading, the overhead of testing was 0.039200 seconds.\n",
      "You can set `force_row_wise=true` to remove the overhead.\n",
      "And if memory is not enough, you can set `force_col_wise=true`.\n",
      "[LightGBM] [Info] Total Bins 411\n",
      "[LightGBM] [Info] Number of data points in the train set: 93238, number of used features: 33\n",
      "[LightGBM] [Info] [binary:BoostFromScore]: pavg=0.166660 -> initscore=-1.609489\n",
      "[LightGBM] [Info] Start training from score -1.609489\n",
      "[LightGBM] [Warning] Unknown parameter: is_unbalanced\n",
      "True Negatives (TN): 33290\n",
      "False Positives (FP): 11\n",
      "False Negatives (FN): 62\n",
      "True Positives (TP): 151\n",
      "Params: num_leaves=100, learning_rate=0.090, num_iterations=50\n",
      " → Optimal Threshold: 0.9075\n",
      " → Recall: 0.7089, Specificity: 0.9997\n",
      "\n",
      "[LightGBM] [Warning] Unknown parameter: is_unbalanced\n"
     ]
    },
    {
     "name": "stderr",
     "output_type": "stream",
     "text": [
      "C:\\Users\\Neil\\AppData\\Roaming\\Python\\Python311\\site-packages\\lightgbm\\engine.py:204: UserWarning: Found `num_iterations` in params. Will use it instead of argument\n",
      "  _log_warning(f\"Found `{alias}` in params. Will use it instead of argument\")\n"
     ]
    },
    {
     "name": "stdout",
     "output_type": "stream",
     "text": [
      "[LightGBM] [Warning] Unknown parameter: is_unbalanced\n",
      "[LightGBM] [Info] Number of positive: 15539, number of negative: 77699\n",
      "[LightGBM] [Info] Auto-choosing row-wise multi-threading, the overhead of testing was 0.042822 seconds.\n",
      "You can set `force_row_wise=true` to remove the overhead.\n",
      "And if memory is not enough, you can set `force_col_wise=true`.\n",
      "[LightGBM] [Info] Total Bins 411\n",
      "[LightGBM] [Info] Number of data points in the train set: 93238, number of used features: 33\n",
      "[LightGBM] [Info] [binary:BoostFromScore]: pavg=0.166660 -> initscore=-1.609489\n",
      "[LightGBM] [Info] Start training from score -1.609489\n",
      "[LightGBM] [Warning] Unknown parameter: is_unbalanced\n",
      "True Negatives (TN): 33292\n",
      "False Positives (FP): 9\n",
      "False Negatives (FN): 66\n",
      "True Positives (TP): 147\n",
      "Params: num_leaves=100, learning_rate=0.090, num_iterations=100\n",
      " → Optimal Threshold: 0.9440\n",
      " → Recall: 0.6901, Specificity: 0.9997\n",
      "\n",
      "[LightGBM] [Warning] Unknown parameter: is_unbalanced\n"
     ]
    },
    {
     "name": "stderr",
     "output_type": "stream",
     "text": [
      "C:\\Users\\Neil\\AppData\\Roaming\\Python\\Python311\\site-packages\\lightgbm\\engine.py:204: UserWarning: Found `num_iterations` in params. Will use it instead of argument\n",
      "  _log_warning(f\"Found `{alias}` in params. Will use it instead of argument\")\n"
     ]
    },
    {
     "name": "stdout",
     "output_type": "stream",
     "text": [
      "[LightGBM] [Warning] Unknown parameter: is_unbalanced\n",
      "[LightGBM] [Info] Number of positive: 15539, number of negative: 77699\n",
      "[LightGBM] [Info] Auto-choosing row-wise multi-threading, the overhead of testing was 0.037951 seconds.\n",
      "You can set `force_row_wise=true` to remove the overhead.\n",
      "And if memory is not enough, you can set `force_col_wise=true`.\n",
      "[LightGBM] [Info] Total Bins 411\n",
      "[LightGBM] [Info] Number of data points in the train set: 93238, number of used features: 33\n",
      "[LightGBM] [Info] [binary:BoostFromScore]: pavg=0.166660 -> initscore=-1.609489\n",
      "[LightGBM] [Info] Start training from score -1.609489\n",
      "[LightGBM] [Warning] Unknown parameter: is_unbalanced\n",
      "True Negatives (TN): 33296\n",
      "False Positives (FP): 5\n",
      "False Negatives (FN): 70\n",
      "True Positives (TP): 143\n",
      "Params: num_leaves=100, learning_rate=0.090, num_iterations=150\n",
      " → Optimal Threshold: 0.9800\n",
      " → Recall: 0.6714, Specificity: 0.9998\n",
      "\n",
      "[LightGBM] [Warning] Unknown parameter: is_unbalanced\n"
     ]
    },
    {
     "name": "stderr",
     "output_type": "stream",
     "text": [
      "C:\\Users\\Neil\\AppData\\Roaming\\Python\\Python311\\site-packages\\lightgbm\\engine.py:204: UserWarning: Found `num_iterations` in params. Will use it instead of argument\n",
      "  _log_warning(f\"Found `{alias}` in params. Will use it instead of argument\")\n"
     ]
    },
    {
     "name": "stdout",
     "output_type": "stream",
     "text": [
      "[LightGBM] [Warning] Unknown parameter: is_unbalanced\n",
      "[LightGBM] [Info] Number of positive: 15539, number of negative: 77699\n",
      "[LightGBM] [Info] Auto-choosing row-wise multi-threading, the overhead of testing was 0.040652 seconds.\n",
      "You can set `force_row_wise=true` to remove the overhead.\n",
      "And if memory is not enough, you can set `force_col_wise=true`.\n",
      "[LightGBM] [Info] Total Bins 411\n",
      "[LightGBM] [Info] Number of data points in the train set: 93238, number of used features: 33\n",
      "[LightGBM] [Info] [binary:BoostFromScore]: pavg=0.166660 -> initscore=-1.609489\n",
      "[LightGBM] [Info] Start training from score -1.609489\n",
      "[LightGBM] [Warning] Unknown parameter: is_unbalanced\n",
      "True Negatives (TN): 33294\n",
      "False Positives (FP): 7\n",
      "False Negatives (FN): 69\n",
      "True Positives (TP): 144\n",
      "Params: num_leaves=100, learning_rate=0.090, num_iterations=200\n",
      " → Optimal Threshold: 0.9805\n",
      " → Recall: 0.6761, Specificity: 0.9998\n",
      "\n",
      "[LightGBM] [Warning] Unknown parameter: is_unbalanced\n"
     ]
    },
    {
     "name": "stderr",
     "output_type": "stream",
     "text": [
      "C:\\Users\\Neil\\AppData\\Roaming\\Python\\Python311\\site-packages\\lightgbm\\engine.py:204: UserWarning: Found `num_iterations` in params. Will use it instead of argument\n",
      "  _log_warning(f\"Found `{alias}` in params. Will use it instead of argument\")\n"
     ]
    },
    {
     "name": "stdout",
     "output_type": "stream",
     "text": [
      "[LightGBM] [Warning] Unknown parameter: is_unbalanced\n",
      "[LightGBM] [Info] Number of positive: 15539, number of negative: 77699\n",
      "[LightGBM] [Info] Auto-choosing row-wise multi-threading, the overhead of testing was 0.040406 seconds.\n",
      "You can set `force_row_wise=true` to remove the overhead.\n",
      "And if memory is not enough, you can set `force_col_wise=true`.\n",
      "[LightGBM] [Info] Total Bins 411\n",
      "[LightGBM] [Info] Number of data points in the train set: 93238, number of used features: 33\n",
      "[LightGBM] [Info] [binary:BoostFromScore]: pavg=0.166660 -> initscore=-1.609489\n",
      "[LightGBM] [Info] Start training from score -1.609489\n",
      "[LightGBM] [Warning] Unknown parameter: is_unbalanced\n",
      "True Negatives (TN): 33292\n",
      "False Positives (FP): 9\n",
      "False Negatives (FN): 65\n",
      "True Positives (TP): 148\n",
      "Params: num_leaves=100, learning_rate=0.120, num_iterations=50\n",
      " → Optimal Threshold: 0.9312\n",
      " → Recall: 0.6948, Specificity: 0.9997\n",
      "\n",
      "[LightGBM] [Warning] Unknown parameter: is_unbalanced\n"
     ]
    },
    {
     "name": "stderr",
     "output_type": "stream",
     "text": [
      "C:\\Users\\Neil\\AppData\\Roaming\\Python\\Python311\\site-packages\\lightgbm\\engine.py:204: UserWarning: Found `num_iterations` in params. Will use it instead of argument\n",
      "  _log_warning(f\"Found `{alias}` in params. Will use it instead of argument\")\n"
     ]
    },
    {
     "name": "stdout",
     "output_type": "stream",
     "text": [
      "[LightGBM] [Warning] Unknown parameter: is_unbalanced\n",
      "[LightGBM] [Info] Number of positive: 15539, number of negative: 77699\n",
      "[LightGBM] [Info] Auto-choosing row-wise multi-threading, the overhead of testing was 0.048527 seconds.\n",
      "You can set `force_row_wise=true` to remove the overhead.\n",
      "And if memory is not enough, you can set `force_col_wise=true`.\n",
      "[LightGBM] [Info] Total Bins 411\n",
      "[LightGBM] [Info] Number of data points in the train set: 93238, number of used features: 33\n",
      "[LightGBM] [Info] [binary:BoostFromScore]: pavg=0.166660 -> initscore=-1.609489\n",
      "[LightGBM] [Info] Start training from score -1.609489\n",
      "[LightGBM] [Warning] Unknown parameter: is_unbalanced\n",
      "True Negatives (TN): 33296\n",
      "False Positives (FP): 5\n",
      "False Negatives (FN): 69\n",
      "True Positives (TP): 144\n",
      "Params: num_leaves=100, learning_rate=0.120, num_iterations=100\n",
      " → Optimal Threshold: 0.9730\n",
      " → Recall: 0.6761, Specificity: 0.9998\n",
      "\n",
      "[LightGBM] [Warning] Unknown parameter: is_unbalanced\n"
     ]
    },
    {
     "name": "stderr",
     "output_type": "stream",
     "text": [
      "C:\\Users\\Neil\\AppData\\Roaming\\Python\\Python311\\site-packages\\lightgbm\\engine.py:204: UserWarning: Found `num_iterations` in params. Will use it instead of argument\n",
      "  _log_warning(f\"Found `{alias}` in params. Will use it instead of argument\")\n"
     ]
    },
    {
     "name": "stdout",
     "output_type": "stream",
     "text": [
      "[LightGBM] [Warning] Unknown parameter: is_unbalanced\n",
      "[LightGBM] [Info] Number of positive: 15539, number of negative: 77699\n",
      "[LightGBM] [Info] Auto-choosing row-wise multi-threading, the overhead of testing was 0.039190 seconds.\n",
      "You can set `force_row_wise=true` to remove the overhead.\n",
      "And if memory is not enough, you can set `force_col_wise=true`.\n",
      "[LightGBM] [Info] Total Bins 411\n",
      "[LightGBM] [Info] Number of data points in the train set: 93238, number of used features: 33\n",
      "[LightGBM] [Info] [binary:BoostFromScore]: pavg=0.166660 -> initscore=-1.609489\n",
      "[LightGBM] [Info] Start training from score -1.609489\n",
      "[LightGBM] [Warning] Unknown parameter: is_unbalanced\n",
      "True Negatives (TN): 33291\n",
      "False Positives (FP): 10\n",
      "False Negatives (FN): 67\n",
      "True Positives (TP): 146\n",
      "Params: num_leaves=100, learning_rate=0.120, num_iterations=150\n",
      " → Optimal Threshold: 0.9783\n",
      " → Recall: 0.6854, Specificity: 0.9997\n",
      "\n",
      "[LightGBM] [Warning] Unknown parameter: is_unbalanced\n"
     ]
    },
    {
     "name": "stderr",
     "output_type": "stream",
     "text": [
      "C:\\Users\\Neil\\AppData\\Roaming\\Python\\Python311\\site-packages\\lightgbm\\engine.py:204: UserWarning: Found `num_iterations` in params. Will use it instead of argument\n",
      "  _log_warning(f\"Found `{alias}` in params. Will use it instead of argument\")\n"
     ]
    },
    {
     "name": "stdout",
     "output_type": "stream",
     "text": [
      "[LightGBM] [Warning] Unknown parameter: is_unbalanced\n",
      "[LightGBM] [Info] Number of positive: 15539, number of negative: 77699\n",
      "[LightGBM] [Info] Auto-choosing row-wise multi-threading, the overhead of testing was 0.047640 seconds.\n",
      "You can set `force_row_wise=true` to remove the overhead.\n",
      "And if memory is not enough, you can set `force_col_wise=true`.\n",
      "[LightGBM] [Info] Total Bins 411\n",
      "[LightGBM] [Info] Number of data points in the train set: 93238, number of used features: 33\n",
      "[LightGBM] [Info] [binary:BoostFromScore]: pavg=0.166660 -> initscore=-1.609489\n",
      "[LightGBM] [Info] Start training from score -1.609489\n",
      "[LightGBM] [Warning] Unknown parameter: is_unbalanced\n",
      "True Negatives (TN): 33293\n",
      "False Positives (FP): 8\n",
      "False Negatives (FN): 68\n",
      "True Positives (TP): 145\n",
      "Params: num_leaves=100, learning_rate=0.120, num_iterations=200\n",
      " → Optimal Threshold: 0.9885\n",
      " → Recall: 0.6808, Specificity: 0.9998\n",
      "\n",
      "[LightGBM] [Warning] Unknown parameter: is_unbalanced\n"
     ]
    },
    {
     "name": "stderr",
     "output_type": "stream",
     "text": [
      "C:\\Users\\Neil\\AppData\\Roaming\\Python\\Python311\\site-packages\\lightgbm\\engine.py:204: UserWarning: Found `num_iterations` in params. Will use it instead of argument\n",
      "  _log_warning(f\"Found `{alias}` in params. Will use it instead of argument\")\n"
     ]
    },
    {
     "name": "stdout",
     "output_type": "stream",
     "text": [
      "[LightGBM] [Warning] Unknown parameter: is_unbalanced\n",
      "[LightGBM] [Info] Number of positive: 15539, number of negative: 77699\n",
      "[LightGBM] [Info] Auto-choosing row-wise multi-threading, the overhead of testing was 0.040980 seconds.\n",
      "You can set `force_row_wise=true` to remove the overhead.\n",
      "And if memory is not enough, you can set `force_col_wise=true`.\n",
      "[LightGBM] [Info] Total Bins 411\n",
      "[LightGBM] [Info] Number of data points in the train set: 93238, number of used features: 33\n",
      "[LightGBM] [Info] [binary:BoostFromScore]: pavg=0.166660 -> initscore=-1.609489\n",
      "[LightGBM] [Info] Start training from score -1.609489\n",
      "[LightGBM] [Warning] Unknown parameter: is_unbalanced\n",
      "True Negatives (TN): 33296\n",
      "False Positives (FP): 5\n",
      "False Negatives (FN): 67\n",
      "True Positives (TP): 146\n",
      "Params: num_leaves=100, learning_rate=0.150, num_iterations=50\n",
      " → Optimal Threshold: 0.9649\n",
      " → Recall: 0.6854, Specificity: 0.9998\n",
      "\n",
      "[LightGBM] [Warning] Unknown parameter: is_unbalanced\n"
     ]
    },
    {
     "name": "stderr",
     "output_type": "stream",
     "text": [
      "C:\\Users\\Neil\\AppData\\Roaming\\Python\\Python311\\site-packages\\lightgbm\\engine.py:204: UserWarning: Found `num_iterations` in params. Will use it instead of argument\n",
      "  _log_warning(f\"Found `{alias}` in params. Will use it instead of argument\")\n"
     ]
    },
    {
     "name": "stdout",
     "output_type": "stream",
     "text": [
      "[LightGBM] [Warning] Unknown parameter: is_unbalanced\n",
      "[LightGBM] [Info] Number of positive: 15539, number of negative: 77699\n",
      "[LightGBM] [Info] Auto-choosing row-wise multi-threading, the overhead of testing was 0.036807 seconds.\n",
      "You can set `force_row_wise=true` to remove the overhead.\n",
      "And if memory is not enough, you can set `force_col_wise=true`.\n",
      "[LightGBM] [Info] Total Bins 411\n",
      "[LightGBM] [Info] Number of data points in the train set: 93238, number of used features: 33\n",
      "[LightGBM] [Info] [binary:BoostFromScore]: pavg=0.166660 -> initscore=-1.609489\n",
      "[LightGBM] [Info] Start training from score -1.609489\n",
      "[LightGBM] [Warning] Unknown parameter: is_unbalanced\n",
      "True Negatives (TN): 33292\n",
      "False Positives (FP): 9\n",
      "False Negatives (FN): 64\n",
      "True Positives (TP): 149\n",
      "Params: num_leaves=100, learning_rate=0.150, num_iterations=100\n",
      " → Optimal Threshold: 0.9602\n",
      " → Recall: 0.6995, Specificity: 0.9997\n",
      "\n",
      "[LightGBM] [Warning] Unknown parameter: is_unbalanced\n"
     ]
    },
    {
     "name": "stderr",
     "output_type": "stream",
     "text": [
      "C:\\Users\\Neil\\AppData\\Roaming\\Python\\Python311\\site-packages\\lightgbm\\engine.py:204: UserWarning: Found `num_iterations` in params. Will use it instead of argument\n",
      "  _log_warning(f\"Found `{alias}` in params. Will use it instead of argument\")\n"
     ]
    },
    {
     "name": "stdout",
     "output_type": "stream",
     "text": [
      "[LightGBM] [Warning] Unknown parameter: is_unbalanced\n",
      "[LightGBM] [Info] Number of positive: 15539, number of negative: 77699\n",
      "[LightGBM] [Info] Auto-choosing row-wise multi-threading, the overhead of testing was 0.034185 seconds.\n",
      "You can set `force_row_wise=true` to remove the overhead.\n",
      "And if memory is not enough, you can set `force_col_wise=true`.\n",
      "[LightGBM] [Info] Total Bins 411\n",
      "[LightGBM] [Info] Number of data points in the train set: 93238, number of used features: 33\n",
      "[LightGBM] [Info] [binary:BoostFromScore]: pavg=0.166660 -> initscore=-1.609489\n",
      "[LightGBM] [Info] Start training from score -1.609489\n",
      "[LightGBM] [Warning] Unknown parameter: is_unbalanced\n",
      "True Negatives (TN): 33293\n",
      "False Positives (FP): 8\n",
      "False Negatives (FN): 65\n",
      "True Positives (TP): 148\n",
      "Params: num_leaves=100, learning_rate=0.150, num_iterations=150\n",
      " → Optimal Threshold: 0.9837\n",
      " → Recall: 0.6948, Specificity: 0.9998\n",
      "\n",
      "[LightGBM] [Warning] Unknown parameter: is_unbalanced\n"
     ]
    },
    {
     "name": "stderr",
     "output_type": "stream",
     "text": [
      "C:\\Users\\Neil\\AppData\\Roaming\\Python\\Python311\\site-packages\\lightgbm\\engine.py:204: UserWarning: Found `num_iterations` in params. Will use it instead of argument\n",
      "  _log_warning(f\"Found `{alias}` in params. Will use it instead of argument\")\n"
     ]
    },
    {
     "name": "stdout",
     "output_type": "stream",
     "text": [
      "[LightGBM] [Warning] Unknown parameter: is_unbalanced\n",
      "[LightGBM] [Info] Number of positive: 15539, number of negative: 77699\n",
      "[LightGBM] [Info] Auto-choosing row-wise multi-threading, the overhead of testing was 0.039914 seconds.\n",
      "You can set `force_row_wise=true` to remove the overhead.\n",
      "And if memory is not enough, you can set `force_col_wise=true`.\n",
      "[LightGBM] [Info] Total Bins 411\n",
      "[LightGBM] [Info] Number of data points in the train set: 93238, number of used features: 33\n",
      "[LightGBM] [Info] [binary:BoostFromScore]: pavg=0.166660 -> initscore=-1.609489\n",
      "[LightGBM] [Info] Start training from score -1.609489\n",
      "[LightGBM] [Warning] Unknown parameter: is_unbalanced\n",
      "True Negatives (TN): 33290\n",
      "False Positives (FP): 11\n",
      "False Negatives (FN): 63\n",
      "True Positives (TP): 150\n",
      "Params: num_leaves=100, learning_rate=0.150, num_iterations=200\n",
      " → Optimal Threshold: 0.9888\n",
      " → Recall: 0.7042, Specificity: 0.9997\n",
      "\n",
      "Grid Search Complete!\n",
      "\n",
      "Best Recall Score:\n",
      " → Score: 0.7840\n",
      " → Params: {'num_leaves': 40, 'learning_rate': 0.09, 'num_iterations': 50, 'threshold': 0.8243757344973642}\n",
      "\n",
      "Best Specificity Score:\n",
      " → Score: 1.0000\n",
      " → Params: {'num_leaves': 20, 'learning_rate': 0.12, 'num_iterations': 200, 'threshold': 0.9861104026968041}\n",
      "\n",
      "{'recall': {'score': 0.784037558685446, 'params': {'num_leaves': 40, 'learning_rate': 0.09, 'num_iterations': 50, 'threshold': 0.8243757344973642}}, 'specificity': {'score': 0.9999699708717456, 'params': {'num_leaves': 20, 'learning_rate': 0.12, 'num_iterations': 200, 'threshold': 0.9861104026968041}}}\n"
     ]
    }
   ],
   "source": [
    "results = grid_search_lgbm(X_train_split, y_train_split, X_val, y_val)\n",
    "print(results)"
   ]
  },
  {
   "cell_type": "markdown",
   "id": "f49a9dcd-f81b-4fca-8fd5-9fbf0f3aec4a",
   "metadata": {},
   "source": [
    "## LGBM MODEL"
   ]
  },
  {
   "cell_type": "code",
   "execution_count": 14,
   "id": "03209fe5-adaa-428b-ba7b-26f735dc8920",
   "metadata": {
    "scrolled": true,
    "tags": []
   },
   "outputs": [
    {
     "name": "stderr",
     "output_type": "stream",
     "text": [
      "C:\\Users\\Neil\\AppData\\Roaming\\Python\\Python311\\site-packages\\lightgbm\\engine.py:204: UserWarning: Found `num_iterations` in params. Will use it instead of argument\n",
      "  _log_warning(f\"Found `{alias}` in params. Will use it instead of argument\")\n"
     ]
    },
    {
     "name": "stdout",
     "output_type": "stream",
     "text": [
      "[LightGBM] [Warning] Unknown parameter: is_unbalanced\n",
      "[LightGBM] [Warning] Unknown parameter: is_unbalanced\n",
      "[LightGBM] [Info] Number of positive: 15539, number of negative: 77699\n",
      "[LightGBM] [Info] Auto-choosing row-wise multi-threading, the overhead of testing was 0.043954 seconds.\n",
      "You can set `force_row_wise=true` to remove the overhead.\n",
      "And if memory is not enough, you can set `force_col_wise=true`.\n",
      "[LightGBM] [Info] Total Bins 411\n",
      "[LightGBM] [Info] Number of data points in the train set: 93238, number of used features: 33\n",
      "[LightGBM] [Info] [binary:BoostFromScore]: pavg=0.166660 -> initscore=-1.609489\n",
      "[LightGBM] [Info] Start training from score -1.609489\n",
      "[LightGBM] [Warning] Unknown parameter: is_unbalanced\n",
      "Model Training Complete\n"
     ]
    }
   ],
   "source": [
    "#Initialize the LGBMClassifier\n",
    "model = lgb.LGBMClassifier(\n",
    "    boosting_type='gbdt',   # Gradient Boosting Decision Tree\n",
    "    objective='binary',     # Binary classification\n",
    "    metric='binary_logloss', # Log loss metric for binary classification\n",
    "    learning_rate=0.09,\n",
    "    num_iterations=50,\n",
    "    num_leaves=60,\n",
    "    is_unbalanced=True,\n",
    "    random_state=42,\n",
    "    bagging_seed=42,\n",
    "    feature_fraction_seed=42,\n",
    "    drop_seed=42,\n",
    "    data_random_seed=42,\n",
    "    deterministic=True,\n",
    "    n_jobs=1\n",
    ")\n",
    "\n",
    "\n",
    "#Train the model\n",
    "model.fit(X_train_split, y_train_split)\n",
    "y_proba = model.predict_proba(X_val)  # Returns probability for each class\n",
    "\n",
    "print(\"Model Training Complete\")"
   ]
  },
  {
   "cell_type": "markdown",
   "id": "347396e8-69e7-4b88-aa3f-92f1dcb9290a",
   "metadata": {},
   "source": [
    "## Option 1: Optimal Threshold using Precision-Recall Curve"
   ]
  },
  {
   "cell_type": "code",
   "execution_count": 15,
   "id": "b6ac49a8-d33e-4552-8822-d3570e9a1c01",
   "metadata": {
    "tags": []
   },
   "outputs": [
    {
     "name": "stdout",
     "output_type": "stream",
     "text": [
      "Optimal threshold for maximum F1 score: 0.9113386182676182\n"
     ]
    }
   ],
   "source": [
    "# Assume y_test is your true labels and y_proba[:, 1] are predicted probabilities for the positive class\n",
    "precision, recall, thresholds = precision_recall_curve(y_val, y_proba[:, 1])\n",
    "\n",
    "# Compute F1 score for each threshold\n",
    "f1_scores = 2 * (precision * recall) / (precision + recall)\n",
    "\n",
    "# Find the threshold that maximizes F1 score\n",
    "optimal_threshold = thresholds[np.argmax(f1_scores)]\n",
    "\n",
    "print(\"Optimal threshold for maximum F1 score:\", optimal_threshold)"
   ]
  },
  {
   "cell_type": "markdown",
   "id": "96bd9706-deed-4546-95b2-460a0c145fff",
   "metadata": {},
   "source": [
    "## Apply Optimal Threshold"
   ]
  },
  {
   "cell_type": "code",
   "execution_count": 17,
   "id": "2caadd61-6a95-4f7e-8a5e-9c448d528428",
   "metadata": {
    "tags": []
   },
   "outputs": [
    {
     "name": "stdout",
     "output_type": "stream",
     "text": [
      "[0 0 0 ... 0 0 1]\n"
     ]
    }
   ],
   "source": [
    "# Apply custom threshold\n",
    "threshold = optimal_threshold\n",
    "\n",
    "y_pred = (y_proba[:,1] >= threshold).astype(int)  # Convert probabilities to 0/1\n",
    "\n",
    "# Print results\n",
    "print(y_pred)"
   ]
  },
  {
   "cell_type": "markdown",
   "id": "a80e5478-fa73-4197-9ec1-8470a33964b9",
   "metadata": {},
   "source": [
    "## Metrics Evaluation"
   ]
  },
  {
   "cell_type": "code",
   "execution_count": 18,
   "id": "36ec2764-dd9b-41a1-a7d2-89d13e24ecaf",
   "metadata": {
    "tags": []
   },
   "outputs": [
    {
     "name": "stdout",
     "output_type": "stream",
     "text": [
      "True Negatives (TN): 33291\n",
      "False Positives (FP): 10\n",
      "False Negatives (FN): 56\n",
      "True Positives (TP): 157\n",
      "[[33291    10]\n",
      " [   56   157]]\n",
      "Accuracy: 0.9980\n",
      "Precision: 0.9401\n",
      "Recall: 0.7371\n",
      "F1 Score: 0.8263\n",
      "AUC: 0.9816\n",
      "Specificity: 0.9997\n"
     ]
    }
   ],
   "source": [
    "# Get actual labels from y2\n",
    "y_true = y_val \n",
    "\n",
    "\n",
    "def calculate_specificity(y_true, y_pred):\n",
    "    \"\"\"\n",
    "    Calculate specificity from true and predicted labels.\n",
    "    \n",
    "    Parameters:\n",
    "        y_true (list or array): True binary labels.\n",
    "        y_pred (list or array): Predicted binary labels.\n",
    "    \n",
    "    Returns:\n",
    "        float: Specificity score.\n",
    "    \"\"\"\n",
    "    tn, fp, fn, tp = confusion_matrix(y_true, y_pred).ravel()\n",
    "    print(f\"True Negatives (TN): {tn}\")\n",
    "    print(f\"False Positives (FP): {fp}\")\n",
    "    print(f\"False Negatives (FN): {fn}\")\n",
    "    print(f\"True Positives (TP): {tp}\")\n",
    "    specificity = tn / (tn + fp)\n",
    "    return specificity\n",
    "\n",
    "# Evaluate performance\n",
    "accuracy = accuracy_score(y_true, y_pred)\n",
    "precision = precision_score(y_true, y_pred)\n",
    "recall = recall_score(y_true, y_pred)\n",
    "f1 = f1_score(y_true, y_pred)\n",
    "auc = roc_auc_score(y_true, y_proba[:,1])  # Use probabilities for AUC\n",
    "spec = calculate_specificity(y_true, y_pred)\n",
    "\n",
    "# Print metrics\n",
    "print(confusion_matrix(y_true, y_pred))\n",
    "print(f\"Accuracy: {accuracy:.4f}\")\n",
    "print(f\"Precision: {precision:.4f}\")\n",
    "print(f\"Recall: {recall:.4f}\") #Same as sensitivity\n",
    "print(f\"F1 Score: {f1:.4f}\")\n",
    "print(f\"AUC: {auc:.4f}\")\n",
    "print(f\"Specificity: {spec:.4f}\")"
   ]
  },
  {
   "cell_type": "markdown",
   "id": "56486225-1944-4fd9-bc91-2119c16aab92",
   "metadata": {},
   "source": [
    "## SHAP Plots"
   ]
  },
  {
   "cell_type": "code",
   "execution_count": 19,
   "id": "5c876eb4-5348-4513-b57d-117709ef3b61",
   "metadata": {},
   "outputs": [
    {
     "data": {
      "image/png": "[encoded data removed]",
      "text/plain": [
       "<Figure size 800x950 with 2 Axes>"
      ]
     },
     "metadata": {},
     "output_type": "display_data"
    }
   ],
   "source": [
    "explainer = shap.Explainer(model)\n",
    "shap_values = explainer(X_train_split)\n",
    "shap.summary_plot(shap_values, X_train_split)"
   ]
  },
  {
   "cell_type": "code",
   "execution_count": 20,
   "id": "f4c4baef-7a28-40e9-8795-17f1354713e0",
   "metadata": {
    "tags": []
   },
   "outputs": [
    {
     "data": {
      "image/png": "[encoded data removed]",
      "text/plain": [
       "<Figure size 800x1800 with 1 Axes>"
      ]
     },
     "metadata": {},
     "output_type": "display_data"
    }
   ],
   "source": [
    "shap.plots.bar(shap_values, max_display=50)"
   ]
  }
 ],
 "metadata": {
  "kernelspec": {
   "display_name": "Python 3 (ipykernel)",
   "language": "python",
   "name": "python3"
  },
  "language_info": {
   "codemirror_mode": {
    "name": "ipython",
    "version": 3
   },
   "file_extension": ".py",
   "mimetype": "text/x-python",
   "name": "python",
   "nbconvert_exporter": "python",
   "pygments_lexer": "ipython3",
   "version": "3.11.5"
  }
 },
 "nbformat": 4,
 "nbformat_minor": 5
}
